{
 "cells": [
  {
   "cell_type": "markdown",
   "metadata": {},
   "source": [
    "# Исследование объявлений о продаже квартир\n",
    "\n",
    "В вашем распоряжении данные сервиса Яндекс.Недвижимость — архив объявлений о продаже квартир в Санкт-Петербурге и соседних населённых пунктов за несколько лет. Нужно научиться определять рыночную стоимость объектов недвижимости. Ваша задача — установить параметры. Это позволит построить автоматизированную систему: она отследит аномалии и мошенническую деятельность. \n",
    "\n",
    "По каждой квартире на продажу доступны два вида данных. Первые вписаны пользователем, вторые — получены автоматически на основе картографических данных. Например, расстояние до центра, аэропорта, ближайшего парка и водоёма. "
   ]
  },
  {
   "cell_type": "markdown",
   "metadata": {},
   "source": [
    "## Шаг 1. Откройте файл с данными и изучите общую информацию. "
   ]
  },
  {
   "cell_type": "markdown",
   "metadata": {},
   "source": [
    "1. Откроем файл с данными и запишем их в переменную data. "
   ]
  },
  {
   "cell_type": "code",
   "execution_count": 1,
   "metadata": {},
   "outputs": [],
   "source": [
    "import pandas as pd\n",
    "import matplotlib.pyplot as plt # импорт библиотеки математических построений\n",
    "data = pd.read_csv('../real_estate_data.csv', sep ='\\t')"
   ]
  },
  {
   "cell_type": "markdown",
   "metadata": {},
   "source": [
    "2. Посмотрим общую информацию о таблице. "
   ]
  },
  {
   "cell_type": "code",
   "execution_count": 2,
   "metadata": {},
   "outputs": [
    {
     "name": "stdout",
     "output_type": "stream",
     "text": [
      "<class 'pandas.core.frame.DataFrame'>\n",
      "RangeIndex: 23699 entries, 0 to 23698\n",
      "Data columns (total 22 columns):\n",
      " #   Column                Non-Null Count  Dtype  \n",
      "---  ------                --------------  -----  \n",
      " 0   total_images          23699 non-null  int64  \n",
      " 1   last_price            23699 non-null  float64\n",
      " 2   total_area            23699 non-null  float64\n",
      " 3   first_day_exposition  23699 non-null  object \n",
      " 4   rooms                 23699 non-null  int64  \n",
      " 5   ceiling_height        14504 non-null  float64\n",
      " 6   floors_total          23613 non-null  float64\n",
      " 7   living_area           21796 non-null  float64\n",
      " 8   floor                 23699 non-null  int64  \n",
      " 9   is_apartment          2775 non-null   object \n",
      " 10  studio                23699 non-null  bool   \n",
      " 11  open_plan             23699 non-null  bool   \n",
      " 12  kitchen_area          21421 non-null  float64\n",
      " 13  balcony               12180 non-null  float64\n",
      " 14  locality_name         23650 non-null  object \n",
      " 15  airports_nearest      18157 non-null  float64\n",
      " 16  cityCenters_nearest   18180 non-null  float64\n",
      " 17  parks_around3000      18181 non-null  float64\n",
      " 18  parks_nearest         8079 non-null   float64\n",
      " 19  ponds_around3000      18181 non-null  float64\n",
      " 20  ponds_nearest         9110 non-null   float64\n",
      " 21  days_exposition       20518 non-null  float64\n",
      "dtypes: bool(2), float64(14), int64(3), object(3)\n",
      "memory usage: 3.7+ MB\n"
     ]
    }
   ],
   "source": [
    "data.info()"
   ]
  },
  {
   "cell_type": "markdown",
   "metadata": {},
   "source": [
    "3. Выведем первые 20 строк таблицы. "
   ]
  },
  {
   "cell_type": "code",
   "execution_count": 3,
   "metadata": {},
   "outputs": [
    {
     "data": {
      "text/html": [
       "<div>\n",
       "<style scoped>\n",
       "    .dataframe tbody tr th:only-of-type {\n",
       "        vertical-align: middle;\n",
       "    }\n",
       "\n",
       "    .dataframe tbody tr th {\n",
       "        vertical-align: top;\n",
       "    }\n",
       "\n",
       "    .dataframe thead th {\n",
       "        text-align: right;\n",
       "    }\n",
       "</style>\n",
       "<table border=\"1\" class=\"dataframe\">\n",
       "  <thead>\n",
       "    <tr style=\"text-align: right;\">\n",
       "      <th></th>\n",
       "      <th>total_images</th>\n",
       "      <th>last_price</th>\n",
       "      <th>total_area</th>\n",
       "      <th>first_day_exposition</th>\n",
       "      <th>rooms</th>\n",
       "      <th>ceiling_height</th>\n",
       "      <th>floors_total</th>\n",
       "      <th>living_area</th>\n",
       "      <th>floor</th>\n",
       "      <th>is_apartment</th>\n",
       "      <th>...</th>\n",
       "      <th>kitchen_area</th>\n",
       "      <th>balcony</th>\n",
       "      <th>locality_name</th>\n",
       "      <th>airports_nearest</th>\n",
       "      <th>cityCenters_nearest</th>\n",
       "      <th>parks_around3000</th>\n",
       "      <th>parks_nearest</th>\n",
       "      <th>ponds_around3000</th>\n",
       "      <th>ponds_nearest</th>\n",
       "      <th>days_exposition</th>\n",
       "    </tr>\n",
       "  </thead>\n",
       "  <tbody>\n",
       "    <tr>\n",
       "      <th>0</th>\n",
       "      <td>20</td>\n",
       "      <td>13000000.0</td>\n",
       "      <td>108.00</td>\n",
       "      <td>2019-03-07T00:00:00</td>\n",
       "      <td>3</td>\n",
       "      <td>2.70</td>\n",
       "      <td>16.0</td>\n",
       "      <td>51.00</td>\n",
       "      <td>8</td>\n",
       "      <td>NaN</td>\n",
       "      <td>...</td>\n",
       "      <td>25.00</td>\n",
       "      <td>NaN</td>\n",
       "      <td>Санкт-Петербург</td>\n",
       "      <td>18863.0</td>\n",
       "      <td>16028.0</td>\n",
       "      <td>1.0</td>\n",
       "      <td>482.0</td>\n",
       "      <td>2.0</td>\n",
       "      <td>755.0</td>\n",
       "      <td>NaN</td>\n",
       "    </tr>\n",
       "    <tr>\n",
       "      <th>1</th>\n",
       "      <td>7</td>\n",
       "      <td>3350000.0</td>\n",
       "      <td>40.40</td>\n",
       "      <td>2018-12-04T00:00:00</td>\n",
       "      <td>1</td>\n",
       "      <td>NaN</td>\n",
       "      <td>11.0</td>\n",
       "      <td>18.60</td>\n",
       "      <td>1</td>\n",
       "      <td>NaN</td>\n",
       "      <td>...</td>\n",
       "      <td>11.00</td>\n",
       "      <td>2.0</td>\n",
       "      <td>посёлок Шушары</td>\n",
       "      <td>12817.0</td>\n",
       "      <td>18603.0</td>\n",
       "      <td>0.0</td>\n",
       "      <td>NaN</td>\n",
       "      <td>0.0</td>\n",
       "      <td>NaN</td>\n",
       "      <td>81.0</td>\n",
       "    </tr>\n",
       "    <tr>\n",
       "      <th>2</th>\n",
       "      <td>10</td>\n",
       "      <td>5196000.0</td>\n",
       "      <td>56.00</td>\n",
       "      <td>2015-08-20T00:00:00</td>\n",
       "      <td>2</td>\n",
       "      <td>NaN</td>\n",
       "      <td>5.0</td>\n",
       "      <td>34.30</td>\n",
       "      <td>4</td>\n",
       "      <td>NaN</td>\n",
       "      <td>...</td>\n",
       "      <td>8.30</td>\n",
       "      <td>0.0</td>\n",
       "      <td>Санкт-Петербург</td>\n",
       "      <td>21741.0</td>\n",
       "      <td>13933.0</td>\n",
       "      <td>1.0</td>\n",
       "      <td>90.0</td>\n",
       "      <td>2.0</td>\n",
       "      <td>574.0</td>\n",
       "      <td>558.0</td>\n",
       "    </tr>\n",
       "    <tr>\n",
       "      <th>3</th>\n",
       "      <td>0</td>\n",
       "      <td>64900000.0</td>\n",
       "      <td>159.00</td>\n",
       "      <td>2015-07-24T00:00:00</td>\n",
       "      <td>3</td>\n",
       "      <td>NaN</td>\n",
       "      <td>14.0</td>\n",
       "      <td>NaN</td>\n",
       "      <td>9</td>\n",
       "      <td>NaN</td>\n",
       "      <td>...</td>\n",
       "      <td>NaN</td>\n",
       "      <td>0.0</td>\n",
       "      <td>Санкт-Петербург</td>\n",
       "      <td>28098.0</td>\n",
       "      <td>6800.0</td>\n",
       "      <td>2.0</td>\n",
       "      <td>84.0</td>\n",
       "      <td>3.0</td>\n",
       "      <td>234.0</td>\n",
       "      <td>424.0</td>\n",
       "    </tr>\n",
       "    <tr>\n",
       "      <th>4</th>\n",
       "      <td>2</td>\n",
       "      <td>10000000.0</td>\n",
       "      <td>100.00</td>\n",
       "      <td>2018-06-19T00:00:00</td>\n",
       "      <td>2</td>\n",
       "      <td>3.03</td>\n",
       "      <td>14.0</td>\n",
       "      <td>32.00</td>\n",
       "      <td>13</td>\n",
       "      <td>NaN</td>\n",
       "      <td>...</td>\n",
       "      <td>41.00</td>\n",
       "      <td>NaN</td>\n",
       "      <td>Санкт-Петербург</td>\n",
       "      <td>31856.0</td>\n",
       "      <td>8098.0</td>\n",
       "      <td>2.0</td>\n",
       "      <td>112.0</td>\n",
       "      <td>1.0</td>\n",
       "      <td>48.0</td>\n",
       "      <td>121.0</td>\n",
       "    </tr>\n",
       "    <tr>\n",
       "      <th>5</th>\n",
       "      <td>10</td>\n",
       "      <td>2890000.0</td>\n",
       "      <td>30.40</td>\n",
       "      <td>2018-09-10T00:00:00</td>\n",
       "      <td>1</td>\n",
       "      <td>NaN</td>\n",
       "      <td>12.0</td>\n",
       "      <td>14.40</td>\n",
       "      <td>5</td>\n",
       "      <td>NaN</td>\n",
       "      <td>...</td>\n",
       "      <td>9.10</td>\n",
       "      <td>NaN</td>\n",
       "      <td>городской посёлок Янино-1</td>\n",
       "      <td>NaN</td>\n",
       "      <td>NaN</td>\n",
       "      <td>NaN</td>\n",
       "      <td>NaN</td>\n",
       "      <td>NaN</td>\n",
       "      <td>NaN</td>\n",
       "      <td>55.0</td>\n",
       "    </tr>\n",
       "    <tr>\n",
       "      <th>6</th>\n",
       "      <td>6</td>\n",
       "      <td>3700000.0</td>\n",
       "      <td>37.30</td>\n",
       "      <td>2017-11-02T00:00:00</td>\n",
       "      <td>1</td>\n",
       "      <td>NaN</td>\n",
       "      <td>26.0</td>\n",
       "      <td>10.60</td>\n",
       "      <td>6</td>\n",
       "      <td>NaN</td>\n",
       "      <td>...</td>\n",
       "      <td>14.40</td>\n",
       "      <td>1.0</td>\n",
       "      <td>посёлок Парголово</td>\n",
       "      <td>52996.0</td>\n",
       "      <td>19143.0</td>\n",
       "      <td>0.0</td>\n",
       "      <td>NaN</td>\n",
       "      <td>0.0</td>\n",
       "      <td>NaN</td>\n",
       "      <td>155.0</td>\n",
       "    </tr>\n",
       "    <tr>\n",
       "      <th>7</th>\n",
       "      <td>5</td>\n",
       "      <td>7915000.0</td>\n",
       "      <td>71.60</td>\n",
       "      <td>2019-04-18T00:00:00</td>\n",
       "      <td>2</td>\n",
       "      <td>NaN</td>\n",
       "      <td>24.0</td>\n",
       "      <td>NaN</td>\n",
       "      <td>22</td>\n",
       "      <td>NaN</td>\n",
       "      <td>...</td>\n",
       "      <td>18.90</td>\n",
       "      <td>2.0</td>\n",
       "      <td>Санкт-Петербург</td>\n",
       "      <td>23982.0</td>\n",
       "      <td>11634.0</td>\n",
       "      <td>0.0</td>\n",
       "      <td>NaN</td>\n",
       "      <td>0.0</td>\n",
       "      <td>NaN</td>\n",
       "      <td>NaN</td>\n",
       "    </tr>\n",
       "    <tr>\n",
       "      <th>8</th>\n",
       "      <td>20</td>\n",
       "      <td>2900000.0</td>\n",
       "      <td>33.16</td>\n",
       "      <td>2018-05-23T00:00:00</td>\n",
       "      <td>1</td>\n",
       "      <td>NaN</td>\n",
       "      <td>27.0</td>\n",
       "      <td>15.43</td>\n",
       "      <td>26</td>\n",
       "      <td>NaN</td>\n",
       "      <td>...</td>\n",
       "      <td>8.81</td>\n",
       "      <td>NaN</td>\n",
       "      <td>посёлок Мурино</td>\n",
       "      <td>NaN</td>\n",
       "      <td>NaN</td>\n",
       "      <td>NaN</td>\n",
       "      <td>NaN</td>\n",
       "      <td>NaN</td>\n",
       "      <td>NaN</td>\n",
       "      <td>189.0</td>\n",
       "    </tr>\n",
       "    <tr>\n",
       "      <th>9</th>\n",
       "      <td>18</td>\n",
       "      <td>5400000.0</td>\n",
       "      <td>61.00</td>\n",
       "      <td>2017-02-26T00:00:00</td>\n",
       "      <td>3</td>\n",
       "      <td>2.50</td>\n",
       "      <td>9.0</td>\n",
       "      <td>43.60</td>\n",
       "      <td>7</td>\n",
       "      <td>NaN</td>\n",
       "      <td>...</td>\n",
       "      <td>6.50</td>\n",
       "      <td>2.0</td>\n",
       "      <td>Санкт-Петербург</td>\n",
       "      <td>50898.0</td>\n",
       "      <td>15008.0</td>\n",
       "      <td>0.0</td>\n",
       "      <td>NaN</td>\n",
       "      <td>0.0</td>\n",
       "      <td>NaN</td>\n",
       "      <td>289.0</td>\n",
       "    </tr>\n",
       "    <tr>\n",
       "      <th>10</th>\n",
       "      <td>5</td>\n",
       "      <td>5050000.0</td>\n",
       "      <td>39.60</td>\n",
       "      <td>2017-11-16T00:00:00</td>\n",
       "      <td>1</td>\n",
       "      <td>2.67</td>\n",
       "      <td>12.0</td>\n",
       "      <td>20.30</td>\n",
       "      <td>3</td>\n",
       "      <td>NaN</td>\n",
       "      <td>...</td>\n",
       "      <td>8.50</td>\n",
       "      <td>NaN</td>\n",
       "      <td>Санкт-Петербург</td>\n",
       "      <td>38357.0</td>\n",
       "      <td>13878.0</td>\n",
       "      <td>1.0</td>\n",
       "      <td>310.0</td>\n",
       "      <td>2.0</td>\n",
       "      <td>553.0</td>\n",
       "      <td>137.0</td>\n",
       "    </tr>\n",
       "    <tr>\n",
       "      <th>11</th>\n",
       "      <td>9</td>\n",
       "      <td>3300000.0</td>\n",
       "      <td>44.00</td>\n",
       "      <td>2018-08-27T00:00:00</td>\n",
       "      <td>2</td>\n",
       "      <td>NaN</td>\n",
       "      <td>5.0</td>\n",
       "      <td>31.00</td>\n",
       "      <td>4</td>\n",
       "      <td>False</td>\n",
       "      <td>...</td>\n",
       "      <td>6.00</td>\n",
       "      <td>1.0</td>\n",
       "      <td>Ломоносов</td>\n",
       "      <td>48252.0</td>\n",
       "      <td>51677.0</td>\n",
       "      <td>0.0</td>\n",
       "      <td>NaN</td>\n",
       "      <td>0.0</td>\n",
       "      <td>NaN</td>\n",
       "      <td>7.0</td>\n",
       "    </tr>\n",
       "    <tr>\n",
       "      <th>12</th>\n",
       "      <td>10</td>\n",
       "      <td>3890000.0</td>\n",
       "      <td>54.00</td>\n",
       "      <td>2016-06-30T00:00:00</td>\n",
       "      <td>2</td>\n",
       "      <td>NaN</td>\n",
       "      <td>5.0</td>\n",
       "      <td>30.00</td>\n",
       "      <td>5</td>\n",
       "      <td>NaN</td>\n",
       "      <td>...</td>\n",
       "      <td>9.00</td>\n",
       "      <td>0.0</td>\n",
       "      <td>Сертолово</td>\n",
       "      <td>NaN</td>\n",
       "      <td>NaN</td>\n",
       "      <td>NaN</td>\n",
       "      <td>NaN</td>\n",
       "      <td>NaN</td>\n",
       "      <td>NaN</td>\n",
       "      <td>90.0</td>\n",
       "    </tr>\n",
       "    <tr>\n",
       "      <th>13</th>\n",
       "      <td>20</td>\n",
       "      <td>3550000.0</td>\n",
       "      <td>42.80</td>\n",
       "      <td>2017-07-01T00:00:00</td>\n",
       "      <td>2</td>\n",
       "      <td>2.56</td>\n",
       "      <td>5.0</td>\n",
       "      <td>27.00</td>\n",
       "      <td>5</td>\n",
       "      <td>NaN</td>\n",
       "      <td>...</td>\n",
       "      <td>5.20</td>\n",
       "      <td>1.0</td>\n",
       "      <td>Петергоф</td>\n",
       "      <td>37868.0</td>\n",
       "      <td>33058.0</td>\n",
       "      <td>1.0</td>\n",
       "      <td>294.0</td>\n",
       "      <td>3.0</td>\n",
       "      <td>298.0</td>\n",
       "      <td>366.0</td>\n",
       "    </tr>\n",
       "    <tr>\n",
       "      <th>14</th>\n",
       "      <td>1</td>\n",
       "      <td>4400000.0</td>\n",
       "      <td>36.00</td>\n",
       "      <td>2016-06-23T00:00:00</td>\n",
       "      <td>1</td>\n",
       "      <td>NaN</td>\n",
       "      <td>6.0</td>\n",
       "      <td>17.00</td>\n",
       "      <td>1</td>\n",
       "      <td>NaN</td>\n",
       "      <td>...</td>\n",
       "      <td>8.00</td>\n",
       "      <td>0.0</td>\n",
       "      <td>Пушкин</td>\n",
       "      <td>20782.0</td>\n",
       "      <td>30759.0</td>\n",
       "      <td>0.0</td>\n",
       "      <td>NaN</td>\n",
       "      <td>1.0</td>\n",
       "      <td>96.0</td>\n",
       "      <td>203.0</td>\n",
       "    </tr>\n",
       "    <tr>\n",
       "      <th>15</th>\n",
       "      <td>16</td>\n",
       "      <td>4650000.0</td>\n",
       "      <td>39.00</td>\n",
       "      <td>2017-11-18T00:00:00</td>\n",
       "      <td>1</td>\n",
       "      <td>NaN</td>\n",
       "      <td>14.0</td>\n",
       "      <td>20.50</td>\n",
       "      <td>5</td>\n",
       "      <td>NaN</td>\n",
       "      <td>...</td>\n",
       "      <td>7.60</td>\n",
       "      <td>1.0</td>\n",
       "      <td>Санкт-Петербург</td>\n",
       "      <td>12900.0</td>\n",
       "      <td>14259.0</td>\n",
       "      <td>1.0</td>\n",
       "      <td>590.0</td>\n",
       "      <td>1.0</td>\n",
       "      <td>296.0</td>\n",
       "      <td>19.0</td>\n",
       "    </tr>\n",
       "    <tr>\n",
       "      <th>16</th>\n",
       "      <td>11</td>\n",
       "      <td>6700000.0</td>\n",
       "      <td>82.00</td>\n",
       "      <td>2017-11-23T00:00:00</td>\n",
       "      <td>3</td>\n",
       "      <td>3.05</td>\n",
       "      <td>5.0</td>\n",
       "      <td>55.60</td>\n",
       "      <td>1</td>\n",
       "      <td>NaN</td>\n",
       "      <td>...</td>\n",
       "      <td>9.00</td>\n",
       "      <td>NaN</td>\n",
       "      <td>Санкт-Петербург</td>\n",
       "      <td>22108.0</td>\n",
       "      <td>10698.0</td>\n",
       "      <td>3.0</td>\n",
       "      <td>420.0</td>\n",
       "      <td>0.0</td>\n",
       "      <td>NaN</td>\n",
       "      <td>397.0</td>\n",
       "    </tr>\n",
       "    <tr>\n",
       "      <th>17</th>\n",
       "      <td>6</td>\n",
       "      <td>4180000.0</td>\n",
       "      <td>36.00</td>\n",
       "      <td>2016-09-09T00:00:00</td>\n",
       "      <td>1</td>\n",
       "      <td>NaN</td>\n",
       "      <td>17.0</td>\n",
       "      <td>16.50</td>\n",
       "      <td>7</td>\n",
       "      <td>NaN</td>\n",
       "      <td>...</td>\n",
       "      <td>11.00</td>\n",
       "      <td>1.0</td>\n",
       "      <td>Санкт-Петербург</td>\n",
       "      <td>33564.0</td>\n",
       "      <td>14616.0</td>\n",
       "      <td>0.0</td>\n",
       "      <td>NaN</td>\n",
       "      <td>1.0</td>\n",
       "      <td>859.0</td>\n",
       "      <td>571.0</td>\n",
       "    </tr>\n",
       "    <tr>\n",
       "      <th>18</th>\n",
       "      <td>8</td>\n",
       "      <td>3250000.0</td>\n",
       "      <td>31.00</td>\n",
       "      <td>2017-01-27T00:00:00</td>\n",
       "      <td>1</td>\n",
       "      <td>2.50</td>\n",
       "      <td>5.0</td>\n",
       "      <td>19.40</td>\n",
       "      <td>2</td>\n",
       "      <td>NaN</td>\n",
       "      <td>...</td>\n",
       "      <td>5.60</td>\n",
       "      <td>1.0</td>\n",
       "      <td>Санкт-Петербург</td>\n",
       "      <td>44060.0</td>\n",
       "      <td>10842.0</td>\n",
       "      <td>1.0</td>\n",
       "      <td>759.0</td>\n",
       "      <td>0.0</td>\n",
       "      <td>NaN</td>\n",
       "      <td>168.0</td>\n",
       "    </tr>\n",
       "    <tr>\n",
       "      <th>19</th>\n",
       "      <td>16</td>\n",
       "      <td>14200000.0</td>\n",
       "      <td>121.00</td>\n",
       "      <td>2019-01-09T00:00:00</td>\n",
       "      <td>3</td>\n",
       "      <td>2.75</td>\n",
       "      <td>16.0</td>\n",
       "      <td>76.00</td>\n",
       "      <td>8</td>\n",
       "      <td>NaN</td>\n",
       "      <td>...</td>\n",
       "      <td>12.00</td>\n",
       "      <td>NaN</td>\n",
       "      <td>Санкт-Петербург</td>\n",
       "      <td>38900.0</td>\n",
       "      <td>12843.0</td>\n",
       "      <td>0.0</td>\n",
       "      <td>NaN</td>\n",
       "      <td>0.0</td>\n",
       "      <td>NaN</td>\n",
       "      <td>97.0</td>\n",
       "    </tr>\n",
       "  </tbody>\n",
       "</table>\n",
       "<p>20 rows × 22 columns</p>\n",
       "</div>"
      ],
      "text/plain": [
       "    total_images  last_price  total_area first_day_exposition  rooms  \\\n",
       "0             20  13000000.0      108.00  2019-03-07T00:00:00      3   \n",
       "1              7   3350000.0       40.40  2018-12-04T00:00:00      1   \n",
       "2             10   5196000.0       56.00  2015-08-20T00:00:00      2   \n",
       "3              0  64900000.0      159.00  2015-07-24T00:00:00      3   \n",
       "4              2  10000000.0      100.00  2018-06-19T00:00:00      2   \n",
       "5             10   2890000.0       30.40  2018-09-10T00:00:00      1   \n",
       "6              6   3700000.0       37.30  2017-11-02T00:00:00      1   \n",
       "7              5   7915000.0       71.60  2019-04-18T00:00:00      2   \n",
       "8             20   2900000.0       33.16  2018-05-23T00:00:00      1   \n",
       "9             18   5400000.0       61.00  2017-02-26T00:00:00      3   \n",
       "10             5   5050000.0       39.60  2017-11-16T00:00:00      1   \n",
       "11             9   3300000.0       44.00  2018-08-27T00:00:00      2   \n",
       "12            10   3890000.0       54.00  2016-06-30T00:00:00      2   \n",
       "13            20   3550000.0       42.80  2017-07-01T00:00:00      2   \n",
       "14             1   4400000.0       36.00  2016-06-23T00:00:00      1   \n",
       "15            16   4650000.0       39.00  2017-11-18T00:00:00      1   \n",
       "16            11   6700000.0       82.00  2017-11-23T00:00:00      3   \n",
       "17             6   4180000.0       36.00  2016-09-09T00:00:00      1   \n",
       "18             8   3250000.0       31.00  2017-01-27T00:00:00      1   \n",
       "19            16  14200000.0      121.00  2019-01-09T00:00:00      3   \n",
       "\n",
       "    ceiling_height  floors_total  living_area  floor is_apartment  ...  \\\n",
       "0             2.70          16.0        51.00      8          NaN  ...   \n",
       "1              NaN          11.0        18.60      1          NaN  ...   \n",
       "2              NaN           5.0        34.30      4          NaN  ...   \n",
       "3              NaN          14.0          NaN      9          NaN  ...   \n",
       "4             3.03          14.0        32.00     13          NaN  ...   \n",
       "5              NaN          12.0        14.40      5          NaN  ...   \n",
       "6              NaN          26.0        10.60      6          NaN  ...   \n",
       "7              NaN          24.0          NaN     22          NaN  ...   \n",
       "8              NaN          27.0        15.43     26          NaN  ...   \n",
       "9             2.50           9.0        43.60      7          NaN  ...   \n",
       "10            2.67          12.0        20.30      3          NaN  ...   \n",
       "11             NaN           5.0        31.00      4        False  ...   \n",
       "12             NaN           5.0        30.00      5          NaN  ...   \n",
       "13            2.56           5.0        27.00      5          NaN  ...   \n",
       "14             NaN           6.0        17.00      1          NaN  ...   \n",
       "15             NaN          14.0        20.50      5          NaN  ...   \n",
       "16            3.05           5.0        55.60      1          NaN  ...   \n",
       "17             NaN          17.0        16.50      7          NaN  ...   \n",
       "18            2.50           5.0        19.40      2          NaN  ...   \n",
       "19            2.75          16.0        76.00      8          NaN  ...   \n",
       "\n",
       "    kitchen_area  balcony              locality_name  airports_nearest  \\\n",
       "0          25.00      NaN            Санкт-Петербург           18863.0   \n",
       "1          11.00      2.0             посёлок Шушары           12817.0   \n",
       "2           8.30      0.0            Санкт-Петербург           21741.0   \n",
       "3            NaN      0.0            Санкт-Петербург           28098.0   \n",
       "4          41.00      NaN            Санкт-Петербург           31856.0   \n",
       "5           9.10      NaN  городской посёлок Янино-1               NaN   \n",
       "6          14.40      1.0          посёлок Парголово           52996.0   \n",
       "7          18.90      2.0            Санкт-Петербург           23982.0   \n",
       "8           8.81      NaN             посёлок Мурино               NaN   \n",
       "9           6.50      2.0            Санкт-Петербург           50898.0   \n",
       "10          8.50      NaN            Санкт-Петербург           38357.0   \n",
       "11          6.00      1.0                  Ломоносов           48252.0   \n",
       "12          9.00      0.0                  Сертолово               NaN   \n",
       "13          5.20      1.0                   Петергоф           37868.0   \n",
       "14          8.00      0.0                     Пушкин           20782.0   \n",
       "15          7.60      1.0            Санкт-Петербург           12900.0   \n",
       "16          9.00      NaN            Санкт-Петербург           22108.0   \n",
       "17         11.00      1.0            Санкт-Петербург           33564.0   \n",
       "18          5.60      1.0            Санкт-Петербург           44060.0   \n",
       "19         12.00      NaN            Санкт-Петербург           38900.0   \n",
       "\n",
       "   cityCenters_nearest  parks_around3000  parks_nearest  ponds_around3000  \\\n",
       "0              16028.0               1.0          482.0               2.0   \n",
       "1              18603.0               0.0            NaN               0.0   \n",
       "2              13933.0               1.0           90.0               2.0   \n",
       "3               6800.0               2.0           84.0               3.0   \n",
       "4               8098.0               2.0          112.0               1.0   \n",
       "5                  NaN               NaN            NaN               NaN   \n",
       "6              19143.0               0.0            NaN               0.0   \n",
       "7              11634.0               0.0            NaN               0.0   \n",
       "8                  NaN               NaN            NaN               NaN   \n",
       "9              15008.0               0.0            NaN               0.0   \n",
       "10             13878.0               1.0          310.0               2.0   \n",
       "11             51677.0               0.0            NaN               0.0   \n",
       "12                 NaN               NaN            NaN               NaN   \n",
       "13             33058.0               1.0          294.0               3.0   \n",
       "14             30759.0               0.0            NaN               1.0   \n",
       "15             14259.0               1.0          590.0               1.0   \n",
       "16             10698.0               3.0          420.0               0.0   \n",
       "17             14616.0               0.0            NaN               1.0   \n",
       "18             10842.0               1.0          759.0               0.0   \n",
       "19             12843.0               0.0            NaN               0.0   \n",
       "\n",
       "    ponds_nearest  days_exposition  \n",
       "0           755.0              NaN  \n",
       "1             NaN             81.0  \n",
       "2           574.0            558.0  \n",
       "3           234.0            424.0  \n",
       "4            48.0            121.0  \n",
       "5             NaN             55.0  \n",
       "6             NaN            155.0  \n",
       "7             NaN              NaN  \n",
       "8             NaN            189.0  \n",
       "9             NaN            289.0  \n",
       "10          553.0            137.0  \n",
       "11            NaN              7.0  \n",
       "12            NaN             90.0  \n",
       "13          298.0            366.0  \n",
       "14           96.0            203.0  \n",
       "15          296.0             19.0  \n",
       "16            NaN            397.0  \n",
       "17          859.0            571.0  \n",
       "18            NaN            168.0  \n",
       "19            NaN             97.0  \n",
       "\n",
       "[20 rows x 22 columns]"
      ]
     },
     "execution_count": 3,
     "metadata": {},
     "output_type": "execute_result"
    }
   ],
   "source": [
    "data.head(20)"
   ]
  },
  {
   "cell_type": "markdown",
   "metadata": {},
   "source": [
    "4. Построем общую гистограмму для всех столбцов таблицы."
   ]
  },
  {
   "cell_type": "code",
   "execution_count": 4,
   "metadata": {},
   "outputs": [
    {
     "data": {
      "image/png": "[encoded data removed]",
      "text/plain": [
       "<Figure size 1080x1440 with 20 Axes>"
      ]
     },
     "metadata": {
      "needs_background": "light"
     },
     "output_type": "display_data"
    }
   ],
   "source": [
    "data.hist(figsize=(15, 20)) #гистограмма для каждого столбца таблицы data\n",
    "plt.show() #отобразить гистограммы "
   ]
  },
  {
   "cell_type": "markdown",
   "metadata": {},
   "source": [
    "Данные представлены 23699 строками. \n",
    "\n",
    "*Описание данных:*\n",
    "* \t\tairports_nearest — расстояние до ближайшего аэропорта в метрах (м)\n",
    "* \t\tbalcony — число балконов\n",
    "* \t\tceiling_height — высота потолков (м)\n",
    "* \t\tcityCenters_nearest — расстояние до центра города (м)\n",
    "* \t\tdays_exposition — сколько дней было размещено объявление (от публикации до снятия)\n",
    "* \t\tfirst_day_exposition — дата публикации\n",
    "* \t\tfloor — этаж\n",
    "* \t\tfloors_total — всего этажей в доме\n",
    "* \t\tis_apartment — апартаменты (булев тип)\n",
    "* \t\tkitchen_area — площадь кухни в квадратных метрах (м²)\n",
    "* \t\tlast_price — цена на момент снятия с публикации\n",
    "* \t\tliving_area — жилая площадь в квадратных метрах (м²)\n",
    "* \t\tlocality_name — название населённого пункта\n",
    "* \t\topen_plan — свободная планировка (булев тип)\n",
    "* \t\tparks_around3000 — число парков в радиусе 3 км\n",
    "* \t\tparks_nearest — расстояние до ближайшего парка (м)\n",
    "* \t\tponds_around3000 — число водоёмов в радиусе 3 км\n",
    "* \t\tponds_nearest — расстояние до ближайшего водоёма (м)\n",
    "* \t\trooms — число комнат\n",
    "* \t\tstudio — квартира-студия (булев тип)\n",
    "* \t\ttotal_area — общая площадь квартиры в квадратных метрах (м²)\n",
    "* \t\ttotal_images — число фотографий квартиры в объявлении"
   ]
  },
  {
   "cell_type": "markdown",
   "metadata": {},
   "source": [
    "На основее более детального анализа данных во 2 части проекта, будет требоваться обработка пропусков данных, где применимо, а также корректировка типов данных. "
   ]
  },
  {
   "cell_type": "markdown",
   "metadata": {},
   "source": [
    "## Шаг 2.  Предобработка данных"
   ]
  },
  {
   "cell_type": "markdown",
   "metadata": {},
   "source": [
    "Определим, в каких стоблцах есть пропуски. "
   ]
  },
  {
   "cell_type": "code",
   "execution_count": 5,
   "metadata": {},
   "outputs": [
    {
     "name": "stdout",
     "output_type": "stream",
     "text": [
      "total_images                0\n",
      "last_price                  0\n",
      "total_area                  0\n",
      "first_day_exposition        0\n",
      "rooms                       0\n",
      "ceiling_height           9195\n",
      "floors_total               86\n",
      "living_area              1903\n",
      "floor                       0\n",
      "is_apartment            20924\n",
      "studio                      0\n",
      "open_plan                   0\n",
      "kitchen_area             2278\n",
      "balcony                 11519\n",
      "locality_name              49\n",
      "airports_nearest         5542\n",
      "cityCenters_nearest      5519\n",
      "parks_around3000         5518\n",
      "parks_nearest           15620\n",
      "ponds_around3000         5518\n",
      "ponds_nearest           14589\n",
      "days_exposition          3181\n",
      "dtype: int64\n"
     ]
    }
   ],
   "source": [
    "print(data.isna().sum())"
   ]
  },
  {
   "cell_type": "markdown",
   "metadata": {},
   "source": [
    "**1. balcony**\n",
    "\n",
    "Заменим пропуски в столбце с информацией о балконе на \"0\", так как пропуск означает отсуствие балкона. Возможная причина пропусков - \"человеческий фактор\", люди не заполняли данные, подразумевая, что их нет. "
   ]
  },
  {
   "cell_type": "code",
   "execution_count": 6,
   "metadata": {},
   "outputs": [],
   "source": [
    "try:\n",
    "    data['balcony'] = data['balcony'].fillna(0)\n",
    "except:\n",
    "    print('Не удалось заменить пропуски')"
   ]
  },
  {
   "cell_type": "markdown",
   "metadata": {},
   "source": [
    "Проверим, что есть ли в этом столбце аномальные значения."
   ]
  },
  {
   "cell_type": "code",
   "execution_count": 7,
   "metadata": {},
   "outputs": [
    {
     "data": {
      "image/png": "[encoded data removed]",
      "text/plain": [
       "<Figure size 432x288 with 1 Axes>"
      ]
     },
     "metadata": {
      "needs_background": "light"
     },
     "output_type": "display_data"
    }
   ],
   "source": [
    "import matplotlib.pyplot as plt\n",
    "plt.boxplot(data['balcony'])\n",
    "plt.show()"
   ]
  },
  {
   "cell_type": "markdown",
   "metadata": {},
   "source": [
    "Максимальное количество балконов - 5, что можем не считать аномальным значением, удалять строки не будем. "
   ]
  },
  {
   "cell_type": "markdown",
   "metadata": {},
   "source": [
    "Здесь некорректный тип данных, значения должны быть int, так как эти данные представлены целыми числами."
   ]
  },
  {
   "cell_type": "code",
   "execution_count": 8,
   "metadata": {},
   "outputs": [],
   "source": [
    "data['balcony']=data['balcony'].astype(int)"
   ]
  },
  {
   "cell_type": "markdown",
   "metadata": {},
   "source": [
    "**2. ceiling_height** \n"
   ]
  },
  {
   "cell_type": "markdown",
   "metadata": {},
   "source": [
    "Пустые значения заменим медианой. Возможная причина пропусков - опять же \"человеческий фактор\" - люди могут не считать этот параметр важным для заполнения или просто не знать его."
   ]
  },
  {
   "cell_type": "code",
   "execution_count": 9,
   "metadata": {},
   "outputs": [],
   "source": [
    "try:\n",
    "    data['ceiling_height'] = data['ceiling_height'].fillna(data['ceiling_height'].median())\n",
    "except:\n",
    "    print('Не удалось заменить пропуски')"
   ]
  },
  {
   "cell_type": "markdown",
   "metadata": {},
   "source": [
    "Посмотрим максимальное и минимальное значения, а так же квартильные значения, чтобы понять, есть ли некорректные данные этом столбце.\n",
    "Разброс данных большой, поэтому диаграма размаха будет непоказательной."
   ]
  },
  {
   "cell_type": "code",
   "execution_count": 10,
   "metadata": {},
   "outputs": [
    {
     "name": "stdout",
     "output_type": "stream",
     "text": [
      "0.25    2.60\n",
      "0.50    2.65\n",
      "0.75    2.70\n",
      "Name: ceiling_height, dtype: float64\n",
      "100.0\n",
      "1.0\n"
     ]
    }
   ],
   "source": [
    "print(data['ceiling_height'].quantile([0.25,0.5,0.75]))\n",
    "\n",
    "print(data['ceiling_height'].max())\n",
    "print(data['ceiling_height'].min())"
   ]
  },
  {
   "cell_type": "markdown",
   "metadata": {},
   "source": [
    "Удалим строки с явно некорректными значениями.\n",
    "\n",
    "Потолки выше 5.0 и ниже 2.0 уже могут отражать некорректные данные. Посчитаем, какое количество строк данных с такими потолками, чтобы убедиться, что данная доля несущетсвенна от всего датасета и мы можем принять все, что выше этого значения \"вбросами\" и удалить из датасета для дальнейшей работы.  "
   ]
  },
  {
   "cell_type": "code",
   "execution_count": 11,
   "metadata": {},
   "outputs": [
    {
     "data": {
      "text/plain": [
       "total_images            36\n",
       "last_price              36\n",
       "total_area              36\n",
       "first_day_exposition    36\n",
       "rooms                   36\n",
       "ceiling_height          36\n",
       "floors_total            36\n",
       "living_area             34\n",
       "floor                   36\n",
       "is_apartment            13\n",
       "studio                  36\n",
       "open_plan               36\n",
       "kitchen_area            27\n",
       "balcony                 36\n",
       "locality_name           36\n",
       "airports_nearest        26\n",
       "cityCenters_nearest     26\n",
       "parks_around3000        26\n",
       "parks_nearest           15\n",
       "ponds_around3000        26\n",
       "ponds_nearest           15\n",
       "days_exposition         28\n",
       "dtype: int64"
      ]
     },
     "execution_count": 11,
     "metadata": {},
     "output_type": "execute_result"
    }
   ],
   "source": [
    "data.query('ceiling_height>5.0').count()"
   ]
  },
  {
   "cell_type": "code",
   "execution_count": 12,
   "metadata": {},
   "outputs": [
    {
     "data": {
      "text/plain": [
       "total_images            3\n",
       "last_price              3\n",
       "total_area              3\n",
       "first_day_exposition    3\n",
       "rooms                   3\n",
       "ceiling_height          3\n",
       "floors_total            3\n",
       "living_area             3\n",
       "floor                   3\n",
       "is_apartment            0\n",
       "studio                  3\n",
       "open_plan               3\n",
       "kitchen_area            3\n",
       "balcony                 3\n",
       "locality_name           3\n",
       "airports_nearest        2\n",
       "cityCenters_nearest     2\n",
       "parks_around3000        2\n",
       "parks_nearest           1\n",
       "ponds_around3000        2\n",
       "ponds_nearest           2\n",
       "days_exposition         3\n",
       "dtype: int64"
      ]
     },
     "execution_count": 12,
     "metadata": {},
     "output_type": "execute_result"
    }
   ],
   "source": [
    "data.query('ceiling_height<2.0').count()"
   ]
  },
  {
   "cell_type": "markdown",
   "metadata": {},
   "source": [
    "Всего 39 строк с такими данными из 23699, поэтому создадим выборку без учета этих строк для избежания смещения медианы. "
   ]
  },
  {
   "cell_type": "code",
   "execution_count": 13,
   "metadata": {},
   "outputs": [],
   "source": [
    "try:\n",
    "    data = data.loc[(data['ceiling_height'] <= 5.0) & (data['ceiling_height'] >= 2.0)]\n",
    "except:\n",
    "    print('Не получилось удалить')"
   ]
  },
  {
   "cell_type": "code",
   "execution_count": 14,
   "metadata": {},
   "outputs": [
    {
     "data": {
      "text/plain": [
       "0.9983543609434997"
      ]
     },
     "execution_count": 14,
     "metadata": {},
     "output_type": "execute_result"
    }
   ],
   "source": [
    "# код ревьюера\n",
    "\n",
    "data.shape[0] / 23699"
   ]
  },
  {
   "cell_type": "markdown",
   "metadata": {},
   "source": [
    "**3. floors_total** \n",
    "\n",
    "Незаполненные ячейки floors_total мы не можем заполнить самостоятельно, учитывая, что их доля от общего количества строк несущественна, то удалим их. Вероятной причиной пропуска может быть \"человеческий фактор\" - люди просто не заполнили это поле, так как эта информация может казаться им несущественной."
   ]
  },
  {
   "cell_type": "code",
   "execution_count": 15,
   "metadata": {},
   "outputs": [],
   "source": [
    "try:\n",
    "    data = data.dropna(subset = ['floors_total'])\n",
    "except:\n",
    "    print('Не удалось удалить')"
   ]
  },
  {
   "cell_type": "markdown",
   "metadata": {},
   "source": [
    "Также здесь некорректный тип данных, значения должны быть int, так как эти данные представлены целыми числами. "
   ]
  },
  {
   "cell_type": "code",
   "execution_count": 16,
   "metadata": {},
   "outputs": [],
   "source": [
    "data['floors_total']=data['floors_total'].astype(int)"
   ]
  },
  {
   "cell_type": "markdown",
   "metadata": {},
   "source": [
    "Посмотрим разброс значений по этажности. "
   ]
  },
  {
   "cell_type": "code",
   "execution_count": 17,
   "metadata": {},
   "outputs": [
    {
     "data": {
      "image/png": "[encoded data removed]",
      "text/plain": [
       "<Figure size 432x288 with 1 Axes>"
      ]
     },
     "metadata": {
      "needs_background": "light"
     },
     "output_type": "display_data"
    }
   ],
   "source": [
    "plt.boxplot(data['floors_total'])\n",
    "plt.show()"
   ]
  },
  {
   "cell_type": "markdown",
   "metadata": {},
   "source": [
    "Выбивающихся данных, которые необъяснимы, нет. Количество этажей адекватное, удалять ничего не будем. "
   ]
  },
  {
   "cell_type": "markdown",
   "metadata": {},
   "source": [
    "**4. living_area**\n"
   ]
  },
  {
   "cell_type": "markdown",
   "metadata": {},
   "source": [
    "Пропуски в данном столбце можем заполнить произведением общей площади на коэффициент, оражающий отношение площади жилой комнаты к общей площади. Причина пропусков - не заполнены данные, возможно, большинство считает обязательным указывать общую площадь, а разбивку по комнатам дополнительной необязательной информацией. "
   ]
  },
  {
   "cell_type": "markdown",
   "metadata": {},
   "source": [
    "Вычисляем среднее отношение площади жилой к общей, это будет наш коэффициент площади кухни:"
   ]
  },
  {
   "cell_type": "code",
   "execution_count": 18,
   "metadata": {},
   "outputs": [
    {
     "name": "stdout",
     "output_type": "stream",
     "text": [
      "0.5648749425649934\n"
     ]
    }
   ],
   "source": [
    "coef_la = (data['living_area']/data['total_area']).mean() #считаем среднее отношение жилой площади к общей на основании предоставленных данных\n",
    "print(coef_la)"
   ]
  },
  {
   "cell_type": "markdown",
   "metadata": {},
   "source": [
    "Заменим пропуски с учетом полученного коэффициента:"
   ]
  },
  {
   "cell_type": "code",
   "execution_count": 19,
   "metadata": {},
   "outputs": [],
   "source": [
    "try:\n",
    "    data['living_area'] = data['living_area'].fillna(data['total_area']*coef_la)\n",
    "except:\n",
    "    print('Не удалось заменить пропуски')"
   ]
  },
  {
   "cell_type": "markdown",
   "metadata": {},
   "source": [
    "Проверим на наличие неадекватных значений"
   ]
  },
  {
   "cell_type": "code",
   "execution_count": 20,
   "metadata": {},
   "outputs": [
    {
     "data": {
      "image/png": "[encoded data removed]",
      "text/plain": [
       "<Figure size 432x288 with 1 Axes>"
      ]
     },
     "metadata": {
      "needs_background": "light"
     },
     "output_type": "display_data"
    }
   ],
   "source": [
    "plt.boxplot(data['living_area'])\n",
    "plt.show()"
   ]
  },
  {
   "cell_type": "markdown",
   "metadata": {},
   "source": [
    "В целом, действительно есть квартиры с большой площадью, что соответсттвует реальности, поэтому данные удалять не будем. "
   ]
  },
  {
   "cell_type": "markdown",
   "metadata": {},
   "source": [
    "**5. is_apartment**\n",
    "\n",
    "Пропуск не влияет на работу с информацией в датасете, можем оставить его незаполненным. По этой же причине будем приводить его в тип bool. Причиной пропуска в данных может быть в том числе и техническая ошибка в выгруке данных, если это поле не заполнялось пользователями вручную. А также и простой человеческий фактор - не все люди знают, относится ли их квартира к апартаментам или нет."
   ]
  },
  {
   "cell_type": "markdown",
   "metadata": {},
   "source": [
    "**6. kitchen_area**\n",
    "\n",
    "Пропуск в kitchen_area можем произведением общей площади на коэффициент, оражающий отношение площади кухни к общей площади. Причины пропуска, полагаю, аналогичны living_area."
   ]
  },
  {
   "cell_type": "markdown",
   "metadata": {},
   "source": [
    "Вычисляем среднее отношение площади кухни к общей, это будет наш коэффициент площади кухни:"
   ]
  },
  {
   "cell_type": "code",
   "execution_count": 21,
   "metadata": {},
   "outputs": [
    {
     "name": "stdout",
     "output_type": "stream",
     "text": [
      "0.1873397710382933\n"
     ]
    }
   ],
   "source": [
    "coef_ka = (data['kitchen_area']/data['total_area']).mean()\n",
    "print(coef_ka)"
   ]
  },
  {
   "cell_type": "code",
   "execution_count": 22,
   "metadata": {},
   "outputs": [],
   "source": [
    "try:\n",
    "    data['kitchen_area'] = data['kitchen_area'].fillna(data['total_area']*coef_ka)\n",
    "except:\n",
    "    print('Не удалось заменить пропуски')"
   ]
  },
  {
   "cell_type": "code",
   "execution_count": 23,
   "metadata": {},
   "outputs": [
    {
     "data": {
      "text/plain": [
       "120"
      ]
     },
     "execution_count": 23,
     "metadata": {},
     "output_type": "execute_result"
    }
   ],
   "source": [
    "# код ревьюера\n",
    "data[data['kitchen_area'] + data['living_area'] > data['total_area']].shape[0]\n"
   ]
  },
  {
   "cell_type": "markdown",
   "metadata": {},
   "source": [
    "Проверим наличие выбивающихся значений. "
   ]
  },
  {
   "cell_type": "code",
   "execution_count": 24,
   "metadata": {},
   "outputs": [
    {
     "data": {
      "image/png": "[encoded data removed]",
      "text/plain": [
       "<Figure size 432x288 with 1 Axes>"
      ]
     },
     "metadata": {
      "needs_background": "light"
     },
     "output_type": "display_data"
    }
   ],
   "source": [
    "plt.boxplot(data['kitchen_area'])\n",
    "plt.show()"
   ]
  },
  {
   "cell_type": "code",
   "execution_count": 25,
   "metadata": {},
   "outputs": [
    {
     "data": {
      "text/plain": [
       "112.0"
      ]
     },
     "metadata": {},
     "output_type": "display_data"
    }
   ],
   "source": [
    "display(data['kitchen_area'].max())"
   ]
  },
  {
   "cell_type": "markdown",
   "metadata": {},
   "source": [
    "Учитывая, что у нас есть большие квартиры, большие кухни не являются неадекватными значениями, поэтому их тоже оставим в выборке. "
   ]
  },
  {
   "cell_type": "markdown",
   "metadata": {},
   "source": [
    "**7. locality_name**\n",
    "\n",
    "Пропуск locality_name в 14 строках не является существенным, поэтому исключим эти строки из датасета. Причина пропусков - техническая ошибка выгрузки данных, так как полагаю, данное поле должно быть обязательным к заполнению пользователем при размещении объявления.  "
   ]
  },
  {
   "cell_type": "code",
   "execution_count": 26,
   "metadata": {},
   "outputs": [],
   "source": [
    "try:\n",
    "    data = data.dropna(subset = ['locality_name'])\n",
    "except:\n",
    "    print('Не удалось удалить')"
   ]
  },
  {
   "cell_type": "markdown",
   "metadata": {},
   "source": [
    "В этом столбце много неявных дубликатов, уберем их путем ислкючения потовряющихся слов в названиях. "
   ]
  },
  {
   "cell_type": "code",
   "execution_count": 27,
   "metadata": {},
   "outputs": [
    {
     "data": {
      "text/plain": [
       "array(['Агалатово', 'Александровская', 'Алексеевка', 'Аннино', 'Аро',\n",
       "       'Барышево', 'Батово', 'Бегуницы', 'Белогорка', 'Белоостров',\n",
       "       'Бокситогорск', 'Большая Вруда', 'Большая Ижора',\n",
       "       'Большая Пустомержа', 'Большие Колпаны', 'Большое Рейзино',\n",
       "       'Большой Сабск', 'Бор', 'Борисова Грива', 'Бугры', 'Будогощь',\n",
       "       'Ваганово', 'Важины', 'Вартемяги', 'Вахнова Кара', 'Виллози',\n",
       "       'Вознесенье', 'Возрождение', 'Войсковицы', 'Войскорово',\n",
       "       'Володарское', 'Волосово', 'Волхов', 'Всеволожск', 'Выборг',\n",
       "       'Вырица', 'Выскатка', 'Высокоключевой', 'Высоцк', 'Гаврилово',\n",
       "       'Гарболово', 'Гатчина', 'Гладкое', 'Глажево', 'Глебычево',\n",
       "       'Глинка', 'Гончарово', 'Горбунки', 'Гостилицы', 'Громово',\n",
       "       'Дзержинского', 'Дружная Горка', 'Дружноселье', 'Дубровка',\n",
       "       'Елизаветино', 'Ефимовский', 'Жилгородок', 'Жилпосёлок', 'Житково',\n",
       "       'Заводской', 'Заклинье', 'Заневка', 'Запорожское', 'Зеленогорск',\n",
       "       'Зимитицы', 'Ивангород', 'Извара', 'Ильичёво', 'Иссад', 'Калитино',\n",
       "       'Каложицы', 'Кальтино', 'Каменногорск', 'Камышовка', 'Каськово',\n",
       "       'Келози', 'Кикерино', 'Кингисепп', 'Кингисеппский', 'Кипень',\n",
       "       'Кириши', 'Кировск', 'Кирпичное', 'Кисельня', 'Кобралово',\n",
       "       'Кобринское', 'Колпино', 'Колтуши', 'Коммунар', 'Коммунары',\n",
       "       'Кондратьево', 'Копорье', 'Коркино', 'Коробицыно', 'Котельский',\n",
       "       'Котлы', 'Красная Долина', 'Красное Село', 'Красносельское',\n",
       "       'Красный Бор', 'Кривко', 'Кронштадт', 'Кудрово', 'Кузнечное',\n",
       "       'Кузьмолово', 'Кузьмоловский', 'Курковицы', 'Куровицы', 'Куттузи',\n",
       "       'Лаврики', 'Лаголово', 'Лампово', 'Лебяжье', 'Левашово',\n",
       "       'Ленинское', 'Лесколово', 'Лесное', 'Лесогорский', 'Лисий Нос',\n",
       "       'Лодейное Поле', 'Ломоносов', 'Лопухинка', 'Луга', 'Лукаши',\n",
       "       'Лупполово', 'Любань', 'Малая Романовка', 'Малое Верево',\n",
       "       'Малое Карлино', 'Малые Колпаны', 'Мануйлово', 'Мга', 'Мельниково',\n",
       "       'Меньково', 'Металлострой', 'Мины', 'Мистолово', 'Мичуринское',\n",
       "       'Молодцово', 'Молодёжное', 'Мурино', 'Мыза-Ивановка', 'Назия',\n",
       "       'Ненимяки', 'Нижние Осельки', 'Низино', 'Никольский', 'Никольское',\n",
       "       'Новая Ладога', 'Новогорелово', 'Новое Девяткино', 'Новолисино',\n",
       "       'Новоселье', 'Новый Свет', 'Новый Учхоз', 'Нурма', 'Оредеж',\n",
       "       'Оржицы', 'Отрадное', 'Павлово', 'Павловск',\n",
       "       'Пансионат Зелёный Бор', 'Парголово', 'Парицы', 'Паша', 'Пельгора',\n",
       "       'Пеники', 'Первомайское', 'Перово', 'Песочный', 'Петергоф',\n",
       "       'Петро-Славянка', 'Петровское', 'Пижма', 'Пикалёво', 'Пикколово',\n",
       "       'Платформа 69-й километр', 'Плодовое', 'Плоское', 'Победа',\n",
       "       'Подпорожье', 'Поляны', 'Понтонный', 'Почап', 'Починок',\n",
       "       'Пригородный', 'Приладожский', 'Приморск', 'Приозерск', 'Пудомяги',\n",
       "       'Пудость', 'Пустынка', 'Путилово', 'Пушкин', 'Пушное', 'Пчева',\n",
       "       'Пчевжа', 'Рабитицы', 'Разбегаево', 'Раздолье', 'Разметелево',\n",
       "       'Рапполово', 'Рахья', 'Реброво', 'Репино', 'Рождествено',\n",
       "       'Романовка', 'Ромашки', 'Ропша', 'Рощино', 'Русско',\n",
       "       'Русско-Высоцкое', 'Рябово', 'Санкт-Петербург', 'Сапёрное',\n",
       "       'Сапёрный', 'Светогорск', 'Свирьстрой', 'Севастьяново',\n",
       "       'Селезнёво', 'Сельцо', 'Семиозерье', 'Семрино', 'Серебрянский',\n",
       "       'Сертолово', 'Сестрорецк', 'Сиверский', 'Сижно', 'Синявино',\n",
       "       'Сланцы', 'Снегирёвка', 'Советский', 'Совхозный', 'Сосново',\n",
       "       'Сосновый Бор', 'Старая', 'Старая Ладога', 'Старая Малукса',\n",
       "       'Старая Пустошь', 'Старое Хинколово', 'Старополье',\n",
       "       'Старосиверская', 'Старые Бегуницы', 'Стеклянный', 'Стрельна',\n",
       "       'Суйда', 'Сумино', 'Суоранда', 'Суходолье', 'Сяськелево',\n",
       "       'Сясьстрой', 'Тайцы', 'Тарасово', 'Тельмана', 'Терволово',\n",
       "       'Терпилицы', 'Тихвин', 'Тихковицы', 'Тойворово', 'Токсово',\n",
       "       'Торковичи', 'Торосово', 'Торошковичи', 'Торфяное', 'Тосно',\n",
       "       'Трубников Бор', 'Тёсово-4', 'Углово', 'Ульяновка', 'Усть-Ижора',\n",
       "       'Усть-Луга', 'Ушаки', 'Фалилеево', 'Форносово',\n",
       "       'Форт Красная Горка', 'Фёдоровское', 'Хапо-Ое', 'Хязельки',\n",
       "       'Цвелодубово', 'Цвылёво', 'Чудской Бор', 'Шлиссельбург',\n",
       "       'Шпаньково', 'Шугозеро', 'Шум', 'Шушары', 'Щеглово', 'Юкки',\n",
       "       'Ялгино', 'Яльгелево', 'Ям-Тесово', 'Янино-1', 'имени Морозова',\n",
       "       'имени Свердлова', 'коттеджный Кивеннапа Север',\n",
       "       'коттеджный Лесное', 'коттеджный Счастье',\n",
       "       'при железнодорожной станции Вещево',\n",
       "       'при железнодорожной станции Приветнинское',\n",
       "       'садоводческое некоммерческое товарищество Лесная Поляна',\n",
       "       'садовое товарищество Новая Ропша',\n",
       "       'садовое товарищество Приладожский', 'садовое товарищество Рахья',\n",
       "       'садовое товарищество Садко', 'станции Вещево', 'станции Громово',\n",
       "       'станции Корнево', 'станции Лужайка', 'станции Приветнинское',\n",
       "       'станции Свирь'], dtype=object)"
      ]
     },
     "execution_count": 27,
     "metadata": {},
     "output_type": "execute_result"
    }
   ],
   "source": [
    "for s in ['поселок городского типа ', 'посёлок городского типа ', 'городской поселок ', 'городской посёлок ', 'посёлок ', 'поселок ', 'деревня ', 'село ']:\n",
    "     data['locality_name'] = data['locality_name'].str.replace(s, '')\n",
    "\n",
    "data['locality_name'].sort_values().unique()        "
   ]
  },
  {
   "cell_type": "markdown",
   "metadata": {},
   "source": [
    "**8.cityCenters_nearest**\n",
    "\n",
    "Пропуски в расстоянии до центра - картографические данные, причиной пропусков наверняка является техническая ошибка выгрузки.\n"
   ]
  },
  {
   "cell_type": "markdown",
   "metadata": {},
   "source": [
    "Для многих населенных пунктов совсем нет данных про cityCenters_nearest и медиану расчитать нельзя. Заполнять пропуски не будем."
   ]
  },
  {
   "cell_type": "markdown",
   "metadata": {},
   "source": [
    "**9. days_exposition, airports_nearest, parks_nearest, parks_around3000, ponds_nearest, ponds_around3000.**\n",
    "\n",
    "Пропуски в этих переменных не влияют на дальнейшую работу с датасетом, а также мы не можем заполнить их на основании имющихся данных.Так как это кратографические данные, то причиной пропуска наверняка является техническая ошибка выгрузки.\n",
    "\n",
    "Что касатеся days_exposition - это не картографические данные, но причиной также, вероятно, может быть ошибка выгрузки, так как эти данные не заполняются пользоватлем. "
   ]
  },
  {
   "cell_type": "markdown",
   "metadata": {},
   "source": [
    "**9.first_day_exposition, last_price**\n",
    "\n",
    "Скорректируем тип данных в этих столбцах.\n",
    "\n",
    "В столбце first_day_exposition тип данных \"object\", нам необходимо перевести его в формат даты, чтобы со значениями можно было проводить операции.  Например, далее в задании необходимо будет определить день недели. \n",
    "\n",
    "Столбец last_price тоже переведем в целое значение для удобства работы и округления в дальнейшем. "
   ]
  },
  {
   "cell_type": "code",
   "execution_count": 28,
   "metadata": {},
   "outputs": [],
   "source": [
    "import warnings\n",
    "warnings.filterwarnings('ignore')\n",
    "\n",
    "data['first_day_exposition'] = pd.to_datetime(data['first_day_exposition'], format ='%Y-%m-%dT%H:%M:%S')"
   ]
  },
  {
   "cell_type": "code",
   "execution_count": 29,
   "metadata": {},
   "outputs": [],
   "source": [
    "data['last_price'] = data['last_price'].astype('int')"
   ]
  },
  {
   "cell_type": "markdown",
   "metadata": {},
   "source": [
    "Переведем цену в тыс.руб. для дальнейшей удобной работы и визуализации."
   ]
  },
  {
   "cell_type": "code",
   "execution_count": 30,
   "metadata": {},
   "outputs": [],
   "source": [
    "data['last_price'] = data['last_price']/1000"
   ]
  },
  {
   "cell_type": "markdown",
   "metadata": {},
   "source": [
    "Проверим, что все пропуски, которые мы планировали убрать, учтены. "
   ]
  },
  {
   "cell_type": "code",
   "execution_count": 31,
   "metadata": {},
   "outputs": [
    {
     "name": "stdout",
     "output_type": "stream",
     "text": [
      "total_images                0\n",
      "last_price                  0\n",
      "total_area                  0\n",
      "first_day_exposition        0\n",
      "rooms                       0\n",
      "ceiling_height              0\n",
      "floors_total                0\n",
      "living_area                 0\n",
      "floor                       0\n",
      "is_apartment            20779\n",
      "studio                      0\n",
      "open_plan                   0\n",
      "kitchen_area                0\n",
      "balcony                     0\n",
      "locality_name               0\n",
      "airports_nearest         5513\n",
      "cityCenters_nearest      5490\n",
      "parks_around3000         5489\n",
      "parks_nearest           15512\n",
      "ponds_around3000         5489\n",
      "ponds_nearest           14507\n",
      "days_exposition          3163\n",
      "dtype: int64\n"
     ]
    }
   ],
   "source": [
    "print(data.isna().sum())"
   ]
  },
  {
   "cell_type": "markdown",
   "metadata": {},
   "source": [
    "Мы убрали пропуски в следующих данных: balcony, ceiling_height, living_area, kitchen_area, locality_name на основании имеющихся данных.\n",
    "\n",
    "\n",
    "Пропуски в остальных данных невозможно самостоятельно адекватно заполнить, они не влияют на дальнейшую работу над проектом, изменять их не будем.  "
   ]
  },
  {
   "cell_type": "markdown",
   "metadata": {},
   "source": [
    "Убедимся, что все типы данных теперь отражены верно:"
   ]
  },
  {
   "cell_type": "code",
   "execution_count": 32,
   "metadata": {},
   "outputs": [
    {
     "name": "stdout",
     "output_type": "stream",
     "text": [
      "<class 'pandas.core.frame.DataFrame'>\n",
      "Int64Index: 23526 entries, 0 to 23698\n",
      "Data columns (total 22 columns):\n",
      " #   Column                Non-Null Count  Dtype         \n",
      "---  ------                --------------  -----         \n",
      " 0   total_images          23526 non-null  int64         \n",
      " 1   last_price            23526 non-null  float64       \n",
      " 2   total_area            23526 non-null  float64       \n",
      " 3   first_day_exposition  23526 non-null  datetime64[ns]\n",
      " 4   rooms                 23526 non-null  int64         \n",
      " 5   ceiling_height        23526 non-null  float64       \n",
      " 6   floors_total          23526 non-null  int64         \n",
      " 7   living_area           23526 non-null  float64       \n",
      " 8   floor                 23526 non-null  int64         \n",
      " 9   is_apartment          2747 non-null   object        \n",
      " 10  studio                23526 non-null  bool          \n",
      " 11  open_plan             23526 non-null  bool          \n",
      " 12  kitchen_area          23526 non-null  float64       \n",
      " 13  balcony               23526 non-null  int64         \n",
      " 14  locality_name         23526 non-null  object        \n",
      " 15  airports_nearest      18013 non-null  float64       \n",
      " 16  cityCenters_nearest   18036 non-null  float64       \n",
      " 17  parks_around3000      18037 non-null  float64       \n",
      " 18  parks_nearest         8014 non-null   float64       \n",
      " 19  ponds_around3000      18037 non-null  float64       \n",
      " 20  ponds_nearest         9019 non-null   float64       \n",
      " 21  days_exposition       20363 non-null  float64       \n",
      "dtypes: bool(2), datetime64[ns](1), float64(12), int64(5), object(2)\n",
      "memory usage: 3.8+ MB\n"
     ]
    }
   ],
   "source": [
    "data.info()"
   ]
  },
  {
   "cell_type": "markdown",
   "metadata": {},
   "source": [
    "Изменили тип данных у следующих переменных:\n",
    "\n",
    "first_day_exposition - перевели в дату для дальнейшей работы с определением дня, месяца и года размещения \n",
    "\n",
    "rooms, floors_total и last_price - перевели в int, так как эти значения должны отражать целые числа. "
   ]
  },
  {
   "cell_type": "markdown",
   "metadata": {},
   "source": [
    "## Шаг 3. Посчитайте и добавьте в таблицу новые столбцы"
   ]
  },
  {
   "cell_type": "markdown",
   "metadata": {},
   "source": [
    "**1. Добавим цену одного квадратного метра.**"
   ]
  },
  {
   "cell_type": "code",
   "execution_count": 33,
   "metadata": {},
   "outputs": [],
   "source": [
    "data['price_per_area'] = (data['last_price'] / data['total_area']).round(2).astype(int)"
   ]
  },
  {
   "cell_type": "code",
   "execution_count": 34,
   "metadata": {},
   "outputs": [
    {
     "name": "stdout",
     "output_type": "stream",
     "text": [
      "0        120\n",
      "1         82\n",
      "2         92\n",
      "3        408\n",
      "4        100\n",
      "        ... \n",
      "23694     72\n",
      "23695     52\n",
      "23696     44\n",
      "23697    149\n",
      "23698     41\n",
      "Name: price_per_area, Length: 23526, dtype: int64\n"
     ]
    }
   ],
   "source": [
    "print(data['price_per_area'])"
   ]
  },
  {
   "cell_type": "markdown",
   "metadata": {},
   "source": [
    "**2. Добавим день недели публикации объявления (0 — понедельник, 1 — вторник и так далее)**"
   ]
  },
  {
   "cell_type": "code",
   "execution_count": 35,
   "metadata": {},
   "outputs": [],
   "source": [
    "data['weekday_exposition'] = data['first_day_exposition'].dt.weekday"
   ]
  },
  {
   "cell_type": "code",
   "execution_count": 36,
   "metadata": {},
   "outputs": [
    {
     "name": "stdout",
     "output_type": "stream",
     "text": [
      "0        3\n",
      "1        1\n",
      "2        3\n",
      "3        4\n",
      "4        1\n",
      "        ..\n",
      "23694    1\n",
      "23695    0\n",
      "23696    6\n",
      "23697    1\n",
      "23698    4\n",
      "Name: weekday_exposition, Length: 23526, dtype: int64\n"
     ]
    }
   ],
   "source": [
    "print(data['weekday_exposition'])"
   ]
  },
  {
   "cell_type": "markdown",
   "metadata": {},
   "source": [
    "**3.Добавим месяц публикации объявления**"
   ]
  },
  {
   "cell_type": "code",
   "execution_count": 37,
   "metadata": {},
   "outputs": [],
   "source": [
    "data['month_exposition'] = data['first_day_exposition'].dt.month"
   ]
  },
  {
   "cell_type": "code",
   "execution_count": 38,
   "metadata": {},
   "outputs": [
    {
     "name": "stdout",
     "output_type": "stream",
     "text": [
      "0         3\n",
      "1        12\n",
      "2         8\n",
      "3         7\n",
      "4         6\n",
      "         ..\n",
      "23694     3\n",
      "23695     1\n",
      "23696     2\n",
      "23697     3\n",
      "23698     7\n",
      "Name: month_exposition, Length: 23526, dtype: int64\n"
     ]
    }
   ],
   "source": [
    "print(data['month_exposition'])"
   ]
  },
  {
   "cell_type": "markdown",
   "metadata": {},
   "source": [
    "**4. Добавим год публикации объявления**"
   ]
  },
  {
   "cell_type": "code",
   "execution_count": 39,
   "metadata": {},
   "outputs": [],
   "source": [
    "data['year_exposition'] = data['first_day_exposition'].dt.year"
   ]
  },
  {
   "cell_type": "code",
   "execution_count": 40,
   "metadata": {},
   "outputs": [
    {
     "name": "stdout",
     "output_type": "stream",
     "text": [
      "0        2019\n",
      "1        2018\n",
      "2        2015\n",
      "3        2015\n",
      "4        2018\n",
      "         ... \n",
      "23694    2017\n",
      "23695    2018\n",
      "23696    2018\n",
      "23697    2017\n",
      "23698    2017\n",
      "Name: year_exposition, Length: 23526, dtype: int64\n"
     ]
    }
   ],
   "source": [
    "print(data['year_exposition'])"
   ]
  },
  {
   "cell_type": "markdown",
   "metadata": {},
   "source": [
    "**5. Добавим тип этажа квартиры (значения — «‎первый», «последний», «другой»)**"
   ]
  },
  {
   "cell_type": "markdown",
   "metadata": {},
   "source": [
    "Напишем функцию, которая будет сравнивать этаж с 1 и максимальным в строке, чтобы вывести \"первый\" и \"последний\", в остальных случаях будетзаписывать \"другой\"."
   ]
  },
  {
   "cell_type": "code",
   "execution_count": 41,
   "metadata": {},
   "outputs": [],
   "source": [
    "def floor_category(row):\n",
    "    floors_total = row['floors_total']\n",
    "    floor = row['floor']\n",
    "    if floor == 1:\n",
    "        return 'первый'\n",
    "    elif floor == floors_total:\n",
    "        return 'последний'\n",
    "    else: \n",
    "        return 'другой'"
   ]
  },
  {
   "cell_type": "markdown",
   "metadata": {},
   "source": [
    "Добавим столбец с floor_category с использованием функции выше. "
   ]
  },
  {
   "cell_type": "code",
   "execution_count": 42,
   "metadata": {},
   "outputs": [],
   "source": [
    "data['floor_category'] = data.apply(floor_category, axis = 1)"
   ]
  },
  {
   "cell_type": "code",
   "execution_count": 43,
   "metadata": {},
   "outputs": [
    {
     "name": "stdout",
     "output_type": "stream",
     "text": [
      "0        другой\n",
      "1        первый\n",
      "2        другой\n",
      "3        другой\n",
      "4        другой\n",
      "          ...  \n",
      "23694    другой\n",
      "23695    другой\n",
      "23696    первый\n",
      "23697    другой\n",
      "23698    первый\n",
      "Name: floor_category, Length: 23526, dtype: object\n"
     ]
    }
   ],
   "source": [
    "print(data['floor_category'])"
   ]
  },
  {
   "cell_type": "markdown",
   "metadata": {},
   "source": [
    "**6. Добавим расстояние до центра города в километрах (переведите из м в км и округлите до целых значений)**"
   ]
  },
  {
   "cell_type": "code",
   "execution_count": 44,
   "metadata": {},
   "outputs": [],
   "source": [
    "data['city_centers_nearest_km'] = (data['cityCenters_nearest']  / 1000).round(0)"
   ]
  },
  {
   "cell_type": "code",
   "execution_count": 45,
   "metadata": {},
   "outputs": [
    {
     "name": "stdout",
     "output_type": "stream",
     "text": [
      "0        16.0\n",
      "1        19.0\n",
      "2        14.0\n",
      "3         7.0\n",
      "4         8.0\n",
      "         ... \n",
      "23694     4.0\n",
      "23695     NaN\n",
      "23696     NaN\n",
      "23697    10.0\n",
      "23698     NaN\n",
      "Name: city_centers_nearest_km, Length: 23526, dtype: float64\n"
     ]
    }
   ],
   "source": [
    "print(data['city_centers_nearest_km'])"
   ]
  },
  {
   "cell_type": "markdown",
   "metadata": {},
   "source": [
    "## Шаг 4. Проведите исследовательский анализ данных"
   ]
  },
  {
   "cell_type": "markdown",
   "metadata": {},
   "source": [
    "**1. Жилая площадь**"
   ]
  },
  {
   "cell_type": "code",
   "execution_count": 46,
   "metadata": {},
   "outputs": [
    {
     "data": {
      "text/plain": [
       "count    23526.000000\n",
       "mean        60.290821\n",
       "std         35.530347\n",
       "min         12.000000\n",
       "25%         40.000000\n",
       "50%         52.000000\n",
       "75%         69.700000\n",
       "max        900.000000\n",
       "Name: total_area, dtype: float64"
      ]
     },
     "execution_count": 46,
     "metadata": {},
     "output_type": "execute_result"
    }
   ],
   "source": [
    "data['total_area'].describe()"
   ]
  },
  {
   "cell_type": "code",
   "execution_count": 47,
   "metadata": {},
   "outputs": [
    {
     "data": {
      "image/png": "[encoded data removed]",
      "text/plain": [
       "<Figure size 1080x648 with 1 Axes>"
      ]
     },
     "metadata": {
      "needs_background": "light"
     },
     "output_type": "display_data"
    }
   ],
   "source": [
    "data.plot(y = 'total_area', kind = 'hist', bins = 100, grid=True, figsize = (15,9), range = (0,300))\n",
    "plt.show()"
   ]
  },
  {
   "cell_type": "markdown",
   "metadata": {},
   "source": [
    "В среднем большая часть продаваемых квартир примерно от 30 до 70 кв.м.. Квартиры с площадью выше 300 кв.м. - редкость, поэтому мы построили график до 300 для наглядности информации о самых популярных квартирах для продажи."
   ]
  },
  {
   "cell_type": "markdown",
   "metadata": {},
   "source": [
    "**2. Жилая площадь**"
   ]
  },
  {
   "cell_type": "code",
   "execution_count": 48,
   "metadata": {},
   "outputs": [
    {
     "data": {
      "text/plain": [
       "count    23526.000000\n",
       "mean        34.537495\n",
       "std         22.270618\n",
       "min          2.000000\n",
       "25%         19.000000\n",
       "50%         30.000000\n",
       "75%         42.100000\n",
       "max        409.700000\n",
       "Name: living_area, dtype: float64"
      ]
     },
     "execution_count": 48,
     "metadata": {},
     "output_type": "execute_result"
    }
   ],
   "source": [
    "data['living_area'].describe()"
   ]
  },
  {
   "cell_type": "code",
   "execution_count": 49,
   "metadata": {},
   "outputs": [
    {
     "data": {
      "image/png": "[encoded data removed]",
      "text/plain": [
       "<Figure size 1080x648 with 1 Axes>"
      ]
     },
     "metadata": {
      "needs_background": "light"
     },
     "output_type": "display_data"
    }
   ],
   "source": [
    "data.plot(y = 'living_area', kind = 'hist', bins = 100, grid=True, figsize = (15,9), range = (0,150))\n",
    "plt.show()"
   ]
  },
  {
   "cell_type": "markdown",
   "metadata": {},
   "source": [
    "В среднем жилая площадь большей части продаваемых квартир примерно от 20 до 45 кв.м.. Квартиры с жалой площадью сыше 60 кв.м. - редкость."
   ]
  },
  {
   "cell_type": "markdown",
   "metadata": {},
   "source": [
    "**3. Площадь кухни**"
   ]
  },
  {
   "cell_type": "code",
   "execution_count": 50,
   "metadata": {},
   "outputs": [
    {
     "data": {
      "text/plain": [
       "count    23526.000000\n",
       "mean        10.561215\n",
       "std          6.071567\n",
       "min          1.300000\n",
       "25%          7.000000\n",
       "50%          9.000000\n",
       "75%         12.000000\n",
       "max        112.000000\n",
       "Name: kitchen_area, dtype: float64"
      ]
     },
     "execution_count": 50,
     "metadata": {},
     "output_type": "execute_result"
    }
   ],
   "source": [
    "data['kitchen_area'].describe()"
   ]
  },
  {
   "cell_type": "code",
   "execution_count": 51,
   "metadata": {},
   "outputs": [
    {
     "data": {
      "image/png": "[encoded data removed]",
      "text/plain": [
       "<Figure size 1080x648 with 1 Axes>"
      ]
     },
     "metadata": {
      "needs_background": "light"
     },
     "output_type": "display_data"
    }
   ],
   "source": [
    "data.plot(y = 'kitchen_area', kind = 'hist', bins = 100, grid=True, figsize = (15,9), range = (0,60))\n",
    "plt.show()"
   ]
  },
  {
   "cell_type": "markdown",
   "metadata": {},
   "source": [
    "В среднем площадь кухни большей части продаваемых квартир примерно от 7 до 12 кв.м.. Квартиры с площадью кухни сыше 20 кв.м. - редкость."
   ]
  },
  {
   "cell_type": "markdown",
   "metadata": {},
   "source": [
    "**4. Цена объекта**"
   ]
  },
  {
   "cell_type": "code",
   "execution_count": 52,
   "metadata": {},
   "outputs": [
    {
     "data": {
      "text/plain": [
       "count     23526.000000\n",
       "mean       6525.267912\n",
       "std       10837.014177\n",
       "min          12.190000\n",
       "25%        3400.000000\n",
       "50%        4646.500000\n",
       "75%        6790.000000\n",
       "max      763000.000000\n",
       "Name: last_price, dtype: float64"
      ]
     },
     "execution_count": 52,
     "metadata": {},
     "output_type": "execute_result"
    }
   ],
   "source": [
    "data['last_price'].describe()"
   ]
  },
  {
   "cell_type": "code",
   "execution_count": 53,
   "metadata": {},
   "outputs": [
    {
     "data": {
      "image/png": "[encoded data removed]",
      "text/plain": [
       "<Figure size 1080x648 with 1 Axes>"
      ]
     },
     "metadata": {
      "needs_background": "light"
     },
     "output_type": "display_data"
    }
   ],
   "source": [
    "data.plot(y = 'last_price', kind = 'hist', bins = 100, grid=True, figsize = (15,9), range = (0,20000))\n",
    "plt.show()"
   ]
  },
  {
   "cell_type": "markdown",
   "metadata": {},
   "source": [
    "В среднем стоимость большей части продаваемых квартир примерно от 3,5 млн. руб. до 7 млн.руб. Квартиры с стоимостью выше 15 млн.руб. - редкость."
   ]
  },
  {
   "cell_type": "markdown",
   "metadata": {},
   "source": [
    "**5. Количество комнат**"
   ]
  },
  {
   "cell_type": "code",
   "execution_count": 54,
   "metadata": {},
   "outputs": [
    {
     "data": {
      "text/plain": [
       "count    23526.000000\n",
       "mean         2.070560\n",
       "std          1.078174\n",
       "min          0.000000\n",
       "25%          1.000000\n",
       "50%          2.000000\n",
       "75%          3.000000\n",
       "max         19.000000\n",
       "Name: rooms, dtype: float64"
      ]
     },
     "execution_count": 54,
     "metadata": {},
     "output_type": "execute_result"
    }
   ],
   "source": [
    "data['rooms'].describe()"
   ]
  },
  {
   "cell_type": "code",
   "execution_count": 55,
   "metadata": {},
   "outputs": [
    {
     "data": {
      "image/png": "[encoded data removed]",
      "text/plain": [
       "<Figure size 1080x648 with 1 Axes>"
      ]
     },
     "metadata": {
      "needs_background": "light"
     },
     "output_type": "display_data"
    }
   ],
   "source": [
    "data.plot(y = 'rooms', kind = 'hist', bins = 100, grid=True, figsize = (15,9), range = (0,15))\n",
    "plt.show()"
   ]
  },
  {
   "cell_type": "markdown",
   "metadata": {},
   "source": [
    "Самые популярные для продажи квратиры - 1 -3 комнатные. Квартиры больше 5 комнат - совсем редкость. "
   ]
  },
  {
   "cell_type": "markdown",
   "metadata": {},
   "source": [
    "**6. Высота потолков**"
   ]
  },
  {
   "cell_type": "code",
   "execution_count": 56,
   "metadata": {},
   "outputs": [
    {
     "data": {
      "text/plain": [
       "count    23526.000000\n",
       "mean         2.696132\n",
       "std          0.215944\n",
       "min          2.000000\n",
       "25%          2.600000\n",
       "50%          2.650000\n",
       "75%          2.700000\n",
       "max          5.000000\n",
       "Name: ceiling_height, dtype: float64"
      ]
     },
     "execution_count": 56,
     "metadata": {},
     "output_type": "execute_result"
    }
   ],
   "source": [
    "data['ceiling_height'].describe()"
   ]
  },
  {
   "cell_type": "code",
   "execution_count": 57,
   "metadata": {},
   "outputs": [
    {
     "data": {
      "image/png": "[encoded data removed]",
      "text/plain": [
       "<Figure size 1080x648 with 1 Axes>"
      ]
     },
     "metadata": {
      "needs_background": "light"
     },
     "output_type": "display_data"
    }
   ],
   "source": [
    "data.plot(y = 'ceiling_height', kind = 'hist', bins = 100, grid=True, figsize = (15,9), range = (2,5))\n",
    "plt.show()"
   ]
  },
  {
   "cell_type": "markdown",
   "metadata": {},
   "source": [
    "Высота потолков 2.7м в большей части продаваемых квратир, что соотвествует санпину (не мене 2.5м). "
   ]
  },
  {
   "cell_type": "markdown",
   "metadata": {},
   "source": [
    "**7. Этаж квартиры**"
   ]
  },
  {
   "cell_type": "code",
   "execution_count": 58,
   "metadata": {},
   "outputs": [
    {
     "data": {
      "text/plain": [
       "count    23526.000000\n",
       "mean         5.878687\n",
       "std          4.871735\n",
       "min          1.000000\n",
       "25%          2.000000\n",
       "50%          4.000000\n",
       "75%          8.000000\n",
       "max         33.000000\n",
       "Name: floor, dtype: float64"
      ]
     },
     "execution_count": 58,
     "metadata": {},
     "output_type": "execute_result"
    }
   ],
   "source": [
    "data['floor'].describe()"
   ]
  },
  {
   "cell_type": "code",
   "execution_count": 59,
   "metadata": {},
   "outputs": [
    {
     "data": {
      "image/png": "[encoded data removed]",
      "text/plain": [
       "<Figure size 1080x648 with 1 Axes>"
      ]
     },
     "metadata": {
      "needs_background": "light"
     },
     "output_type": "display_data"
    }
   ],
   "source": [
    "data.plot(y = 'floor', kind = 'hist', bins = 100, grid=True, figsize = (15,9), range = (0,50))\n",
    "plt.show()"
   ]
  },
  {
   "cell_type": "markdown",
   "metadata": {},
   "source": [
    "Большая часть продающихся квартир находится со 2 по 7 этаж. Квартиры выше 20 этажа - становятся совсем редкостью. "
   ]
  },
  {
   "cell_type": "markdown",
   "metadata": {},
   "source": [
    "**8. Тип этажа квартиры («первый», «последний», «другой»)**"
   ]
  },
  {
   "cell_type": "code",
   "execution_count": 60,
   "metadata": {},
   "outputs": [
    {
     "data": {
      "image/png": "[encoded data removed]",
      "text/plain": [
       "<Figure size 1080x648 with 1 Axes>"
      ]
     },
     "metadata": {
      "needs_background": "light"
     },
     "output_type": "display_data"
    }
   ],
   "source": [
    "data['floor_category'].hist(figsize = (15,9))\n",
    "plt.show()\n"
   ]
  },
  {
   "cell_type": "markdown",
   "metadata": {},
   "source": [
    "Первые и последние этажи не пользуются популярностью у покупателей квартир. Большая часть проданных квартир приходится на другие этажи. "
   ]
  },
  {
   "cell_type": "markdown",
   "metadata": {},
   "source": [
    "**9.Общее количество этажей в доме**"
   ]
  },
  {
   "cell_type": "code",
   "execution_count": 61,
   "metadata": {},
   "outputs": [
    {
     "data": {
      "text/plain": [
       "count    23526.000000\n",
       "mean        10.677718\n",
       "std          6.591240\n",
       "min          1.000000\n",
       "25%          5.000000\n",
       "50%          9.000000\n",
       "75%         16.000000\n",
       "max         60.000000\n",
       "Name: floors_total, dtype: float64"
      ]
     },
     "execution_count": 61,
     "metadata": {},
     "output_type": "execute_result"
    }
   ],
   "source": [
    "data['floors_total'].describe()"
   ]
  },
  {
   "cell_type": "code",
   "execution_count": 62,
   "metadata": {},
   "outputs": [
    {
     "data": {
      "image/png": "[encoded data removed]",
      "text/plain": [
       "<Figure size 1080x648 with 1 Axes>"
      ]
     },
     "metadata": {
      "needs_background": "light"
     },
     "output_type": "display_data"
    }
   ],
   "source": [
    "data.plot(y = 'floors_total', kind = 'hist', bins = 100, grid=True, figsize = (15,9), range = (0,50))\n",
    "plt.show()"
   ]
  },
  {
   "cell_type": "markdown",
   "metadata": {},
   "source": [
    "В среднем количество этажей в домах с проданными квартрами варьируется от 5 до 14 этажей. "
   ]
  },
  {
   "cell_type": "markdown",
   "metadata": {},
   "source": [
    "**10. Расстояние до центра города в метрах**"
   ]
  },
  {
   "cell_type": "code",
   "execution_count": 63,
   "metadata": {},
   "outputs": [
    {
     "data": {
      "text/plain": [
       "count    18036.000000\n",
       "mean     14195.897206\n",
       "std       8611.636704\n",
       "min        181.000000\n",
       "25%       9240.250000\n",
       "50%      13101.000000\n",
       "75%      16293.000000\n",
       "max      65968.000000\n",
       "Name: cityCenters_nearest, dtype: float64"
      ]
     },
     "execution_count": 63,
     "metadata": {},
     "output_type": "execute_result"
    }
   ],
   "source": [
    "data['cityCenters_nearest'].describe()"
   ]
  },
  {
   "cell_type": "code",
   "execution_count": 64,
   "metadata": {},
   "outputs": [
    {
     "data": {
      "image/png": "[encoded data removed]",
      "text/plain": [
       "<Figure size 1080x648 with 1 Axes>"
      ]
     },
     "metadata": {
      "needs_background": "light"
     },
     "output_type": "display_data"
    }
   ],
   "source": [
    "data.plot(y = 'cityCenters_nearest', kind = 'hist', bins = 100, grid=True, figsize = (15,9), range = (0,40000))\n",
    "plt.show()"
   ]
  },
  {
   "cell_type": "markdown",
   "metadata": {},
   "source": [
    "Расстояние большей части проданных квартир до центра города составляет от 10 до 15 км. "
   ]
  },
  {
   "cell_type": "markdown",
   "metadata": {},
   "source": [
    "**11.Расстояние до ближайшего аэропорта**"
   ]
  },
  {
   "cell_type": "code",
   "execution_count": 65,
   "metadata": {},
   "outputs": [
    {
     "data": {
      "text/plain": [
       "count    18013.000000\n",
       "mean     28800.723977\n",
       "std      12633.800534\n",
       "min          0.000000\n",
       "25%      18557.000000\n",
       "50%      26757.000000\n",
       "75%      37284.000000\n",
       "max      84869.000000\n",
       "Name: airports_nearest, dtype: float64"
      ]
     },
     "execution_count": 65,
     "metadata": {},
     "output_type": "execute_result"
    }
   ],
   "source": [
    "data['airports_nearest'].describe()"
   ]
  },
  {
   "cell_type": "code",
   "execution_count": 66,
   "metadata": {},
   "outputs": [
    {
     "data": {
      "image/png": "[encoded data removed]",
      "text/plain": [
       "<Figure size 1080x648 with 1 Axes>"
      ]
     },
     "metadata": {
      "needs_background": "light"
     },
     "output_type": "display_data"
    }
   ],
   "source": [
    "data.plot(y = 'airports_nearest', kind = 'hist', bins = 100, grid=True, figsize = (15,9), range = (0,100000))\n",
    "plt.show()"
   ]
  },
  {
   "cell_type": "markdown",
   "metadata": {},
   "source": [
    "Расстояние большей части проданных квартир до аэропорта составляет от 18 до 40 км. "
   ]
  },
  {
   "cell_type": "markdown",
   "metadata": {},
   "source": [
    "**12.Расстояние до ближайшего парка**"
   ]
  },
  {
   "cell_type": "code",
   "execution_count": 67,
   "metadata": {},
   "outputs": [
    {
     "data": {
      "text/plain": [
       "count    8014.000000\n",
       "mean      490.678687\n",
       "std       341.782230\n",
       "min         1.000000\n",
       "25%       288.000000\n",
       "50%       455.000000\n",
       "75%       612.000000\n",
       "max      3190.000000\n",
       "Name: parks_nearest, dtype: float64"
      ]
     },
     "execution_count": 67,
     "metadata": {},
     "output_type": "execute_result"
    }
   ],
   "source": [
    "data['parks_nearest'].describe()"
   ]
  },
  {
   "cell_type": "code",
   "execution_count": 68,
   "metadata": {},
   "outputs": [
    {
     "data": {
      "image/png": "[encoded data removed]",
      "text/plain": [
       "<Figure size 1080x648 with 1 Axes>"
      ]
     },
     "metadata": {
      "needs_background": "light"
     },
     "output_type": "display_data"
    }
   ],
   "source": [
    "data.plot(y = 'parks_nearest', kind = 'hist', bins = 100, grid=True, figsize = (15,9), range = (0,1500))\n",
    "plt.show()"
   ]
  },
  {
   "cell_type": "code",
   "execution_count": 69,
   "metadata": {},
   "outputs": [
    {
     "name": "stdout",
     "output_type": "stream",
     "text": [
      "65.9\n"
     ]
    }
   ],
   "source": [
    "print(((data['parks_nearest'].isna().sum())/(data['total_area'].count())*100).round(1))"
   ]
  },
  {
   "cell_type": "markdown",
   "metadata": {},
   "source": [
    "Доля квартир, у которых отражено наличие парка составляет почти 66%, что не учитывает по сути почти четверть выборки. \n",
    "\n",
    "Расстояние большей части таких квартир до блжайшего парка составляет от 250 до 600 м. "
   ]
  },
  {
   "cell_type": "markdown",
   "metadata": {},
   "source": [
    "**13.День и месяц публикации объявления**"
   ]
  },
  {
   "cell_type": "code",
   "execution_count": 70,
   "metadata": {},
   "outputs": [
    {
     "data": {
      "text/html": [
       "<div>\n",
       "<style scoped>\n",
       "    .dataframe tbody tr th:only-of-type {\n",
       "        vertical-align: middle;\n",
       "    }\n",
       "\n",
       "    .dataframe tbody tr th {\n",
       "        vertical-align: top;\n",
       "    }\n",
       "\n",
       "    .dataframe thead th {\n",
       "        text-align: right;\n",
       "    }\n",
       "</style>\n",
       "<table border=\"1\" class=\"dataframe\">\n",
       "  <thead>\n",
       "    <tr style=\"text-align: right;\">\n",
       "      <th></th>\n",
       "      <th>weekday_exposition</th>\n",
       "      <th>month_exposition</th>\n",
       "    </tr>\n",
       "  </thead>\n",
       "  <tbody>\n",
       "    <tr>\n",
       "      <th>count</th>\n",
       "      <td>23526.000000</td>\n",
       "      <td>23526.000000</td>\n",
       "    </tr>\n",
       "    <tr>\n",
       "      <th>mean</th>\n",
       "      <td>2.567712</td>\n",
       "      <td>6.401556</td>\n",
       "    </tr>\n",
       "    <tr>\n",
       "      <th>std</th>\n",
       "      <td>1.788589</td>\n",
       "      <td>3.493060</td>\n",
       "    </tr>\n",
       "    <tr>\n",
       "      <th>min</th>\n",
       "      <td>0.000000</td>\n",
       "      <td>1.000000</td>\n",
       "    </tr>\n",
       "    <tr>\n",
       "      <th>25%</th>\n",
       "      <td>1.000000</td>\n",
       "      <td>3.000000</td>\n",
       "    </tr>\n",
       "    <tr>\n",
       "      <th>50%</th>\n",
       "      <td>3.000000</td>\n",
       "      <td>6.000000</td>\n",
       "    </tr>\n",
       "    <tr>\n",
       "      <th>75%</th>\n",
       "      <td>4.000000</td>\n",
       "      <td>10.000000</td>\n",
       "    </tr>\n",
       "    <tr>\n",
       "      <th>max</th>\n",
       "      <td>6.000000</td>\n",
       "      <td>12.000000</td>\n",
       "    </tr>\n",
       "  </tbody>\n",
       "</table>\n",
       "</div>"
      ],
      "text/plain": [
       "       weekday_exposition  month_exposition\n",
       "count        23526.000000      23526.000000\n",
       "mean             2.567712          6.401556\n",
       "std              1.788589          3.493060\n",
       "min              0.000000          1.000000\n",
       "25%              1.000000          3.000000\n",
       "50%              3.000000          6.000000\n",
       "75%              4.000000         10.000000\n",
       "max              6.000000         12.000000"
      ]
     },
     "execution_count": 70,
     "metadata": {},
     "output_type": "execute_result"
    }
   ],
   "source": [
    "data[['weekday_exposition','month_exposition']].describe()"
   ]
  },
  {
   "cell_type": "code",
   "execution_count": 71,
   "metadata": {},
   "outputs": [
    {
     "data": {
      "image/png": "[encoded data removed]",
      "text/plain": [
       "<Figure size 1080x648 with 1 Axes>"
      ]
     },
     "metadata": {
      "needs_background": "light"
     },
     "output_type": "display_data"
    }
   ],
   "source": [
    "data.plot(y = 'weekday_exposition', kind = 'hist', bins = 100, grid=True, figsize = (15,9), range = (0,6))\n",
    "plt.show()"
   ]
  },
  {
   "cell_type": "markdown",
   "metadata": {},
   "source": [
    "Большая часть объявлений размещается в будние дни с понедельника по пятницу. В выходные количество размещенных объявлений существенно ниже."
   ]
  },
  {
   "cell_type": "code",
   "execution_count": 72,
   "metadata": {},
   "outputs": [
    {
     "data": {
      "image/png": "[encoded data removed]",
      "text/plain": [
       "<Figure size 1080x648 with 1 Axes>"
      ]
     },
     "metadata": {
      "needs_background": "light"
     },
     "output_type": "display_data"
    }
   ],
   "source": [
    "data.plot(y = 'month_exposition', kind = 'hist', bins = 100, grid=True, figsize = (15,9), range = (1,12))\n",
    "plt.show()"
   ]
  },
  {
   "cell_type": "markdown",
   "metadata": {},
   "source": [
    "Самые популярные месяцы для размещения объявлений - период с февраля по апрель. В мае меньшее количество дней в совокупности с падением активности на рынке недвижимости дает \"провал\", в целом в течение лета ближе к осени динамика размещения объявлений о продаже квартир возрастает. "
   ]
  },
  {
   "cell_type": "markdown",
   "metadata": {},
   "source": [
    "**14. Как быстро продавались квартиры**"
   ]
  },
  {
   "cell_type": "code",
   "execution_count": 73,
   "metadata": {},
   "outputs": [
    {
     "data": {
      "text/plain": [
       "count    20363.000000\n",
       "mean       180.734911\n",
       "std        219.764568\n",
       "min          1.000000\n",
       "25%         45.000000\n",
       "50%         95.000000\n",
       "75%        231.000000\n",
       "max       1580.000000\n",
       "Name: days_exposition, dtype: float64"
      ]
     },
     "execution_count": 73,
     "metadata": {},
     "output_type": "execute_result"
    }
   ],
   "source": [
    "data['days_exposition'].describe()"
   ]
  },
  {
   "cell_type": "code",
   "execution_count": 74,
   "metadata": {},
   "outputs": [
    {
     "data": {
      "image/png": "[encoded data removed]",
      "text/plain": [
       "<Figure size 1080x648 with 1 Axes>"
      ]
     },
     "metadata": {
      "needs_background": "light"
     },
     "output_type": "display_data"
    }
   ],
   "source": [
    "data.plot(y = 'days_exposition', kind = 'hist', bins = 100, grid=True, figsize = (15,9), range = (0,1000))\n",
    "plt.show()"
   ]
  },
  {
   "cell_type": "code",
   "execution_count": 75,
   "metadata": {},
   "outputs": [
    {
     "data": {
      "text/plain": [
       "count    20363.000000\n",
       "mean       180.734911\n",
       "std        219.764568\n",
       "min          1.000000\n",
       "25%         45.000000\n",
       "50%         95.000000\n",
       "75%        231.000000\n",
       "max       1580.000000\n",
       "Name: days_exposition, dtype: float64"
      ]
     },
     "execution_count": 75,
     "metadata": {},
     "output_type": "execute_result"
    }
   ],
   "source": [
    "data['days_exposition'].describe()"
   ]
  },
  {
   "cell_type": "markdown",
   "metadata": {},
   "source": [
    "В среднем квартира продается около 3 месяцев (примерно 100 дней). \n",
    "Есть квартиры, окторые продаются больше 2 лет, что может соответствовать каким-то нестандартным и большим варинатам, либо неперспективным расположениям, а также и простой ошибке в части несвоевременного закрытия сделки на портале.\n",
    "\n",
    "Быстрой продажей можно считать продажи со сроками меньше 45 дней, долгой продажей считается продажа со сроками свыше 230 дней. "
   ]
  },
  {
   "cell_type": "markdown",
   "metadata": {},
   "source": [
    "**15. Зависимость цены:**"
   ]
  },
  {
   "cell_type": "markdown",
   "metadata": {},
   "source": [
    "*15.1 от общей площади*"
   ]
  },
  {
   "cell_type": "code",
   "execution_count": 76,
   "metadata": {},
   "outputs": [
    {
     "data": {
      "image/png": "[encoded data removed]",
      "text/plain": [
       "<Figure size 432x288 with 1 Axes>"
      ]
     },
     "metadata": {
      "needs_background": "light"
     },
     "output_type": "display_data"
    }
   ],
   "source": [
    "data.pivot_table(index = 'total_area', values = 'last_price', aggfunc = 'median')\\\n",
    "    .plot(style='o',xlim=(0,500), ylim = (0,300000))\n",
    "plt.show()"
   ]
  },
  {
   "cell_type": "markdown",
   "metadata": {},
   "source": [
    "На графике мы видим зависимость цены от общей площади, особо явно она выражена в квартирах, площадью до 250 кв.м. По ценам на квартиры площадью свыше 250 кв.м. корреляция становится не такой явной, так как типы объектов становятся нестандартными и на них могут влиять разные факторы. "
   ]
  },
  {
   "cell_type": "markdown",
   "metadata": {},
   "source": [
    "*15.2 от жилой площади*"
   ]
  },
  {
   "cell_type": "code",
   "execution_count": 77,
   "metadata": {},
   "outputs": [
    {
     "data": {
      "image/png": "[encoded data removed]",
      "text/plain": [
       "<Figure size 432x288 with 1 Axes>"
      ]
     },
     "metadata": {
      "needs_background": "light"
     },
     "output_type": "display_data"
    }
   ],
   "source": [
    "data.pivot_table(index = 'living_area', values = 'last_price', aggfunc = 'median')\\\n",
    "    .plot(style='o',xlim=(0,300), ylim = (0,300000))\n",
    "plt.show()"
   ]
  },
  {
   "cell_type": "markdown",
   "metadata": {},
   "source": [
    "Аналогично как и по общей площади, на графике мы видим зависимость цены от жилой площади, особо явно она также выражена в квартирах, где жилая площадь до 200 кв.м.По ценам на квартиры с жилой площадью свыше 200 кв.м. корреляция становится не такой явной, так как типы объектов становятся нестандартными и на них могут влиять разные факторы."
   ]
  },
  {
   "cell_type": "markdown",
   "metadata": {},
   "source": [
    "*15.3 от площади кухни*"
   ]
  },
  {
   "cell_type": "code",
   "execution_count": 78,
   "metadata": {},
   "outputs": [
    {
     "data": {
      "image/png": "[encoded data removed]",
      "text/plain": [
       "<Figure size 432x288 with 1 Axes>"
      ]
     },
     "metadata": {
      "needs_background": "light"
     },
     "output_type": "display_data"
    }
   ],
   "source": [
    "data.pivot_table(index = 'kitchen_area', values = 'last_price', aggfunc = 'median')\\\n",
    "    .plot(style='o',xlim=(0,100), ylim = (0,150000))\n",
    "plt.show()"
   ]
  },
  {
   "cell_type": "markdown",
   "metadata": {},
   "source": [
    "Данные подтверждаются как и по предыдущим графикам зависимости цены от плоащади - в квартирах с кухней до 40 кв.м. мы видим сильную зависимость, все, что выше - становится нестандартным и зависимость снижается."
   ]
  },
  {
   "cell_type": "markdown",
   "metadata": {},
   "source": [
    "*15.4 от количества комнат*"
   ]
  },
  {
   "cell_type": "code",
   "execution_count": 79,
   "metadata": {},
   "outputs": [
    {
     "data": {
      "image/png": "[encoded data removed]",
      "text/plain": [
       "<Figure size 432x288 with 1 Axes>"
      ]
     },
     "metadata": {
      "needs_background": "light"
     },
     "output_type": "display_data"
    }
   ],
   "source": [
    "data.pivot_table(index = 'rooms', values = 'last_price', aggfunc = 'median')\\\n",
    "    .plot(kind='bar', style='o',xlim=(0,18), ylim=(0,100000))\n",
    "plt.show()"
   ]
  },
  {
   "cell_type": "markdown",
   "metadata": {},
   "source": [
    "Мы видим тенденцию, что зависимость есть, чем больше комнат, тем выше цена. При этом для квартир с комнатностью выше 6 - зависимоть уже не такая линейная. "
   ]
  },
  {
   "cell_type": "markdown",
   "metadata": {},
   "source": [
    "*15.5 от этажа*"
   ]
  },
  {
   "cell_type": "code",
   "execution_count": 80,
   "metadata": {},
   "outputs": [
    {
     "data": {
      "image/png": "[encoded data removed]",
      "text/plain": [
       "<Figure size 432x288 with 1 Axes>"
      ]
     },
     "metadata": {
      "needs_background": "light"
     },
     "output_type": "display_data"
    }
   ],
   "source": [
    "data.pivot_table(index = 'floor_category', values = 'last_price', aggfunc = 'median')\\\n",
    "    .plot(kind='bar', style='o-')\n",
    "plt.show()"
   ]
  },
  {
   "cell_type": "markdown",
   "metadata": {},
   "source": [
    "Сильной зависимости цены от этажа практически нет. Первый этаж в среднем будет самым дешевым, остальные подороже. "
   ]
  },
  {
   "cell_type": "markdown",
   "metadata": {},
   "source": [
    "*15.6 от даты размещения (день недели, месяц, год)*"
   ]
  },
  {
   "cell_type": "code",
   "execution_count": 81,
   "metadata": {},
   "outputs": [
    {
     "data": {
      "image/png": "[encoded data removed]",
      "text/plain": [
       "<Figure size 792x504 with 1 Axes>"
      ]
     },
     "metadata": {
      "needs_background": "light"
     },
     "output_type": "display_data"
    }
   ],
   "source": [
    "data.groupby('weekday_exposition')['last_price'].mean().plot(kind='bar', figsize=(11, 7), color='#73A9AD')\n",
    "\n",
    "plt.xticks(rotation=0)\n",
    "plt.title('Средняя цена квартиры в зависимости от дня недели', size=15)\n",
    "plt.xlabel('День недели', size=12)\n",
    "plt.ylabel('Средняя цена квартиры', size=12)\n",
    "\n",
    "plt.show()"
   ]
  },
  {
   "cell_type": "code",
   "execution_count": 82,
   "metadata": {},
   "outputs": [
    {
     "data": {
      "image/png": "[encoded data removed]",
      "text/plain": [
       "<Figure size 792x504 with 1 Axes>"
      ]
     },
     "metadata": {
      "needs_background": "light"
     },
     "output_type": "display_data"
    }
   ],
   "source": [
    "data.groupby('month_exposition')['last_price'].mean().plot(kind='bar', figsize=(11, 7), color='#73A9AD')\n",
    "\n",
    "plt.xticks(rotation=0)\n",
    "plt.title('Средняя цена квартиры в зависимости от месяца', size=15)\n",
    "plt.xlabel('Месяц', size=12)\n",
    "plt.ylabel('Средняя цена квартиры', size=12)\n",
    "\n",
    "plt.show()"
   ]
  },
  {
   "cell_type": "code",
   "execution_count": 83,
   "metadata": {},
   "outputs": [
    {
     "data": {
      "image/png": "[encoded data removed]",
      "text/plain": [
       "<Figure size 792x504 with 1 Axes>"
      ]
     },
     "metadata": {
      "needs_background": "light"
     },
     "output_type": "display_data"
    }
   ],
   "source": [
    "data.groupby('year_exposition')['last_price'].mean().plot(kind='bar', figsize=(11, 7), color='#73A9AD')\n",
    "\n",
    "plt.xticks(rotation=0)\n",
    "plt.title('Средняя цена квартиры в зависимости от года', size=15)\n",
    "plt.xlabel('Год', size=12)\n",
    "plt.ylabel('Средняя цена квартиры', size=12)\n",
    "\n",
    "plt.show()"
   ]
  },
  {
   "cell_type": "markdown",
   "metadata": {},
   "source": [
    "Существенной зависимости цены от дня недели и месяца не выявлено (есть небольшое снижение цен летом, что может быть связано с более низкой покупательской активностью), а вот зависимость от года выглядит существенной, что объяснимо: после кризиса в 2014 году, покупательская способность снизилась, соответственно, предложения на рынке скорректировались по цене."
   ]
  },
  {
   "cell_type": "markdown",
   "metadata": {},
   "source": [
    "**16. Средняя цена одного квадратного метра в 10 населённых пунктах с наибольшим числом объявлений.**"
   ]
  },
  {
   "cell_type": "code",
   "execution_count": 84,
   "metadata": {},
   "outputs": [
    {
     "data": {
      "text/html": [
       "<div>\n",
       "<style scoped>\n",
       "    .dataframe tbody tr th:only-of-type {\n",
       "        vertical-align: middle;\n",
       "    }\n",
       "\n",
       "    .dataframe tbody tr th {\n",
       "        vertical-align: top;\n",
       "    }\n",
       "\n",
       "    .dataframe thead th {\n",
       "        text-align: right;\n",
       "    }\n",
       "</style>\n",
       "<table border=\"1\" class=\"dataframe\">\n",
       "  <thead>\n",
       "    <tr style=\"text-align: right;\">\n",
       "      <th></th>\n",
       "      <th>Число объявлений</th>\n",
       "      <th>price_per_area</th>\n",
       "    </tr>\n",
       "    <tr>\n",
       "      <th>locality_name</th>\n",
       "      <th></th>\n",
       "      <th></th>\n",
       "    </tr>\n",
       "  </thead>\n",
       "  <tbody>\n",
       "    <tr>\n",
       "      <th>Санкт-Петербург</th>\n",
       "      <td>15625</td>\n",
       "      <td>114.303168</td>\n",
       "    </tr>\n",
       "    <tr>\n",
       "      <th>Мурино</th>\n",
       "      <td>584</td>\n",
       "      <td>85.541096</td>\n",
       "    </tr>\n",
       "    <tr>\n",
       "      <th>Кудрово</th>\n",
       "      <td>470</td>\n",
       "      <td>94.770213</td>\n",
       "    </tr>\n",
       "    <tr>\n",
       "      <th>Шушары</th>\n",
       "      <td>439</td>\n",
       "      <td>78.054670</td>\n",
       "    </tr>\n",
       "    <tr>\n",
       "      <th>Всеволожск</th>\n",
       "      <td>398</td>\n",
       "      <td>68.185930</td>\n",
       "    </tr>\n",
       "    <tr>\n",
       "      <th>Пушкин</th>\n",
       "      <td>369</td>\n",
       "      <td>102.658537</td>\n",
       "    </tr>\n",
       "    <tr>\n",
       "      <th>Колпино</th>\n",
       "      <td>338</td>\n",
       "      <td>74.955621</td>\n",
       "    </tr>\n",
       "    <tr>\n",
       "      <th>Парголово</th>\n",
       "      <td>327</td>\n",
       "      <td>89.737003</td>\n",
       "    </tr>\n",
       "    <tr>\n",
       "      <th>Гатчина</th>\n",
       "      <td>306</td>\n",
       "      <td>68.277778</td>\n",
       "    </tr>\n",
       "    <tr>\n",
       "      <th>Выборг</th>\n",
       "      <td>237</td>\n",
       "      <td>57.687764</td>\n",
       "    </tr>\n",
       "  </tbody>\n",
       "</table>\n",
       "</div>"
      ],
      "text/plain": [
       "                 Число объявлений  price_per_area\n",
       "locality_name                                    \n",
       "Санкт-Петербург             15625      114.303168\n",
       "Мурино                        584       85.541096\n",
       "Кудрово                       470       94.770213\n",
       "Шушары                        439       78.054670\n",
       "Всеволожск                    398       68.185930\n",
       "Пушкин                        369      102.658537\n",
       "Колпино                       338       74.955621\n",
       "Парголово                     327       89.737003\n",
       "Гатчина                       306       68.277778\n",
       "Выборг                        237       57.687764"
      ]
     },
     "execution_count": 84,
     "metadata": {},
     "output_type": "execute_result"
    }
   ],
   "source": [
    "data.groupby('locality_name').agg({'total_images':'count', 'price_per_area':'mean'})\\\n",
    "                    .rename(columns = {'total_images':'Число объявлений'})\\\n",
    "                    .sort_values(by='Число объявлений', ascending=False).head(10)"
   ]
  },
  {
   "cell_type": "markdown",
   "metadata": {},
   "source": [
    "Большая часть объявлений размещена в Санкт-Петербурге с максимальной средней ценой за кв.м. Цена за кв.м. в Пушкине не существенно ниже цены СПб, так как этот город находится очень близко к СПб и считается хорошим местом с большим количеством парков. Кудрово находится внутри КАД и там даже есть метро, что определяет его высокую цену, но наличие сложностей с автомобильной транспортной развязкой и отсутствие парков, делает его немного дешевле Пушкина. В остальных городах цена существенно ниже, в том числе по мере удаления города и его размеров. Самая низкая цена среди представленных населенных пунктов в Выборге."
   ]
  },
  {
   "cell_type": "markdown",
   "metadata": {},
   "source": [
    "**17. Cредняя цена каждого километра до центра СПб.**"
   ]
  },
  {
   "cell_type": "code",
   "execution_count": 85,
   "metadata": {
    "scrolled": true
   },
   "outputs": [
    {
     "data": {
      "text/html": [
       "<div>\n",
       "<style scoped>\n",
       "    .dataframe tbody tr th:only-of-type {\n",
       "        vertical-align: middle;\n",
       "    }\n",
       "\n",
       "    .dataframe tbody tr th {\n",
       "        vertical-align: top;\n",
       "    }\n",
       "\n",
       "    .dataframe thead th {\n",
       "        text-align: right;\n",
       "    }\n",
       "</style>\n",
       "<table border=\"1\" class=\"dataframe\">\n",
       "  <thead>\n",
       "    <tr style=\"text-align: right;\">\n",
       "      <th></th>\n",
       "      <th>price_per_area</th>\n",
       "    </tr>\n",
       "    <tr>\n",
       "      <th>city_centers_nearest_km</th>\n",
       "      <th></th>\n",
       "    </tr>\n",
       "  </thead>\n",
       "  <tbody>\n",
       "    <tr>\n",
       "      <th>0.0</th>\n",
       "      <td>172.0</td>\n",
       "    </tr>\n",
       "    <tr>\n",
       "      <th>1.0</th>\n",
       "      <td>128.0</td>\n",
       "    </tr>\n",
       "    <tr>\n",
       "      <th>2.0</th>\n",
       "      <td>122.5</td>\n",
       "    </tr>\n",
       "    <tr>\n",
       "      <th>3.0</th>\n",
       "      <td>108.0</td>\n",
       "    </tr>\n",
       "    <tr>\n",
       "      <th>4.0</th>\n",
       "      <td>118.0</td>\n",
       "    </tr>\n",
       "    <tr>\n",
       "      <th>5.0</th>\n",
       "      <td>126.0</td>\n",
       "    </tr>\n",
       "    <tr>\n",
       "      <th>6.0</th>\n",
       "      <td>131.0</td>\n",
       "    </tr>\n",
       "    <tr>\n",
       "      <th>7.0</th>\n",
       "      <td>126.0</td>\n",
       "    </tr>\n",
       "    <tr>\n",
       "      <th>8.0</th>\n",
       "      <td>122.0</td>\n",
       "    </tr>\n",
       "    <tr>\n",
       "      <th>9.0</th>\n",
       "      <td>105.0</td>\n",
       "    </tr>\n",
       "    <tr>\n",
       "      <th>10.0</th>\n",
       "      <td>106.0</td>\n",
       "    </tr>\n",
       "    <tr>\n",
       "      <th>11.0</th>\n",
       "      <td>103.0</td>\n",
       "    </tr>\n",
       "    <tr>\n",
       "      <th>12.0</th>\n",
       "      <td>103.0</td>\n",
       "    </tr>\n",
       "    <tr>\n",
       "      <th>13.0</th>\n",
       "      <td>104.0</td>\n",
       "    </tr>\n",
       "    <tr>\n",
       "      <th>14.0</th>\n",
       "      <td>101.0</td>\n",
       "    </tr>\n",
       "    <tr>\n",
       "      <th>15.0</th>\n",
       "      <td>101.0</td>\n",
       "    </tr>\n",
       "    <tr>\n",
       "      <th>16.0</th>\n",
       "      <td>97.0</td>\n",
       "    </tr>\n",
       "    <tr>\n",
       "      <th>17.0</th>\n",
       "      <td>94.0</td>\n",
       "    </tr>\n",
       "    <tr>\n",
       "      <th>18.0</th>\n",
       "      <td>95.0</td>\n",
       "    </tr>\n",
       "    <tr>\n",
       "      <th>19.0</th>\n",
       "      <td>96.5</td>\n",
       "    </tr>\n",
       "    <tr>\n",
       "      <th>20.0</th>\n",
       "      <td>104.0</td>\n",
       "    </tr>\n",
       "    <tr>\n",
       "      <th>21.0</th>\n",
       "      <td>89.0</td>\n",
       "    </tr>\n",
       "    <tr>\n",
       "      <th>22.0</th>\n",
       "      <td>88.0</td>\n",
       "    </tr>\n",
       "    <tr>\n",
       "      <th>23.0</th>\n",
       "      <td>89.0</td>\n",
       "    </tr>\n",
       "    <tr>\n",
       "      <th>24.0</th>\n",
       "      <td>86.0</td>\n",
       "    </tr>\n",
       "    <tr>\n",
       "      <th>25.0</th>\n",
       "      <td>93.0</td>\n",
       "    </tr>\n",
       "    <tr>\n",
       "      <th>26.0</th>\n",
       "      <td>87.0</td>\n",
       "    </tr>\n",
       "    <tr>\n",
       "      <th>27.0</th>\n",
       "      <td>131.5</td>\n",
       "    </tr>\n",
       "    <tr>\n",
       "      <th>28.0</th>\n",
       "      <td>79.0</td>\n",
       "    </tr>\n",
       "    <tr>\n",
       "      <th>29.0</th>\n",
       "      <td>75.5</td>\n",
       "    </tr>\n",
       "  </tbody>\n",
       "</table>\n",
       "</div>"
      ],
      "text/plain": [
       "                         price_per_area\n",
       "city_centers_nearest_km                \n",
       "0.0                               172.0\n",
       "1.0                               128.0\n",
       "2.0                               122.5\n",
       "3.0                               108.0\n",
       "4.0                               118.0\n",
       "5.0                               126.0\n",
       "6.0                               131.0\n",
       "7.0                               126.0\n",
       "8.0                               122.0\n",
       "9.0                               105.0\n",
       "10.0                              106.0\n",
       "11.0                              103.0\n",
       "12.0                              103.0\n",
       "13.0                              104.0\n",
       "14.0                              101.0\n",
       "15.0                              101.0\n",
       "16.0                               97.0\n",
       "17.0                               94.0\n",
       "18.0                               95.0\n",
       "19.0                               96.5\n",
       "20.0                              104.0\n",
       "21.0                               89.0\n",
       "22.0                               88.0\n",
       "23.0                               89.0\n",
       "24.0                               86.0\n",
       "25.0                               93.0\n",
       "26.0                               87.0\n",
       "27.0                              131.5\n",
       "28.0                               79.0\n",
       "29.0                               75.5"
      ]
     },
     "metadata": {},
     "output_type": "display_data"
    }
   ],
   "source": [
    "spb = data.query('locality_name==\"Санкт-Петербург\"').pivot_table(index='city_centers_nearest_km', values = 'price_per_area', aggfunc='median')\n",
    "display(spb)\n"
   ]
  },
  {
   "cell_type": "code",
   "execution_count": 86,
   "metadata": {},
   "outputs": [
    {
     "data": {
      "image/png": "[encoded data removed]",
      "text/plain": [
       "<Figure size 432x288 with 1 Axes>"
      ]
     },
     "metadata": {
      "needs_background": "light"
     },
     "output_type": "display_data"
    }
   ],
   "source": [
    "spb.plot(grid = True)\n",
    "plt.show()"
   ]
  },
  {
   "cell_type": "markdown",
   "metadata": {},
   "source": [
    "Данные отображают логичную тенденцию - чем дальше от центра, тем цена за квадратный метр ниже. \n",
    "\n",
    "Резкий скачок на 27 км может отображать элитные районы в пригороде Санкт-Петербурга такие как Сестрорецк, которые в таблице были отнесены к Санкт-Петербургу. \n",
    "\n",
    "Снижение средней цены на 3 км может отражать районы, которые близки к центру, но считаются дешевыми из-за своей слабой инфраструктуры (например, за набережной обводного канала). "
   ]
  },
  {
   "cell_type": "markdown",
   "metadata": {},
   "source": [
    "## Шаг 5. Общий вывод"
   ]
  },
  {
   "cell_type": "markdown",
   "metadata": {},
   "source": [
    "В рамках проекта были предоставлены данные из сервиса Яндекс.Недвижимость о продаже недвижимости за период с 2014 по 2019 год.\n",
    "\n",
    "*Общая информация о предоставленных данных:*\n",
    "1. Большая часть продаваемых квартир имеет площадь от 30 до 70 кв.м., комнатностью от 1 до 3. \n",
    "2. Высота потолков большей чаэтипроданных квартир составляет в среднем 2.7.м, что говорит о том, что они  не относятся к старому фонду Санкт-Петербурга.\n",
    "3. Средняя цена большей части продаваемых кватир назодится в пределах от 3,5 млн.руб. До 7 млн.руб.\n",
    "4. Самые популярные этажи для продажи - со 2 по 7, при этом цены на квартиры первого этажа были самыми низкими, но не существенно отличались от цен последнего этажа. \n",
    "5. Большая часть квартир расположена в радиусе до 15 км от цента, имеет аэропорт в пределах 40км, и парк в пределах 600м. \n",
    "6. Популярные дни размещения объявлений - будние дни. Касаемо сезонности - пик размещения приходится на февраль - апрель со снижением активности к лету и восстановлением ее к осени. В декабре количество объявлений снижается в связи со смещением фокуса у людей на новогодние праздники. \n",
    "7. Средняя скорость продажи квартиры - около 3 месяцев.\n",
    "\n",
    "\n",
    "*Были исследованы факторы, которые оказывают влияние на стоимость квартир, в результате чего получены следующие наблюдения:*\n",
    "\n",
    "1. Площадь квартиры (как и жилая/кухонная площадь соответственно) существенно влияет на ее стоимость, при этом чем больше площадь, тем эта зависимость становится менее явной, так как на нестандартные помещения по площади могут влиять ранее факторы (например, назначение помещения, наличие в этом помещении заключенных долгосрочных арендных контрактов, его местоположение и прочее).\n",
    "2. Зависимость цены от комнат также есть, но как и с площадью, чем более количество комнат, тем зависимость становится не такой существенной. \n",
    "3. Этаж влияет на стоимость квартиры преимущественно с точки зрения первого и последнего этажа - эти квартиры среднестатистически стоят дешевле, а все другие - дороже. \n",
    "4. Дни недели не оказывают заметного влияния на стоимость. Зависимость мы начинаем наблюдать от месяца размещения, но максимальное влияние оказывает год размещения: в 2014 году был серьезный кризис с последующим сильным снижением покупательской способности, в связи с чем видим негативную динамику стоимость недвижимости. \n",
    "5. Средняя цена квадратного метра выше всего в Санкт-Петербурге, в городах области цена заметно ниже. При этом внутри города чем ближе расстояние до центра, тем цена квадратного метра выше. Исключением является поправка на район, который является центром, но при этом из-за своих инфраструктурных характеристик не является ценным. "
   ]
  },
  {
   "cell_type": "code",
   "execution_count": null,
   "metadata": {},
   "outputs": [],
   "source": []
  }
 ],
 "metadata": {
  "ExecuteTimeLog": [
   {
    "duration": 484,
    "start_time": "2022-10-10T05:18:27.679Z"
   },
   {
    "duration": 94,
    "start_time": "2022-10-10T05:18:39.356Z"
   },
   {
    "duration": 102,
    "start_time": "2022-10-10T05:19:39.789Z"
   },
   {
    "duration": 107,
    "start_time": "2022-10-10T05:19:46.182Z"
   },
   {
    "duration": 195,
    "start_time": "2022-10-10T05:20:03.656Z"
   },
   {
    "duration": 97,
    "start_time": "2022-10-10T05:20:21.291Z"
   },
   {
    "duration": 91,
    "start_time": "2022-10-10T05:20:28.676Z"
   },
   {
    "duration": 126,
    "start_time": "2022-10-10T05:22:42.496Z"
   },
   {
    "duration": 2255,
    "start_time": "2022-10-10T05:23:17.033Z"
   },
   {
    "duration": 96,
    "start_time": "2022-10-10T05:23:47.640Z"
   },
   {
    "duration": 35,
    "start_time": "2022-10-10T05:23:56.930Z"
   },
   {
    "duration": 1895,
    "start_time": "2022-10-10T05:24:03.782Z"
   },
   {
    "duration": 79,
    "start_time": "2022-10-10T05:29:10.697Z"
   },
   {
    "duration": 15,
    "start_time": "2022-10-10T05:29:34.399Z"
   },
   {
    "duration": 13,
    "start_time": "2022-10-10T05:29:43.130Z"
   },
   {
    "duration": 38,
    "start_time": "2022-10-10T05:30:12.529Z"
   },
   {
    "duration": 1847,
    "start_time": "2022-10-10T05:31:15.985Z"
   },
   {
    "duration": 1722,
    "start_time": "2022-10-10T05:31:28.088Z"
   },
   {
    "duration": 1748,
    "start_time": "2022-10-10T05:31:52.193Z"
   },
   {
    "duration": 1774,
    "start_time": "2022-10-10T05:32:42.542Z"
   },
   {
    "duration": 1782,
    "start_time": "2022-10-10T05:33:24.046Z"
   },
   {
    "duration": 7,
    "start_time": "2022-10-10T05:50:09.589Z"
   },
   {
    "duration": 16,
    "start_time": "2022-10-10T05:50:13.552Z"
   },
   {
    "duration": 7,
    "start_time": "2022-10-10T05:50:20.795Z"
   },
   {
    "duration": 4,
    "start_time": "2022-10-10T05:53:02.393Z"
   },
   {
    "duration": 7,
    "start_time": "2022-10-10T05:53:11.245Z"
   },
   {
    "duration": 3,
    "start_time": "2022-10-10T05:54:19.959Z"
   },
   {
    "duration": 3,
    "start_time": "2022-10-10T05:54:38.325Z"
   },
   {
    "duration": 4,
    "start_time": "2022-10-10T05:54:42.302Z"
   },
   {
    "duration": 4,
    "start_time": "2022-10-10T05:57:33.549Z"
   },
   {
    "duration": 4,
    "start_time": "2022-10-10T05:57:38.211Z"
   },
   {
    "duration": 4,
    "start_time": "2022-10-10T05:57:49.161Z"
   },
   {
    "duration": 8,
    "start_time": "2022-10-10T06:01:12.327Z"
   },
   {
    "duration": 18,
    "start_time": "2022-10-10T06:01:26.241Z"
   },
   {
    "duration": 5,
    "start_time": "2022-10-10T06:01:41.549Z"
   },
   {
    "duration": 3,
    "start_time": "2022-10-10T06:02:03.100Z"
   },
   {
    "duration": 6,
    "start_time": "2022-10-10T06:05:12.666Z"
   },
   {
    "duration": 4,
    "start_time": "2022-10-10T06:13:17.999Z"
   },
   {
    "duration": 5,
    "start_time": "2022-10-10T06:13:29.621Z"
   },
   {
    "duration": 7,
    "start_time": "2022-10-10T06:14:01.101Z"
   },
   {
    "duration": 7,
    "start_time": "2022-10-10T06:14:33.171Z"
   },
   {
    "duration": 4,
    "start_time": "2022-10-10T06:17:08.462Z"
   },
   {
    "duration": 4,
    "start_time": "2022-10-10T06:17:17.122Z"
   },
   {
    "duration": 26,
    "start_time": "2022-10-10T06:19:01.571Z"
   },
   {
    "duration": 12,
    "start_time": "2022-10-10T06:19:15.874Z"
   },
   {
    "duration": 5,
    "start_time": "2022-10-10T06:19:55.217Z"
   },
   {
    "duration": 5,
    "start_time": "2022-10-10T06:19:58.305Z"
   },
   {
    "duration": 5,
    "start_time": "2022-10-10T06:20:05.018Z"
   },
   {
    "duration": 52,
    "start_time": "2022-10-10T06:22:12.428Z"
   },
   {
    "duration": 9,
    "start_time": "2022-10-10T06:22:23.860Z"
   },
   {
    "duration": 8,
    "start_time": "2022-10-10T06:22:42.212Z"
   },
   {
    "duration": 10,
    "start_time": "2022-10-10T06:23:50.508Z"
   },
   {
    "duration": 10,
    "start_time": "2022-10-10T06:24:25.829Z"
   },
   {
    "duration": 9,
    "start_time": "2022-10-10T06:24:31.520Z"
   },
   {
    "duration": 8,
    "start_time": "2022-10-10T06:26:47.545Z"
   },
   {
    "duration": 6,
    "start_time": "2022-10-10T06:32:31.312Z"
   },
   {
    "duration": 6,
    "start_time": "2022-10-10T06:32:53.635Z"
   },
   {
    "duration": 10,
    "start_time": "2022-10-10T06:33:29.960Z"
   },
   {
    "duration": 4,
    "start_time": "2022-10-10T06:34:12.000Z"
   },
   {
    "duration": 5,
    "start_time": "2022-10-10T06:34:14.717Z"
   },
   {
    "duration": 8,
    "start_time": "2022-10-10T06:35:02.327Z"
   },
   {
    "duration": 3,
    "start_time": "2022-10-10T06:38:13.713Z"
   },
   {
    "duration": 8,
    "start_time": "2022-10-10T06:38:32.232Z"
   },
   {
    "duration": 3,
    "start_time": "2022-10-10T06:38:48.904Z"
   },
   {
    "duration": 9,
    "start_time": "2022-10-10T06:38:57.268Z"
   },
   {
    "duration": 7,
    "start_time": "2022-10-10T06:40:22.310Z"
   },
   {
    "duration": 7,
    "start_time": "2022-10-10T06:40:39.885Z"
   },
   {
    "duration": 6,
    "start_time": "2022-10-10T07:03:36.166Z"
   },
   {
    "duration": 6,
    "start_time": "2022-10-10T07:03:47.979Z"
   },
   {
    "duration": 11,
    "start_time": "2022-10-10T07:04:13.801Z"
   },
   {
    "duration": 11,
    "start_time": "2022-10-10T07:04:50.534Z"
   },
   {
    "duration": 12,
    "start_time": "2022-10-10T07:04:58.066Z"
   },
   {
    "duration": 12,
    "start_time": "2022-10-10T07:05:03.171Z"
   },
   {
    "duration": 10,
    "start_time": "2022-10-10T07:08:18.722Z"
   },
   {
    "duration": 12,
    "start_time": "2022-10-10T07:08:23.671Z"
   },
   {
    "duration": 12,
    "start_time": "2022-10-10T07:09:07.402Z"
   },
   {
    "duration": 74,
    "start_time": "2022-10-10T07:11:35.873Z"
   },
   {
    "duration": 19,
    "start_time": "2022-10-10T07:11:47.476Z"
   },
   {
    "duration": 25,
    "start_time": "2022-10-10T07:11:55.540Z"
   },
   {
    "duration": 33,
    "start_time": "2022-10-10T07:12:04.714Z"
   },
   {
    "duration": 44,
    "start_time": "2022-10-10T07:12:29.599Z"
   },
   {
    "duration": 42,
    "start_time": "2022-10-10T07:12:37.263Z"
   },
   {
    "duration": 49,
    "start_time": "2022-10-10T07:12:41.730Z"
   },
   {
    "duration": 1475,
    "start_time": "2022-10-10T07:20:04.660Z"
   },
   {
    "duration": 57,
    "start_time": "2022-10-10T07:20:14.047Z"
   },
   {
    "duration": 11,
    "start_time": "2022-10-10T07:20:49.100Z"
   },
   {
    "duration": 7,
    "start_time": "2022-10-10T07:30:42.495Z"
   },
   {
    "duration": 40,
    "start_time": "2022-10-10T07:30:48.340Z"
   },
   {
    "duration": 62,
    "start_time": "2022-10-10T07:31:16.232Z"
   },
   {
    "duration": 40,
    "start_time": "2022-10-10T07:31:31.274Z"
   },
   {
    "duration": 30,
    "start_time": "2022-10-10T07:32:27.510Z"
   },
   {
    "duration": 33,
    "start_time": "2022-10-10T07:36:31.703Z"
   },
   {
    "duration": 11,
    "start_time": "2022-10-10T07:38:53.629Z"
   },
   {
    "duration": 22,
    "start_time": "2022-10-10T07:41:18.100Z"
   },
   {
    "duration": 23,
    "start_time": "2022-10-10T07:41:39.855Z"
   },
   {
    "duration": 44,
    "start_time": "2022-10-10T07:41:46.888Z"
   },
   {
    "duration": 8,
    "start_time": "2022-10-10T07:43:27.101Z"
   },
   {
    "duration": 39,
    "start_time": "2022-10-10T07:43:32.433Z"
   },
   {
    "duration": 61,
    "start_time": "2022-10-10T07:51:00.760Z"
   },
   {
    "duration": 53,
    "start_time": "2022-10-10T07:51:22.861Z"
   },
   {
    "duration": 73,
    "start_time": "2022-10-10T07:52:21.771Z"
   },
   {
    "duration": 68,
    "start_time": "2022-10-10T07:53:00.649Z"
   },
   {
    "duration": 6,
    "start_time": "2022-10-10T07:53:07.301Z"
   },
   {
    "duration": 7,
    "start_time": "2022-10-10T07:53:18.177Z"
   },
   {
    "duration": 14,
    "start_time": "2022-10-10T07:53:46.909Z"
   },
   {
    "duration": 14,
    "start_time": "2022-10-10T07:54:11.852Z"
   },
   {
    "duration": 15,
    "start_time": "2022-10-10T07:54:20.333Z"
   },
   {
    "duration": 16,
    "start_time": "2022-10-10T07:54:28.918Z"
   },
   {
    "duration": 81,
    "start_time": "2022-10-10T07:58:27.692Z"
   },
   {
    "duration": 13,
    "start_time": "2022-10-10T07:58:28.844Z"
   },
   {
    "duration": 33,
    "start_time": "2022-10-10T07:58:30.919Z"
   },
   {
    "duration": 1644,
    "start_time": "2022-10-10T07:58:32.756Z"
   },
   {
    "duration": 7,
    "start_time": "2022-10-10T07:58:38.556Z"
   },
   {
    "duration": 5,
    "start_time": "2022-10-10T07:59:02.407Z"
   },
   {
    "duration": 6,
    "start_time": "2022-10-10T07:59:06.799Z"
   },
   {
    "duration": 8,
    "start_time": "2022-10-10T07:59:09.940Z"
   },
   {
    "duration": 5,
    "start_time": "2022-10-10T07:59:13.077Z"
   },
   {
    "duration": 5,
    "start_time": "2022-10-10T07:59:15.024Z"
   },
   {
    "duration": 7,
    "start_time": "2022-10-10T07:59:19.524Z"
   },
   {
    "duration": 18,
    "start_time": "2022-10-10T07:59:48.319Z"
   },
   {
    "duration": 36,
    "start_time": "2022-10-10T08:00:24.998Z"
   },
   {
    "duration": 25,
    "start_time": "2022-10-10T08:00:54.292Z"
   },
   {
    "duration": 28,
    "start_time": "2022-10-10T08:00:56.716Z"
   },
   {
    "duration": 227,
    "start_time": "2022-10-10T08:05:14.838Z"
   },
   {
    "duration": 31,
    "start_time": "2022-10-10T08:05:33.054Z"
   },
   {
    "duration": 36,
    "start_time": "2022-10-10T08:05:48.801Z"
   },
   {
    "duration": 26,
    "start_time": "2022-10-10T08:06:33.429Z"
   },
   {
    "duration": 38,
    "start_time": "2022-10-10T08:06:38.931Z"
   },
   {
    "duration": 38,
    "start_time": "2022-10-10T08:06:48.176Z"
   },
   {
    "duration": 25,
    "start_time": "2022-10-10T08:10:50.697Z"
   },
   {
    "duration": 28,
    "start_time": "2022-10-10T08:11:33.166Z"
   },
   {
    "duration": 24,
    "start_time": "2022-10-10T08:11:38.526Z"
   },
   {
    "duration": 25,
    "start_time": "2022-10-10T08:12:25.692Z"
   },
   {
    "duration": 24,
    "start_time": "2022-10-10T08:12:27.940Z"
   },
   {
    "duration": 25,
    "start_time": "2022-10-10T08:12:30.821Z"
   },
   {
    "duration": 8,
    "start_time": "2022-10-10T08:17:29.005Z"
   },
   {
    "duration": 3,
    "start_time": "2022-10-10T08:17:43.109Z"
   },
   {
    "duration": 6,
    "start_time": "2022-10-10T08:17:47.804Z"
   },
   {
    "duration": 6,
    "start_time": "2022-10-10T08:17:57.700Z"
   },
   {
    "duration": 6,
    "start_time": "2022-10-10T08:18:01.221Z"
   },
   {
    "duration": 6,
    "start_time": "2022-10-10T08:18:03.758Z"
   },
   {
    "duration": 5,
    "start_time": "2022-10-10T08:18:06.283Z"
   },
   {
    "duration": 5,
    "start_time": "2022-10-10T08:18:09.363Z"
   },
   {
    "duration": 5,
    "start_time": "2022-10-10T08:18:12.613Z"
   },
   {
    "duration": 5,
    "start_time": "2022-10-10T08:18:15.829Z"
   },
   {
    "duration": 24,
    "start_time": "2022-10-10T08:18:35.400Z"
   },
   {
    "duration": 88,
    "start_time": "2022-10-10T08:19:25.116Z"
   },
   {
    "duration": 7,
    "start_time": "2022-10-10T08:19:33.226Z"
   },
   {
    "duration": 28,
    "start_time": "2022-10-10T08:19:40.246Z"
   },
   {
    "duration": 28,
    "start_time": "2022-10-10T08:19:44.662Z"
   },
   {
    "duration": 444,
    "start_time": "2022-10-10T08:21:26.935Z"
   },
   {
    "duration": 15,
    "start_time": "2022-10-10T08:21:27.381Z"
   },
   {
    "duration": 46,
    "start_time": "2022-10-10T08:21:27.398Z"
   },
   {
    "duration": 1990,
    "start_time": "2022-10-10T08:21:27.446Z"
   },
   {
    "duration": 7,
    "start_time": "2022-10-10T08:21:29.438Z"
   },
   {
    "duration": 20,
    "start_time": "2022-10-10T08:21:29.447Z"
   },
   {
    "duration": 25,
    "start_time": "2022-10-10T08:21:29.468Z"
   },
   {
    "duration": 16,
    "start_time": "2022-10-10T08:21:29.495Z"
   },
   {
    "duration": 5,
    "start_time": "2022-10-10T08:21:29.513Z"
   },
   {
    "duration": 18,
    "start_time": "2022-10-10T08:21:29.519Z"
   },
   {
    "duration": 30,
    "start_time": "2022-10-10T08:21:29.539Z"
   },
   {
    "duration": 32,
    "start_time": "2022-10-10T08:21:29.571Z"
   },
   {
    "duration": 25,
    "start_time": "2022-10-10T08:21:29.604Z"
   },
   {
    "duration": 7,
    "start_time": "2022-10-10T08:22:57.407Z"
   },
   {
    "duration": 10,
    "start_time": "2022-10-10T08:23:57.889Z"
   },
   {
    "duration": 8,
    "start_time": "2022-10-10T08:24:05.894Z"
   },
   {
    "duration": 67,
    "start_time": "2022-10-10T08:24:28.274Z"
   },
   {
    "duration": 9,
    "start_time": "2022-10-10T08:25:16.068Z"
   },
   {
    "duration": 3,
    "start_time": "2022-10-10T08:25:25.193Z"
   },
   {
    "duration": 7,
    "start_time": "2022-10-10T08:25:26.962Z"
   },
   {
    "duration": 463,
    "start_time": "2022-10-10T08:25:38.779Z"
   },
   {
    "duration": 14,
    "start_time": "2022-10-10T08:25:39.244Z"
   },
   {
    "duration": 37,
    "start_time": "2022-10-10T08:25:39.259Z"
   },
   {
    "duration": 2034,
    "start_time": "2022-10-10T08:25:39.298Z"
   },
   {
    "duration": 8,
    "start_time": "2022-10-10T08:25:41.334Z"
   },
   {
    "duration": 4,
    "start_time": "2022-10-10T08:25:41.343Z"
   },
   {
    "duration": 15,
    "start_time": "2022-10-10T08:25:41.348Z"
   },
   {
    "duration": 12,
    "start_time": "2022-10-10T08:25:41.365Z"
   },
   {
    "duration": 6,
    "start_time": "2022-10-10T08:25:41.379Z"
   },
   {
    "duration": 13,
    "start_time": "2022-10-10T08:25:41.388Z"
   },
   {
    "duration": 8,
    "start_time": "2022-10-10T08:25:41.403Z"
   },
   {
    "duration": 25,
    "start_time": "2022-10-10T08:25:41.421Z"
   },
   {
    "duration": 2,
    "start_time": "2022-10-10T08:25:41.448Z"
   },
   {
    "duration": 11,
    "start_time": "2022-10-10T08:25:41.452Z"
   },
   {
    "duration": 26,
    "start_time": "2022-10-10T08:25:54.874Z"
   },
   {
    "duration": 7,
    "start_time": "2022-10-10T08:25:57.811Z"
   },
   {
    "duration": 5,
    "start_time": "2022-10-10T08:36:18.819Z"
   },
   {
    "duration": 6,
    "start_time": "2022-10-10T08:36:21.898Z"
   },
   {
    "duration": 5,
    "start_time": "2022-10-10T08:38:58.270Z"
   },
   {
    "duration": 20,
    "start_time": "2022-10-10T08:39:27.744Z"
   },
   {
    "duration": 36,
    "start_time": "2022-10-10T08:39:34.894Z"
   },
   {
    "duration": 10,
    "start_time": "2022-10-10T08:39:51.823Z"
   },
   {
    "duration": 9,
    "start_time": "2022-10-10T08:40:06.335Z"
   },
   {
    "duration": 46,
    "start_time": "2022-10-10T08:40:11.608Z"
   },
   {
    "duration": 170,
    "start_time": "2022-10-10T08:40:36.117Z"
   },
   {
    "duration": 82,
    "start_time": "2022-10-10T08:40:38.495Z"
   },
   {
    "duration": 7,
    "start_time": "2022-10-10T08:40:51.205Z"
   },
   {
    "duration": 8,
    "start_time": "2022-10-10T08:41:40.479Z"
   },
   {
    "duration": 7,
    "start_time": "2022-10-10T08:41:42.247Z"
   },
   {
    "duration": 6,
    "start_time": "2022-10-10T08:57:23.069Z"
   },
   {
    "duration": 3,
    "start_time": "2022-10-10T08:58:19.314Z"
   },
   {
    "duration": 3,
    "start_time": "2022-10-10T08:58:21.084Z"
   },
   {
    "duration": 8,
    "start_time": "2022-10-10T09:03:41.175Z"
   },
   {
    "duration": 1033,
    "start_time": "2022-10-10T09:03:46.936Z"
   },
   {
    "duration": 908,
    "start_time": "2022-10-10T09:04:13.070Z"
   },
   {
    "duration": 590,
    "start_time": "2022-10-10T09:04:23.587Z"
   },
   {
    "duration": 593,
    "start_time": "2022-10-10T09:04:32.471Z"
   },
   {
    "duration": 660,
    "start_time": "2022-10-10T09:04:49.628Z"
   },
   {
    "duration": 586,
    "start_time": "2022-10-10T09:06:28.151Z"
   },
   {
    "duration": 547,
    "start_time": "2022-10-10T09:06:43.078Z"
   },
   {
    "duration": 719,
    "start_time": "2022-10-10T09:06:57.069Z"
   },
   {
    "duration": 657,
    "start_time": "2022-10-10T09:07:15.071Z"
   },
   {
    "duration": 6,
    "start_time": "2022-10-10T09:08:49.143Z"
   },
   {
    "duration": 11,
    "start_time": "2022-10-10T09:11:52.594Z"
   },
   {
    "duration": 10,
    "start_time": "2022-10-10T09:14:20.244Z"
   },
   {
    "duration": 10,
    "start_time": "2022-10-10T09:14:23.661Z"
   },
   {
    "duration": 19,
    "start_time": "2022-10-10T09:14:44.412Z"
   },
   {
    "duration": 96,
    "start_time": "2022-10-10T09:15:03.246Z"
   },
   {
    "duration": 961,
    "start_time": "2022-10-10T09:21:00.200Z"
   },
   {
    "duration": 162,
    "start_time": "2022-10-10T09:21:37.297Z"
   },
   {
    "duration": 1117,
    "start_time": "2022-10-10T09:21:41.408Z"
   },
   {
    "duration": 10,
    "start_time": "2022-10-10T09:22:55.726Z"
   },
   {
    "duration": 16,
    "start_time": "2022-10-10T09:23:03.151Z"
   },
   {
    "duration": 21,
    "start_time": "2022-10-10T09:23:24.739Z"
   },
   {
    "duration": 650,
    "start_time": "2022-10-10T09:24:58.848Z"
   },
   {
    "duration": 7,
    "start_time": "2022-10-10T09:25:11.080Z"
   },
   {
    "duration": 8,
    "start_time": "2022-10-10T09:25:42.357Z"
   },
   {
    "duration": 639,
    "start_time": "2022-10-10T09:25:43.873Z"
   },
   {
    "duration": 6,
    "start_time": "2022-10-10T09:25:46.522Z"
   },
   {
    "duration": 13,
    "start_time": "2022-10-10T09:29:45.960Z"
   },
   {
    "duration": 18,
    "start_time": "2022-10-10T09:30:24.907Z"
   },
   {
    "duration": 22,
    "start_time": "2022-10-10T09:30:32.722Z"
   },
   {
    "duration": 683,
    "start_time": "2022-10-10T09:31:44.421Z"
   },
   {
    "duration": 687,
    "start_time": "2022-10-10T09:31:57.676Z"
   },
   {
    "duration": 675,
    "start_time": "2022-10-10T09:37:51.534Z"
   },
   {
    "duration": 6,
    "start_time": "2022-10-10T09:37:56.240Z"
   },
   {
    "duration": 6,
    "start_time": "2022-10-10T09:39:00.737Z"
   },
   {
    "duration": 4,
    "start_time": "2022-10-10T09:39:04.798Z"
   },
   {
    "duration": 9,
    "start_time": "2022-10-10T09:40:39.208Z"
   },
   {
    "duration": 13,
    "start_time": "2022-10-10T09:40:50.898Z"
   },
   {
    "duration": 11,
    "start_time": "2022-10-10T09:40:53.906Z"
   },
   {
    "duration": 13,
    "start_time": "2022-10-10T09:41:00.691Z"
   },
   {
    "duration": 13,
    "start_time": "2022-10-10T09:41:20.394Z"
   },
   {
    "duration": 689,
    "start_time": "2022-10-10T09:41:43.139Z"
   },
   {
    "duration": 677,
    "start_time": "2022-10-10T09:42:39.542Z"
   },
   {
    "duration": 672,
    "start_time": "2022-10-10T09:42:59.240Z"
   },
   {
    "duration": 6,
    "start_time": "2022-10-10T09:58:44.469Z"
   },
   {
    "duration": 8,
    "start_time": "2022-10-10T10:01:39.357Z"
   },
   {
    "duration": 9,
    "start_time": "2022-10-10T10:01:49.493Z"
   },
   {
    "duration": 24,
    "start_time": "2022-10-10T10:09:50.855Z"
   },
   {
    "duration": 24,
    "start_time": "2022-10-10T10:10:22.198Z"
   },
   {
    "duration": 26,
    "start_time": "2022-10-10T10:11:13.352Z"
   },
   {
    "duration": 3,
    "start_time": "2022-10-10T10:11:59.126Z"
   },
   {
    "duration": 41,
    "start_time": "2022-10-10T10:12:02.369Z"
   },
   {
    "duration": 36,
    "start_time": "2022-10-10T10:12:07.996Z"
   },
   {
    "duration": 31,
    "start_time": "2022-10-10T10:12:18.025Z"
   },
   {
    "duration": 29,
    "start_time": "2022-10-10T10:13:11.519Z"
   },
   {
    "duration": 42,
    "start_time": "2022-10-10T10:39:47.833Z"
   },
   {
    "duration": 36,
    "start_time": "2022-10-10T10:39:53.567Z"
   },
   {
    "duration": 26,
    "start_time": "2022-10-10T10:44:23.329Z"
   },
   {
    "duration": 49,
    "start_time": "2022-10-10T10:45:37.556Z"
   },
   {
    "duration": 57,
    "start_time": "2022-10-10T10:46:00.122Z"
   },
   {
    "duration": 55,
    "start_time": "2022-10-10T10:46:10.593Z"
   },
   {
    "duration": 51,
    "start_time": "2022-10-10T10:49:16.009Z"
   },
   {
    "duration": 5,
    "start_time": "2022-10-10T11:05:33.906Z"
   },
   {
    "duration": 1201,
    "start_time": "2022-10-10T11:09:04.602Z"
   },
   {
    "duration": 5,
    "start_time": "2022-10-10T11:10:56.916Z"
   },
   {
    "duration": 7,
    "start_time": "2022-10-10T11:11:05.112Z"
   },
   {
    "duration": 4,
    "start_time": "2022-10-10T11:11:33.215Z"
   },
   {
    "duration": 14,
    "start_time": "2022-10-10T11:19:23.161Z"
   },
   {
    "duration": 5,
    "start_time": "2022-10-10T11:19:40.977Z"
   },
   {
    "duration": 0,
    "start_time": "2022-10-10T11:20:15.790Z"
   },
   {
    "duration": 506,
    "start_time": "2022-10-10T11:20:21.404Z"
   },
   {
    "duration": 19,
    "start_time": "2022-10-10T11:20:21.912Z"
   },
   {
    "duration": 46,
    "start_time": "2022-10-10T11:20:21.934Z"
   },
   {
    "duration": 2103,
    "start_time": "2022-10-10T11:20:21.981Z"
   },
   {
    "duration": 8,
    "start_time": "2022-10-10T11:20:24.086Z"
   },
   {
    "duration": 12,
    "start_time": "2022-10-10T11:20:24.096Z"
   },
   {
    "duration": 14,
    "start_time": "2022-10-10T11:20:24.110Z"
   },
   {
    "duration": 10,
    "start_time": "2022-10-10T11:20:24.126Z"
   },
   {
    "duration": 7,
    "start_time": "2022-10-10T11:20:24.139Z"
   },
   {
    "duration": 10,
    "start_time": "2022-10-10T11:20:24.148Z"
   },
   {
    "duration": 12,
    "start_time": "2022-10-10T11:20:24.160Z"
   },
   {
    "duration": 28,
    "start_time": "2022-10-10T11:20:24.174Z"
   },
   {
    "duration": 42,
    "start_time": "2022-10-10T11:20:24.204Z"
   },
   {
    "duration": 4,
    "start_time": "2022-10-10T11:20:24.248Z"
   },
   {
    "duration": 12,
    "start_time": "2022-10-10T11:20:24.254Z"
   },
   {
    "duration": 11,
    "start_time": "2022-10-10T11:20:24.268Z"
   },
   {
    "duration": 17,
    "start_time": "2022-10-10T11:20:24.280Z"
   },
   {
    "duration": 60,
    "start_time": "2022-10-10T11:20:24.299Z"
   },
   {
    "duration": 0,
    "start_time": "2022-10-10T11:20:27.151Z"
   },
   {
    "duration": 8,
    "start_time": "2022-10-10T11:20:37.071Z"
   },
   {
    "duration": 8,
    "start_time": "2022-10-10T11:21:05.935Z"
   },
   {
    "duration": 4,
    "start_time": "2022-10-10T11:54:57.371Z"
   },
   {
    "duration": 15,
    "start_time": "2022-10-10T11:55:11.700Z"
   },
   {
    "duration": 5,
    "start_time": "2022-10-10T11:56:32.049Z"
   },
   {
    "duration": 5,
    "start_time": "2022-10-10T11:58:08.438Z"
   },
   {
    "duration": 13,
    "start_time": "2022-10-10T11:58:16.348Z"
   },
   {
    "duration": 4,
    "start_time": "2022-10-10T11:59:16.756Z"
   },
   {
    "duration": 15,
    "start_time": "2022-10-10T12:00:51.339Z"
   },
   {
    "duration": 4,
    "start_time": "2022-10-10T12:01:31.738Z"
   },
   {
    "duration": 52,
    "start_time": "2022-10-10T12:01:52.949Z"
   },
   {
    "duration": 6,
    "start_time": "2022-10-10T12:05:57.804Z"
   },
   {
    "duration": 24,
    "start_time": "2022-10-10T12:07:59.664Z"
   },
   {
    "duration": 8,
    "start_time": "2022-10-10T12:09:29.661Z"
   },
   {
    "duration": 7,
    "start_time": "2022-10-10T12:09:39.311Z"
   },
   {
    "duration": 11,
    "start_time": "2022-10-10T12:09:57.234Z"
   },
   {
    "duration": 7,
    "start_time": "2022-10-10T12:10:12.897Z"
   },
   {
    "duration": 34,
    "start_time": "2022-10-10T12:10:26.901Z"
   },
   {
    "duration": 72,
    "start_time": "2022-10-10T12:10:32.695Z"
   },
   {
    "duration": 42,
    "start_time": "2022-10-10T12:11:15.543Z"
   },
   {
    "duration": 17,
    "start_time": "2022-10-10T12:11:26.847Z"
   },
   {
    "duration": 114,
    "start_time": "2022-10-10T12:11:36.987Z"
   },
   {
    "duration": 15,
    "start_time": "2022-10-10T12:11:40.987Z"
   },
   {
    "duration": 491,
    "start_time": "2022-10-10T12:11:57.567Z"
   },
   {
    "duration": 15,
    "start_time": "2022-10-10T12:11:58.060Z"
   },
   {
    "duration": 61,
    "start_time": "2022-10-10T12:11:58.077Z"
   },
   {
    "duration": 2380,
    "start_time": "2022-10-10T12:11:58.140Z"
   },
   {
    "duration": 11,
    "start_time": "2022-10-10T12:12:00.523Z"
   },
   {
    "duration": 58,
    "start_time": "2022-10-10T12:12:00.537Z"
   },
   {
    "duration": 56,
    "start_time": "2022-10-10T12:12:00.597Z"
   },
   {
    "duration": 112,
    "start_time": "2022-10-10T12:12:00.656Z"
   },
   {
    "duration": 47,
    "start_time": "2022-10-10T12:12:00.770Z"
   },
   {
    "duration": 51,
    "start_time": "2022-10-10T12:12:00.820Z"
   },
   {
    "duration": 56,
    "start_time": "2022-10-10T12:12:00.873Z"
   },
   {
    "duration": 72,
    "start_time": "2022-10-10T12:12:00.931Z"
   },
   {
    "duration": 42,
    "start_time": "2022-10-10T12:12:01.005Z"
   },
   {
    "duration": 28,
    "start_time": "2022-10-10T12:12:01.049Z"
   },
   {
    "duration": 69,
    "start_time": "2022-10-10T12:12:01.078Z"
   },
   {
    "duration": 73,
    "start_time": "2022-10-10T12:12:01.149Z"
   },
   {
    "duration": 77,
    "start_time": "2022-10-10T12:12:01.225Z"
   },
   {
    "duration": 49,
    "start_time": "2022-10-10T12:12:01.303Z"
   },
   {
    "duration": 31,
    "start_time": "2022-10-10T12:12:01.353Z"
   },
   {
    "duration": 127,
    "start_time": "2022-10-10T12:12:01.385Z"
   },
   {
    "duration": 51,
    "start_time": "2022-10-10T12:12:01.514Z"
   },
   {
    "duration": 4,
    "start_time": "2022-10-10T12:12:39.287Z"
   },
   {
    "duration": 57,
    "start_time": "2022-10-10T12:12:40.764Z"
   },
   {
    "duration": 44,
    "start_time": "2022-10-10T12:12:42.711Z"
   },
   {
    "duration": 41,
    "start_time": "2022-10-10T12:12:46.149Z"
   },
   {
    "duration": 495,
    "start_time": "2022-10-10T12:13:09.386Z"
   },
   {
    "duration": 15,
    "start_time": "2022-10-10T12:13:09.883Z"
   },
   {
    "duration": 55,
    "start_time": "2022-10-10T12:13:09.900Z"
   },
   {
    "duration": 2080,
    "start_time": "2022-10-10T12:13:09.956Z"
   },
   {
    "duration": 9,
    "start_time": "2022-10-10T12:13:12.038Z"
   },
   {
    "duration": 22,
    "start_time": "2022-10-10T12:13:12.048Z"
   },
   {
    "duration": 29,
    "start_time": "2022-10-10T12:13:12.072Z"
   },
   {
    "duration": 13,
    "start_time": "2022-10-10T12:13:12.103Z"
   },
   {
    "duration": 25,
    "start_time": "2022-10-10T12:13:12.118Z"
   },
   {
    "duration": 24,
    "start_time": "2022-10-10T12:13:12.145Z"
   },
   {
    "duration": 18,
    "start_time": "2022-10-10T12:13:12.171Z"
   },
   {
    "duration": 49,
    "start_time": "2022-10-10T12:13:12.191Z"
   },
   {
    "duration": 26,
    "start_time": "2022-10-10T12:13:12.241Z"
   },
   {
    "duration": 4,
    "start_time": "2022-10-10T12:13:12.270Z"
   },
   {
    "duration": 26,
    "start_time": "2022-10-10T12:13:12.275Z"
   },
   {
    "duration": 25,
    "start_time": "2022-10-10T12:13:12.302Z"
   },
   {
    "duration": 45,
    "start_time": "2022-10-10T12:13:12.328Z"
   },
   {
    "duration": 17,
    "start_time": "2022-10-10T12:13:12.374Z"
   },
   {
    "duration": 88,
    "start_time": "2022-10-10T12:13:12.392Z"
   },
   {
    "duration": 45,
    "start_time": "2022-10-10T12:13:12.482Z"
   },
   {
    "duration": 7,
    "start_time": "2022-10-10T12:14:01.758Z"
   },
   {
    "duration": 66,
    "start_time": "2022-10-10T12:16:42.849Z"
   },
   {
    "duration": 6,
    "start_time": "2022-10-10T12:16:53.471Z"
   },
   {
    "duration": 24,
    "start_time": "2022-10-10T12:17:36.216Z"
   },
   {
    "duration": 203,
    "start_time": "2022-10-10T12:18:26.495Z"
   },
   {
    "duration": 12,
    "start_time": "2022-10-10T12:18:31.645Z"
   },
   {
    "duration": 11,
    "start_time": "2022-10-10T12:18:46.933Z"
   },
   {
    "duration": 88,
    "start_time": "2022-10-10T12:19:08.813Z"
   },
   {
    "duration": 44,
    "start_time": "2022-10-10T12:19:15.096Z"
   },
   {
    "duration": 8,
    "start_time": "2022-10-10T12:19:35.753Z"
   },
   {
    "duration": 5,
    "start_time": "2022-10-10T12:19:45.067Z"
   },
   {
    "duration": 6,
    "start_time": "2022-10-10T12:20:24.183Z"
   },
   {
    "duration": 5,
    "start_time": "2022-10-10T12:20:29.430Z"
   },
   {
    "duration": 7,
    "start_time": "2022-10-10T12:22:49.795Z"
   },
   {
    "duration": 97,
    "start_time": "2022-10-10T12:24:41.125Z"
   },
   {
    "duration": 177,
    "start_time": "2022-10-10T12:25:08.709Z"
   },
   {
    "duration": 489,
    "start_time": "2022-10-10T12:26:58.788Z"
   },
   {
    "duration": 14,
    "start_time": "2022-10-10T12:26:59.279Z"
   },
   {
    "duration": 60,
    "start_time": "2022-10-10T12:26:59.295Z"
   },
   {
    "duration": 2119,
    "start_time": "2022-10-10T12:26:59.357Z"
   },
   {
    "duration": 8,
    "start_time": "2022-10-10T12:27:01.478Z"
   },
   {
    "duration": 60,
    "start_time": "2022-10-10T12:27:01.488Z"
   },
   {
    "duration": 48,
    "start_time": "2022-10-10T12:27:01.550Z"
   },
   {
    "duration": 30,
    "start_time": "2022-10-10T12:27:01.600Z"
   },
   {
    "duration": 23,
    "start_time": "2022-10-10T12:27:01.632Z"
   },
   {
    "duration": 29,
    "start_time": "2022-10-10T12:27:01.656Z"
   },
   {
    "duration": 38,
    "start_time": "2022-10-10T12:27:01.687Z"
   },
   {
    "duration": 51,
    "start_time": "2022-10-10T12:27:01.726Z"
   },
   {
    "duration": 35,
    "start_time": "2022-10-10T12:27:01.779Z"
   },
   {
    "duration": 7,
    "start_time": "2022-10-10T12:27:01.817Z"
   },
   {
    "duration": 36,
    "start_time": "2022-10-10T12:27:01.825Z"
   },
   {
    "duration": 29,
    "start_time": "2022-10-10T12:27:01.863Z"
   },
   {
    "duration": 29,
    "start_time": "2022-10-10T12:27:01.894Z"
   },
   {
    "duration": 29,
    "start_time": "2022-10-10T12:27:01.924Z"
   },
   {
    "duration": 89,
    "start_time": "2022-10-10T12:27:01.954Z"
   },
   {
    "duration": 16,
    "start_time": "2022-10-10T12:27:02.044Z"
   },
   {
    "duration": 93,
    "start_time": "2022-10-10T12:27:10.667Z"
   },
   {
    "duration": 449,
    "start_time": "2022-10-10T12:27:48.645Z"
   },
   {
    "duration": 15,
    "start_time": "2022-10-10T12:27:49.096Z"
   },
   {
    "duration": 43,
    "start_time": "2022-10-10T12:27:49.112Z"
   },
   {
    "duration": 2031,
    "start_time": "2022-10-10T12:27:49.157Z"
   },
   {
    "duration": 7,
    "start_time": "2022-10-10T12:27:51.190Z"
   },
   {
    "duration": 3,
    "start_time": "2022-10-10T12:27:51.199Z"
   },
   {
    "duration": 9,
    "start_time": "2022-10-10T12:27:51.203Z"
   },
   {
    "duration": 10,
    "start_time": "2022-10-10T12:27:51.213Z"
   },
   {
    "duration": 6,
    "start_time": "2022-10-10T12:27:51.224Z"
   },
   {
    "duration": 7,
    "start_time": "2022-10-10T12:27:51.231Z"
   },
   {
    "duration": 7,
    "start_time": "2022-10-10T12:27:51.239Z"
   },
   {
    "duration": 29,
    "start_time": "2022-10-10T12:27:51.248Z"
   },
   {
    "duration": 25,
    "start_time": "2022-10-10T12:27:51.279Z"
   },
   {
    "duration": 4,
    "start_time": "2022-10-10T12:27:51.321Z"
   },
   {
    "duration": 12,
    "start_time": "2022-10-10T12:27:51.326Z"
   },
   {
    "duration": 10,
    "start_time": "2022-10-10T12:27:51.339Z"
   },
   {
    "duration": 15,
    "start_time": "2022-10-10T12:27:51.350Z"
   },
   {
    "duration": 9,
    "start_time": "2022-10-10T12:27:51.367Z"
   },
   {
    "duration": 101,
    "start_time": "2022-10-10T12:27:51.378Z"
   },
   {
    "duration": 141,
    "start_time": "2022-10-10T12:27:51.481Z"
   },
   {
    "duration": 66,
    "start_time": "2022-10-10T12:28:16.266Z"
   },
   {
    "duration": 128,
    "start_time": "2022-10-10T12:28:24.340Z"
   },
   {
    "duration": 126,
    "start_time": "2022-10-10T12:28:42.165Z"
   },
   {
    "duration": 136,
    "start_time": "2022-10-10T12:28:57.432Z"
   },
   {
    "duration": 138,
    "start_time": "2022-10-10T12:29:05.622Z"
   },
   {
    "duration": 120,
    "start_time": "2022-10-10T12:29:13.397Z"
   },
   {
    "duration": 201,
    "start_time": "2022-10-10T12:29:35.375Z"
   },
   {
    "duration": 127,
    "start_time": "2022-10-10T12:29:49.216Z"
   },
   {
    "duration": 147,
    "start_time": "2022-10-10T12:29:53.279Z"
   },
   {
    "duration": 87,
    "start_time": "2022-10-10T12:32:04.511Z"
   },
   {
    "duration": 170,
    "start_time": "2022-10-10T13:14:43.103Z"
   },
   {
    "duration": 143,
    "start_time": "2022-10-10T13:14:47.380Z"
   },
   {
    "duration": 137,
    "start_time": "2022-10-10T13:14:49.093Z"
   },
   {
    "duration": 7,
    "start_time": "2022-10-10T13:14:56.608Z"
   },
   {
    "duration": 11,
    "start_time": "2022-10-10T13:15:12.809Z"
   },
   {
    "duration": 84,
    "start_time": "2022-10-10T15:27:59.555Z"
   },
   {
    "duration": 92,
    "start_time": "2022-10-10T15:28:33.608Z"
   },
   {
    "duration": 89,
    "start_time": "2022-10-10T15:31:37.818Z"
   },
   {
    "duration": 82,
    "start_time": "2022-10-10T15:31:43.446Z"
   },
   {
    "duration": 155,
    "start_time": "2022-10-10T15:35:49.561Z"
   },
   {
    "duration": 73,
    "start_time": "2022-10-10T15:35:53.644Z"
   },
   {
    "duration": 11,
    "start_time": "2022-10-10T15:42:27.771Z"
   },
   {
    "duration": 120,
    "start_time": "2022-10-10T15:44:12.548Z"
   },
   {
    "duration": 156,
    "start_time": "2022-10-10T15:44:14.991Z"
   },
   {
    "duration": 4,
    "start_time": "2022-10-10T15:44:45.151Z"
   },
   {
    "duration": 86,
    "start_time": "2022-10-10T15:46:13.275Z"
   },
   {
    "duration": 9,
    "start_time": "2022-10-10T15:47:28.259Z"
   },
   {
    "duration": 9,
    "start_time": "2022-10-10T15:47:37.474Z"
   },
   {
    "duration": 10,
    "start_time": "2022-10-10T15:50:43.187Z"
   },
   {
    "duration": 6,
    "start_time": "2022-10-10T15:53:34.966Z"
   },
   {
    "duration": 492,
    "start_time": "2022-10-10T15:53:50.743Z"
   },
   {
    "duration": 19,
    "start_time": "2022-10-10T15:53:51.238Z"
   },
   {
    "duration": 89,
    "start_time": "2022-10-10T15:53:51.258Z"
   },
   {
    "duration": 2052,
    "start_time": "2022-10-10T15:53:51.349Z"
   },
   {
    "duration": 11,
    "start_time": "2022-10-10T15:53:53.404Z"
   },
   {
    "duration": 15,
    "start_time": "2022-10-10T15:53:53.416Z"
   },
   {
    "duration": 104,
    "start_time": "2022-10-10T15:53:53.433Z"
   },
   {
    "duration": 10,
    "start_time": "2022-10-10T15:53:53.539Z"
   },
   {
    "duration": 33,
    "start_time": "2022-10-10T15:53:53.551Z"
   },
   {
    "duration": 21,
    "start_time": "2022-10-10T15:53:53.585Z"
   },
   {
    "duration": 20,
    "start_time": "2022-10-10T15:53:53.608Z"
   },
   {
    "duration": 25,
    "start_time": "2022-10-10T15:53:53.630Z"
   },
   {
    "duration": 27,
    "start_time": "2022-10-10T15:53:53.657Z"
   },
   {
    "duration": 32,
    "start_time": "2022-10-10T15:53:53.687Z"
   },
   {
    "duration": 27,
    "start_time": "2022-10-10T15:53:53.721Z"
   },
   {
    "duration": 10,
    "start_time": "2022-10-10T15:53:53.750Z"
   },
   {
    "duration": 34,
    "start_time": "2022-10-10T15:53:53.762Z"
   },
   {
    "duration": 16,
    "start_time": "2022-10-10T15:53:53.798Z"
   },
   {
    "duration": 12,
    "start_time": "2022-10-10T15:53:53.816Z"
   },
   {
    "duration": 12,
    "start_time": "2022-10-10T15:53:53.830Z"
   },
   {
    "duration": 71,
    "start_time": "2022-10-10T15:53:53.843Z"
   },
   {
    "duration": 96,
    "start_time": "2022-10-10T15:53:53.916Z"
   },
   {
    "duration": 17,
    "start_time": "2022-10-10T15:53:54.014Z"
   },
   {
    "duration": 101,
    "start_time": "2022-10-10T15:53:54.033Z"
   },
   {
    "duration": 88,
    "start_time": "2022-10-10T15:53:54.136Z"
   },
   {
    "duration": 83,
    "start_time": "2022-10-10T16:01:10.352Z"
   },
   {
    "duration": 15,
    "start_time": "2022-10-10T16:01:11.920Z"
   },
   {
    "duration": 39,
    "start_time": "2022-10-10T16:01:14.321Z"
   },
   {
    "duration": 1751,
    "start_time": "2022-10-10T16:01:16.432Z"
   },
   {
    "duration": 3,
    "start_time": "2022-10-10T16:01:47.556Z"
   },
   {
    "duration": 10,
    "start_time": "2022-10-10T16:03:46.896Z"
   },
   {
    "duration": 10,
    "start_time": "2022-10-10T16:03:50.491Z"
   },
   {
    "duration": 7,
    "start_time": "2022-10-10T16:03:54.123Z"
   },
   {
    "duration": 10,
    "start_time": "2022-10-10T16:04:00.161Z"
   },
   {
    "duration": 10,
    "start_time": "2022-10-10T16:04:12.085Z"
   },
   {
    "duration": 9,
    "start_time": "2022-10-10T16:04:19.272Z"
   },
   {
    "duration": 16,
    "start_time": "2022-10-10T16:05:41.698Z"
   },
   {
    "duration": 15,
    "start_time": "2022-10-10T16:05:55.464Z"
   },
   {
    "duration": 13,
    "start_time": "2022-10-10T16:05:59.870Z"
   },
   {
    "duration": 11,
    "start_time": "2022-10-10T16:06:25.864Z"
   },
   {
    "duration": 13,
    "start_time": "2022-10-10T16:06:31.715Z"
   },
   {
    "duration": 15,
    "start_time": "2022-10-10T16:06:36.162Z"
   },
   {
    "duration": 20,
    "start_time": "2022-10-10T16:06:40.513Z"
   },
   {
    "duration": 13,
    "start_time": "2022-10-10T16:06:51.046Z"
   },
   {
    "duration": 89,
    "start_time": "2022-10-10T16:08:42.406Z"
   },
   {
    "duration": 72,
    "start_time": "2022-10-10T16:08:56.755Z"
   },
   {
    "duration": 507,
    "start_time": "2022-10-10T16:09:12.012Z"
   },
   {
    "duration": 13,
    "start_time": "2022-10-10T16:09:12.521Z"
   },
   {
    "duration": 42,
    "start_time": "2022-10-10T16:09:12.536Z"
   },
   {
    "duration": 2145,
    "start_time": "2022-10-10T16:09:12.579Z"
   },
   {
    "duration": 12,
    "start_time": "2022-10-10T16:09:14.727Z"
   },
   {
    "duration": 5,
    "start_time": "2022-10-10T16:09:14.741Z"
   },
   {
    "duration": 115,
    "start_time": "2022-10-10T16:09:14.748Z"
   },
   {
    "duration": 99,
    "start_time": "2022-10-10T16:09:14.865Z"
   },
   {
    "duration": 12,
    "start_time": "2022-10-10T16:09:14.965Z"
   },
   {
    "duration": 6,
    "start_time": "2022-10-10T16:09:14.978Z"
   },
   {
    "duration": 38,
    "start_time": "2022-10-10T16:09:14.986Z"
   },
   {
    "duration": 16,
    "start_time": "2022-10-10T16:09:15.026Z"
   },
   {
    "duration": 34,
    "start_time": "2022-10-10T16:09:15.043Z"
   },
   {
    "duration": 27,
    "start_time": "2022-10-10T16:09:15.080Z"
   },
   {
    "duration": 12,
    "start_time": "2022-10-10T16:09:15.109Z"
   },
   {
    "duration": 7,
    "start_time": "2022-10-10T16:09:15.123Z"
   },
   {
    "duration": 11,
    "start_time": "2022-10-10T16:09:15.132Z"
   },
   {
    "duration": 13,
    "start_time": "2022-10-10T16:09:15.145Z"
   },
   {
    "duration": 9,
    "start_time": "2022-10-10T16:09:15.160Z"
   },
   {
    "duration": 77,
    "start_time": "2022-10-10T16:09:15.171Z"
   },
   {
    "duration": 114,
    "start_time": "2022-10-10T16:09:15.249Z"
   },
   {
    "duration": 16,
    "start_time": "2022-10-10T16:09:15.365Z"
   },
   {
    "duration": 102,
    "start_time": "2022-10-10T16:09:15.383Z"
   },
   {
    "duration": 94,
    "start_time": "2022-10-10T16:09:15.487Z"
   },
   {
    "duration": 92,
    "start_time": "2022-10-10T16:09:57.154Z"
   },
   {
    "duration": 170,
    "start_time": "2022-10-10T16:10:59.062Z"
   },
   {
    "duration": 13,
    "start_time": "2022-10-10T16:14:03.778Z"
   },
   {
    "duration": 111,
    "start_time": "2022-10-10T16:14:09.418Z"
   },
   {
    "duration": 14,
    "start_time": "2022-10-10T16:14:10.716Z"
   },
   {
    "duration": 39,
    "start_time": "2022-10-10T16:14:13.112Z"
   },
   {
    "duration": 1795,
    "start_time": "2022-10-10T16:14:14.833Z"
   },
   {
    "duration": 10,
    "start_time": "2022-10-10T16:14:17.664Z"
   },
   {
    "duration": 4,
    "start_time": "2022-10-10T16:14:24.459Z"
   },
   {
    "duration": 74,
    "start_time": "2022-10-10T16:14:25.740Z"
   },
   {
    "duration": 154,
    "start_time": "2022-10-10T16:14:31.296Z"
   },
   {
    "duration": 87,
    "start_time": "2022-10-10T16:14:57.777Z"
   },
   {
    "duration": 80,
    "start_time": "2022-10-10T16:15:59.916Z"
   },
   {
    "duration": 74,
    "start_time": "2022-10-10T16:16:10.457Z"
   },
   {
    "duration": 79,
    "start_time": "2022-10-10T16:16:23.062Z"
   },
   {
    "duration": 7,
    "start_time": "2022-10-10T16:22:15.987Z"
   },
   {
    "duration": 11,
    "start_time": "2022-10-10T16:25:51.961Z"
   },
   {
    "duration": 10,
    "start_time": "2022-10-10T16:26:04.089Z"
   },
   {
    "duration": 431,
    "start_time": "2022-10-10T16:26:11.167Z"
   },
   {
    "duration": 15,
    "start_time": "2022-10-10T16:26:11.600Z"
   },
   {
    "duration": 54,
    "start_time": "2022-10-10T16:26:11.617Z"
   },
   {
    "duration": 2031,
    "start_time": "2022-10-10T16:26:11.673Z"
   },
   {
    "duration": 8,
    "start_time": "2022-10-10T16:26:13.707Z"
   },
   {
    "duration": 5,
    "start_time": "2022-10-10T16:26:13.717Z"
   },
   {
    "duration": 110,
    "start_time": "2022-10-10T16:26:13.724Z"
   },
   {
    "duration": 9,
    "start_time": "2022-10-10T16:26:13.836Z"
   },
   {
    "duration": 15,
    "start_time": "2022-10-10T16:26:13.847Z"
   },
   {
    "duration": 7,
    "start_time": "2022-10-10T16:26:13.863Z"
   },
   {
    "duration": 6,
    "start_time": "2022-10-10T16:26:13.871Z"
   },
   {
    "duration": 10,
    "start_time": "2022-10-10T16:26:13.879Z"
   },
   {
    "duration": 51,
    "start_time": "2022-10-10T16:26:13.890Z"
   },
   {
    "duration": 28,
    "start_time": "2022-10-10T16:26:13.944Z"
   },
   {
    "duration": 4,
    "start_time": "2022-10-10T16:26:13.973Z"
   },
   {
    "duration": 8,
    "start_time": "2022-10-10T16:26:13.978Z"
   },
   {
    "duration": 6,
    "start_time": "2022-10-10T16:26:13.987Z"
   },
   {
    "duration": 28,
    "start_time": "2022-10-10T16:26:13.995Z"
   },
   {
    "duration": 20,
    "start_time": "2022-10-10T16:26:14.024Z"
   },
   {
    "duration": 61,
    "start_time": "2022-10-10T16:26:14.045Z"
   },
   {
    "duration": 98,
    "start_time": "2022-10-10T16:26:14.107Z"
   },
   {
    "duration": 18,
    "start_time": "2022-10-10T16:26:14.206Z"
   },
   {
    "duration": 80,
    "start_time": "2022-10-10T16:26:14.226Z"
   },
   {
    "duration": 97,
    "start_time": "2022-10-10T16:26:14.308Z"
   },
   {
    "duration": 8,
    "start_time": "2022-10-10T16:33:48.317Z"
   },
   {
    "duration": 430,
    "start_time": "2022-10-10T16:33:58.946Z"
   },
   {
    "duration": 16,
    "start_time": "2022-10-10T16:33:59.378Z"
   },
   {
    "duration": 54,
    "start_time": "2022-10-10T16:33:59.395Z"
   },
   {
    "duration": 2078,
    "start_time": "2022-10-10T16:33:59.450Z"
   },
   {
    "duration": 11,
    "start_time": "2022-10-10T16:34:01.531Z"
   },
   {
    "duration": 56,
    "start_time": "2022-10-10T16:34:01.544Z"
   },
   {
    "duration": 132,
    "start_time": "2022-10-10T16:34:01.602Z"
   },
   {
    "duration": 9,
    "start_time": "2022-10-10T16:34:01.736Z"
   },
   {
    "duration": 24,
    "start_time": "2022-10-10T16:34:01.750Z"
   },
   {
    "duration": 48,
    "start_time": "2022-10-10T16:34:01.776Z"
   },
   {
    "duration": 44,
    "start_time": "2022-10-10T16:34:01.826Z"
   },
   {
    "duration": 28,
    "start_time": "2022-10-10T16:34:01.872Z"
   },
   {
    "duration": 27,
    "start_time": "2022-10-10T16:34:01.902Z"
   },
   {
    "duration": 28,
    "start_time": "2022-10-10T16:34:01.932Z"
   },
   {
    "duration": 4,
    "start_time": "2022-10-10T16:34:01.961Z"
   },
   {
    "duration": 36,
    "start_time": "2022-10-10T16:34:01.967Z"
   },
   {
    "duration": 19,
    "start_time": "2022-10-10T16:34:02.005Z"
   },
   {
    "duration": 13,
    "start_time": "2022-10-10T16:34:02.026Z"
   },
   {
    "duration": 15,
    "start_time": "2022-10-10T16:34:02.041Z"
   },
   {
    "duration": 66,
    "start_time": "2022-10-10T16:34:02.057Z"
   },
   {
    "duration": 101,
    "start_time": "2022-10-10T16:34:02.125Z"
   },
   {
    "duration": 10,
    "start_time": "2022-10-10T16:34:02.227Z"
   },
   {
    "duration": 90,
    "start_time": "2022-10-10T16:34:02.239Z"
   },
   {
    "duration": 80,
    "start_time": "2022-10-10T16:34:02.330Z"
   },
   {
    "duration": 8,
    "start_time": "2022-10-10T16:34:09.369Z"
   },
   {
    "duration": 7,
    "start_time": "2022-10-10T16:34:16.783Z"
   },
   {
    "duration": 7,
    "start_time": "2022-10-10T16:34:18.443Z"
   },
   {
    "duration": 8,
    "start_time": "2022-10-10T16:34:34.352Z"
   },
   {
    "duration": 7,
    "start_time": "2022-10-10T16:34:45.500Z"
   },
   {
    "duration": 453,
    "start_time": "2022-10-10T16:34:53.358Z"
   },
   {
    "duration": 16,
    "start_time": "2022-10-10T16:34:53.813Z"
   },
   {
    "duration": 51,
    "start_time": "2022-10-10T16:34:53.830Z"
   },
   {
    "duration": 1989,
    "start_time": "2022-10-10T16:34:53.883Z"
   },
   {
    "duration": 9,
    "start_time": "2022-10-10T16:34:55.874Z"
   },
   {
    "duration": 13,
    "start_time": "2022-10-10T16:34:55.885Z"
   },
   {
    "duration": 109,
    "start_time": "2022-10-10T16:34:55.901Z"
   },
   {
    "duration": 13,
    "start_time": "2022-10-10T16:34:56.012Z"
   },
   {
    "duration": 19,
    "start_time": "2022-10-10T16:34:56.027Z"
   },
   {
    "duration": 7,
    "start_time": "2022-10-10T16:34:56.049Z"
   },
   {
    "duration": 30,
    "start_time": "2022-10-10T16:34:56.057Z"
   },
   {
    "duration": 18,
    "start_time": "2022-10-10T16:34:56.089Z"
   },
   {
    "duration": 63,
    "start_time": "2022-10-10T16:34:56.109Z"
   },
   {
    "duration": 32,
    "start_time": "2022-10-10T16:34:56.174Z"
   },
   {
    "duration": 5,
    "start_time": "2022-10-10T16:34:56.208Z"
   },
   {
    "duration": 24,
    "start_time": "2022-10-10T16:34:56.215Z"
   },
   {
    "duration": 18,
    "start_time": "2022-10-10T16:34:56.242Z"
   },
   {
    "duration": 11,
    "start_time": "2022-10-10T16:34:56.262Z"
   },
   {
    "duration": 19,
    "start_time": "2022-10-10T16:34:56.274Z"
   },
   {
    "duration": 56,
    "start_time": "2022-10-10T16:34:56.295Z"
   },
   {
    "duration": 103,
    "start_time": "2022-10-10T16:34:56.352Z"
   },
   {
    "duration": 13,
    "start_time": "2022-10-10T16:34:56.456Z"
   },
   {
    "duration": 90,
    "start_time": "2022-10-10T16:34:56.471Z"
   },
   {
    "duration": 80,
    "start_time": "2022-10-10T16:34:56.562Z"
   },
   {
    "duration": 10,
    "start_time": "2022-10-10T16:35:16.283Z"
   },
   {
    "duration": 8,
    "start_time": "2022-10-10T16:35:25.010Z"
   },
   {
    "duration": 7,
    "start_time": "2022-10-10T16:35:28.350Z"
   },
   {
    "duration": 12,
    "start_time": "2022-10-10T16:35:31.821Z"
   },
   {
    "duration": 7,
    "start_time": "2022-10-10T16:42:02.268Z"
   },
   {
    "duration": 520,
    "start_time": "2022-10-10T16:43:36.938Z"
   },
   {
    "duration": 20,
    "start_time": "2022-10-10T16:43:37.462Z"
   },
   {
    "duration": 43,
    "start_time": "2022-10-10T16:43:37.484Z"
   },
   {
    "duration": 2060,
    "start_time": "2022-10-10T16:43:37.528Z"
   },
   {
    "duration": 8,
    "start_time": "2022-10-10T16:43:39.590Z"
   },
   {
    "duration": 6,
    "start_time": "2022-10-10T16:43:39.600Z"
   },
   {
    "duration": 81,
    "start_time": "2022-10-10T16:43:39.608Z"
   },
   {
    "duration": 7,
    "start_time": "2022-10-10T16:43:39.691Z"
   },
   {
    "duration": 27,
    "start_time": "2022-10-10T16:43:39.700Z"
   },
   {
    "duration": 19,
    "start_time": "2022-10-10T16:43:39.728Z"
   },
   {
    "duration": 5,
    "start_time": "2022-10-10T16:43:39.749Z"
   },
   {
    "duration": 7,
    "start_time": "2022-10-10T16:43:39.756Z"
   },
   {
    "duration": 16,
    "start_time": "2022-10-10T16:43:39.765Z"
   },
   {
    "duration": 26,
    "start_time": "2022-10-10T16:43:39.783Z"
   },
   {
    "duration": 36,
    "start_time": "2022-10-10T16:43:39.810Z"
   },
   {
    "duration": 38,
    "start_time": "2022-10-10T16:43:39.849Z"
   },
   {
    "duration": 34,
    "start_time": "2022-10-10T16:43:39.889Z"
   },
   {
    "duration": 29,
    "start_time": "2022-10-10T16:43:39.925Z"
   },
   {
    "duration": 12,
    "start_time": "2022-10-10T16:43:39.956Z"
   },
   {
    "duration": 14,
    "start_time": "2022-10-10T16:43:39.969Z"
   },
   {
    "duration": 58,
    "start_time": "2022-10-10T16:43:39.985Z"
   },
   {
    "duration": 103,
    "start_time": "2022-10-10T16:43:40.044Z"
   },
   {
    "duration": 13,
    "start_time": "2022-10-10T16:43:40.150Z"
   },
   {
    "duration": 90,
    "start_time": "2022-10-10T16:43:40.164Z"
   },
   {
    "duration": 121,
    "start_time": "2022-10-10T16:43:40.256Z"
   },
   {
    "duration": 4,
    "start_time": "2022-10-10T16:44:25.416Z"
   },
   {
    "duration": 4,
    "start_time": "2022-10-10T16:44:49.668Z"
   },
   {
    "duration": 7,
    "start_time": "2022-10-10T16:44:55.672Z"
   },
   {
    "duration": 7,
    "start_time": "2022-10-10T16:45:01.708Z"
   },
   {
    "duration": 10,
    "start_time": "2022-10-10T16:45:11.415Z"
   },
   {
    "duration": 7,
    "start_time": "2022-10-10T16:45:18.090Z"
   },
   {
    "duration": 11,
    "start_time": "2022-10-10T16:45:23.968Z"
   },
   {
    "duration": 4,
    "start_time": "2022-10-10T16:45:33.988Z"
   },
   {
    "duration": 8,
    "start_time": "2022-10-10T16:47:17.876Z"
   },
   {
    "duration": 472,
    "start_time": "2022-10-10T16:47:23.213Z"
   },
   {
    "duration": 13,
    "start_time": "2022-10-10T16:47:23.686Z"
   },
   {
    "duration": 66,
    "start_time": "2022-10-10T16:47:23.701Z"
   },
   {
    "duration": 1915,
    "start_time": "2022-10-10T16:47:23.769Z"
   },
   {
    "duration": 10,
    "start_time": "2022-10-10T16:47:25.686Z"
   },
   {
    "duration": 18,
    "start_time": "2022-10-10T16:47:25.698Z"
   },
   {
    "duration": 94,
    "start_time": "2022-10-10T16:47:25.718Z"
   },
   {
    "duration": 9,
    "start_time": "2022-10-10T16:47:25.814Z"
   },
   {
    "duration": 17,
    "start_time": "2022-10-10T16:47:25.824Z"
   },
   {
    "duration": 20,
    "start_time": "2022-10-10T16:47:25.844Z"
   },
   {
    "duration": 26,
    "start_time": "2022-10-10T16:47:25.865Z"
   },
   {
    "duration": 28,
    "start_time": "2022-10-10T16:47:25.893Z"
   },
   {
    "duration": 23,
    "start_time": "2022-10-10T16:47:25.923Z"
   },
   {
    "duration": 41,
    "start_time": "2022-10-10T16:47:25.948Z"
   },
   {
    "duration": 36,
    "start_time": "2022-10-10T16:47:25.991Z"
   },
   {
    "duration": 37,
    "start_time": "2022-10-10T16:47:26.029Z"
   },
   {
    "duration": 33,
    "start_time": "2022-10-10T16:47:26.069Z"
   },
   {
    "duration": 31,
    "start_time": "2022-10-10T16:47:26.105Z"
   },
   {
    "duration": 29,
    "start_time": "2022-10-10T16:47:26.138Z"
   },
   {
    "duration": 28,
    "start_time": "2022-10-10T16:47:26.169Z"
   },
   {
    "duration": 84,
    "start_time": "2022-10-10T16:47:26.199Z"
   },
   {
    "duration": 79,
    "start_time": "2022-10-10T16:47:26.284Z"
   },
   {
    "duration": 8,
    "start_time": "2022-10-10T16:47:26.364Z"
   },
   {
    "duration": 84,
    "start_time": "2022-10-10T16:47:26.373Z"
   },
   {
    "duration": 88,
    "start_time": "2022-10-10T16:47:26.459Z"
   },
   {
    "duration": 9,
    "start_time": "2022-10-10T16:47:43.932Z"
   },
   {
    "duration": 8,
    "start_time": "2022-10-10T16:47:47.908Z"
   },
   {
    "duration": 7,
    "start_time": "2022-10-10T16:47:52.932Z"
   },
   {
    "duration": 460,
    "start_time": "2022-10-10T16:47:56.987Z"
   },
   {
    "duration": 15,
    "start_time": "2022-10-10T16:47:57.449Z"
   },
   {
    "duration": 47,
    "start_time": "2022-10-10T16:47:57.465Z"
   },
   {
    "duration": 1951,
    "start_time": "2022-10-10T16:47:57.521Z"
   },
   {
    "duration": 7,
    "start_time": "2022-10-10T16:47:59.474Z"
   },
   {
    "duration": 3,
    "start_time": "2022-10-10T16:47:59.483Z"
   },
   {
    "duration": 78,
    "start_time": "2022-10-10T16:47:59.488Z"
   },
   {
    "duration": 7,
    "start_time": "2022-10-10T16:47:59.568Z"
   },
   {
    "duration": 10,
    "start_time": "2022-10-10T16:47:59.577Z"
   },
   {
    "duration": 7,
    "start_time": "2022-10-10T16:47:59.590Z"
   },
   {
    "duration": 28,
    "start_time": "2022-10-10T16:47:59.598Z"
   },
   {
    "duration": 7,
    "start_time": "2022-10-10T16:47:59.627Z"
   },
   {
    "duration": 8,
    "start_time": "2022-10-10T16:47:59.635Z"
   },
   {
    "duration": 44,
    "start_time": "2022-10-10T16:47:59.644Z"
   },
   {
    "duration": 24,
    "start_time": "2022-10-10T16:47:59.689Z"
   },
   {
    "duration": 3,
    "start_time": "2022-10-10T16:47:59.714Z"
   },
   {
    "duration": 7,
    "start_time": "2022-10-10T16:47:59.721Z"
   },
   {
    "duration": 8,
    "start_time": "2022-10-10T16:47:59.729Z"
   },
   {
    "duration": 6,
    "start_time": "2022-10-10T16:47:59.739Z"
   },
   {
    "duration": 9,
    "start_time": "2022-10-10T16:47:59.747Z"
   },
   {
    "duration": 72,
    "start_time": "2022-10-10T16:47:59.757Z"
   },
   {
    "duration": 94,
    "start_time": "2022-10-10T16:47:59.830Z"
   },
   {
    "duration": 8,
    "start_time": "2022-10-10T16:47:59.925Z"
   },
   {
    "duration": 74,
    "start_time": "2022-10-10T16:47:59.935Z"
   },
   {
    "duration": 73,
    "start_time": "2022-10-10T16:48:00.021Z"
   },
   {
    "duration": 4,
    "start_time": "2022-10-10T16:49:37.799Z"
   },
   {
    "duration": 34,
    "start_time": "2022-10-10T16:50:26.150Z"
   },
   {
    "duration": 93,
    "start_time": "2022-10-10T16:57:14.987Z"
   },
   {
    "duration": 4,
    "start_time": "2022-10-10T16:57:21.026Z"
   },
   {
    "duration": 4,
    "start_time": "2022-10-10T16:58:14.500Z"
   },
   {
    "duration": 9,
    "start_time": "2022-10-11T04:56:48.854Z"
   },
   {
    "duration": 43,
    "start_time": "2022-10-11T04:57:59.906Z"
   },
   {
    "duration": 532,
    "start_time": "2022-10-11T04:58:12.176Z"
   },
   {
    "duration": 14,
    "start_time": "2022-10-11T04:58:12.710Z"
   },
   {
    "duration": 39,
    "start_time": "2022-10-11T04:58:12.726Z"
   },
   {
    "duration": 2307,
    "start_time": "2022-10-11T04:58:12.766Z"
   },
   {
    "duration": 8,
    "start_time": "2022-10-11T04:58:15.075Z"
   },
   {
    "duration": 5,
    "start_time": "2022-10-11T04:58:15.085Z"
   },
   {
    "duration": 85,
    "start_time": "2022-10-11T04:58:15.092Z"
   },
   {
    "duration": 5,
    "start_time": "2022-10-11T04:58:15.179Z"
   },
   {
    "duration": 9,
    "start_time": "2022-10-11T04:58:15.194Z"
   },
   {
    "duration": 16,
    "start_time": "2022-10-11T04:58:15.209Z"
   },
   {
    "duration": 10,
    "start_time": "2022-10-11T04:58:15.226Z"
   },
   {
    "duration": 9,
    "start_time": "2022-10-11T04:58:15.237Z"
   },
   {
    "duration": 6,
    "start_time": "2022-10-11T04:58:15.247Z"
   },
   {
    "duration": 10,
    "start_time": "2022-10-11T04:58:15.255Z"
   },
   {
    "duration": 99,
    "start_time": "2022-10-11T04:58:15.266Z"
   },
   {
    "duration": 3,
    "start_time": "2022-10-11T04:58:15.367Z"
   },
   {
    "duration": 44,
    "start_time": "2022-10-11T04:58:15.372Z"
   },
   {
    "duration": 35,
    "start_time": "2022-10-11T04:58:15.418Z"
   },
   {
    "duration": 4,
    "start_time": "2022-10-11T04:58:15.454Z"
   },
   {
    "duration": 10,
    "start_time": "2022-10-11T04:58:15.460Z"
   },
   {
    "duration": 8,
    "start_time": "2022-10-11T04:58:15.471Z"
   },
   {
    "duration": 17,
    "start_time": "2022-10-11T04:58:15.498Z"
   },
   {
    "duration": 7,
    "start_time": "2022-10-11T04:58:15.517Z"
   },
   {
    "duration": 53,
    "start_time": "2022-10-11T04:58:15.525Z"
   },
   {
    "duration": 87,
    "start_time": "2022-10-11T04:58:15.580Z"
   },
   {
    "duration": 8,
    "start_time": "2022-10-11T04:58:15.669Z"
   },
   {
    "duration": 88,
    "start_time": "2022-10-11T04:58:15.678Z"
   },
   {
    "duration": 93,
    "start_time": "2022-10-11T04:58:15.769Z"
   },
   {
    "duration": 165,
    "start_time": "2022-10-11T04:58:42.053Z"
   },
   {
    "duration": 3,
    "start_time": "2022-10-11T04:59:02.324Z"
   },
   {
    "duration": 101,
    "start_time": "2022-10-11T05:00:04.710Z"
   },
   {
    "duration": 98,
    "start_time": "2022-10-11T05:01:37.371Z"
   },
   {
    "duration": 93,
    "start_time": "2022-10-11T05:04:18.257Z"
   },
   {
    "duration": 80,
    "start_time": "2022-10-11T05:04:27.404Z"
   },
   {
    "duration": 5,
    "start_time": "2022-10-11T05:04:46.848Z"
   },
   {
    "duration": 8,
    "start_time": "2022-10-11T05:06:06.418Z"
   },
   {
    "duration": 15,
    "start_time": "2022-10-11T05:09:51.159Z"
   },
   {
    "duration": 82,
    "start_time": "2022-10-11T05:11:35.624Z"
   },
   {
    "duration": 14,
    "start_time": "2022-10-11T05:13:52.706Z"
   },
   {
    "duration": 4,
    "start_time": "2022-10-11T05:14:14.859Z"
   },
   {
    "duration": 9,
    "start_time": "2022-10-11T05:14:19.597Z"
   },
   {
    "duration": 53,
    "start_time": "2022-10-11T05:17:07.915Z"
   },
   {
    "duration": 14,
    "start_time": "2022-10-11T05:18:29.852Z"
   },
   {
    "duration": 4,
    "start_time": "2022-10-11T05:21:30.432Z"
   },
   {
    "duration": 6,
    "start_time": "2022-10-11T05:21:54.586Z"
   },
   {
    "duration": 4,
    "start_time": "2022-10-11T05:23:18.221Z"
   },
   {
    "duration": 3,
    "start_time": "2022-10-11T05:23:24.116Z"
   },
   {
    "duration": 4,
    "start_time": "2022-10-11T05:23:34.870Z"
   },
   {
    "duration": 4,
    "start_time": "2022-10-11T05:23:44.085Z"
   },
   {
    "duration": 4,
    "start_time": "2022-10-11T05:23:45.449Z"
   },
   {
    "duration": 10,
    "start_time": "2022-10-11T05:23:50.880Z"
   },
   {
    "duration": 4,
    "start_time": "2022-10-11T05:23:54.109Z"
   },
   {
    "duration": 4,
    "start_time": "2022-10-11T05:24:04.677Z"
   },
   {
    "duration": 5,
    "start_time": "2022-10-11T05:24:06.057Z"
   },
   {
    "duration": 6,
    "start_time": "2022-10-11T05:25:13.330Z"
   },
   {
    "duration": 4,
    "start_time": "2022-10-11T05:25:24.708Z"
   },
   {
    "duration": 4,
    "start_time": "2022-10-11T05:26:12.066Z"
   },
   {
    "duration": 5,
    "start_time": "2022-10-11T05:26:23.323Z"
   },
   {
    "duration": 4,
    "start_time": "2022-10-11T05:27:35.956Z"
   },
   {
    "duration": 5,
    "start_time": "2022-10-11T05:27:48.233Z"
   },
   {
    "duration": 91,
    "start_time": "2022-10-11T05:33:37.881Z"
   },
   {
    "duration": 13,
    "start_time": "2022-10-11T05:34:39.119Z"
   },
   {
    "duration": 13,
    "start_time": "2022-10-11T05:35:01.169Z"
   },
   {
    "duration": 14,
    "start_time": "2022-10-11T05:35:10.301Z"
   },
   {
    "duration": 14,
    "start_time": "2022-10-11T05:35:17.063Z"
   },
   {
    "duration": 4,
    "start_time": "2022-10-11T05:38:30.999Z"
   },
   {
    "duration": 197,
    "start_time": "2022-10-11T05:39:06.540Z"
   },
   {
    "duration": 6,
    "start_time": "2022-10-11T05:39:16.702Z"
   },
   {
    "duration": 4,
    "start_time": "2022-10-11T05:40:29.195Z"
   },
   {
    "duration": 161,
    "start_time": "2022-10-11T05:40:30.935Z"
   },
   {
    "duration": 5,
    "start_time": "2022-10-11T05:40:32.136Z"
   },
   {
    "duration": 4,
    "start_time": "2022-10-11T05:41:41.758Z"
   },
   {
    "duration": 1191,
    "start_time": "2022-10-11T05:43:26.588Z"
   },
   {
    "duration": 5,
    "start_time": "2022-10-11T05:43:44.869Z"
   },
   {
    "duration": 5,
    "start_time": "2022-10-11T05:44:00.957Z"
   },
   {
    "duration": 12,
    "start_time": "2022-10-11T05:44:14.097Z"
   },
   {
    "duration": 5,
    "start_time": "2022-10-11T05:44:20.820Z"
   },
   {
    "duration": 7,
    "start_time": "2022-10-11T05:44:24.667Z"
   },
   {
    "duration": 645,
    "start_time": "2022-10-11T05:46:56.814Z"
   },
   {
    "duration": 8,
    "start_time": "2022-10-11T05:47:02.963Z"
   },
   {
    "duration": 8,
    "start_time": "2022-10-11T05:47:24.612Z"
   },
   {
    "duration": 6,
    "start_time": "2022-10-11T05:57:58.133Z"
   },
   {
    "duration": 5,
    "start_time": "2022-10-11T05:57:58.632Z"
   },
   {
    "duration": 5,
    "start_time": "2022-10-11T05:58:00.146Z"
   },
   {
    "duration": 4,
    "start_time": "2022-10-11T05:58:00.957Z"
   },
   {
    "duration": 4,
    "start_time": "2022-10-11T05:58:01.929Z"
   },
   {
    "duration": 5,
    "start_time": "2022-10-11T05:58:02.580Z"
   },
   {
    "duration": 4,
    "start_time": "2022-10-11T05:58:05.029Z"
   },
   {
    "duration": 253,
    "start_time": "2022-10-11T05:58:06.429Z"
   },
   {
    "duration": 5,
    "start_time": "2022-10-11T05:58:07.314Z"
   },
   {
    "duration": 4,
    "start_time": "2022-10-11T05:58:09.936Z"
   },
   {
    "duration": 5,
    "start_time": "2022-10-11T05:58:10.847Z"
   },
   {
    "duration": 10,
    "start_time": "2022-10-11T06:00:32.028Z"
   },
   {
    "duration": 52,
    "start_time": "2022-10-11T06:00:46.242Z"
   },
   {
    "duration": 650,
    "start_time": "2022-10-11T06:02:02.276Z"
   },
   {
    "duration": 5,
    "start_time": "2022-10-11T06:02:03.823Z"
   },
   {
    "duration": 717,
    "start_time": "2022-10-11T06:02:44.407Z"
   },
   {
    "duration": 11,
    "start_time": "2022-10-11T06:02:50.548Z"
   },
   {
    "duration": 101,
    "start_time": "2022-10-11T06:04:11.564Z"
   },
   {
    "duration": 616,
    "start_time": "2022-10-11T06:05:21.483Z"
   },
   {
    "duration": 10,
    "start_time": "2022-10-11T06:05:26.665Z"
   },
   {
    "duration": 4,
    "start_time": "2022-10-11T06:11:59.413Z"
   },
   {
    "duration": 23,
    "start_time": "2022-10-11T06:16:36.904Z"
   },
   {
    "duration": 67,
    "start_time": "2022-10-11T06:19:19.453Z"
   },
   {
    "duration": 8,
    "start_time": "2022-10-11T06:19:25.756Z"
   },
   {
    "duration": 346,
    "start_time": "2022-10-11T06:20:26.288Z"
   },
   {
    "duration": 290,
    "start_time": "2022-10-11T06:20:40.739Z"
   },
   {
    "duration": 264,
    "start_time": "2022-10-11T06:20:48.665Z"
   },
   {
    "duration": 258,
    "start_time": "2022-10-11T06:21:13.995Z"
   },
   {
    "duration": 9,
    "start_time": "2022-10-11T06:24:11.178Z"
   },
   {
    "duration": 340,
    "start_time": "2022-10-11T06:24:27.345Z"
   },
   {
    "duration": 357,
    "start_time": "2022-10-11T06:24:36.380Z"
   },
   {
    "duration": 88,
    "start_time": "2022-10-11T06:26:30.695Z"
   },
   {
    "duration": 9,
    "start_time": "2022-10-11T06:27:09.820Z"
   },
   {
    "duration": 275,
    "start_time": "2022-10-11T06:27:24.590Z"
   },
   {
    "duration": 256,
    "start_time": "2022-10-11T06:27:34.124Z"
   },
   {
    "duration": 9,
    "start_time": "2022-10-11T06:29:11.220Z"
   },
   {
    "duration": 266,
    "start_time": "2022-10-11T06:29:34.488Z"
   },
   {
    "duration": 291,
    "start_time": "2022-10-11T06:30:47.460Z"
   },
   {
    "duration": 372,
    "start_time": "2022-10-11T06:30:52.029Z"
   },
   {
    "duration": 277,
    "start_time": "2022-10-11T06:31:00.628Z"
   },
   {
    "duration": 268,
    "start_time": "2022-10-11T06:31:09.605Z"
   },
   {
    "duration": 8,
    "start_time": "2022-10-11T06:33:12.202Z"
   },
   {
    "duration": 273,
    "start_time": "2022-10-11T06:33:28.624Z"
   },
   {
    "duration": 256,
    "start_time": "2022-10-11T06:33:34.144Z"
   },
   {
    "duration": 79,
    "start_time": "2022-10-11T06:34:25.067Z"
   },
   {
    "duration": 8,
    "start_time": "2022-10-11T06:35:14.142Z"
   },
   {
    "duration": 339,
    "start_time": "2022-10-11T06:35:34.361Z"
   },
   {
    "duration": 269,
    "start_time": "2022-10-11T06:35:39.793Z"
   },
   {
    "duration": 9,
    "start_time": "2022-10-11T06:37:37.893Z"
   },
   {
    "duration": 247,
    "start_time": "2022-10-11T06:37:55.785Z"
   },
   {
    "duration": 247,
    "start_time": "2022-10-11T06:38:00.284Z"
   },
   {
    "duration": 8,
    "start_time": "2022-10-11T06:39:47.526Z"
   },
   {
    "duration": 15,
    "start_time": "2022-10-11T06:40:10.961Z"
   },
   {
    "duration": 15,
    "start_time": "2022-10-11T06:41:15.017Z"
   },
   {
    "duration": 18,
    "start_time": "2022-10-11T06:41:26.470Z"
   },
   {
    "duration": 106,
    "start_time": "2022-10-11T06:41:45.757Z"
   },
   {
    "duration": 97,
    "start_time": "2022-10-11T06:41:58.208Z"
   },
   {
    "duration": 98,
    "start_time": "2022-10-11T06:42:07.262Z"
   },
   {
    "duration": 1138,
    "start_time": "2022-10-11T06:43:27.139Z"
   },
   {
    "duration": 8,
    "start_time": "2022-10-11T06:43:35.266Z"
   },
   {
    "duration": 346,
    "start_time": "2022-10-11T06:43:49.858Z"
   },
   {
    "duration": 252,
    "start_time": "2022-10-11T06:43:54.438Z"
   },
   {
    "duration": 130,
    "start_time": "2022-10-11T06:45:28.996Z"
   },
   {
    "duration": 9,
    "start_time": "2022-10-11T06:45:40.472Z"
   },
   {
    "duration": 272,
    "start_time": "2022-10-11T06:45:55.296Z"
   },
   {
    "duration": 272,
    "start_time": "2022-10-11T06:46:10.987Z"
   },
   {
    "duration": 253,
    "start_time": "2022-10-11T06:46:16.208Z"
   },
   {
    "duration": 368,
    "start_time": "2022-10-11T06:46:20.961Z"
   },
   {
    "duration": 8,
    "start_time": "2022-10-11T06:47:40.449Z"
   },
   {
    "duration": 1335,
    "start_time": "2022-10-11T06:47:58.280Z"
   },
   {
    "duration": 268,
    "start_time": "2022-10-11T06:48:08.031Z"
   },
   {
    "duration": 279,
    "start_time": "2022-10-11T06:48:13.238Z"
   },
   {
    "duration": 257,
    "start_time": "2022-10-11T06:48:17.463Z"
   },
   {
    "duration": 8,
    "start_time": "2022-10-11T06:49:51.250Z"
   },
   {
    "duration": 252,
    "start_time": "2022-10-11T06:50:11.637Z"
   },
   {
    "duration": 263,
    "start_time": "2022-10-11T06:50:17.713Z"
   },
   {
    "duration": 89,
    "start_time": "2022-10-11T06:51:31.812Z"
   },
   {
    "duration": 8,
    "start_time": "2022-10-11T06:53:11.906Z"
   },
   {
    "duration": 1227,
    "start_time": "2022-10-11T06:53:32.209Z"
   },
   {
    "duration": 1127,
    "start_time": "2022-10-11T06:54:10.880Z"
   },
   {
    "duration": 17,
    "start_time": "2022-10-11T06:54:18.078Z"
   },
   {
    "duration": 358,
    "start_time": "2022-10-11T06:54:42.274Z"
   },
   {
    "duration": 267,
    "start_time": "2022-10-11T06:54:49.908Z"
   },
   {
    "duration": 256,
    "start_time": "2022-10-11T06:54:53.756Z"
   },
   {
    "duration": 261,
    "start_time": "2022-10-11T06:55:13.430Z"
   },
   {
    "duration": 288,
    "start_time": "2022-10-11T06:55:21.812Z"
   },
   {
    "duration": 406,
    "start_time": "2022-10-11T06:55:28.796Z"
   },
   {
    "duration": 677,
    "start_time": "2022-10-11T07:02:56.079Z"
   },
   {
    "duration": 4,
    "start_time": "2022-10-11T07:04:15.273Z"
   },
   {
    "duration": 8,
    "start_time": "2022-10-11T07:04:19.108Z"
   },
   {
    "duration": 12,
    "start_time": "2022-10-11T07:04:34.046Z"
   },
   {
    "duration": 4,
    "start_time": "2022-10-11T07:05:03.090Z"
   },
   {
    "duration": 4,
    "start_time": "2022-10-11T07:05:03.957Z"
   },
   {
    "duration": 10,
    "start_time": "2022-10-11T07:05:17.363Z"
   },
   {
    "duration": 294,
    "start_time": "2022-10-11T07:05:19.964Z"
   },
   {
    "duration": 10,
    "start_time": "2022-10-11T07:07:36.749Z"
   },
   {
    "duration": 279,
    "start_time": "2022-10-11T07:07:58.646Z"
   },
   {
    "duration": 270,
    "start_time": "2022-10-11T07:08:04.017Z"
   },
   {
    "duration": 144,
    "start_time": "2022-10-11T07:08:10.078Z"
   },
   {
    "duration": 267,
    "start_time": "2022-10-11T07:08:15.617Z"
   },
   {
    "duration": 12,
    "start_time": "2022-10-11T08:54:52.753Z"
   },
   {
    "duration": 31,
    "start_time": "2022-10-11T08:55:06.902Z"
   },
   {
    "duration": 11,
    "start_time": "2022-10-11T08:55:25.906Z"
   },
   {
    "duration": 586,
    "start_time": "2022-10-11T08:55:54.986Z"
   },
   {
    "duration": 14023,
    "start_time": "2022-10-11T08:56:19.710Z"
   },
   {
    "duration": 465,
    "start_time": "2022-10-11T09:23:30.050Z"
   },
   {
    "duration": 16,
    "start_time": "2022-10-11T09:23:30.517Z"
   },
   {
    "duration": 51,
    "start_time": "2022-10-11T09:23:30.535Z"
   },
   {
    "duration": 2132,
    "start_time": "2022-10-11T09:23:30.588Z"
   },
   {
    "duration": 9,
    "start_time": "2022-10-11T09:23:32.722Z"
   },
   {
    "duration": 4,
    "start_time": "2022-10-11T09:23:32.732Z"
   },
   {
    "duration": 91,
    "start_time": "2022-10-11T09:23:32.737Z"
   },
   {
    "duration": 6,
    "start_time": "2022-10-11T09:23:32.830Z"
   },
   {
    "duration": 20,
    "start_time": "2022-10-11T09:23:32.838Z"
   },
   {
    "duration": 14,
    "start_time": "2022-10-11T09:23:32.862Z"
   },
   {
    "duration": 24,
    "start_time": "2022-10-11T09:23:32.877Z"
   },
   {
    "duration": 11,
    "start_time": "2022-10-11T09:23:32.903Z"
   },
   {
    "duration": 6,
    "start_time": "2022-10-11T09:23:32.916Z"
   },
   {
    "duration": 8,
    "start_time": "2022-10-11T09:23:32.924Z"
   },
   {
    "duration": 4,
    "start_time": "2022-10-11T09:23:32.934Z"
   },
   {
    "duration": 103,
    "start_time": "2022-10-11T09:23:32.940Z"
   },
   {
    "duration": 26,
    "start_time": "2022-10-11T09:23:33.045Z"
   },
   {
    "duration": 101,
    "start_time": "2022-10-11T09:23:33.073Z"
   },
   {
    "duration": 39,
    "start_time": "2022-10-11T09:23:33.176Z"
   },
   {
    "duration": 4,
    "start_time": "2022-10-11T09:23:33.217Z"
   },
   {
    "duration": 89,
    "start_time": "2022-10-11T09:23:33.222Z"
   },
   {
    "duration": 4,
    "start_time": "2022-10-11T09:23:33.313Z"
   },
   {
    "duration": 12,
    "start_time": "2022-10-11T09:23:33.319Z"
   },
   {
    "duration": 82,
    "start_time": "2022-10-11T09:23:33.333Z"
   },
   {
    "duration": 681,
    "start_time": "2022-10-11T09:23:33.417Z"
   },
   {
    "duration": 4,
    "start_time": "2022-10-11T09:23:34.100Z"
   },
   {
    "duration": 9,
    "start_time": "2022-10-11T09:23:34.105Z"
   },
   {
    "duration": 5,
    "start_time": "2022-10-11T09:23:34.117Z"
   },
   {
    "duration": 7,
    "start_time": "2022-10-11T09:23:34.123Z"
   },
   {
    "duration": 9,
    "start_time": "2022-10-11T09:23:34.132Z"
   },
   {
    "duration": 20,
    "start_time": "2022-10-11T09:23:34.142Z"
   },
   {
    "duration": 4,
    "start_time": "2022-10-11T09:23:34.164Z"
   },
   {
    "duration": 27,
    "start_time": "2022-10-11T09:23:34.169Z"
   },
   {
    "duration": 14,
    "start_time": "2022-10-11T09:23:34.197Z"
   },
   {
    "duration": 6,
    "start_time": "2022-10-11T09:23:34.212Z"
   },
   {
    "duration": 13,
    "start_time": "2022-10-11T09:23:34.220Z"
   },
   {
    "duration": 15,
    "start_time": "2022-10-11T09:23:34.235Z"
   },
   {
    "duration": 9,
    "start_time": "2022-10-11T09:23:34.251Z"
   },
   {
    "duration": 6,
    "start_time": "2022-10-11T09:23:34.262Z"
   },
   {
    "duration": 19,
    "start_time": "2022-10-11T09:23:34.269Z"
   },
   {
    "duration": 173,
    "start_time": "2022-10-11T09:23:34.289Z"
   },
   {
    "duration": 4,
    "start_time": "2022-10-11T09:23:34.464Z"
   },
   {
    "duration": 8,
    "start_time": "2022-10-11T09:23:34.469Z"
   },
   {
    "duration": 17,
    "start_time": "2022-10-11T09:23:34.478Z"
   },
   {
    "duration": 13,
    "start_time": "2022-10-11T09:23:34.497Z"
   },
   {
    "duration": 365,
    "start_time": "2022-10-11T09:23:34.512Z"
   },
   {
    "duration": 17,
    "start_time": "2022-10-11T09:23:34.878Z"
   },
   {
    "duration": 285,
    "start_time": "2022-10-11T09:23:34.896Z"
   },
   {
    "duration": 16,
    "start_time": "2022-10-11T09:23:35.182Z"
   },
   {
    "duration": 269,
    "start_time": "2022-10-11T09:23:35.200Z"
   },
   {
    "duration": 7,
    "start_time": "2022-10-11T09:23:35.471Z"
   },
   {
    "duration": 289,
    "start_time": "2022-10-11T09:23:35.480Z"
   },
   {
    "duration": 8,
    "start_time": "2022-10-11T09:23:35.770Z"
   },
   {
    "duration": 274,
    "start_time": "2022-10-11T09:23:35.780Z"
   },
   {
    "duration": 8,
    "start_time": "2022-10-11T09:23:36.056Z"
   },
   {
    "duration": 361,
    "start_time": "2022-10-11T09:23:36.066Z"
   },
   {
    "duration": 8,
    "start_time": "2022-10-11T09:23:36.429Z"
   },
   {
    "duration": 332,
    "start_time": "2022-10-11T09:23:36.439Z"
   },
   {
    "duration": 136,
    "start_time": "2022-10-11T09:23:36.773Z"
   },
   {
    "duration": 8,
    "start_time": "2022-10-11T09:23:36.911Z"
   },
   {
    "duration": 289,
    "start_time": "2022-10-11T09:23:36.921Z"
   },
   {
    "duration": 8,
    "start_time": "2022-10-11T09:23:37.212Z"
   },
   {
    "duration": 283,
    "start_time": "2022-10-11T09:23:37.221Z"
   },
   {
    "duration": 9,
    "start_time": "2022-10-11T09:23:37.505Z"
   },
   {
    "duration": 262,
    "start_time": "2022-10-11T09:23:37.515Z"
   },
   {
    "duration": 17,
    "start_time": "2022-10-11T09:23:37.779Z"
   },
   {
    "duration": 380,
    "start_time": "2022-10-11T09:23:37.798Z"
   },
   {
    "duration": 20,
    "start_time": "2022-10-11T09:23:38.179Z"
   },
   {
    "duration": 282,
    "start_time": "2022-10-11T09:23:38.200Z"
   },
   {
    "duration": 268,
    "start_time": "2022-10-11T09:23:38.484Z"
   },
   {
    "duration": 10,
    "start_time": "2022-10-11T09:23:38.754Z"
   },
   {
    "duration": 266,
    "start_time": "2022-10-11T09:23:38.765Z"
   },
   {
    "duration": 563,
    "start_time": "2022-10-11T09:23:39.033Z"
   },
   {
    "duration": 16,
    "start_time": "2022-10-11T09:24:03.332Z"
   },
   {
    "duration": 5,
    "start_time": "2022-10-11T09:24:26.029Z"
   },
   {
    "duration": 5,
    "start_time": "2022-10-11T09:24:27.188Z"
   },
   {
    "duration": 152,
    "start_time": "2022-10-11T09:24:37.047Z"
   },
   {
    "duration": 126,
    "start_time": "2022-10-11T09:25:00.111Z"
   },
   {
    "duration": 131,
    "start_time": "2022-10-11T09:25:37.317Z"
   },
   {
    "duration": 157,
    "start_time": "2022-10-11T09:26:44.811Z"
   },
   {
    "duration": 129,
    "start_time": "2022-10-11T09:27:04.310Z"
   },
   {
    "duration": 10,
    "start_time": "2022-10-11T09:27:30.699Z"
   },
   {
    "duration": 133,
    "start_time": "2022-10-11T09:27:42.882Z"
   },
   {
    "duration": 127,
    "start_time": "2022-10-11T09:27:50.349Z"
   },
   {
    "duration": 224,
    "start_time": "2022-10-11T09:28:06.496Z"
   },
   {
    "duration": 215,
    "start_time": "2022-10-11T09:30:35.620Z"
   },
   {
    "duration": 50,
    "start_time": "2022-10-11T09:31:01.749Z"
   },
   {
    "duration": 604,
    "start_time": "2022-10-11T09:39:04.264Z"
   },
   {
    "duration": 5,
    "start_time": "2022-10-11T09:39:15.814Z"
   },
   {
    "duration": 199,
    "start_time": "2022-10-11T09:41:41.569Z"
   },
   {
    "duration": 147,
    "start_time": "2022-10-11T09:41:48.080Z"
   },
   {
    "duration": 147,
    "start_time": "2022-10-11T09:41:53.550Z"
   },
   {
    "duration": 129,
    "start_time": "2022-10-11T09:44:04.183Z"
   },
   {
    "duration": 135,
    "start_time": "2022-10-11T09:44:10.225Z"
   },
   {
    "duration": 132,
    "start_time": "2022-10-11T09:47:05.755Z"
   },
   {
    "duration": 122,
    "start_time": "2022-10-11T09:47:14.423Z"
   },
   {
    "duration": 80,
    "start_time": "2022-10-11T09:49:11.301Z"
   },
   {
    "duration": 135,
    "start_time": "2022-10-11T09:49:29.774Z"
   },
   {
    "duration": 173,
    "start_time": "2022-10-11T09:49:36.451Z"
   },
   {
    "duration": 145,
    "start_time": "2022-10-11T09:49:42.511Z"
   },
   {
    "duration": 140,
    "start_time": "2022-10-11T09:49:49.743Z"
   },
   {
    "duration": 239,
    "start_time": "2022-10-11T09:51:18.193Z"
   },
   {
    "duration": 81,
    "start_time": "2022-10-11T09:51:58.026Z"
   },
   {
    "duration": 132,
    "start_time": "2022-10-11T09:52:17.280Z"
   },
   {
    "duration": 125,
    "start_time": "2022-10-11T09:52:24.102Z"
   },
   {
    "duration": 119,
    "start_time": "2022-10-11T09:52:32.935Z"
   },
   {
    "duration": 148,
    "start_time": "2022-10-11T09:54:26.415Z"
   },
   {
    "duration": 5,
    "start_time": "2022-10-11T09:55:01.853Z"
   },
   {
    "duration": 5,
    "start_time": "2022-10-11T09:55:22.632Z"
   },
   {
    "duration": 4,
    "start_time": "2022-10-11T09:55:24.535Z"
   },
   {
    "duration": 137,
    "start_time": "2022-10-11T09:55:48.745Z"
   },
   {
    "duration": 151,
    "start_time": "2022-10-11T09:56:06.296Z"
   },
   {
    "duration": 125,
    "start_time": "2022-10-11T09:56:16.112Z"
   },
   {
    "duration": 1510,
    "start_time": "2022-10-11T09:59:02.500Z"
   },
   {
    "duration": 129,
    "start_time": "2022-10-11T09:59:29.875Z"
   },
   {
    "duration": 223,
    "start_time": "2022-10-11T09:59:58.566Z"
   },
   {
    "duration": 77,
    "start_time": "2022-10-11T10:01:14.160Z"
   },
   {
    "duration": 149,
    "start_time": "2022-10-11T10:01:45.071Z"
   },
   {
    "duration": 138,
    "start_time": "2022-10-11T10:02:54.264Z"
   },
   {
    "duration": 147,
    "start_time": "2022-10-11T10:02:58.082Z"
   },
   {
    "duration": 171,
    "start_time": "2022-10-11T10:03:04.639Z"
   },
   {
    "duration": 139,
    "start_time": "2022-10-11T10:03:10.024Z"
   },
   {
    "duration": 135,
    "start_time": "2022-10-11T10:03:19.370Z"
   },
   {
    "duration": 119,
    "start_time": "2022-10-11T10:03:30.310Z"
   },
   {
    "duration": 126,
    "start_time": "2022-10-11T10:04:01.717Z"
   },
   {
    "duration": 128,
    "start_time": "2022-10-11T10:04:22.700Z"
   },
   {
    "duration": 144,
    "start_time": "2022-10-11T10:10:50.734Z"
   },
   {
    "duration": 131,
    "start_time": "2022-10-11T10:15:44.357Z"
   },
   {
    "duration": 11,
    "start_time": "2022-10-11T10:21:27.332Z"
   },
   {
    "duration": 14,
    "start_time": "2022-10-11T10:21:42.608Z"
   },
   {
    "duration": 14,
    "start_time": "2022-10-11T10:21:52.978Z"
   },
   {
    "duration": 20,
    "start_time": "2022-10-11T10:23:58.480Z"
   },
   {
    "duration": 27,
    "start_time": "2022-10-11T10:24:05.696Z"
   },
   {
    "duration": 23,
    "start_time": "2022-10-11T10:26:12.202Z"
   },
   {
    "duration": 16,
    "start_time": "2022-10-11T10:26:29.925Z"
   },
   {
    "duration": 25,
    "start_time": "2022-10-11T10:26:40.549Z"
   },
   {
    "duration": 29,
    "start_time": "2022-10-11T10:27:13.311Z"
   },
   {
    "duration": 42,
    "start_time": "2022-10-11T10:27:36.261Z"
   },
   {
    "duration": 80,
    "start_time": "2022-10-11T10:28:22.264Z"
   },
   {
    "duration": 74,
    "start_time": "2022-10-11T10:28:33.319Z"
   },
   {
    "duration": 125,
    "start_time": "2022-10-11T10:28:52.803Z"
   },
   {
    "duration": 32,
    "start_time": "2022-10-11T10:29:07.596Z"
   },
   {
    "duration": 19,
    "start_time": "2022-10-11T10:29:31.653Z"
   },
   {
    "duration": 18,
    "start_time": "2022-10-11T10:29:45.248Z"
   },
   {
    "duration": 24,
    "start_time": "2022-10-11T10:30:02.658Z"
   },
   {
    "duration": 17,
    "start_time": "2022-10-11T10:30:11.525Z"
   },
   {
    "duration": 29,
    "start_time": "2022-10-11T10:30:31.132Z"
   },
   {
    "duration": 28,
    "start_time": "2022-10-11T10:30:40.744Z"
   },
   {
    "duration": 28,
    "start_time": "2022-10-11T10:30:51.551Z"
   },
   {
    "duration": 34,
    "start_time": "2022-10-11T10:31:02.873Z"
   },
   {
    "duration": 22,
    "start_time": "2022-10-11T10:31:10.465Z"
   },
   {
    "duration": 20,
    "start_time": "2022-10-11T10:31:18.273Z"
   },
   {
    "duration": 27,
    "start_time": "2022-10-11T10:31:24.643Z"
   },
   {
    "duration": 34,
    "start_time": "2022-10-11T10:31:38.430Z"
   },
   {
    "duration": 21,
    "start_time": "2022-10-11T10:34:42.983Z"
   },
   {
    "duration": 21,
    "start_time": "2022-10-11T10:34:53.205Z"
   },
   {
    "duration": 16,
    "start_time": "2022-10-11T10:34:59.263Z"
   },
   {
    "duration": 16,
    "start_time": "2022-10-11T10:35:57.006Z"
   },
   {
    "duration": 15,
    "start_time": "2022-10-11T10:36:14.952Z"
   },
   {
    "duration": 33,
    "start_time": "2022-10-11T10:36:38.362Z"
   },
   {
    "duration": 15,
    "start_time": "2022-10-11T10:36:51.023Z"
   },
   {
    "duration": 14,
    "start_time": "2022-10-11T10:37:24.969Z"
   },
   {
    "duration": 17,
    "start_time": "2022-10-11T10:37:42.555Z"
   },
   {
    "duration": 515,
    "start_time": "2022-10-11T11:29:58.443Z"
   },
   {
    "duration": 15,
    "start_time": "2022-10-11T11:29:58.960Z"
   },
   {
    "duration": 64,
    "start_time": "2022-10-11T11:29:58.977Z"
   },
   {
    "duration": 2347,
    "start_time": "2022-10-11T11:29:59.042Z"
   },
   {
    "duration": 14,
    "start_time": "2022-10-11T11:30:01.392Z"
   },
   {
    "duration": 13,
    "start_time": "2022-10-11T11:30:01.408Z"
   },
   {
    "duration": 158,
    "start_time": "2022-10-11T11:30:01.424Z"
   },
   {
    "duration": 15,
    "start_time": "2022-10-11T11:30:01.585Z"
   },
   {
    "duration": 22,
    "start_time": "2022-10-11T11:30:01.602Z"
   },
   {
    "duration": 14,
    "start_time": "2022-10-11T11:30:01.627Z"
   },
   {
    "duration": 11,
    "start_time": "2022-10-11T11:30:01.642Z"
   },
   {
    "duration": 12,
    "start_time": "2022-10-11T11:30:01.655Z"
   },
   {
    "duration": 31,
    "start_time": "2022-10-11T11:30:01.669Z"
   },
   {
    "duration": 28,
    "start_time": "2022-10-11T11:30:01.704Z"
   },
   {
    "duration": 18,
    "start_time": "2022-10-11T11:30:01.734Z"
   },
   {
    "duration": 134,
    "start_time": "2022-10-11T11:30:01.755Z"
   },
   {
    "duration": 34,
    "start_time": "2022-10-11T11:30:01.891Z"
   },
   {
    "duration": 121,
    "start_time": "2022-10-11T11:30:01.927Z"
   },
   {
    "duration": 46,
    "start_time": "2022-10-11T11:30:02.049Z"
   },
   {
    "duration": 5,
    "start_time": "2022-10-11T11:30:02.097Z"
   },
   {
    "duration": 104,
    "start_time": "2022-10-11T11:30:02.104Z"
   },
   {
    "duration": 5,
    "start_time": "2022-10-11T11:30:02.209Z"
   },
   {
    "duration": 18,
    "start_time": "2022-10-11T11:30:02.215Z"
   },
   {
    "duration": 83,
    "start_time": "2022-10-11T11:30:02.235Z"
   },
   {
    "duration": 949,
    "start_time": "2022-10-11T11:30:02.320Z"
   },
   {
    "duration": 5,
    "start_time": "2022-10-11T11:30:03.272Z"
   },
   {
    "duration": 30,
    "start_time": "2022-10-11T11:30:03.279Z"
   },
   {
    "duration": 23,
    "start_time": "2022-10-11T11:30:03.311Z"
   },
   {
    "duration": 22,
    "start_time": "2022-10-11T11:30:03.336Z"
   },
   {
    "duration": 37,
    "start_time": "2022-10-11T11:30:03.361Z"
   },
   {
    "duration": 27,
    "start_time": "2022-10-11T11:30:03.401Z"
   },
   {
    "duration": 14,
    "start_time": "2022-10-11T11:30:03.430Z"
   },
   {
    "duration": 23,
    "start_time": "2022-10-11T11:30:03.446Z"
   },
   {
    "duration": 14,
    "start_time": "2022-10-11T11:30:03.471Z"
   },
   {
    "duration": 7,
    "start_time": "2022-10-11T11:30:03.487Z"
   },
   {
    "duration": 18,
    "start_time": "2022-10-11T11:30:03.496Z"
   },
   {
    "duration": 19,
    "start_time": "2022-10-11T11:30:03.516Z"
   },
   {
    "duration": 16,
    "start_time": "2022-10-11T11:30:03.537Z"
   },
   {
    "duration": 14,
    "start_time": "2022-10-11T11:30:03.556Z"
   },
   {
    "duration": 11,
    "start_time": "2022-10-11T11:30:03.572Z"
   },
   {
    "duration": 212,
    "start_time": "2022-10-11T11:30:03.588Z"
   },
   {
    "duration": 4,
    "start_time": "2022-10-11T11:30:03.802Z"
   },
   {
    "duration": 15,
    "start_time": "2022-10-11T11:30:03.809Z"
   },
   {
    "duration": 12,
    "start_time": "2022-10-11T11:30:03.826Z"
   },
   {
    "duration": 16,
    "start_time": "2022-10-11T11:30:03.840Z"
   },
   {
    "duration": 417,
    "start_time": "2022-10-11T11:30:03.857Z"
   },
   {
    "duration": 20,
    "start_time": "2022-10-11T11:30:04.276Z"
   },
   {
    "duration": 390,
    "start_time": "2022-10-11T11:30:04.299Z"
   },
   {
    "duration": 12,
    "start_time": "2022-10-11T11:30:04.694Z"
   },
   {
    "duration": 307,
    "start_time": "2022-10-11T11:30:04.712Z"
   },
   {
    "duration": 12,
    "start_time": "2022-10-11T11:30:05.021Z"
   },
   {
    "duration": 346,
    "start_time": "2022-10-11T11:30:05.035Z"
   },
   {
    "duration": 13,
    "start_time": "2022-10-11T11:30:05.383Z"
   },
   {
    "duration": 298,
    "start_time": "2022-10-11T11:30:05.397Z"
   },
   {
    "duration": 9,
    "start_time": "2022-10-11T11:30:05.697Z"
   },
   {
    "duration": 412,
    "start_time": "2022-10-11T11:30:05.708Z"
   },
   {
    "duration": 9,
    "start_time": "2022-10-11T11:30:06.123Z"
   },
   {
    "duration": 291,
    "start_time": "2022-10-11T11:30:06.134Z"
   },
   {
    "duration": 155,
    "start_time": "2022-10-11T11:30:06.427Z"
   },
   {
    "duration": 16,
    "start_time": "2022-10-11T11:30:06.584Z"
   },
   {
    "duration": 403,
    "start_time": "2022-10-11T11:30:06.602Z"
   },
   {
    "duration": 12,
    "start_time": "2022-10-11T11:30:07.009Z"
   },
   {
    "duration": 357,
    "start_time": "2022-10-11T11:30:07.023Z"
   },
   {
    "duration": 17,
    "start_time": "2022-10-11T11:30:07.382Z"
   },
   {
    "duration": 298,
    "start_time": "2022-10-11T11:30:07.400Z"
   },
   {
    "duration": 10,
    "start_time": "2022-10-11T11:30:07.700Z"
   },
   {
    "duration": 460,
    "start_time": "2022-10-11T11:30:07.712Z"
   },
   {
    "duration": 29,
    "start_time": "2022-10-11T11:30:08.175Z"
   },
   {
    "duration": 338,
    "start_time": "2022-10-11T11:30:08.206Z"
   },
   {
    "duration": 370,
    "start_time": "2022-10-11T11:30:08.546Z"
   },
   {
    "duration": 11,
    "start_time": "2022-10-11T11:30:08.919Z"
   },
   {
    "duration": 388,
    "start_time": "2022-10-11T11:30:08.932Z"
   },
   {
    "duration": 149,
    "start_time": "2022-10-11T11:30:09.321Z"
   },
   {
    "duration": 153,
    "start_time": "2022-10-11T11:30:09.472Z"
   },
   {
    "duration": 140,
    "start_time": "2022-10-11T11:30:09.626Z"
   },
   {
    "duration": 154,
    "start_time": "2022-10-11T11:30:09.768Z"
   },
   {
    "duration": 245,
    "start_time": "2022-10-11T11:30:09.924Z"
   },
   {
    "duration": 166,
    "start_time": "2022-10-11T11:30:10.172Z"
   },
   {
    "duration": 149,
    "start_time": "2022-10-11T11:30:10.340Z"
   },
   {
    "duration": 133,
    "start_time": "2022-10-11T11:30:10.495Z"
   },
   {
    "duration": 120,
    "start_time": "2022-10-11T11:30:10.630Z"
   },
   {
    "duration": 96,
    "start_time": "2022-10-11T11:30:17.990Z"
   },
   {
    "duration": 13,
    "start_time": "2022-10-11T11:30:23.248Z"
   },
   {
    "duration": 13,
    "start_time": "2022-10-11T11:35:35.159Z"
   },
   {
    "duration": 243,
    "start_time": "2022-10-11T11:37:02.981Z"
   },
   {
    "duration": 16,
    "start_time": "2022-10-11T11:37:21.255Z"
   },
   {
    "duration": 20,
    "start_time": "2022-10-11T11:38:06.707Z"
   },
   {
    "duration": 609,
    "start_time": "2022-10-11T11:43:19.138Z"
   },
   {
    "duration": 5,
    "start_time": "2022-10-11T11:43:22.847Z"
   },
   {
    "duration": 16,
    "start_time": "2022-10-11T11:46:29.788Z"
   },
   {
    "duration": 15,
    "start_time": "2022-10-11T11:47:06.217Z"
   },
   {
    "duration": 17,
    "start_time": "2022-10-11T11:47:15.291Z"
   },
   {
    "duration": 18,
    "start_time": "2022-10-11T11:47:22.009Z"
   },
   {
    "duration": 28,
    "start_time": "2022-10-11T11:48:07.434Z"
   },
   {
    "duration": 5,
    "start_time": "2022-10-11T11:48:56.679Z"
   },
   {
    "duration": 18,
    "start_time": "2022-10-11T11:49:04.131Z"
   },
   {
    "duration": 13,
    "start_time": "2022-10-11T11:49:33.963Z"
   },
   {
    "duration": 15,
    "start_time": "2022-10-11T11:49:44.114Z"
   },
   {
    "duration": 17,
    "start_time": "2022-10-11T11:51:08.229Z"
   },
   {
    "duration": 4,
    "start_time": "2022-10-11T11:53:27.661Z"
   },
   {
    "duration": 151,
    "start_time": "2022-10-11T11:53:45.879Z"
   },
   {
    "duration": 148,
    "start_time": "2022-10-11T11:54:05.377Z"
   },
   {
    "duration": 43,
    "start_time": "2022-10-11T11:54:55.443Z"
   },
   {
    "duration": 55,
    "start_time": "2022-10-11T11:55:13.586Z"
   },
   {
    "duration": 48,
    "start_time": "2022-10-11T11:55:20.483Z"
   },
   {
    "duration": 60,
    "start_time": "2022-10-11T11:56:29.503Z"
   },
   {
    "duration": 181,
    "start_time": "2022-10-11T12:07:03.991Z"
   },
   {
    "duration": 19,
    "start_time": "2022-10-11T12:07:11.631Z"
   },
   {
    "duration": 190,
    "start_time": "2022-10-11T12:07:26.547Z"
   },
   {
    "duration": 149,
    "start_time": "2022-10-11T12:07:32.529Z"
   },
   {
    "duration": 142,
    "start_time": "2022-10-11T12:07:37.940Z"
   },
   {
    "duration": 1472,
    "start_time": "2022-10-11T12:12:21.512Z"
   },
   {
    "duration": 1147,
    "start_time": "2022-10-11T12:12:39.263Z"
   },
   {
    "duration": 1434,
    "start_time": "2022-10-11T12:12:48.244Z"
   },
   {
    "duration": 1532,
    "start_time": "2022-10-11T12:12:56.192Z"
   },
   {
    "duration": 84,
    "start_time": "2022-10-11T12:13:19.730Z"
   },
   {
    "duration": 1387,
    "start_time": "2022-10-11T12:13:34.036Z"
   },
   {
    "duration": 4,
    "start_time": "2022-10-11T12:15:11.404Z"
   },
   {
    "duration": 7,
    "start_time": "2022-10-11T12:15:14.445Z"
   },
   {
    "duration": 16,
    "start_time": "2022-10-11T12:15:45.191Z"
   },
   {
    "duration": 8,
    "start_time": "2022-10-11T12:15:54.538Z"
   },
   {
    "duration": 16,
    "start_time": "2022-10-11T12:16:09.668Z"
   },
   {
    "duration": 23,
    "start_time": "2022-10-11T12:16:17.643Z"
   },
   {
    "duration": 57,
    "start_time": "2022-10-11T12:17:49.279Z"
   },
   {
    "duration": 28,
    "start_time": "2022-10-11T12:17:59.847Z"
   },
   {
    "duration": 82,
    "start_time": "2022-10-11T12:18:27.888Z"
   },
   {
    "duration": 37,
    "start_time": "2022-10-11T12:20:25.775Z"
   },
   {
    "duration": 25,
    "start_time": "2022-10-11T12:20:52.917Z"
   },
   {
    "duration": 138,
    "start_time": "2022-10-11T12:21:03.805Z"
   },
   {
    "duration": 19,
    "start_time": "2022-10-11T12:21:20.242Z"
   },
   {
    "duration": 216,
    "start_time": "2022-10-11T12:21:23.894Z"
   },
   {
    "duration": 51,
    "start_time": "2022-10-11T14:00:05.314Z"
   },
   {
    "duration": 7,
    "start_time": "2022-10-11T14:00:14.018Z"
   },
   {
    "duration": 577,
    "start_time": "2022-10-11T14:00:20.130Z"
   },
   {
    "duration": 17,
    "start_time": "2022-10-11T14:00:20.709Z"
   },
   {
    "duration": 63,
    "start_time": "2022-10-11T14:00:20.728Z"
   },
   {
    "duration": 2636,
    "start_time": "2022-10-11T14:00:20.793Z"
   },
   {
    "duration": 9,
    "start_time": "2022-10-11T14:00:23.431Z"
   },
   {
    "duration": 5,
    "start_time": "2022-10-11T14:00:23.442Z"
   },
   {
    "duration": 100,
    "start_time": "2022-10-11T14:00:23.449Z"
   },
   {
    "duration": 5,
    "start_time": "2022-10-11T14:00:23.551Z"
   },
   {
    "duration": 31,
    "start_time": "2022-10-11T14:00:23.558Z"
   },
   {
    "duration": 19,
    "start_time": "2022-10-11T14:00:23.592Z"
   },
   {
    "duration": 22,
    "start_time": "2022-10-11T14:00:23.612Z"
   },
   {
    "duration": 20,
    "start_time": "2022-10-11T14:00:23.635Z"
   },
   {
    "duration": 21,
    "start_time": "2022-10-11T14:00:23.657Z"
   },
   {
    "duration": 10,
    "start_time": "2022-10-11T14:00:23.681Z"
   },
   {
    "duration": 7,
    "start_time": "2022-10-11T14:00:23.692Z"
   },
   {
    "duration": 103,
    "start_time": "2022-10-11T14:00:23.701Z"
   },
   {
    "duration": 32,
    "start_time": "2022-10-11T14:00:23.806Z"
   },
   {
    "duration": 127,
    "start_time": "2022-10-11T14:00:23.840Z"
   },
   {
    "duration": 43,
    "start_time": "2022-10-11T14:00:23.969Z"
   },
   {
    "duration": 5,
    "start_time": "2022-10-11T14:00:24.014Z"
   },
   {
    "duration": 115,
    "start_time": "2022-10-11T14:00:24.021Z"
   },
   {
    "duration": 6,
    "start_time": "2022-10-11T14:00:24.138Z"
   },
   {
    "duration": 15,
    "start_time": "2022-10-11T14:00:24.145Z"
   },
   {
    "duration": 101,
    "start_time": "2022-10-11T14:00:24.162Z"
   },
   {
    "duration": 840,
    "start_time": "2022-10-11T14:00:24.265Z"
   },
   {
    "duration": 5,
    "start_time": "2022-10-11T14:00:25.106Z"
   },
   {
    "duration": 34,
    "start_time": "2022-10-11T14:00:25.113Z"
   },
   {
    "duration": 18,
    "start_time": "2022-10-11T14:00:25.152Z"
   },
   {
    "duration": 24,
    "start_time": "2022-10-11T14:00:25.172Z"
   },
   {
    "duration": 53,
    "start_time": "2022-10-11T14:00:25.198Z"
   },
   {
    "duration": 33,
    "start_time": "2022-10-11T14:00:25.254Z"
   },
   {
    "duration": 24,
    "start_time": "2022-10-11T14:00:25.289Z"
   },
   {
    "duration": 10,
    "start_time": "2022-10-11T14:00:25.315Z"
   },
   {
    "duration": 36,
    "start_time": "2022-10-11T14:00:25.327Z"
   },
   {
    "duration": 20,
    "start_time": "2022-10-11T14:00:25.365Z"
   },
   {
    "duration": 31,
    "start_time": "2022-10-11T14:00:25.387Z"
   },
   {
    "duration": 17,
    "start_time": "2022-10-11T14:00:25.420Z"
   },
   {
    "duration": 16,
    "start_time": "2022-10-11T14:00:25.439Z"
   },
   {
    "duration": 24,
    "start_time": "2022-10-11T14:00:25.457Z"
   },
   {
    "duration": 32,
    "start_time": "2022-10-11T14:00:25.482Z"
   },
   {
    "duration": 284,
    "start_time": "2022-10-11T14:00:25.516Z"
   },
   {
    "duration": 4,
    "start_time": "2022-10-11T14:00:25.802Z"
   },
   {
    "duration": 15,
    "start_time": "2022-10-11T14:00:25.808Z"
   },
   {
    "duration": 27,
    "start_time": "2022-10-11T14:00:25.824Z"
   },
   {
    "duration": 39,
    "start_time": "2022-10-11T14:00:25.853Z"
   },
   {
    "duration": 301,
    "start_time": "2022-10-11T14:00:25.894Z"
   },
   {
    "duration": 9,
    "start_time": "2022-10-11T14:00:26.197Z"
   },
   {
    "duration": 306,
    "start_time": "2022-10-11T14:00:26.207Z"
   },
   {
    "duration": 9,
    "start_time": "2022-10-11T14:00:26.514Z"
   },
   {
    "duration": 312,
    "start_time": "2022-10-11T14:00:26.525Z"
   },
   {
    "duration": 10,
    "start_time": "2022-10-11T14:00:26.839Z"
   },
   {
    "duration": 311,
    "start_time": "2022-10-11T14:00:26.851Z"
   },
   {
    "duration": 10,
    "start_time": "2022-10-11T14:00:27.165Z"
   },
   {
    "duration": 299,
    "start_time": "2022-10-11T14:00:27.190Z"
   },
   {
    "duration": 10,
    "start_time": "2022-10-11T14:00:27.491Z"
   },
   {
    "duration": 393,
    "start_time": "2022-10-11T14:00:27.503Z"
   },
   {
    "duration": 9,
    "start_time": "2022-10-11T14:00:27.898Z"
   },
   {
    "duration": 296,
    "start_time": "2022-10-11T14:00:27.909Z"
   },
   {
    "duration": 140,
    "start_time": "2022-10-11T14:00:28.207Z"
   },
   {
    "duration": 9,
    "start_time": "2022-10-11T14:00:28.349Z"
   },
   {
    "duration": 308,
    "start_time": "2022-10-11T14:00:28.360Z"
   },
   {
    "duration": 9,
    "start_time": "2022-10-11T14:00:28.669Z"
   },
   {
    "duration": 312,
    "start_time": "2022-10-11T14:00:28.689Z"
   },
   {
    "duration": 10,
    "start_time": "2022-10-11T14:00:29.003Z"
   },
   {
    "duration": 310,
    "start_time": "2022-10-11T14:00:29.015Z"
   },
   {
    "duration": 9,
    "start_time": "2022-10-11T14:00:29.327Z"
   },
   {
    "duration": 399,
    "start_time": "2022-10-11T14:00:29.338Z"
   },
   {
    "duration": 18,
    "start_time": "2022-10-11T14:00:29.739Z"
   },
   {
    "duration": 315,
    "start_time": "2022-10-11T14:00:29.759Z"
   },
   {
    "duration": 321,
    "start_time": "2022-10-11T14:00:30.076Z"
   },
   {
    "duration": 11,
    "start_time": "2022-10-11T14:00:30.399Z"
   },
   {
    "duration": 342,
    "start_time": "2022-10-11T14:00:30.412Z"
   },
   {
    "duration": 170,
    "start_time": "2022-10-11T14:00:30.755Z"
   },
   {
    "duration": 165,
    "start_time": "2022-10-11T14:00:30.927Z"
   },
   {
    "duration": 142,
    "start_time": "2022-10-11T14:00:31.094Z"
   },
   {
    "duration": 326,
    "start_time": "2022-10-11T14:00:31.290Z"
   },
   {
    "duration": 138,
    "start_time": "2022-10-11T14:00:31.617Z"
   },
   {
    "duration": 187,
    "start_time": "2022-10-11T14:00:31.758Z"
   },
   {
    "duration": 203,
    "start_time": "2022-10-11T14:00:31.947Z"
   },
   {
    "duration": 148,
    "start_time": "2022-10-11T14:00:32.152Z"
   },
   {
    "duration": 15,
    "start_time": "2022-10-11T14:00:32.302Z"
   },
   {
    "duration": 19,
    "start_time": "2022-10-11T14:00:32.324Z"
   },
   {
    "duration": 199,
    "start_time": "2022-10-11T14:00:32.345Z"
   },
   {
    "duration": 53,
    "start_time": "2022-10-11T14:00:32.546Z"
   },
   {
    "duration": 43,
    "start_time": "2022-10-11T14:00:32.600Z"
   },
   {
    "duration": 56,
    "start_time": "2022-10-11T14:00:41.792Z"
   },
   {
    "duration": 17,
    "start_time": "2022-10-11T14:00:47.995Z"
   },
   {
    "duration": 22,
    "start_time": "2022-10-11T14:00:51.204Z"
   },
   {
    "duration": 25,
    "start_time": "2022-10-11T14:00:54.020Z"
   },
   {
    "duration": 25,
    "start_time": "2022-10-11T14:01:36.584Z"
   },
   {
    "duration": 23,
    "start_time": "2022-10-11T14:01:44.194Z"
   },
   {
    "duration": 42,
    "start_time": "2022-10-11T14:01:51.760Z"
   },
   {
    "duration": 37,
    "start_time": "2022-10-11T14:02:18.913Z"
   },
   {
    "duration": 25,
    "start_time": "2022-10-11T14:02:34.228Z"
   },
   {
    "duration": 36,
    "start_time": "2022-10-11T14:03:00.932Z"
   },
   {
    "duration": 26,
    "start_time": "2022-10-11T14:03:09.143Z"
   },
   {
    "duration": 56,
    "start_time": "2022-10-12T06:04:42.156Z"
   },
   {
    "duration": 510,
    "start_time": "2022-10-12T06:04:53.955Z"
   },
   {
    "duration": 14,
    "start_time": "2022-10-12T06:04:54.466Z"
   },
   {
    "duration": 40,
    "start_time": "2022-10-12T06:04:54.482Z"
   },
   {
    "duration": 2167,
    "start_time": "2022-10-12T06:04:54.525Z"
   },
   {
    "duration": 10,
    "start_time": "2022-10-12T06:04:56.695Z"
   },
   {
    "duration": 8,
    "start_time": "2022-10-12T06:04:56.707Z"
   },
   {
    "duration": 97,
    "start_time": "2022-10-12T06:04:56.717Z"
   },
   {
    "duration": 11,
    "start_time": "2022-10-12T06:04:56.816Z"
   },
   {
    "duration": 10,
    "start_time": "2022-10-12T06:04:56.829Z"
   },
   {
    "duration": 16,
    "start_time": "2022-10-12T06:04:56.842Z"
   },
   {
    "duration": 10,
    "start_time": "2022-10-12T06:04:56.860Z"
   },
   {
    "duration": 30,
    "start_time": "2022-10-12T06:04:56.871Z"
   },
   {
    "duration": 5,
    "start_time": "2022-10-12T06:04:56.903Z"
   },
   {
    "duration": 9,
    "start_time": "2022-10-12T06:04:56.909Z"
   },
   {
    "duration": 7,
    "start_time": "2022-10-12T06:04:56.920Z"
   },
   {
    "duration": 105,
    "start_time": "2022-10-12T06:04:56.928Z"
   },
   {
    "duration": 28,
    "start_time": "2022-10-12T06:04:57.036Z"
   },
   {
    "duration": 108,
    "start_time": "2022-10-12T06:04:57.066Z"
   },
   {
    "duration": 37,
    "start_time": "2022-10-12T06:04:57.176Z"
   },
   {
    "duration": 4,
    "start_time": "2022-10-12T06:04:57.214Z"
   },
   {
    "duration": 94,
    "start_time": "2022-10-12T06:04:57.220Z"
   },
   {
    "duration": 4,
    "start_time": "2022-10-12T06:04:57.316Z"
   },
   {
    "duration": 12,
    "start_time": "2022-10-12T06:04:57.322Z"
   },
   {
    "duration": 92,
    "start_time": "2022-10-12T06:04:57.336Z"
   },
   {
    "duration": 705,
    "start_time": "2022-10-12T06:04:57.429Z"
   },
   {
    "duration": 4,
    "start_time": "2022-10-12T06:04:58.136Z"
   },
   {
    "duration": 29,
    "start_time": "2022-10-12T06:04:58.141Z"
   },
   {
    "duration": 5,
    "start_time": "2022-10-12T06:04:58.174Z"
   },
   {
    "duration": 5,
    "start_time": "2022-10-12T06:04:58.180Z"
   },
   {
    "duration": 9,
    "start_time": "2022-10-12T06:04:58.186Z"
   },
   {
    "duration": 13,
    "start_time": "2022-10-12T06:04:58.197Z"
   },
   {
    "duration": 4,
    "start_time": "2022-10-12T06:04:58.213Z"
   },
   {
    "duration": 9,
    "start_time": "2022-10-12T06:04:58.219Z"
   },
   {
    "duration": 8,
    "start_time": "2022-10-12T06:04:58.229Z"
   },
   {
    "duration": 6,
    "start_time": "2022-10-12T06:04:58.239Z"
   },
   {
    "duration": 8,
    "start_time": "2022-10-12T06:04:58.247Z"
   },
   {
    "duration": 6,
    "start_time": "2022-10-12T06:04:58.256Z"
   },
   {
    "duration": 32,
    "start_time": "2022-10-12T06:04:58.263Z"
   },
   {
    "duration": 5,
    "start_time": "2022-10-12T06:04:58.297Z"
   },
   {
    "duration": 5,
    "start_time": "2022-10-12T06:04:58.304Z"
   },
   {
    "duration": 296,
    "start_time": "2022-10-12T06:04:58.310Z"
   },
   {
    "duration": 5,
    "start_time": "2022-10-12T06:04:58.608Z"
   },
   {
    "duration": 8,
    "start_time": "2022-10-12T06:04:58.615Z"
   },
   {
    "duration": 11,
    "start_time": "2022-10-12T06:04:58.625Z"
   },
   {
    "duration": 16,
    "start_time": "2022-10-12T06:04:58.637Z"
   },
   {
    "duration": 298,
    "start_time": "2022-10-12T06:04:58.655Z"
   },
   {
    "duration": 9,
    "start_time": "2022-10-12T06:04:58.955Z"
   },
   {
    "duration": 315,
    "start_time": "2022-10-12T06:04:58.965Z"
   },
   {
    "duration": 18,
    "start_time": "2022-10-12T06:04:59.282Z"
   },
   {
    "duration": 282,
    "start_time": "2022-10-12T06:04:59.301Z"
   },
   {
    "duration": 14,
    "start_time": "2022-10-12T06:04:59.586Z"
   },
   {
    "duration": 280,
    "start_time": "2022-10-12T06:04:59.602Z"
   },
   {
    "duration": 12,
    "start_time": "2022-10-12T06:04:59.884Z"
   },
   {
    "duration": 257,
    "start_time": "2022-10-12T06:04:59.897Z"
   },
   {
    "duration": 9,
    "start_time": "2022-10-12T06:05:00.156Z"
   },
   {
    "duration": 350,
    "start_time": "2022-10-12T06:05:00.166Z"
   },
   {
    "duration": 10,
    "start_time": "2022-10-12T06:05:00.518Z"
   },
   {
    "duration": 272,
    "start_time": "2022-10-12T06:05:00.530Z"
   },
   {
    "duration": 115,
    "start_time": "2022-10-12T06:05:00.803Z"
   },
   {
    "duration": 8,
    "start_time": "2022-10-12T06:05:00.921Z"
   },
   {
    "duration": 298,
    "start_time": "2022-10-12T06:05:00.931Z"
   },
   {
    "duration": 10,
    "start_time": "2022-10-12T06:05:01.230Z"
   },
   {
    "duration": 290,
    "start_time": "2022-10-12T06:05:01.241Z"
   },
   {
    "duration": 9,
    "start_time": "2022-10-12T06:05:01.533Z"
   },
   {
    "duration": 290,
    "start_time": "2022-10-12T06:05:01.544Z"
   },
   {
    "duration": 8,
    "start_time": "2022-10-12T06:05:01.836Z"
   },
   {
    "duration": 439,
    "start_time": "2022-10-12T06:05:01.846Z"
   },
   {
    "duration": 20,
    "start_time": "2022-10-12T06:05:02.286Z"
   },
   {
    "duration": 274,
    "start_time": "2022-10-12T06:05:02.307Z"
   },
   {
    "duration": 340,
    "start_time": "2022-10-12T06:05:02.583Z"
   },
   {
    "duration": 9,
    "start_time": "2022-10-12T06:05:02.924Z"
   },
   {
    "duration": 334,
    "start_time": "2022-10-12T06:05:02.934Z"
   },
   {
    "duration": 133,
    "start_time": "2022-10-12T06:05:03.269Z"
   },
   {
    "duration": 134,
    "start_time": "2022-10-12T06:05:03.404Z"
   },
   {
    "duration": 125,
    "start_time": "2022-10-12T06:05:03.539Z"
   },
   {
    "duration": 217,
    "start_time": "2022-10-12T06:05:03.666Z"
   },
   {
    "duration": 123,
    "start_time": "2022-10-12T06:05:03.885Z"
   },
   {
    "duration": 136,
    "start_time": "2022-10-12T06:05:04.010Z"
   },
   {
    "duration": 147,
    "start_time": "2022-10-12T06:05:04.148Z"
   },
   {
    "duration": 139,
    "start_time": "2022-10-12T06:05:04.297Z"
   },
   {
    "duration": 14,
    "start_time": "2022-10-12T06:05:04.438Z"
   },
   {
    "duration": 16,
    "start_time": "2022-10-12T06:05:04.457Z"
   },
   {
    "duration": 159,
    "start_time": "2022-10-12T06:05:04.475Z"
   },
   {
    "duration": 33,
    "start_time": "2022-10-12T06:05:04.636Z"
   },
   {
    "duration": 37,
    "start_time": "2022-10-12T06:05:04.671Z"
   },
   {
    "duration": 641,
    "start_time": "2022-10-12T06:05:22.368Z"
   },
   {
    "duration": 3,
    "start_time": "2022-10-12T06:06:01.631Z"
   },
   {
    "duration": 3,
    "start_time": "2022-10-12T06:06:10.121Z"
   },
   {
    "duration": 7,
    "start_time": "2022-10-12T06:06:14.161Z"
   },
   {
    "duration": 494,
    "start_time": "2022-10-12T06:06:24.290Z"
   },
   {
    "duration": 15,
    "start_time": "2022-10-12T06:06:24.786Z"
   },
   {
    "duration": 49,
    "start_time": "2022-10-12T06:06:24.803Z"
   },
   {
    "duration": 2062,
    "start_time": "2022-10-12T06:06:24.854Z"
   },
   {
    "duration": 8,
    "start_time": "2022-10-12T06:06:26.918Z"
   },
   {
    "duration": 4,
    "start_time": "2022-10-12T06:06:26.927Z"
   },
   {
    "duration": 83,
    "start_time": "2022-10-12T06:06:26.932Z"
   },
   {
    "duration": 5,
    "start_time": "2022-10-12T06:06:27.017Z"
   },
   {
    "duration": 8,
    "start_time": "2022-10-12T06:06:27.024Z"
   },
   {
    "duration": 12,
    "start_time": "2022-10-12T06:06:27.034Z"
   },
   {
    "duration": 8,
    "start_time": "2022-10-12T06:06:27.048Z"
   },
   {
    "duration": 9,
    "start_time": "2022-10-12T06:06:27.058Z"
   },
   {
    "duration": 4,
    "start_time": "2022-10-12T06:06:27.095Z"
   },
   {
    "duration": 14,
    "start_time": "2022-10-12T06:06:27.101Z"
   },
   {
    "duration": 5,
    "start_time": "2022-10-12T06:06:27.116Z"
   },
   {
    "duration": 102,
    "start_time": "2022-10-12T06:06:27.122Z"
   },
   {
    "duration": 25,
    "start_time": "2022-10-12T06:06:27.225Z"
   },
   {
    "duration": 108,
    "start_time": "2022-10-12T06:06:27.252Z"
   },
   {
    "duration": 35,
    "start_time": "2022-10-12T06:06:27.361Z"
   },
   {
    "duration": 5,
    "start_time": "2022-10-12T06:06:27.398Z"
   },
   {
    "duration": 92,
    "start_time": "2022-10-12T06:06:27.404Z"
   },
   {
    "duration": 3,
    "start_time": "2022-10-12T06:06:27.498Z"
   },
   {
    "duration": 11,
    "start_time": "2022-10-12T06:06:27.503Z"
   },
   {
    "duration": 81,
    "start_time": "2022-10-12T06:06:27.515Z"
   },
   {
    "duration": 2,
    "start_time": "2022-10-12T06:06:27.597Z"
   },
   {
    "duration": 5,
    "start_time": "2022-10-12T06:06:27.601Z"
   },
   {
    "duration": 9,
    "start_time": "2022-10-12T06:06:27.607Z"
   },
   {
    "duration": 4,
    "start_time": "2022-10-12T06:06:27.619Z"
   },
   {
    "duration": 5,
    "start_time": "2022-10-12T06:06:27.624Z"
   },
   {
    "duration": 8,
    "start_time": "2022-10-12T06:06:27.630Z"
   },
   {
    "duration": 12,
    "start_time": "2022-10-12T06:06:27.639Z"
   },
   {
    "duration": 3,
    "start_time": "2022-10-12T06:06:27.652Z"
   },
   {
    "duration": 9,
    "start_time": "2022-10-12T06:06:27.657Z"
   },
   {
    "duration": 33,
    "start_time": "2022-10-12T06:06:27.667Z"
   },
   {
    "duration": 5,
    "start_time": "2022-10-12T06:06:27.701Z"
   },
   {
    "duration": 7,
    "start_time": "2022-10-12T06:06:27.707Z"
   },
   {
    "duration": 12,
    "start_time": "2022-10-12T06:06:27.715Z"
   },
   {
    "duration": 10,
    "start_time": "2022-10-12T06:06:27.728Z"
   },
   {
    "duration": 5,
    "start_time": "2022-10-12T06:06:27.739Z"
   },
   {
    "duration": 10,
    "start_time": "2022-10-12T06:06:27.745Z"
   },
   {
    "duration": 173,
    "start_time": "2022-10-12T06:06:27.756Z"
   },
   {
    "duration": 6,
    "start_time": "2022-10-12T06:06:27.930Z"
   },
   {
    "duration": 80,
    "start_time": "2022-10-12T06:06:27.938Z"
   },
   {
    "duration": 0,
    "start_time": "2022-10-12T06:06:28.020Z"
   },
   {
    "duration": 0,
    "start_time": "2022-10-12T06:06:28.021Z"
   },
   {
    "duration": 0,
    "start_time": "2022-10-12T06:06:28.023Z"
   },
   {
    "duration": 0,
    "start_time": "2022-10-12T06:06:28.024Z"
   },
   {
    "duration": 0,
    "start_time": "2022-10-12T06:06:28.025Z"
   },
   {
    "duration": 0,
    "start_time": "2022-10-12T06:06:28.027Z"
   },
   {
    "duration": 0,
    "start_time": "2022-10-12T06:06:28.028Z"
   },
   {
    "duration": 0,
    "start_time": "2022-10-12T06:06:28.030Z"
   },
   {
    "duration": 0,
    "start_time": "2022-10-12T06:06:28.031Z"
   },
   {
    "duration": 0,
    "start_time": "2022-10-12T06:06:28.033Z"
   },
   {
    "duration": 0,
    "start_time": "2022-10-12T06:06:28.034Z"
   },
   {
    "duration": 0,
    "start_time": "2022-10-12T06:06:28.035Z"
   },
   {
    "duration": 0,
    "start_time": "2022-10-12T06:06:28.037Z"
   },
   {
    "duration": 0,
    "start_time": "2022-10-12T06:06:28.038Z"
   },
   {
    "duration": 0,
    "start_time": "2022-10-12T06:06:28.040Z"
   },
   {
    "duration": 0,
    "start_time": "2022-10-12T06:06:28.041Z"
   },
   {
    "duration": 0,
    "start_time": "2022-10-12T06:06:28.055Z"
   },
   {
    "duration": 0,
    "start_time": "2022-10-12T06:06:28.096Z"
   },
   {
    "duration": 0,
    "start_time": "2022-10-12T06:06:28.179Z"
   },
   {
    "duration": 0,
    "start_time": "2022-10-12T06:06:28.181Z"
   },
   {
    "duration": 0,
    "start_time": "2022-10-12T06:06:28.182Z"
   },
   {
    "duration": 0,
    "start_time": "2022-10-12T06:06:28.195Z"
   },
   {
    "duration": 0,
    "start_time": "2022-10-12T06:06:28.196Z"
   },
   {
    "duration": 0,
    "start_time": "2022-10-12T06:06:28.197Z"
   },
   {
    "duration": 0,
    "start_time": "2022-10-12T06:06:28.198Z"
   },
   {
    "duration": 1,
    "start_time": "2022-10-12T06:06:28.199Z"
   },
   {
    "duration": 0,
    "start_time": "2022-10-12T06:06:28.200Z"
   },
   {
    "duration": 0,
    "start_time": "2022-10-12T06:06:28.201Z"
   },
   {
    "duration": 0,
    "start_time": "2022-10-12T06:06:28.202Z"
   },
   {
    "duration": 0,
    "start_time": "2022-10-12T06:06:28.203Z"
   },
   {
    "duration": 0,
    "start_time": "2022-10-12T06:06:28.204Z"
   },
   {
    "duration": 0,
    "start_time": "2022-10-12T06:06:28.205Z"
   },
   {
    "duration": 0,
    "start_time": "2022-10-12T06:06:28.206Z"
   },
   {
    "duration": 0,
    "start_time": "2022-10-12T06:06:28.207Z"
   },
   {
    "duration": 0,
    "start_time": "2022-10-12T06:06:28.207Z"
   },
   {
    "duration": 0,
    "start_time": "2022-10-12T06:06:28.208Z"
   },
   {
    "duration": 0,
    "start_time": "2022-10-12T06:06:28.209Z"
   },
   {
    "duration": 0,
    "start_time": "2022-10-12T06:06:28.210Z"
   },
   {
    "duration": 0,
    "start_time": "2022-10-12T06:06:28.211Z"
   },
   {
    "duration": 0,
    "start_time": "2022-10-12T06:06:28.212Z"
   },
   {
    "duration": 0,
    "start_time": "2022-10-12T06:06:28.213Z"
   },
   {
    "duration": 0,
    "start_time": "2022-10-12T06:06:28.214Z"
   },
   {
    "duration": 4,
    "start_time": "2022-10-12T06:06:44.145Z"
   },
   {
    "duration": 5,
    "start_time": "2022-10-12T06:06:45.761Z"
   },
   {
    "duration": 9,
    "start_time": "2022-10-12T06:06:56.045Z"
   },
   {
    "duration": 284,
    "start_time": "2022-10-12T06:06:56.249Z"
   },
   {
    "duration": 9,
    "start_time": "2022-10-12T06:06:57.113Z"
   },
   {
    "duration": 327,
    "start_time": "2022-10-12T06:06:57.299Z"
   },
   {
    "duration": 9,
    "start_time": "2022-10-12T06:06:58.208Z"
   },
   {
    "duration": 254,
    "start_time": "2022-10-12T06:06:58.397Z"
   },
   {
    "duration": 12,
    "start_time": "2022-10-12T06:06:59.028Z"
   },
   {
    "duration": 271,
    "start_time": "2022-10-12T06:06:59.199Z"
   },
   {
    "duration": 8,
    "start_time": "2022-10-12T06:06:59.733Z"
   },
   {
    "duration": 261,
    "start_time": "2022-10-12T06:06:59.915Z"
   },
   {
    "duration": 10,
    "start_time": "2022-10-12T06:07:00.484Z"
   },
   {
    "duration": 361,
    "start_time": "2022-10-12T06:07:00.666Z"
   },
   {
    "duration": 10,
    "start_time": "2022-10-12T06:07:01.237Z"
   },
   {
    "duration": 270,
    "start_time": "2022-10-12T06:07:01.416Z"
   },
   {
    "duration": 115,
    "start_time": "2022-10-12T06:07:02.492Z"
   },
   {
    "duration": 8,
    "start_time": "2022-10-12T06:07:03.351Z"
   },
   {
    "duration": 258,
    "start_time": "2022-10-12T06:07:03.533Z"
   },
   {
    "duration": 12,
    "start_time": "2022-10-12T06:07:04.100Z"
   },
   {
    "duration": 20,
    "start_time": "2022-10-12T06:07:14.769Z"
   },
   {
    "duration": 130,
    "start_time": "2022-10-12T06:07:24.150Z"
   },
   {
    "duration": 465,
    "start_time": "2022-10-12T06:07:51.409Z"
   },
   {
    "duration": 15,
    "start_time": "2022-10-12T06:07:51.876Z"
   },
   {
    "duration": 40,
    "start_time": "2022-10-12T06:07:51.892Z"
   },
   {
    "duration": 2066,
    "start_time": "2022-10-12T06:07:51.934Z"
   },
   {
    "duration": 9,
    "start_time": "2022-10-12T06:07:54.002Z"
   },
   {
    "duration": 7,
    "start_time": "2022-10-12T06:07:54.013Z"
   },
   {
    "duration": 88,
    "start_time": "2022-10-12T06:07:54.021Z"
   },
   {
    "duration": 5,
    "start_time": "2022-10-12T06:07:54.110Z"
   },
   {
    "duration": 7,
    "start_time": "2022-10-12T06:07:54.117Z"
   },
   {
    "duration": 10,
    "start_time": "2022-10-12T06:07:54.126Z"
   },
   {
    "duration": 8,
    "start_time": "2022-10-12T06:07:54.138Z"
   },
   {
    "duration": 8,
    "start_time": "2022-10-12T06:07:54.147Z"
   },
   {
    "duration": 5,
    "start_time": "2022-10-12T06:07:54.156Z"
   },
   {
    "duration": 36,
    "start_time": "2022-10-12T06:07:54.162Z"
   },
   {
    "duration": 4,
    "start_time": "2022-10-12T06:07:54.199Z"
   },
   {
    "duration": 91,
    "start_time": "2022-10-12T06:07:54.204Z"
   },
   {
    "duration": 25,
    "start_time": "2022-10-12T06:07:54.296Z"
   },
   {
    "duration": 98,
    "start_time": "2022-10-12T06:07:54.323Z"
   },
   {
    "duration": 26,
    "start_time": "2022-10-12T06:07:54.423Z"
   },
   {
    "duration": 4,
    "start_time": "2022-10-12T06:07:54.450Z"
   },
   {
    "duration": 94,
    "start_time": "2022-10-12T06:07:54.456Z"
   },
   {
    "duration": 4,
    "start_time": "2022-10-12T06:07:54.552Z"
   },
   {
    "duration": 11,
    "start_time": "2022-10-12T06:07:54.557Z"
   },
   {
    "duration": 71,
    "start_time": "2022-10-12T06:07:54.569Z"
   },
   {
    "duration": 691,
    "start_time": "2022-10-12T06:07:54.642Z"
   },
   {
    "duration": 5,
    "start_time": "2022-10-12T06:07:55.335Z"
   },
   {
    "duration": 9,
    "start_time": "2022-10-12T06:07:55.341Z"
   },
   {
    "duration": 4,
    "start_time": "2022-10-12T06:07:55.355Z"
   },
   {
    "duration": 5,
    "start_time": "2022-10-12T06:07:55.360Z"
   },
   {
    "duration": 32,
    "start_time": "2022-10-12T06:07:55.366Z"
   },
   {
    "duration": 12,
    "start_time": "2022-10-12T06:07:55.400Z"
   },
   {
    "duration": 4,
    "start_time": "2022-10-12T06:07:55.414Z"
   },
   {
    "duration": 5,
    "start_time": "2022-10-12T06:07:55.420Z"
   },
   {
    "duration": 7,
    "start_time": "2022-10-12T06:07:55.427Z"
   },
   {
    "duration": 5,
    "start_time": "2022-10-12T06:07:55.435Z"
   },
   {
    "duration": 6,
    "start_time": "2022-10-12T06:07:55.441Z"
   },
   {
    "duration": 5,
    "start_time": "2022-10-12T06:07:55.449Z"
   },
   {
    "duration": 41,
    "start_time": "2022-10-12T06:07:55.455Z"
   },
   {
    "duration": 6,
    "start_time": "2022-10-12T06:07:55.497Z"
   },
   {
    "duration": 5,
    "start_time": "2022-10-12T06:07:55.504Z"
   },
   {
    "duration": 258,
    "start_time": "2022-10-12T06:07:55.510Z"
   },
   {
    "duration": 4,
    "start_time": "2022-10-12T06:07:55.770Z"
   },
   {
    "duration": 8,
    "start_time": "2022-10-12T06:07:55.776Z"
   },
   {
    "duration": 10,
    "start_time": "2022-10-12T06:07:55.785Z"
   },
   {
    "duration": 8,
    "start_time": "2022-10-12T06:07:55.797Z"
   },
   {
    "duration": 286,
    "start_time": "2022-10-12T06:07:55.806Z"
   },
   {
    "duration": 9,
    "start_time": "2022-10-12T06:07:56.093Z"
   },
   {
    "duration": 293,
    "start_time": "2022-10-12T06:07:56.103Z"
   },
   {
    "duration": 9,
    "start_time": "2022-10-12T06:07:56.398Z"
   },
   {
    "duration": 345,
    "start_time": "2022-10-12T06:07:56.408Z"
   },
   {
    "duration": 8,
    "start_time": "2022-10-12T06:07:56.755Z"
   },
   {
    "duration": 288,
    "start_time": "2022-10-12T06:07:56.764Z"
   },
   {
    "duration": 8,
    "start_time": "2022-10-12T06:07:57.053Z"
   },
   {
    "duration": 265,
    "start_time": "2022-10-12T06:07:57.063Z"
   },
   {
    "duration": 8,
    "start_time": "2022-10-12T06:07:57.330Z"
   },
   {
    "duration": 360,
    "start_time": "2022-10-12T06:07:57.340Z"
   },
   {
    "duration": 9,
    "start_time": "2022-10-12T06:07:57.702Z"
   },
   {
    "duration": 258,
    "start_time": "2022-10-12T06:07:57.712Z"
   },
   {
    "duration": 106,
    "start_time": "2022-10-12T06:07:57.972Z"
   },
   {
    "duration": 16,
    "start_time": "2022-10-12T06:07:58.080Z"
   },
   {
    "duration": 261,
    "start_time": "2022-10-12T06:07:58.098Z"
   },
   {
    "duration": 8,
    "start_time": "2022-10-12T06:07:58.360Z"
   },
   {
    "duration": 277,
    "start_time": "2022-10-12T06:07:58.369Z"
   },
   {
    "duration": 8,
    "start_time": "2022-10-12T06:07:58.647Z"
   },
   {
    "duration": 262,
    "start_time": "2022-10-12T06:07:58.657Z"
   },
   {
    "duration": 9,
    "start_time": "2022-10-12T06:07:58.921Z"
   },
   {
    "duration": 381,
    "start_time": "2022-10-12T06:07:58.931Z"
   },
   {
    "duration": 16,
    "start_time": "2022-10-12T06:07:59.314Z"
   },
   {
    "duration": 292,
    "start_time": "2022-10-12T06:07:59.332Z"
   },
   {
    "duration": 269,
    "start_time": "2022-10-12T06:07:59.626Z"
   },
   {
    "duration": 8,
    "start_time": "2022-10-12T06:07:59.897Z"
   },
   {
    "duration": 279,
    "start_time": "2022-10-12T06:07:59.906Z"
   },
   {
    "duration": 145,
    "start_time": "2022-10-12T06:08:00.187Z"
   },
   {
    "duration": 138,
    "start_time": "2022-10-12T06:08:00.334Z"
   },
   {
    "duration": 138,
    "start_time": "2022-10-12T06:08:00.473Z"
   },
   {
    "duration": 149,
    "start_time": "2022-10-12T06:08:00.613Z"
   },
   {
    "duration": 232,
    "start_time": "2022-10-12T06:08:00.764Z"
   },
   {
    "duration": 135,
    "start_time": "2022-10-12T06:08:00.998Z"
   },
   {
    "duration": 162,
    "start_time": "2022-10-12T06:08:01.135Z"
   },
   {
    "duration": 136,
    "start_time": "2022-10-12T06:08:01.299Z"
   },
   {
    "duration": 12,
    "start_time": "2022-10-12T06:08:01.437Z"
   },
   {
    "duration": 18,
    "start_time": "2022-10-12T06:08:01.453Z"
   },
   {
    "duration": 156,
    "start_time": "2022-10-12T06:08:01.473Z"
   },
   {
    "duration": 35,
    "start_time": "2022-10-12T06:08:01.630Z"
   },
   {
    "duration": 40,
    "start_time": "2022-10-12T06:08:01.667Z"
   },
   {
    "duration": 6,
    "start_time": "2022-10-12T06:12:12.918Z"
   },
   {
    "duration": 5,
    "start_time": "2022-10-12T06:12:13.849Z"
   },
   {
    "duration": 8,
    "start_time": "2022-10-12T06:12:22.429Z"
   },
   {
    "duration": 276,
    "start_time": "2022-10-12T06:12:24.500Z"
   },
   {
    "duration": 20,
    "start_time": "2022-10-12T06:12:54.101Z"
   },
   {
    "duration": 137,
    "start_time": "2022-10-12T06:12:56.106Z"
   },
   {
    "duration": 32,
    "start_time": "2022-10-12T06:24:25.773Z"
   },
   {
    "duration": 53,
    "start_time": "2022-10-12T06:24:30.198Z"
   },
   {
    "duration": 35,
    "start_time": "2022-10-12T06:24:44.043Z"
   },
   {
    "duration": 15,
    "start_time": "2022-10-12T06:26:42.899Z"
   },
   {
    "duration": 15,
    "start_time": "2022-10-12T06:26:54.647Z"
   },
   {
    "duration": 17,
    "start_time": "2022-10-12T06:27:40.858Z"
   },
   {
    "duration": 4,
    "start_time": "2022-10-12T06:39:58.323Z"
   },
   {
    "duration": 4,
    "start_time": "2022-10-12T06:40:03.303Z"
   },
   {
    "duration": 133,
    "start_time": "2022-10-12T07:13:15.625Z"
   },
   {
    "duration": 10,
    "start_time": "2022-10-12T07:32:37.406Z"
   },
   {
    "duration": 10,
    "start_time": "2022-10-12T07:32:42.386Z"
   },
   {
    "duration": 8,
    "start_time": "2022-10-12T07:32:49.064Z"
   },
   {
    "duration": 10,
    "start_time": "2022-10-12T07:32:53.359Z"
   },
   {
    "duration": 493,
    "start_time": "2022-10-12T07:33:00.160Z"
   },
   {
    "duration": 14,
    "start_time": "2022-10-12T07:33:00.655Z"
   },
   {
    "duration": 59,
    "start_time": "2022-10-12T07:33:00.671Z"
   },
   {
    "duration": 2472,
    "start_time": "2022-10-12T07:33:00.733Z"
   },
   {
    "duration": 10,
    "start_time": "2022-10-12T07:33:03.207Z"
   },
   {
    "duration": 5,
    "start_time": "2022-10-12T07:33:03.219Z"
   },
   {
    "duration": 90,
    "start_time": "2022-10-12T07:33:03.227Z"
   },
   {
    "duration": 6,
    "start_time": "2022-10-12T07:33:03.319Z"
   },
   {
    "duration": 10,
    "start_time": "2022-10-12T07:33:03.327Z"
   },
   {
    "duration": 12,
    "start_time": "2022-10-12T07:33:03.341Z"
   },
   {
    "duration": 11,
    "start_time": "2022-10-12T07:33:03.355Z"
   },
   {
    "duration": 11,
    "start_time": "2022-10-12T07:33:03.394Z"
   },
   {
    "duration": 5,
    "start_time": "2022-10-12T07:33:03.407Z"
   },
   {
    "duration": 10,
    "start_time": "2022-10-12T07:33:03.413Z"
   },
   {
    "duration": 4,
    "start_time": "2022-10-12T07:33:03.425Z"
   },
   {
    "duration": 120,
    "start_time": "2022-10-12T07:33:03.431Z"
   },
   {
    "duration": 25,
    "start_time": "2022-10-12T07:33:03.553Z"
   },
   {
    "duration": 102,
    "start_time": "2022-10-12T07:33:03.580Z"
   },
   {
    "duration": 33,
    "start_time": "2022-10-12T07:33:03.684Z"
   },
   {
    "duration": 4,
    "start_time": "2022-10-12T07:33:03.719Z"
   },
   {
    "duration": 114,
    "start_time": "2022-10-12T07:33:03.724Z"
   },
   {
    "duration": 4,
    "start_time": "2022-10-12T07:33:03.840Z"
   },
   {
    "duration": 15,
    "start_time": "2022-10-12T07:33:03.845Z"
   },
   {
    "duration": 80,
    "start_time": "2022-10-12T07:33:03.862Z"
   },
   {
    "duration": 691,
    "start_time": "2022-10-12T07:33:03.944Z"
   },
   {
    "duration": 3,
    "start_time": "2022-10-12T07:33:04.637Z"
   },
   {
    "duration": 8,
    "start_time": "2022-10-12T07:33:04.642Z"
   },
   {
    "duration": 4,
    "start_time": "2022-10-12T07:33:04.656Z"
   },
   {
    "duration": 5,
    "start_time": "2022-10-12T07:33:04.662Z"
   },
   {
    "duration": 29,
    "start_time": "2022-10-12T07:33:04.669Z"
   },
   {
    "duration": 13,
    "start_time": "2022-10-12T07:33:04.700Z"
   },
   {
    "duration": 4,
    "start_time": "2022-10-12T07:33:04.714Z"
   },
   {
    "duration": 8,
    "start_time": "2022-10-12T07:33:04.720Z"
   },
   {
    "duration": 7,
    "start_time": "2022-10-12T07:33:04.729Z"
   },
   {
    "duration": 7,
    "start_time": "2022-10-12T07:33:04.737Z"
   },
   {
    "duration": 16,
    "start_time": "2022-10-12T07:33:04.745Z"
   },
   {
    "duration": 4,
    "start_time": "2022-10-12T07:33:04.763Z"
   },
   {
    "duration": 27,
    "start_time": "2022-10-12T07:33:04.768Z"
   },
   {
    "duration": 7,
    "start_time": "2022-10-12T07:33:04.797Z"
   },
   {
    "duration": 10,
    "start_time": "2022-10-12T07:33:04.806Z"
   },
   {
    "duration": 281,
    "start_time": "2022-10-12T07:33:04.817Z"
   },
   {
    "duration": 5,
    "start_time": "2022-10-12T07:33:05.099Z"
   },
   {
    "duration": 6,
    "start_time": "2022-10-12T07:33:05.106Z"
   },
   {
    "duration": 6,
    "start_time": "2022-10-12T07:33:05.113Z"
   },
   {
    "duration": 16,
    "start_time": "2022-10-12T07:33:05.120Z"
   },
   {
    "duration": 310,
    "start_time": "2022-10-12T07:33:05.138Z"
   },
   {
    "duration": 8,
    "start_time": "2022-10-12T07:33:05.450Z"
   },
   {
    "duration": 289,
    "start_time": "2022-10-12T07:33:05.460Z"
   },
   {
    "duration": 10,
    "start_time": "2022-10-12T07:33:05.751Z"
   },
   {
    "duration": 298,
    "start_time": "2022-10-12T07:33:05.762Z"
   },
   {
    "duration": 8,
    "start_time": "2022-10-12T07:33:06.062Z"
   },
   {
    "duration": 284,
    "start_time": "2022-10-12T07:33:06.072Z"
   },
   {
    "duration": 8,
    "start_time": "2022-10-12T07:33:06.358Z"
   },
   {
    "duration": 391,
    "start_time": "2022-10-12T07:33:06.368Z"
   },
   {
    "duration": 15,
    "start_time": "2022-10-12T07:33:06.761Z"
   },
   {
    "duration": 395,
    "start_time": "2022-10-12T07:33:06.779Z"
   },
   {
    "duration": 13,
    "start_time": "2022-10-12T07:33:07.175Z"
   },
   {
    "duration": 280,
    "start_time": "2022-10-12T07:33:07.194Z"
   },
   {
    "duration": 106,
    "start_time": "2022-10-12T07:33:07.476Z"
   },
   {
    "duration": 19,
    "start_time": "2022-10-12T07:33:07.583Z"
   },
   {
    "duration": 280,
    "start_time": "2022-10-12T07:33:07.604Z"
   },
   {
    "duration": 12,
    "start_time": "2022-10-12T07:33:07.886Z"
   },
   {
    "duration": 304,
    "start_time": "2022-10-12T07:33:07.899Z"
   },
   {
    "duration": 9,
    "start_time": "2022-10-12T07:33:08.204Z"
   },
   {
    "duration": 260,
    "start_time": "2022-10-12T07:33:08.215Z"
   },
   {
    "duration": 9,
    "start_time": "2022-10-12T07:33:08.477Z"
   },
   {
    "duration": 365,
    "start_time": "2022-10-12T07:33:08.487Z"
   },
   {
    "duration": 16,
    "start_time": "2022-10-12T07:33:08.854Z"
   },
   {
    "duration": 296,
    "start_time": "2022-10-12T07:33:08.872Z"
   },
   {
    "duration": 285,
    "start_time": "2022-10-12T07:33:09.169Z"
   },
   {
    "duration": 9,
    "start_time": "2022-10-12T07:33:09.456Z"
   },
   {
    "duration": 322,
    "start_time": "2022-10-12T07:33:09.466Z"
   },
   {
    "duration": 139,
    "start_time": "2022-10-12T07:33:09.790Z"
   },
   {
    "duration": 143,
    "start_time": "2022-10-12T07:33:09.931Z"
   },
   {
    "duration": 144,
    "start_time": "2022-10-12T07:33:10.075Z"
   },
   {
    "duration": 139,
    "start_time": "2022-10-12T07:33:10.221Z"
   },
   {
    "duration": 207,
    "start_time": "2022-10-12T07:33:10.362Z"
   },
   {
    "duration": 139,
    "start_time": "2022-10-12T07:33:10.571Z"
   },
   {
    "duration": 151,
    "start_time": "2022-10-12T07:33:10.711Z"
   },
   {
    "duration": 142,
    "start_time": "2022-10-12T07:33:10.864Z"
   },
   {
    "duration": 14,
    "start_time": "2022-10-12T07:33:11.008Z"
   },
   {
    "duration": 22,
    "start_time": "2022-10-12T07:33:11.026Z"
   },
   {
    "duration": 175,
    "start_time": "2022-10-12T07:33:11.051Z"
   },
   {
    "duration": 12,
    "start_time": "2022-10-12T07:33:17.720Z"
   },
   {
    "duration": 11,
    "start_time": "2022-10-12T07:33:21.955Z"
   },
   {
    "duration": 9,
    "start_time": "2022-10-12T07:33:22.830Z"
   },
   {
    "duration": 557,
    "start_time": "2022-10-12T07:33:34.278Z"
   },
   {
    "duration": 19,
    "start_time": "2022-10-12T07:33:34.837Z"
   },
   {
    "duration": 68,
    "start_time": "2022-10-12T07:33:34.858Z"
   },
   {
    "duration": 2565,
    "start_time": "2022-10-12T07:33:34.928Z"
   },
   {
    "duration": 11,
    "start_time": "2022-10-12T07:33:37.494Z"
   },
   {
    "duration": 26,
    "start_time": "2022-10-12T07:33:37.506Z"
   },
   {
    "duration": 94,
    "start_time": "2022-10-12T07:33:37.533Z"
   },
   {
    "duration": 5,
    "start_time": "2022-10-12T07:33:37.630Z"
   },
   {
    "duration": 8,
    "start_time": "2022-10-12T07:33:37.637Z"
   },
   {
    "duration": 15,
    "start_time": "2022-10-12T07:33:37.648Z"
   },
   {
    "duration": 36,
    "start_time": "2022-10-12T07:33:37.665Z"
   },
   {
    "duration": 8,
    "start_time": "2022-10-12T07:33:37.703Z"
   },
   {
    "duration": 17,
    "start_time": "2022-10-12T07:33:37.713Z"
   },
   {
    "duration": 20,
    "start_time": "2022-10-12T07:33:37.732Z"
   },
   {
    "duration": 12,
    "start_time": "2022-10-12T07:33:37.754Z"
   },
   {
    "duration": 117,
    "start_time": "2022-10-12T07:33:37.768Z"
   },
   {
    "duration": 42,
    "start_time": "2022-10-12T07:33:37.887Z"
   },
   {
    "duration": 110,
    "start_time": "2022-10-12T07:33:37.931Z"
   },
   {
    "duration": 33,
    "start_time": "2022-10-12T07:33:38.042Z"
   },
   {
    "duration": 21,
    "start_time": "2022-10-12T07:33:38.077Z"
   },
   {
    "duration": 106,
    "start_time": "2022-10-12T07:33:38.100Z"
   },
   {
    "duration": 5,
    "start_time": "2022-10-12T07:33:38.208Z"
   },
   {
    "duration": 17,
    "start_time": "2022-10-12T07:33:38.214Z"
   },
   {
    "duration": 80,
    "start_time": "2022-10-12T07:33:38.234Z"
   },
   {
    "duration": 791,
    "start_time": "2022-10-12T07:33:38.316Z"
   },
   {
    "duration": 5,
    "start_time": "2022-10-12T07:33:39.108Z"
   },
   {
    "duration": 10,
    "start_time": "2022-10-12T07:33:39.114Z"
   },
   {
    "duration": 9,
    "start_time": "2022-10-12T07:33:39.128Z"
   },
   {
    "duration": 9,
    "start_time": "2022-10-12T07:33:39.139Z"
   },
   {
    "duration": 12,
    "start_time": "2022-10-12T07:33:39.150Z"
   },
   {
    "duration": 33,
    "start_time": "2022-10-12T07:33:39.164Z"
   },
   {
    "duration": 5,
    "start_time": "2022-10-12T07:33:39.199Z"
   },
   {
    "duration": 29,
    "start_time": "2022-10-12T07:33:39.206Z"
   },
   {
    "duration": 11,
    "start_time": "2022-10-12T07:33:39.237Z"
   },
   {
    "duration": 6,
    "start_time": "2022-10-12T07:33:39.250Z"
   },
   {
    "duration": 10,
    "start_time": "2022-10-12T07:33:39.258Z"
   },
   {
    "duration": 9,
    "start_time": "2022-10-12T07:33:39.270Z"
   },
   {
    "duration": 8,
    "start_time": "2022-10-12T07:33:39.280Z"
   },
   {
    "duration": 7,
    "start_time": "2022-10-12T07:33:39.290Z"
   },
   {
    "duration": 10,
    "start_time": "2022-10-12T07:33:39.300Z"
   },
   {
    "duration": 253,
    "start_time": "2022-10-12T07:33:39.312Z"
   },
   {
    "duration": 6,
    "start_time": "2022-10-12T07:33:39.567Z"
   },
   {
    "duration": 7,
    "start_time": "2022-10-12T07:33:39.575Z"
   },
   {
    "duration": 6,
    "start_time": "2022-10-12T07:33:39.594Z"
   },
   {
    "duration": 11,
    "start_time": "2022-10-12T07:33:39.602Z"
   },
   {
    "duration": 285,
    "start_time": "2022-10-12T07:33:39.614Z"
   },
   {
    "duration": 8,
    "start_time": "2022-10-12T07:33:39.900Z"
   },
   {
    "duration": 285,
    "start_time": "2022-10-12T07:33:39.910Z"
   },
   {
    "duration": 10,
    "start_time": "2022-10-12T07:33:40.197Z"
   },
   {
    "duration": 304,
    "start_time": "2022-10-12T07:33:40.209Z"
   },
   {
    "duration": 8,
    "start_time": "2022-10-12T07:33:40.515Z"
   },
   {
    "duration": 294,
    "start_time": "2022-10-12T07:33:40.525Z"
   },
   {
    "duration": 11,
    "start_time": "2022-10-12T07:33:40.821Z"
   },
   {
    "duration": 287,
    "start_time": "2022-10-12T07:33:40.834Z"
   },
   {
    "duration": 9,
    "start_time": "2022-10-12T07:33:41.123Z"
   },
   {
    "duration": 381,
    "start_time": "2022-10-12T07:33:41.134Z"
   },
   {
    "duration": 13,
    "start_time": "2022-10-12T07:33:41.517Z"
   },
   {
    "duration": 301,
    "start_time": "2022-10-12T07:33:41.532Z"
   },
   {
    "duration": 112,
    "start_time": "2022-10-12T07:33:41.835Z"
   },
   {
    "duration": 9,
    "start_time": "2022-10-12T07:33:41.948Z"
   },
   {
    "duration": 265,
    "start_time": "2022-10-12T07:33:41.958Z"
   },
   {
    "duration": 10,
    "start_time": "2022-10-12T07:33:42.225Z"
   },
   {
    "duration": 298,
    "start_time": "2022-10-12T07:33:42.236Z"
   },
   {
    "duration": 11,
    "start_time": "2022-10-12T07:33:42.536Z"
   },
   {
    "duration": 279,
    "start_time": "2022-10-12T07:33:42.548Z"
   },
   {
    "duration": 11,
    "start_time": "2022-10-12T07:33:42.829Z"
   },
   {
    "duration": 387,
    "start_time": "2022-10-12T07:33:42.842Z"
   },
   {
    "duration": 17,
    "start_time": "2022-10-12T07:33:43.230Z"
   },
   {
    "duration": 363,
    "start_time": "2022-10-12T07:33:43.249Z"
   },
   {
    "duration": 431,
    "start_time": "2022-10-12T07:33:43.614Z"
   },
   {
    "duration": 9,
    "start_time": "2022-10-12T07:33:44.047Z"
   },
   {
    "duration": 299,
    "start_time": "2022-10-12T07:33:44.057Z"
   },
   {
    "duration": 144,
    "start_time": "2022-10-12T07:33:44.359Z"
   },
   {
    "duration": 176,
    "start_time": "2022-10-12T07:33:44.505Z"
   },
   {
    "duration": 138,
    "start_time": "2022-10-12T07:33:44.683Z"
   },
   {
    "duration": 147,
    "start_time": "2022-10-12T07:33:44.823Z"
   },
   {
    "duration": 211,
    "start_time": "2022-10-12T07:33:44.973Z"
   },
   {
    "duration": 138,
    "start_time": "2022-10-12T07:33:45.186Z"
   },
   {
    "duration": 153,
    "start_time": "2022-10-12T07:33:45.327Z"
   },
   {
    "duration": 134,
    "start_time": "2022-10-12T07:33:45.482Z"
   },
   {
    "duration": 13,
    "start_time": "2022-10-12T07:33:45.618Z"
   },
   {
    "duration": 19,
    "start_time": "2022-10-12T07:33:45.636Z"
   },
   {
    "duration": 164,
    "start_time": "2022-10-12T07:33:45.657Z"
   },
   {
    "duration": 26,
    "start_time": "2022-10-12T07:37:50.912Z"
   },
   {
    "duration": 664,
    "start_time": "2022-10-12T07:38:58.124Z"
   },
   {
    "duration": 27,
    "start_time": "2022-10-12T07:47:33.916Z"
   },
   {
    "duration": 139,
    "start_time": "2022-10-12T07:47:42.022Z"
   },
   {
    "duration": 14,
    "start_time": "2022-10-12T07:47:51.725Z"
   },
   {
    "duration": 569,
    "start_time": "2022-10-12T14:19:33.686Z"
   },
   {
    "duration": 16,
    "start_time": "2022-10-12T14:19:34.257Z"
   },
   {
    "duration": 59,
    "start_time": "2022-10-12T14:19:34.275Z"
   },
   {
    "duration": 2611,
    "start_time": "2022-10-12T14:19:34.336Z"
   },
   {
    "duration": 11,
    "start_time": "2022-10-12T14:19:36.949Z"
   },
   {
    "duration": 16,
    "start_time": "2022-10-12T14:19:36.961Z"
   },
   {
    "duration": 101,
    "start_time": "2022-10-12T14:19:36.979Z"
   },
   {
    "duration": 6,
    "start_time": "2022-10-12T14:19:37.082Z"
   },
   {
    "duration": 13,
    "start_time": "2022-10-12T14:19:37.089Z"
   },
   {
    "duration": 14,
    "start_time": "2022-10-12T14:19:37.119Z"
   },
   {
    "duration": 12,
    "start_time": "2022-10-12T14:19:37.135Z"
   },
   {
    "duration": 24,
    "start_time": "2022-10-12T14:19:37.149Z"
   },
   {
    "duration": 23,
    "start_time": "2022-10-12T14:19:37.175Z"
   },
   {
    "duration": 21,
    "start_time": "2022-10-12T14:19:37.201Z"
   },
   {
    "duration": 21,
    "start_time": "2022-10-12T14:19:37.224Z"
   },
   {
    "duration": 109,
    "start_time": "2022-10-12T14:19:37.247Z"
   },
   {
    "duration": 27,
    "start_time": "2022-10-12T14:19:37.358Z"
   },
   {
    "duration": 128,
    "start_time": "2022-10-12T14:19:37.387Z"
   },
   {
    "duration": 32,
    "start_time": "2022-10-12T14:19:37.517Z"
   },
   {
    "duration": 6,
    "start_time": "2022-10-12T14:19:37.551Z"
   },
   {
    "duration": 276,
    "start_time": "2022-10-12T14:19:37.558Z"
   },
   {
    "duration": 6,
    "start_time": "2022-10-12T14:19:37.836Z"
   },
   {
    "duration": 39,
    "start_time": "2022-10-12T14:19:37.844Z"
   },
   {
    "duration": 91,
    "start_time": "2022-10-12T14:19:37.885Z"
   },
   {
    "duration": 877,
    "start_time": "2022-10-12T14:19:37.978Z"
   },
   {
    "duration": 6,
    "start_time": "2022-10-12T14:19:38.857Z"
   },
   {
    "duration": 28,
    "start_time": "2022-10-12T14:19:38.866Z"
   },
   {
    "duration": 41,
    "start_time": "2022-10-12T14:19:38.899Z"
   },
   {
    "duration": 39,
    "start_time": "2022-10-12T14:19:38.942Z"
   },
   {
    "duration": 56,
    "start_time": "2022-10-12T14:19:38.984Z"
   },
   {
    "duration": 24,
    "start_time": "2022-10-12T14:19:39.042Z"
   },
   {
    "duration": 6,
    "start_time": "2022-10-12T14:19:39.068Z"
   },
   {
    "duration": 23,
    "start_time": "2022-10-12T14:19:39.076Z"
   },
   {
    "duration": 21,
    "start_time": "2022-10-12T14:19:39.102Z"
   },
   {
    "duration": 31,
    "start_time": "2022-10-12T14:19:39.125Z"
   },
   {
    "duration": 34,
    "start_time": "2022-10-12T14:19:39.158Z"
   },
   {
    "duration": 11,
    "start_time": "2022-10-12T14:19:39.194Z"
   },
   {
    "duration": 22,
    "start_time": "2022-10-12T14:19:39.208Z"
   },
   {
    "duration": 31,
    "start_time": "2022-10-12T14:19:39.233Z"
   },
   {
    "duration": 29,
    "start_time": "2022-10-12T14:19:39.266Z"
   },
   {
    "duration": 293,
    "start_time": "2022-10-12T14:19:39.297Z"
   },
   {
    "duration": 5,
    "start_time": "2022-10-12T14:19:39.592Z"
   },
   {
    "duration": 9,
    "start_time": "2022-10-12T14:19:39.598Z"
   },
   {
    "duration": 16,
    "start_time": "2022-10-12T14:19:39.609Z"
   },
   {
    "duration": 13,
    "start_time": "2022-10-12T14:19:39.627Z"
   },
   {
    "duration": 331,
    "start_time": "2022-10-12T14:19:39.642Z"
   },
   {
    "duration": 9,
    "start_time": "2022-10-12T14:19:39.976Z"
   },
   {
    "duration": 350,
    "start_time": "2022-10-12T14:19:39.987Z"
   },
   {
    "duration": 10,
    "start_time": "2022-10-12T14:19:40.340Z"
   },
   {
    "duration": 374,
    "start_time": "2022-10-12T14:19:40.352Z"
   },
   {
    "duration": 11,
    "start_time": "2022-10-12T14:19:40.728Z"
   },
   {
    "duration": 348,
    "start_time": "2022-10-12T14:19:40.741Z"
   },
   {
    "duration": 11,
    "start_time": "2022-10-12T14:19:41.091Z"
   },
   {
    "duration": 357,
    "start_time": "2022-10-12T14:19:41.104Z"
   },
   {
    "duration": 9,
    "start_time": "2022-10-12T14:19:41.463Z"
   },
   {
    "duration": 479,
    "start_time": "2022-10-12T14:19:41.473Z"
   },
   {
    "duration": 9,
    "start_time": "2022-10-12T14:19:41.954Z"
   },
   {
    "duration": 309,
    "start_time": "2022-10-12T14:19:41.965Z"
   },
   {
    "duration": 120,
    "start_time": "2022-10-12T14:19:42.276Z"
   },
   {
    "duration": 9,
    "start_time": "2022-10-12T14:19:42.397Z"
   },
   {
    "duration": 325,
    "start_time": "2022-10-12T14:19:42.407Z"
   },
   {
    "duration": 11,
    "start_time": "2022-10-12T14:19:42.733Z"
   },
   {
    "duration": 342,
    "start_time": "2022-10-12T14:19:42.746Z"
   },
   {
    "duration": 10,
    "start_time": "2022-10-12T14:19:43.090Z"
   },
   {
    "duration": 305,
    "start_time": "2022-10-12T14:19:43.102Z"
   },
   {
    "duration": 17,
    "start_time": "2022-10-12T14:19:43.410Z"
   },
   {
    "duration": 428,
    "start_time": "2022-10-12T14:19:43.428Z"
   },
   {
    "duration": 21,
    "start_time": "2022-10-12T14:19:43.858Z"
   },
   {
    "duration": 343,
    "start_time": "2022-10-12T14:19:43.881Z"
   },
   {
    "duration": 317,
    "start_time": "2022-10-12T14:19:44.226Z"
   },
   {
    "duration": 10,
    "start_time": "2022-10-12T14:19:44.545Z"
   },
   {
    "duration": 327,
    "start_time": "2022-10-12T14:19:44.556Z"
   },
   {
    "duration": 155,
    "start_time": "2022-10-12T14:19:44.885Z"
   },
   {
    "duration": 170,
    "start_time": "2022-10-12T14:19:45.042Z"
   },
   {
    "duration": 159,
    "start_time": "2022-10-12T14:19:45.221Z"
   },
   {
    "duration": 255,
    "start_time": "2022-10-12T14:19:45.382Z"
   },
   {
    "duration": 148,
    "start_time": "2022-10-12T14:19:45.639Z"
   },
   {
    "duration": 168,
    "start_time": "2022-10-12T14:19:45.790Z"
   },
   {
    "duration": 175,
    "start_time": "2022-10-12T14:19:45.960Z"
   },
   {
    "duration": 154,
    "start_time": "2022-10-12T14:19:46.138Z"
   },
   {
    "duration": 27,
    "start_time": "2022-10-12T14:19:46.295Z"
   },
   {
    "duration": 23,
    "start_time": "2022-10-12T14:19:46.327Z"
   },
   {
    "duration": 177,
    "start_time": "2022-10-12T14:19:46.351Z"
   },
   {
    "duration": 15,
    "start_time": "2022-10-12T14:25:59.650Z"
   },
   {
    "duration": 40,
    "start_time": "2022-10-12T14:26:13.886Z"
   },
   {
    "duration": 6,
    "start_time": "2022-10-12T14:26:19.779Z"
   },
   {
    "duration": 1031,
    "start_time": "2022-10-12T14:40:46.841Z"
   },
   {
    "duration": 969,
    "start_time": "2022-10-12T14:40:57.942Z"
   },
   {
    "duration": 6,
    "start_time": "2022-10-12T14:42:36.799Z"
   },
   {
    "duration": 6,
    "start_time": "2022-10-12T14:43:07.863Z"
   },
   {
    "duration": 541,
    "start_time": "2022-10-12T14:43:19.927Z"
   },
   {
    "duration": 18,
    "start_time": "2022-10-12T14:43:20.470Z"
   },
   {
    "duration": 62,
    "start_time": "2022-10-12T14:43:20.490Z"
   },
   {
    "duration": 2416,
    "start_time": "2022-10-12T14:43:20.555Z"
   },
   {
    "duration": 11,
    "start_time": "2022-10-12T14:43:22.973Z"
   },
   {
    "duration": 10,
    "start_time": "2022-10-12T14:43:22.986Z"
   },
   {
    "duration": 106,
    "start_time": "2022-10-12T14:43:22.998Z"
   },
   {
    "duration": 6,
    "start_time": "2022-10-12T14:43:23.106Z"
   },
   {
    "duration": 17,
    "start_time": "2022-10-12T14:43:23.113Z"
   },
   {
    "duration": 23,
    "start_time": "2022-10-12T14:43:23.133Z"
   },
   {
    "duration": 18,
    "start_time": "2022-10-12T14:43:23.157Z"
   },
   {
    "duration": 12,
    "start_time": "2022-10-12T14:43:23.177Z"
   },
   {
    "duration": 16,
    "start_time": "2022-10-12T14:43:23.191Z"
   },
   {
    "duration": 15,
    "start_time": "2022-10-12T14:43:23.209Z"
   },
   {
    "duration": 11,
    "start_time": "2022-10-12T14:43:23.226Z"
   },
   {
    "duration": 5,
    "start_time": "2022-10-12T14:43:23.239Z"
   },
   {
    "duration": 107,
    "start_time": "2022-10-12T14:43:23.247Z"
   },
   {
    "duration": 76,
    "start_time": "2022-10-12T14:43:23.356Z"
   },
   {
    "duration": 194,
    "start_time": "2022-10-12T14:43:23.434Z"
   },
   {
    "duration": 34,
    "start_time": "2022-10-12T14:43:23.630Z"
   },
   {
    "duration": 6,
    "start_time": "2022-10-12T14:43:23.721Z"
   },
   {
    "duration": 22,
    "start_time": "2022-10-12T14:43:23.728Z"
   },
   {
    "duration": 110,
    "start_time": "2022-10-12T14:43:23.752Z"
   },
   {
    "duration": 7,
    "start_time": "2022-10-12T14:43:23.864Z"
   },
   {
    "duration": 20,
    "start_time": "2022-10-12T14:43:23.873Z"
   },
   {
    "duration": 109,
    "start_time": "2022-10-12T14:43:23.895Z"
   },
   {
    "duration": 843,
    "start_time": "2022-10-12T14:43:24.006Z"
   },
   {
    "duration": 5,
    "start_time": "2022-10-12T14:43:24.853Z"
   },
   {
    "duration": 11,
    "start_time": "2022-10-12T14:43:24.860Z"
   },
   {
    "duration": 13,
    "start_time": "2022-10-12T14:43:24.873Z"
   },
   {
    "duration": 6,
    "start_time": "2022-10-12T14:43:24.888Z"
   },
   {
    "duration": 31,
    "start_time": "2022-10-12T14:43:24.896Z"
   },
   {
    "duration": 18,
    "start_time": "2022-10-12T14:43:24.929Z"
   },
   {
    "duration": 5,
    "start_time": "2022-10-12T14:43:24.949Z"
   },
   {
    "duration": 9,
    "start_time": "2022-10-12T14:43:24.956Z"
   },
   {
    "duration": 10,
    "start_time": "2022-10-12T14:43:24.967Z"
   },
   {
    "duration": 44,
    "start_time": "2022-10-12T14:43:24.979Z"
   },
   {
    "duration": 15,
    "start_time": "2022-10-12T14:43:25.025Z"
   },
   {
    "duration": 6,
    "start_time": "2022-10-12T14:43:25.043Z"
   },
   {
    "duration": 16,
    "start_time": "2022-10-12T14:43:25.053Z"
   },
   {
    "duration": 7,
    "start_time": "2022-10-12T14:43:25.073Z"
   },
   {
    "duration": 5,
    "start_time": "2022-10-12T14:43:25.083Z"
   },
   {
    "duration": 244,
    "start_time": "2022-10-12T14:43:25.091Z"
   },
   {
    "duration": 6,
    "start_time": "2022-10-12T14:43:25.336Z"
   },
   {
    "duration": 19,
    "start_time": "2022-10-12T14:43:25.344Z"
   },
   {
    "duration": 13,
    "start_time": "2022-10-12T14:43:25.365Z"
   },
   {
    "duration": 21,
    "start_time": "2022-10-12T14:43:25.380Z"
   },
   {
    "duration": 423,
    "start_time": "2022-10-12T14:43:25.404Z"
   },
   {
    "duration": 11,
    "start_time": "2022-10-12T14:43:25.829Z"
   },
   {
    "duration": 346,
    "start_time": "2022-10-12T14:43:25.841Z"
   },
   {
    "duration": 12,
    "start_time": "2022-10-12T14:43:26.188Z"
   },
   {
    "duration": 332,
    "start_time": "2022-10-12T14:43:26.202Z"
   },
   {
    "duration": 9,
    "start_time": "2022-10-12T14:43:26.536Z"
   },
   {
    "duration": 335,
    "start_time": "2022-10-12T14:43:26.546Z"
   },
   {
    "duration": 1026,
    "start_time": "2022-10-12T14:43:26.883Z"
   },
   {
    "duration": 16,
    "start_time": "2022-10-12T14:43:27.912Z"
   },
   {
    "duration": 314,
    "start_time": "2022-10-12T14:43:27.929Z"
   },
   {
    "duration": 10,
    "start_time": "2022-10-12T14:43:28.244Z"
   },
   {
    "duration": 324,
    "start_time": "2022-10-12T14:43:28.256Z"
   },
   {
    "duration": 9,
    "start_time": "2022-10-12T14:43:28.581Z"
   },
   {
    "duration": 314,
    "start_time": "2022-10-12T14:43:28.592Z"
   },
   {
    "duration": 167,
    "start_time": "2022-10-12T14:43:28.908Z"
   },
   {
    "duration": 12,
    "start_time": "2022-10-12T14:43:29.078Z"
   },
   {
    "duration": 495,
    "start_time": "2022-10-12T14:43:29.091Z"
   },
   {
    "duration": 9,
    "start_time": "2022-10-12T14:43:29.588Z"
   },
   {
    "duration": 366,
    "start_time": "2022-10-12T14:43:29.599Z"
   },
   {
    "duration": 11,
    "start_time": "2022-10-12T14:43:29.968Z"
   },
   {
    "duration": 344,
    "start_time": "2022-10-12T14:43:29.981Z"
   },
   {
    "duration": 14,
    "start_time": "2022-10-12T14:43:30.326Z"
   },
   {
    "duration": 353,
    "start_time": "2022-10-12T14:43:30.342Z"
   },
   {
    "duration": 25,
    "start_time": "2022-10-12T14:43:30.696Z"
   },
   {
    "duration": 335,
    "start_time": "2022-10-12T14:43:30.723Z"
   },
   {
    "duration": 405,
    "start_time": "2022-10-12T14:43:31.060Z"
   },
   {
    "duration": 10,
    "start_time": "2022-10-12T14:43:31.466Z"
   },
   {
    "duration": 303,
    "start_time": "2022-10-12T14:43:31.478Z"
   },
   {
    "duration": 167,
    "start_time": "2022-10-12T14:43:31.783Z"
   },
   {
    "duration": 159,
    "start_time": "2022-10-12T14:43:31.951Z"
   },
   {
    "duration": 178,
    "start_time": "2022-10-12T14:43:32.112Z"
   },
   {
    "duration": 161,
    "start_time": "2022-10-12T14:43:32.292Z"
   },
   {
    "duration": 152,
    "start_time": "2022-10-12T14:43:32.455Z"
   },
   {
    "duration": 171,
    "start_time": "2022-10-12T14:43:32.609Z"
   },
   {
    "duration": 174,
    "start_time": "2022-10-12T14:43:32.785Z"
   },
   {
    "duration": 174,
    "start_time": "2022-10-12T14:43:32.961Z"
   },
   {
    "duration": 17,
    "start_time": "2022-10-12T14:43:33.138Z"
   },
   {
    "duration": 125,
    "start_time": "2022-10-12T14:43:33.158Z"
   },
   {
    "duration": 172,
    "start_time": "2022-10-12T14:43:33.285Z"
   },
   {
    "duration": 6,
    "start_time": "2022-10-12T14:43:48.389Z"
   },
   {
    "duration": 7,
    "start_time": "2022-10-12T14:44:18.150Z"
   },
   {
    "duration": 160,
    "start_time": "2022-10-12T14:52:12.728Z"
   },
   {
    "duration": 137,
    "start_time": "2022-10-12T14:53:12.304Z"
   },
   {
    "duration": 164,
    "start_time": "2022-10-12T14:53:17.113Z"
   },
   {
    "duration": 511,
    "start_time": "2022-10-12T14:59:16.479Z"
   },
   {
    "duration": 20,
    "start_time": "2022-10-12T14:59:16.992Z"
   },
   {
    "duration": 50,
    "start_time": "2022-10-12T14:59:17.014Z"
   },
   {
    "duration": 2516,
    "start_time": "2022-10-12T14:59:17.067Z"
   },
   {
    "duration": 8,
    "start_time": "2022-10-12T14:59:19.585Z"
   },
   {
    "duration": 7,
    "start_time": "2022-10-12T14:59:19.595Z"
   },
   {
    "duration": 108,
    "start_time": "2022-10-12T14:59:19.604Z"
   },
   {
    "duration": 8,
    "start_time": "2022-10-12T14:59:19.714Z"
   },
   {
    "duration": 19,
    "start_time": "2022-10-12T14:59:19.724Z"
   },
   {
    "duration": 31,
    "start_time": "2022-10-12T14:59:19.747Z"
   },
   {
    "duration": 16,
    "start_time": "2022-10-12T14:59:19.781Z"
   },
   {
    "duration": 10,
    "start_time": "2022-10-12T14:59:19.800Z"
   },
   {
    "duration": 12,
    "start_time": "2022-10-12T14:59:19.812Z"
   },
   {
    "duration": 16,
    "start_time": "2022-10-12T14:59:19.826Z"
   },
   {
    "duration": 10,
    "start_time": "2022-10-12T14:59:19.844Z"
   },
   {
    "duration": 9,
    "start_time": "2022-10-12T14:59:19.856Z"
   },
   {
    "duration": 136,
    "start_time": "2022-10-12T14:59:19.867Z"
   },
   {
    "duration": 32,
    "start_time": "2022-10-12T14:59:20.005Z"
   },
   {
    "duration": 116,
    "start_time": "2022-10-12T14:59:20.039Z"
   },
   {
    "duration": 32,
    "start_time": "2022-10-12T14:59:20.157Z"
   },
   {
    "duration": 4,
    "start_time": "2022-10-12T14:59:20.191Z"
   },
   {
    "duration": 26,
    "start_time": "2022-10-12T14:59:20.197Z"
   },
   {
    "duration": 112,
    "start_time": "2022-10-12T14:59:20.225Z"
   },
   {
    "duration": 4,
    "start_time": "2022-10-12T14:59:20.339Z"
   },
   {
    "duration": 15,
    "start_time": "2022-10-12T14:59:20.345Z"
   },
   {
    "duration": 92,
    "start_time": "2022-10-12T14:59:20.361Z"
   },
   {
    "duration": 827,
    "start_time": "2022-10-12T14:59:20.455Z"
   },
   {
    "duration": 5,
    "start_time": "2022-10-12T14:59:21.286Z"
   },
   {
    "duration": 22,
    "start_time": "2022-10-12T14:59:21.293Z"
   },
   {
    "duration": 20,
    "start_time": "2022-10-12T14:59:21.317Z"
   },
   {
    "duration": 5,
    "start_time": "2022-10-12T14:59:21.339Z"
   },
   {
    "duration": 12,
    "start_time": "2022-10-12T14:59:21.346Z"
   },
   {
    "duration": 18,
    "start_time": "2022-10-12T14:59:21.360Z"
   },
   {
    "duration": 6,
    "start_time": "2022-10-12T14:59:21.380Z"
   },
   {
    "duration": 7,
    "start_time": "2022-10-12T14:59:21.388Z"
   },
   {
    "duration": 13,
    "start_time": "2022-10-12T14:59:21.396Z"
   },
   {
    "duration": 8,
    "start_time": "2022-10-12T14:59:21.420Z"
   },
   {
    "duration": 15,
    "start_time": "2022-10-12T14:59:21.430Z"
   },
   {
    "duration": 10,
    "start_time": "2022-10-12T14:59:21.446Z"
   },
   {
    "duration": 13,
    "start_time": "2022-10-12T14:59:21.458Z"
   },
   {
    "duration": 5,
    "start_time": "2022-10-12T14:59:21.472Z"
   },
   {
    "duration": 6,
    "start_time": "2022-10-12T14:59:21.479Z"
   },
   {
    "duration": 200,
    "start_time": "2022-10-12T14:59:21.486Z"
   },
   {
    "duration": 5,
    "start_time": "2022-10-12T14:59:21.688Z"
   },
   {
    "duration": 8,
    "start_time": "2022-10-12T14:59:21.695Z"
   },
   {
    "duration": 20,
    "start_time": "2022-10-12T14:59:21.704Z"
   },
   {
    "duration": 19,
    "start_time": "2022-10-12T14:59:21.726Z"
   },
   {
    "duration": 411,
    "start_time": "2022-10-12T14:59:21.746Z"
   },
   {
    "duration": 9,
    "start_time": "2022-10-12T14:59:22.159Z"
   },
   {
    "duration": 340,
    "start_time": "2022-10-12T14:59:22.170Z"
   },
   {
    "duration": 16,
    "start_time": "2022-10-12T14:59:22.511Z"
   },
   {
    "duration": 341,
    "start_time": "2022-10-12T14:59:22.529Z"
   },
   {
    "duration": 11,
    "start_time": "2022-10-12T14:59:22.872Z"
   },
   {
    "duration": 408,
    "start_time": "2022-10-12T14:59:22.885Z"
   },
   {
    "duration": 1092,
    "start_time": "2022-10-12T14:59:23.295Z"
   },
   {
    "duration": 9,
    "start_time": "2022-10-12T14:59:24.390Z"
   },
   {
    "duration": 342,
    "start_time": "2022-10-12T14:59:24.401Z"
   },
   {
    "duration": 11,
    "start_time": "2022-10-12T14:59:24.745Z"
   },
   {
    "duration": 319,
    "start_time": "2022-10-12T14:59:24.758Z"
   },
   {
    "duration": 10,
    "start_time": "2022-10-12T14:59:25.079Z"
   },
   {
    "duration": 318,
    "start_time": "2022-10-12T14:59:25.091Z"
   },
   {
    "duration": 126,
    "start_time": "2022-10-12T14:59:25.411Z"
   },
   {
    "duration": 9,
    "start_time": "2022-10-12T14:59:25.539Z"
   },
   {
    "duration": 487,
    "start_time": "2022-10-12T14:59:25.550Z"
   },
   {
    "duration": 12,
    "start_time": "2022-10-12T14:59:26.039Z"
   },
   {
    "duration": 342,
    "start_time": "2022-10-12T14:59:26.053Z"
   },
   {
    "duration": 10,
    "start_time": "2022-10-12T14:59:26.396Z"
   },
   {
    "duration": 327,
    "start_time": "2022-10-12T14:59:26.408Z"
   },
   {
    "duration": 12,
    "start_time": "2022-10-12T14:59:26.737Z"
   },
   {
    "duration": 341,
    "start_time": "2022-10-12T14:59:26.751Z"
   },
   {
    "duration": 18,
    "start_time": "2022-10-12T14:59:27.094Z"
   },
   {
    "duration": 325,
    "start_time": "2022-10-12T14:59:27.120Z"
   },
   {
    "duration": 420,
    "start_time": "2022-10-12T14:59:27.447Z"
   },
   {
    "duration": 10,
    "start_time": "2022-10-12T14:59:27.870Z"
   },
   {
    "duration": 303,
    "start_time": "2022-10-12T14:59:27.882Z"
   },
   {
    "duration": 165,
    "start_time": "2022-10-12T14:59:28.187Z"
   },
   {
    "duration": 193,
    "start_time": "2022-10-12T14:59:28.354Z"
   },
   {
    "duration": 203,
    "start_time": "2022-10-12T14:59:28.549Z"
   },
   {
    "duration": 169,
    "start_time": "2022-10-12T14:59:28.755Z"
   },
   {
    "duration": 224,
    "start_time": "2022-10-12T14:59:28.926Z"
   },
   {
    "duration": 194,
    "start_time": "2022-10-12T14:59:29.153Z"
   },
   {
    "duration": 176,
    "start_time": "2022-10-12T14:59:29.356Z"
   },
   {
    "duration": 162,
    "start_time": "2022-10-12T14:59:29.534Z"
   },
   {
    "duration": 228,
    "start_time": "2022-10-12T14:59:29.698Z"
   },
   {
    "duration": 15,
    "start_time": "2022-10-12T14:59:29.929Z"
   },
   {
    "duration": 25,
    "start_time": "2022-10-12T14:59:29.946Z"
   },
   {
    "duration": 187,
    "start_time": "2022-10-12T14:59:29.973Z"
   },
   {
    "duration": 80,
    "start_time": "2022-10-13T06:43:27.254Z"
   },
   {
    "duration": 77,
    "start_time": "2022-10-13T06:43:34.918Z"
   },
   {
    "duration": 42,
    "start_time": "2022-10-13T06:44:20.707Z"
   },
   {
    "duration": 1121,
    "start_time": "2022-10-13T06:44:32.102Z"
   },
   {
    "duration": 15,
    "start_time": "2022-10-13T06:44:35.263Z"
   },
   {
    "duration": 43,
    "start_time": "2022-10-13T06:44:38.601Z"
   },
   {
    "duration": 1923,
    "start_time": "2022-10-13T06:44:43.230Z"
   },
   {
    "duration": 5,
    "start_time": "2022-10-13T06:49:36.807Z"
   },
   {
    "duration": 7,
    "start_time": "2022-10-13T06:49:39.720Z"
   },
   {
    "duration": 11,
    "start_time": "2022-10-13T06:49:44.286Z"
   },
   {
    "duration": 9,
    "start_time": "2022-10-13T06:49:45.438Z"
   },
   {
    "duration": 7,
    "start_time": "2022-10-13T06:49:51.120Z"
   },
   {
    "duration": 4,
    "start_time": "2022-10-13T06:49:52.558Z"
   },
   {
    "duration": 4,
    "start_time": "2022-10-13T06:58:01.670Z"
   },
   {
    "duration": 6,
    "start_time": "2022-10-13T06:58:07.998Z"
   },
   {
    "duration": 5,
    "start_time": "2022-10-13T06:58:19.186Z"
   },
   {
    "duration": 4,
    "start_time": "2022-10-13T06:58:24.189Z"
   },
   {
    "duration": 110,
    "start_time": "2022-10-13T07:00:26.778Z"
   },
   {
    "duration": 75,
    "start_time": "2022-10-13T07:00:40.639Z"
   },
   {
    "duration": 84,
    "start_time": "2022-10-13T07:00:44.234Z"
   },
   {
    "duration": 4,
    "start_time": "2022-10-13T07:01:17.819Z"
   },
   {
    "duration": 6,
    "start_time": "2022-10-13T07:01:39.459Z"
   },
   {
    "duration": 5,
    "start_time": "2022-10-13T07:02:57.728Z"
   },
   {
    "duration": 4,
    "start_time": "2022-10-13T07:03:35.905Z"
   },
   {
    "duration": 4,
    "start_time": "2022-10-13T07:04:09.473Z"
   },
   {
    "duration": 6,
    "start_time": "2022-10-13T07:04:16.588Z"
   },
   {
    "duration": 5,
    "start_time": "2022-10-13T07:08:39.053Z"
   },
   {
    "duration": 5,
    "start_time": "2022-10-13T07:08:43.731Z"
   },
   {
    "duration": 4,
    "start_time": "2022-10-13T07:08:57.757Z"
   },
   {
    "duration": 117,
    "start_time": "2022-10-13T07:09:00.515Z"
   },
   {
    "duration": 6,
    "start_time": "2022-10-13T07:09:10.069Z"
   },
   {
    "duration": 21,
    "start_time": "2022-10-13T07:09:39.489Z"
   },
   {
    "duration": 6,
    "start_time": "2022-10-13T07:11:21.664Z"
   },
   {
    "duration": 6,
    "start_time": "2022-10-13T07:11:33.745Z"
   },
   {
    "duration": 5,
    "start_time": "2022-10-13T07:14:09.421Z"
   },
   {
    "duration": 5,
    "start_time": "2022-10-13T07:15:02.400Z"
   },
   {
    "duration": 5,
    "start_time": "2022-10-13T07:15:35.817Z"
   },
   {
    "duration": 5,
    "start_time": "2022-10-13T07:15:36.593Z"
   },
   {
    "duration": 8,
    "start_time": "2022-10-13T07:15:38.103Z"
   },
   {
    "duration": 4,
    "start_time": "2022-10-13T07:16:23.519Z"
   },
   {
    "duration": 81,
    "start_time": "2022-10-13T07:18:05.766Z"
   },
   {
    "duration": 91,
    "start_time": "2022-10-13T07:18:34.286Z"
   },
   {
    "duration": 4,
    "start_time": "2022-10-13T07:18:36.968Z"
   },
   {
    "duration": 1553,
    "start_time": "2022-10-13T07:20:44.334Z"
   },
   {
    "duration": 4,
    "start_time": "2022-10-13T07:22:46.716Z"
   },
   {
    "duration": 3,
    "start_time": "2022-10-13T07:22:49.112Z"
   },
   {
    "duration": 12,
    "start_time": "2022-10-13T07:23:25.503Z"
   },
   {
    "duration": 325,
    "start_time": "2022-10-13T07:23:27.209Z"
   },
   {
    "duration": 45,
    "start_time": "2022-10-13T07:24:00.111Z"
   },
   {
    "duration": 808,
    "start_time": "2022-10-13T07:24:09.662Z"
   },
   {
    "duration": 16,
    "start_time": "2022-10-13T07:24:10.473Z"
   },
   {
    "duration": 46,
    "start_time": "2022-10-13T07:24:10.491Z"
   },
   {
    "duration": 2114,
    "start_time": "2022-10-13T07:24:10.539Z"
   },
   {
    "duration": 11,
    "start_time": "2022-10-13T07:24:12.655Z"
   },
   {
    "duration": 14,
    "start_time": "2022-10-13T07:24:12.668Z"
   },
   {
    "duration": 104,
    "start_time": "2022-10-13T07:24:12.684Z"
   },
   {
    "duration": 7,
    "start_time": "2022-10-13T07:24:12.790Z"
   },
   {
    "duration": 13,
    "start_time": "2022-10-13T07:24:12.799Z"
   },
   {
    "duration": 11,
    "start_time": "2022-10-13T07:24:12.816Z"
   },
   {
    "duration": 15,
    "start_time": "2022-10-13T07:24:12.829Z"
   },
   {
    "duration": 14,
    "start_time": "2022-10-13T07:24:12.846Z"
   },
   {
    "duration": 35,
    "start_time": "2022-10-13T07:24:12.862Z"
   },
   {
    "duration": 5,
    "start_time": "2022-10-13T07:24:12.899Z"
   },
   {
    "duration": 22,
    "start_time": "2022-10-13T07:24:12.905Z"
   },
   {
    "duration": 7,
    "start_time": "2022-10-13T07:24:12.929Z"
   },
   {
    "duration": 118,
    "start_time": "2022-10-13T07:24:12.937Z"
   },
   {
    "duration": 84,
    "start_time": "2022-10-13T07:24:13.057Z"
   },
   {
    "duration": 0,
    "start_time": "2022-10-13T07:24:13.144Z"
   },
   {
    "duration": 0,
    "start_time": "2022-10-13T07:24:13.145Z"
   },
   {
    "duration": 0,
    "start_time": "2022-10-13T07:24:13.146Z"
   },
   {
    "duration": 0,
    "start_time": "2022-10-13T07:24:13.148Z"
   },
   {
    "duration": 0,
    "start_time": "2022-10-13T07:24:13.149Z"
   },
   {
    "duration": 0,
    "start_time": "2022-10-13T07:24:13.150Z"
   },
   {
    "duration": 0,
    "start_time": "2022-10-13T07:24:13.151Z"
   },
   {
    "duration": 0,
    "start_time": "2022-10-13T07:24:13.152Z"
   },
   {
    "duration": 0,
    "start_time": "2022-10-13T07:24:13.153Z"
   },
   {
    "duration": 0,
    "start_time": "2022-10-13T07:24:13.154Z"
   },
   {
    "duration": 0,
    "start_time": "2022-10-13T07:24:13.155Z"
   },
   {
    "duration": 1,
    "start_time": "2022-10-13T07:24:13.156Z"
   },
   {
    "duration": 0,
    "start_time": "2022-10-13T07:24:13.158Z"
   },
   {
    "duration": 0,
    "start_time": "2022-10-13T07:24:13.159Z"
   },
   {
    "duration": 0,
    "start_time": "2022-10-13T07:24:13.160Z"
   },
   {
    "duration": 0,
    "start_time": "2022-10-13T07:24:13.161Z"
   },
   {
    "duration": 0,
    "start_time": "2022-10-13T07:24:13.197Z"
   },
   {
    "duration": 0,
    "start_time": "2022-10-13T07:24:13.198Z"
   },
   {
    "duration": 0,
    "start_time": "2022-10-13T07:24:13.199Z"
   },
   {
    "duration": 0,
    "start_time": "2022-10-13T07:24:13.201Z"
   },
   {
    "duration": 0,
    "start_time": "2022-10-13T07:24:13.203Z"
   },
   {
    "duration": 0,
    "start_time": "2022-10-13T07:24:13.204Z"
   },
   {
    "duration": 0,
    "start_time": "2022-10-13T07:24:13.205Z"
   },
   {
    "duration": 0,
    "start_time": "2022-10-13T07:24:13.206Z"
   },
   {
    "duration": 0,
    "start_time": "2022-10-13T07:24:13.208Z"
   },
   {
    "duration": 0,
    "start_time": "2022-10-13T07:24:13.208Z"
   },
   {
    "duration": 0,
    "start_time": "2022-10-13T07:24:13.209Z"
   },
   {
    "duration": 0,
    "start_time": "2022-10-13T07:24:13.211Z"
   },
   {
    "duration": 0,
    "start_time": "2022-10-13T07:24:13.212Z"
   },
   {
    "duration": 0,
    "start_time": "2022-10-13T07:24:13.213Z"
   },
   {
    "duration": 0,
    "start_time": "2022-10-13T07:24:13.214Z"
   },
   {
    "duration": 0,
    "start_time": "2022-10-13T07:24:13.216Z"
   },
   {
    "duration": 0,
    "start_time": "2022-10-13T07:24:13.217Z"
   },
   {
    "duration": 0,
    "start_time": "2022-10-13T07:24:13.219Z"
   },
   {
    "duration": 0,
    "start_time": "2022-10-13T07:24:13.220Z"
   },
   {
    "duration": 0,
    "start_time": "2022-10-13T07:24:13.221Z"
   },
   {
    "duration": 0,
    "start_time": "2022-10-13T07:24:13.222Z"
   },
   {
    "duration": 0,
    "start_time": "2022-10-13T07:24:13.223Z"
   },
   {
    "duration": 0,
    "start_time": "2022-10-13T07:24:13.225Z"
   },
   {
    "duration": 0,
    "start_time": "2022-10-13T07:24:13.226Z"
   },
   {
    "duration": 0,
    "start_time": "2022-10-13T07:24:13.227Z"
   },
   {
    "duration": 0,
    "start_time": "2022-10-13T07:24:13.228Z"
   },
   {
    "duration": 0,
    "start_time": "2022-10-13T07:24:13.229Z"
   },
   {
    "duration": 0,
    "start_time": "2022-10-13T07:24:13.231Z"
   },
   {
    "duration": 0,
    "start_time": "2022-10-13T07:24:13.297Z"
   },
   {
    "duration": 0,
    "start_time": "2022-10-13T07:24:13.298Z"
   },
   {
    "duration": 0,
    "start_time": "2022-10-13T07:24:13.299Z"
   },
   {
    "duration": 0,
    "start_time": "2022-10-13T07:24:13.300Z"
   },
   {
    "duration": 0,
    "start_time": "2022-10-13T07:24:13.301Z"
   },
   {
    "duration": 0,
    "start_time": "2022-10-13T07:24:13.302Z"
   },
   {
    "duration": 0,
    "start_time": "2022-10-13T07:24:13.303Z"
   },
   {
    "duration": 0,
    "start_time": "2022-10-13T07:24:13.304Z"
   },
   {
    "duration": 0,
    "start_time": "2022-10-13T07:24:13.306Z"
   },
   {
    "duration": 0,
    "start_time": "2022-10-13T07:24:13.307Z"
   },
   {
    "duration": 0,
    "start_time": "2022-10-13T07:24:13.308Z"
   },
   {
    "duration": 0,
    "start_time": "2022-10-13T07:24:13.310Z"
   },
   {
    "duration": 0,
    "start_time": "2022-10-13T07:24:13.311Z"
   },
   {
    "duration": 0,
    "start_time": "2022-10-13T07:24:13.312Z"
   },
   {
    "duration": 0,
    "start_time": "2022-10-13T07:24:13.313Z"
   },
   {
    "duration": 0,
    "start_time": "2022-10-13T07:24:13.315Z"
   },
   {
    "duration": 0,
    "start_time": "2022-10-13T07:24:13.316Z"
   },
   {
    "duration": 0,
    "start_time": "2022-10-13T07:24:13.317Z"
   },
   {
    "duration": 0,
    "start_time": "2022-10-13T07:24:13.318Z"
   },
   {
    "duration": 0,
    "start_time": "2022-10-13T07:24:13.319Z"
   },
   {
    "duration": 0,
    "start_time": "2022-10-13T07:24:13.320Z"
   },
   {
    "duration": 0,
    "start_time": "2022-10-13T07:24:13.321Z"
   },
   {
    "duration": 0,
    "start_time": "2022-10-13T07:24:13.322Z"
   },
   {
    "duration": 0,
    "start_time": "2022-10-13T07:24:13.324Z"
   },
   {
    "duration": 0,
    "start_time": "2022-10-13T07:24:13.325Z"
   },
   {
    "duration": 0,
    "start_time": "2022-10-13T07:24:13.326Z"
   },
   {
    "duration": 4,
    "start_time": "2022-10-13T07:24:49.545Z"
   },
   {
    "duration": 5,
    "start_time": "2022-10-13T07:25:00.541Z"
   },
   {
    "duration": 111,
    "start_time": "2022-10-13T07:25:02.481Z"
   },
   {
    "duration": 5,
    "start_time": "2022-10-13T07:25:10.001Z"
   },
   {
    "duration": 5,
    "start_time": "2022-10-13T07:25:12.075Z"
   },
   {
    "duration": 7,
    "start_time": "2022-10-13T07:25:13.067Z"
   },
   {
    "duration": 764,
    "start_time": "2022-10-13T07:25:21.949Z"
   },
   {
    "duration": 17,
    "start_time": "2022-10-13T07:25:22.715Z"
   },
   {
    "duration": 45,
    "start_time": "2022-10-13T07:25:22.734Z"
   },
   {
    "duration": 2149,
    "start_time": "2022-10-13T07:25:22.796Z"
   },
   {
    "duration": 9,
    "start_time": "2022-10-13T07:25:24.947Z"
   },
   {
    "duration": 7,
    "start_time": "2022-10-13T07:25:24.958Z"
   },
   {
    "duration": 97,
    "start_time": "2022-10-13T07:25:24.966Z"
   },
   {
    "duration": 6,
    "start_time": "2022-10-13T07:25:25.065Z"
   },
   {
    "duration": 9,
    "start_time": "2022-10-13T07:25:25.073Z"
   },
   {
    "duration": 17,
    "start_time": "2022-10-13T07:25:25.085Z"
   },
   {
    "duration": 14,
    "start_time": "2022-10-13T07:25:25.104Z"
   },
   {
    "duration": 11,
    "start_time": "2022-10-13T07:25:25.120Z"
   },
   {
    "duration": 10,
    "start_time": "2022-10-13T07:25:25.132Z"
   },
   {
    "duration": 5,
    "start_time": "2022-10-13T07:25:25.144Z"
   },
   {
    "duration": 46,
    "start_time": "2022-10-13T07:25:25.151Z"
   },
   {
    "duration": 5,
    "start_time": "2022-10-13T07:25:25.199Z"
   },
   {
    "duration": 107,
    "start_time": "2022-10-13T07:25:25.206Z"
   },
   {
    "duration": 5,
    "start_time": "2022-10-13T07:25:25.315Z"
   },
   {
    "duration": 7,
    "start_time": "2022-10-13T07:25:25.322Z"
   },
   {
    "duration": 126,
    "start_time": "2022-10-13T07:25:25.331Z"
   },
   {
    "duration": 4,
    "start_time": "2022-10-13T07:25:25.459Z"
   },
   {
    "duration": 10,
    "start_time": "2022-10-13T07:25:25.464Z"
   },
   {
    "duration": 22,
    "start_time": "2022-10-13T07:25:25.476Z"
   },
   {
    "duration": 105,
    "start_time": "2022-10-13T07:25:25.499Z"
   },
   {
    "duration": 6,
    "start_time": "2022-10-13T07:25:25.605Z"
   },
   {
    "duration": 12,
    "start_time": "2022-10-13T07:25:25.612Z"
   },
   {
    "duration": 135,
    "start_time": "2022-10-13T07:25:25.626Z"
   },
   {
    "duration": 3,
    "start_time": "2022-10-13T07:25:25.766Z"
   },
   {
    "duration": 11,
    "start_time": "2022-10-13T07:25:25.771Z"
   },
   {
    "duration": 19,
    "start_time": "2022-10-13T07:25:25.784Z"
   },
   {
    "duration": 4,
    "start_time": "2022-10-13T07:25:25.806Z"
   },
   {
    "duration": 6,
    "start_time": "2022-10-13T07:25:25.812Z"
   },
   {
    "duration": 11,
    "start_time": "2022-10-13T07:25:25.819Z"
   },
   {
    "duration": 14,
    "start_time": "2022-10-13T07:25:25.832Z"
   },
   {
    "duration": 5,
    "start_time": "2022-10-13T07:25:25.848Z"
   },
   {
    "duration": 6,
    "start_time": "2022-10-13T07:25:25.855Z"
   },
   {
    "duration": 38,
    "start_time": "2022-10-13T07:25:25.863Z"
   },
   {
    "duration": 5,
    "start_time": "2022-10-13T07:25:25.903Z"
   },
   {
    "duration": 9,
    "start_time": "2022-10-13T07:25:25.910Z"
   },
   {
    "duration": 6,
    "start_time": "2022-10-13T07:25:25.920Z"
   },
   {
    "duration": 9,
    "start_time": "2022-10-13T07:25:25.928Z"
   },
   {
    "duration": 5,
    "start_time": "2022-10-13T07:25:25.939Z"
   },
   {
    "duration": 5,
    "start_time": "2022-10-13T07:25:25.946Z"
   },
   {
    "duration": 424,
    "start_time": "2022-10-13T07:25:25.953Z"
   },
   {
    "duration": 6,
    "start_time": "2022-10-13T07:25:26.379Z"
   },
   {
    "duration": 12,
    "start_time": "2022-10-13T07:25:26.387Z"
   },
   {
    "duration": 7,
    "start_time": "2022-10-13T07:25:26.401Z"
   },
   {
    "duration": 13,
    "start_time": "2022-10-13T07:25:26.410Z"
   },
   {
    "duration": 331,
    "start_time": "2022-10-13T07:25:26.425Z"
   },
   {
    "duration": 10,
    "start_time": "2022-10-13T07:25:26.758Z"
   },
   {
    "duration": 318,
    "start_time": "2022-10-13T07:25:26.769Z"
   },
   {
    "duration": 10,
    "start_time": "2022-10-13T07:25:27.089Z"
   },
   {
    "duration": 296,
    "start_time": "2022-10-13T07:25:27.101Z"
   },
   {
    "duration": 11,
    "start_time": "2022-10-13T07:25:27.399Z"
   },
   {
    "duration": 303,
    "start_time": "2022-10-13T07:25:27.411Z"
   },
   {
    "duration": 1111,
    "start_time": "2022-10-13T07:25:27.716Z"
   },
   {
    "duration": 9,
    "start_time": "2022-10-13T07:25:28.829Z"
   },
   {
    "duration": 306,
    "start_time": "2022-10-13T07:25:28.840Z"
   },
   {
    "duration": 11,
    "start_time": "2022-10-13T07:25:29.148Z"
   },
   {
    "duration": 306,
    "start_time": "2022-10-13T07:25:29.160Z"
   },
   {
    "duration": 10,
    "start_time": "2022-10-13T07:25:29.467Z"
   },
   {
    "duration": 320,
    "start_time": "2022-10-13T07:25:29.479Z"
   },
   {
    "duration": 261,
    "start_time": "2022-10-13T07:25:29.801Z"
   },
   {
    "duration": 9,
    "start_time": "2022-10-13T07:25:30.064Z"
   },
   {
    "duration": 312,
    "start_time": "2022-10-13T07:25:30.075Z"
   },
   {
    "duration": 16,
    "start_time": "2022-10-13T07:25:30.389Z"
   },
   {
    "duration": 378,
    "start_time": "2022-10-13T07:25:30.407Z"
   },
   {
    "duration": 16,
    "start_time": "2022-10-13T07:25:30.787Z"
   },
   {
    "duration": 316,
    "start_time": "2022-10-13T07:25:30.805Z"
   },
   {
    "duration": 11,
    "start_time": "2022-10-13T07:25:31.124Z"
   },
   {
    "duration": 332,
    "start_time": "2022-10-13T07:25:31.137Z"
   },
   {
    "duration": 30,
    "start_time": "2022-10-13T07:25:31.472Z"
   },
   {
    "duration": 321,
    "start_time": "2022-10-13T07:25:31.504Z"
   },
   {
    "duration": 387,
    "start_time": "2022-10-13T07:25:31.827Z"
   },
   {
    "duration": 11,
    "start_time": "2022-10-13T07:25:32.216Z"
   },
   {
    "duration": 321,
    "start_time": "2022-10-13T07:25:32.230Z"
   },
   {
    "duration": 175,
    "start_time": "2022-10-13T07:25:32.553Z"
   },
   {
    "duration": 169,
    "start_time": "2022-10-13T07:25:32.730Z"
   },
   {
    "duration": 165,
    "start_time": "2022-10-13T07:25:32.901Z"
   },
   {
    "duration": 167,
    "start_time": "2022-10-13T07:25:33.069Z"
   },
   {
    "duration": 167,
    "start_time": "2022-10-13T07:25:33.238Z"
   },
   {
    "duration": 144,
    "start_time": "2022-10-13T07:25:33.411Z"
   },
   {
    "duration": 159,
    "start_time": "2022-10-13T07:25:33.557Z"
   },
   {
    "duration": 242,
    "start_time": "2022-10-13T07:25:33.718Z"
   },
   {
    "duration": 154,
    "start_time": "2022-10-13T07:25:33.962Z"
   },
   {
    "duration": 18,
    "start_time": "2022-10-13T07:25:34.118Z"
   },
   {
    "duration": 26,
    "start_time": "2022-10-13T07:25:34.138Z"
   },
   {
    "duration": 172,
    "start_time": "2022-10-13T07:25:34.166Z"
   },
   {
    "duration": 10,
    "start_time": "2022-10-13T07:27:47.570Z"
   },
   {
    "duration": 15,
    "start_time": "2022-10-13T07:29:54.425Z"
   },
   {
    "duration": 338,
    "start_time": "2022-10-13T07:35:08.278Z"
   },
   {
    "duration": 141,
    "start_time": "2022-10-13T07:35:50.369Z"
   },
   {
    "duration": 385,
    "start_time": "2022-10-13T07:36:08.942Z"
   },
   {
    "duration": 343,
    "start_time": "2022-10-13T07:36:21.654Z"
   },
   {
    "duration": 351,
    "start_time": "2022-10-13T07:36:28.550Z"
   },
   {
    "duration": 314,
    "start_time": "2022-10-13T07:36:35.592Z"
   },
   {
    "duration": 385,
    "start_time": "2022-10-13T07:36:49.071Z"
   },
   {
    "duration": 376,
    "start_time": "2022-10-13T07:37:14.266Z"
   },
   {
    "duration": 322,
    "start_time": "2022-10-13T07:37:20.367Z"
   },
   {
    "duration": 307,
    "start_time": "2022-10-13T07:37:29.115Z"
   },
   {
    "duration": 336,
    "start_time": "2022-10-13T07:37:44.162Z"
   },
   {
    "duration": 427,
    "start_time": "2022-10-13T07:37:56.970Z"
   },
   {
    "duration": 321,
    "start_time": "2022-10-13T07:38:10.352Z"
   },
   {
    "duration": 330,
    "start_time": "2022-10-13T07:38:19.076Z"
   },
   {
    "duration": 5,
    "start_time": "2022-10-13T07:38:59.215Z"
   },
   {
    "duration": 5,
    "start_time": "2022-10-13T07:39:46.418Z"
   },
   {
    "duration": 4,
    "start_time": "2022-10-13T07:39:56.384Z"
   },
   {
    "duration": 188,
    "start_time": "2022-10-13T07:40:05.805Z"
   },
   {
    "duration": 6,
    "start_time": "2022-10-13T07:40:24.696Z"
   },
   {
    "duration": 77,
    "start_time": "2022-10-13T07:43:21.066Z"
   },
   {
    "duration": 322,
    "start_time": "2022-10-13T07:44:20.484Z"
   },
   {
    "duration": 327,
    "start_time": "2022-10-13T07:44:27.299Z"
   },
   {
    "duration": 73,
    "start_time": "2022-10-13T07:47:50.169Z"
   },
   {
    "duration": 331,
    "start_time": "2022-10-13T07:48:12.224Z"
   },
   {
    "duration": 12,
    "start_time": "2022-10-13T07:49:04.073Z"
   },
   {
    "duration": 4,
    "start_time": "2022-10-13T07:51:58.934Z"
   },
   {
    "duration": 209,
    "start_time": "2022-10-13T07:52:01.686Z"
   },
   {
    "duration": 182,
    "start_time": "2022-10-13T07:52:43.902Z"
   },
   {
    "duration": 133,
    "start_time": "2022-10-13T07:53:14.639Z"
   },
   {
    "duration": 210,
    "start_time": "2022-10-13T07:53:38.500Z"
   },
   {
    "duration": 143,
    "start_time": "2022-10-13T07:54:11.498Z"
   },
   {
    "duration": 141,
    "start_time": "2022-10-13T07:54:19.243Z"
   },
   {
    "duration": 140,
    "start_time": "2022-10-13T07:54:24.011Z"
   },
   {
    "duration": 283,
    "start_time": "2022-10-13T07:54:58.009Z"
   },
   {
    "duration": 207,
    "start_time": "2022-10-13T07:55:03.473Z"
   },
   {
    "duration": 79,
    "start_time": "2022-10-13T07:55:33.205Z"
   },
   {
    "duration": 140,
    "start_time": "2022-10-13T07:56:36.798Z"
   },
   {
    "duration": 144,
    "start_time": "2022-10-13T07:57:10.151Z"
   },
   {
    "duration": 226,
    "start_time": "2022-10-13T07:58:04.691Z"
   },
   {
    "duration": 198,
    "start_time": "2022-10-13T07:58:28.416Z"
   },
   {
    "duration": 190,
    "start_time": "2022-10-13T07:58:37.962Z"
   },
   {
    "duration": 186,
    "start_time": "2022-10-13T07:59:05.968Z"
   },
   {
    "duration": 157,
    "start_time": "2022-10-13T07:59:33.014Z"
   },
   {
    "duration": 14,
    "start_time": "2022-10-13T08:00:31.782Z"
   },
   {
    "duration": 752,
    "start_time": "2022-10-13T08:05:28.627Z"
   },
   {
    "duration": 16,
    "start_time": "2022-10-13T08:05:29.381Z"
   },
   {
    "duration": 39,
    "start_time": "2022-10-13T08:05:29.399Z"
   },
   {
    "duration": 1997,
    "start_time": "2022-10-13T08:05:29.440Z"
   },
   {
    "duration": 8,
    "start_time": "2022-10-13T08:05:31.438Z"
   },
   {
    "duration": 16,
    "start_time": "2022-10-13T08:05:31.448Z"
   },
   {
    "duration": 82,
    "start_time": "2022-10-13T08:05:31.466Z"
   },
   {
    "duration": 5,
    "start_time": "2022-10-13T08:05:31.550Z"
   },
   {
    "duration": 22,
    "start_time": "2022-10-13T08:05:31.557Z"
   },
   {
    "duration": 8,
    "start_time": "2022-10-13T08:05:31.582Z"
   },
   {
    "duration": 13,
    "start_time": "2022-10-13T08:05:31.596Z"
   },
   {
    "duration": 10,
    "start_time": "2022-10-13T08:05:31.610Z"
   },
   {
    "duration": 13,
    "start_time": "2022-10-13T08:05:31.621Z"
   },
   {
    "duration": 4,
    "start_time": "2022-10-13T08:05:31.636Z"
   },
   {
    "duration": 11,
    "start_time": "2022-10-13T08:05:31.641Z"
   },
   {
    "duration": 4,
    "start_time": "2022-10-13T08:05:31.654Z"
   },
   {
    "duration": 123,
    "start_time": "2022-10-13T08:05:31.659Z"
   },
   {
    "duration": 5,
    "start_time": "2022-10-13T08:05:31.796Z"
   },
   {
    "duration": 6,
    "start_time": "2022-10-13T08:05:31.802Z"
   },
   {
    "duration": 117,
    "start_time": "2022-10-13T08:05:31.810Z"
   },
   {
    "duration": 5,
    "start_time": "2022-10-13T08:05:31.928Z"
   },
   {
    "duration": 6,
    "start_time": "2022-10-13T08:05:31.934Z"
   },
   {
    "duration": 10,
    "start_time": "2022-10-13T08:05:31.942Z"
   },
   {
    "duration": 117,
    "start_time": "2022-10-13T08:05:31.954Z"
   },
   {
    "duration": 6,
    "start_time": "2022-10-13T08:05:32.073Z"
   },
   {
    "duration": 23,
    "start_time": "2022-10-13T08:05:32.080Z"
   },
   {
    "duration": 111,
    "start_time": "2022-10-13T08:05:32.105Z"
   },
   {
    "duration": 8,
    "start_time": "2022-10-13T08:05:32.221Z"
   },
   {
    "duration": 8,
    "start_time": "2022-10-13T08:05:32.231Z"
   },
   {
    "duration": 20,
    "start_time": "2022-10-13T08:05:32.240Z"
   },
   {
    "duration": 26,
    "start_time": "2022-10-13T08:05:32.262Z"
   },
   {
    "duration": 14,
    "start_time": "2022-10-13T08:05:32.290Z"
   },
   {
    "duration": 8,
    "start_time": "2022-10-13T08:05:32.305Z"
   },
   {
    "duration": 18,
    "start_time": "2022-10-13T08:05:32.314Z"
   },
   {
    "duration": 16,
    "start_time": "2022-10-13T08:05:32.334Z"
   },
   {
    "duration": 22,
    "start_time": "2022-10-13T08:05:32.352Z"
   },
   {
    "duration": 10,
    "start_time": "2022-10-13T08:05:32.376Z"
   },
   {
    "duration": 23,
    "start_time": "2022-10-13T08:05:32.388Z"
   },
   {
    "duration": 13,
    "start_time": "2022-10-13T08:05:32.413Z"
   },
   {
    "duration": 13,
    "start_time": "2022-10-13T08:05:32.428Z"
   },
   {
    "duration": 12,
    "start_time": "2022-10-13T08:05:32.443Z"
   },
   {
    "duration": 384,
    "start_time": "2022-10-13T08:05:32.457Z"
   },
   {
    "duration": 5,
    "start_time": "2022-10-13T08:05:32.843Z"
   },
   {
    "duration": 22,
    "start_time": "2022-10-13T08:05:32.850Z"
   },
   {
    "duration": 24,
    "start_time": "2022-10-13T08:05:32.874Z"
   },
   {
    "duration": 21,
    "start_time": "2022-10-13T08:05:32.900Z"
   },
   {
    "duration": 338,
    "start_time": "2022-10-13T08:05:32.923Z"
   },
   {
    "duration": 12,
    "start_time": "2022-10-13T08:05:33.263Z"
   },
   {
    "duration": 391,
    "start_time": "2022-10-13T08:05:33.276Z"
   },
   {
    "duration": 10,
    "start_time": "2022-10-13T08:05:33.669Z"
   },
   {
    "duration": 335,
    "start_time": "2022-10-13T08:05:33.681Z"
   },
   {
    "duration": 10,
    "start_time": "2022-10-13T08:05:34.017Z"
   },
   {
    "duration": 349,
    "start_time": "2022-10-13T08:05:34.029Z"
   },
   {
    "duration": 973,
    "start_time": "2022-10-13T08:05:34.380Z"
   },
   {
    "duration": 9,
    "start_time": "2022-10-13T08:05:35.354Z"
   },
   {
    "duration": 356,
    "start_time": "2022-10-13T08:05:35.365Z"
   },
   {
    "duration": 9,
    "start_time": "2022-10-13T08:05:35.723Z"
   },
   {
    "duration": 328,
    "start_time": "2022-10-13T08:05:35.734Z"
   },
   {
    "duration": 9,
    "start_time": "2022-10-13T08:05:36.063Z"
   },
   {
    "duration": 333,
    "start_time": "2022-10-13T08:05:36.074Z"
   },
   {
    "duration": 232,
    "start_time": "2022-10-13T08:05:36.409Z"
   },
   {
    "duration": 10,
    "start_time": "2022-10-13T08:05:36.643Z"
   },
   {
    "duration": 346,
    "start_time": "2022-10-13T08:05:36.655Z"
   },
   {
    "duration": 11,
    "start_time": "2022-10-13T08:05:37.003Z"
   },
   {
    "duration": 351,
    "start_time": "2022-10-13T08:05:37.015Z"
   },
   {
    "duration": 10,
    "start_time": "2022-10-13T08:05:37.368Z"
   },
   {
    "duration": 349,
    "start_time": "2022-10-13T08:05:37.380Z"
   },
   {
    "duration": 10,
    "start_time": "2022-10-13T08:05:37.730Z"
   },
   {
    "duration": 357,
    "start_time": "2022-10-13T08:05:37.742Z"
   },
   {
    "duration": 6,
    "start_time": "2022-10-13T08:05:38.101Z"
   },
   {
    "duration": 29,
    "start_time": "2022-10-13T08:05:38.109Z"
   },
   {
    "duration": 424,
    "start_time": "2022-10-13T08:05:38.141Z"
   },
   {
    "duration": 402,
    "start_time": "2022-10-13T08:05:38.567Z"
   },
   {
    "duration": 9,
    "start_time": "2022-10-13T08:05:38.971Z"
   },
   {
    "duration": 333,
    "start_time": "2022-10-13T08:05:38.982Z"
   },
   {
    "duration": 10,
    "start_time": "2022-10-13T08:05:39.317Z"
   },
   {
    "duration": 150,
    "start_time": "2022-10-13T08:05:39.328Z"
   },
   {
    "duration": 152,
    "start_time": "2022-10-13T08:05:39.480Z"
   },
   {
    "duration": 152,
    "start_time": "2022-10-13T08:05:39.634Z"
   },
   {
    "duration": 188,
    "start_time": "2022-10-13T08:05:39.787Z"
   },
   {
    "duration": 157,
    "start_time": "2022-10-13T08:05:39.977Z"
   },
   {
    "duration": 125,
    "start_time": "2022-10-13T08:05:40.140Z"
   },
   {
    "duration": 162,
    "start_time": "2022-10-13T08:05:40.267Z"
   },
   {
    "duration": 265,
    "start_time": "2022-10-13T08:05:40.432Z"
   },
   {
    "duration": 157,
    "start_time": "2022-10-13T08:05:40.698Z"
   },
   {
    "duration": 14,
    "start_time": "2022-10-13T08:05:40.857Z"
   },
   {
    "duration": 32,
    "start_time": "2022-10-13T08:05:40.873Z"
   },
   {
    "duration": 151,
    "start_time": "2022-10-13T08:05:40.907Z"
   },
   {
    "duration": 140,
    "start_time": "2022-10-13T08:09:49.955Z"
   },
   {
    "duration": 673,
    "start_time": "2022-10-13T15:04:19.765Z"
   },
   {
    "duration": 14,
    "start_time": "2022-10-13T15:04:20.440Z"
   },
   {
    "duration": 55,
    "start_time": "2022-10-13T15:04:20.455Z"
   },
   {
    "duration": 1769,
    "start_time": "2022-10-13T15:04:20.513Z"
   },
   {
    "duration": 8,
    "start_time": "2022-10-13T15:04:22.283Z"
   },
   {
    "duration": 35,
    "start_time": "2022-10-13T15:04:22.293Z"
   },
   {
    "duration": 84,
    "start_time": "2022-10-13T15:04:22.330Z"
   },
   {
    "duration": 5,
    "start_time": "2022-10-13T15:04:22.415Z"
   },
   {
    "duration": 13,
    "start_time": "2022-10-13T15:04:22.421Z"
   },
   {
    "duration": 6,
    "start_time": "2022-10-13T15:04:22.436Z"
   },
   {
    "duration": 11,
    "start_time": "2022-10-13T15:04:22.443Z"
   },
   {
    "duration": 7,
    "start_time": "2022-10-13T15:04:22.455Z"
   },
   {
    "duration": 10,
    "start_time": "2022-10-13T15:04:22.463Z"
   },
   {
    "duration": 3,
    "start_time": "2022-10-13T15:04:22.474Z"
   },
   {
    "duration": 8,
    "start_time": "2022-10-13T15:04:22.511Z"
   },
   {
    "duration": 4,
    "start_time": "2022-10-13T15:04:22.520Z"
   },
   {
    "duration": 89,
    "start_time": "2022-10-13T15:04:22.525Z"
   },
   {
    "duration": 4,
    "start_time": "2022-10-13T15:04:22.616Z"
   },
   {
    "duration": 9,
    "start_time": "2022-10-13T15:04:22.621Z"
   },
   {
    "duration": 85,
    "start_time": "2022-10-13T15:04:22.631Z"
   },
   {
    "duration": 3,
    "start_time": "2022-10-13T15:04:22.718Z"
   },
   {
    "duration": 25,
    "start_time": "2022-10-13T15:04:22.723Z"
   },
   {
    "duration": 27,
    "start_time": "2022-10-13T15:04:22.749Z"
   },
   {
    "duration": 96,
    "start_time": "2022-10-13T15:04:22.777Z"
   },
   {
    "duration": 5,
    "start_time": "2022-10-13T15:04:22.874Z"
   },
   {
    "duration": 42,
    "start_time": "2022-10-13T15:04:22.880Z"
   },
   {
    "duration": 129,
    "start_time": "2022-10-13T15:04:22.924Z"
   },
   {
    "duration": 7,
    "start_time": "2022-10-13T15:04:23.057Z"
   },
   {
    "duration": 24,
    "start_time": "2022-10-13T15:04:23.066Z"
   },
   {
    "duration": 33,
    "start_time": "2022-10-13T15:04:23.091Z"
   },
   {
    "duration": 44,
    "start_time": "2022-10-13T15:04:23.125Z"
   },
   {
    "duration": 51,
    "start_time": "2022-10-13T15:04:23.171Z"
   },
   {
    "duration": 4,
    "start_time": "2022-10-13T15:04:23.224Z"
   },
   {
    "duration": 11,
    "start_time": "2022-10-13T15:04:23.230Z"
   },
   {
    "duration": 8,
    "start_time": "2022-10-13T15:04:23.242Z"
   },
   {
    "duration": 3,
    "start_time": "2022-10-13T15:04:23.252Z"
   },
   {
    "duration": 7,
    "start_time": "2022-10-13T15:04:23.257Z"
   },
   {
    "duration": 3,
    "start_time": "2022-10-13T15:04:23.266Z"
   },
   {
    "duration": 7,
    "start_time": "2022-10-13T15:04:23.271Z"
   },
   {
    "duration": 4,
    "start_time": "2022-10-13T15:04:23.279Z"
   },
   {
    "duration": 27,
    "start_time": "2022-10-13T15:04:23.284Z"
   },
   {
    "duration": 344,
    "start_time": "2022-10-13T15:04:23.312Z"
   },
   {
    "duration": 4,
    "start_time": "2022-10-13T15:04:23.658Z"
   },
   {
    "duration": 7,
    "start_time": "2022-10-13T15:04:23.664Z"
   },
   {
    "duration": 8,
    "start_time": "2022-10-13T15:04:23.673Z"
   },
   {
    "duration": 33,
    "start_time": "2022-10-13T15:04:23.682Z"
   },
   {
    "duration": 324,
    "start_time": "2022-10-13T15:04:23.717Z"
   },
   {
    "duration": 8,
    "start_time": "2022-10-13T15:04:24.043Z"
   },
   {
    "duration": 350,
    "start_time": "2022-10-13T15:04:24.052Z"
   },
   {
    "duration": 15,
    "start_time": "2022-10-13T15:04:24.404Z"
   },
   {
    "duration": 358,
    "start_time": "2022-10-13T15:04:24.421Z"
   },
   {
    "duration": 33,
    "start_time": "2022-10-13T15:04:24.780Z"
   },
   {
    "duration": 300,
    "start_time": "2022-10-13T15:04:24.814Z"
   },
   {
    "duration": 905,
    "start_time": "2022-10-13T15:04:25.116Z"
   },
   {
    "duration": 7,
    "start_time": "2022-10-13T15:04:26.023Z"
   },
   {
    "duration": 314,
    "start_time": "2022-10-13T15:04:26.031Z"
   },
   {
    "duration": 8,
    "start_time": "2022-10-13T15:04:26.346Z"
   },
   {
    "duration": 292,
    "start_time": "2022-10-13T15:04:26.355Z"
   },
   {
    "duration": 7,
    "start_time": "2022-10-13T15:04:26.648Z"
   },
   {
    "duration": 292,
    "start_time": "2022-10-13T15:04:26.656Z"
   },
   {
    "duration": 219,
    "start_time": "2022-10-13T15:04:26.950Z"
   },
   {
    "duration": 7,
    "start_time": "2022-10-13T15:04:27.171Z"
   },
   {
    "duration": 303,
    "start_time": "2022-10-13T15:04:27.180Z"
   },
   {
    "duration": 8,
    "start_time": "2022-10-13T15:04:27.484Z"
   },
   {
    "duration": 345,
    "start_time": "2022-10-13T15:04:27.494Z"
   },
   {
    "duration": 10,
    "start_time": "2022-10-13T15:04:27.840Z"
   },
   {
    "duration": 330,
    "start_time": "2022-10-13T15:04:27.851Z"
   },
   {
    "duration": 8,
    "start_time": "2022-10-13T15:04:28.183Z"
   },
   {
    "duration": 298,
    "start_time": "2022-10-13T15:04:28.212Z"
   },
   {
    "duration": 4,
    "start_time": "2022-10-13T15:04:28.513Z"
   },
   {
    "duration": 22,
    "start_time": "2022-10-13T15:04:28.518Z"
   },
   {
    "duration": 316,
    "start_time": "2022-10-13T15:04:28.542Z"
   },
   {
    "duration": 403,
    "start_time": "2022-10-13T15:04:28.860Z"
   },
   {
    "duration": 9,
    "start_time": "2022-10-13T15:04:29.265Z"
   },
   {
    "duration": 335,
    "start_time": "2022-10-13T15:04:29.275Z"
   },
   {
    "duration": 9,
    "start_time": "2022-10-13T15:04:29.613Z"
   },
   {
    "duration": 128,
    "start_time": "2022-10-13T15:04:29.623Z"
   },
   {
    "duration": 137,
    "start_time": "2022-10-13T15:04:29.753Z"
   },
   {
    "duration": 148,
    "start_time": "2022-10-13T15:04:29.892Z"
   },
   {
    "duration": 175,
    "start_time": "2022-10-13T15:04:30.042Z"
   },
   {
    "duration": 133,
    "start_time": "2022-10-13T15:04:30.219Z"
   },
   {
    "duration": 116,
    "start_time": "2022-10-13T15:04:30.357Z"
   },
   {
    "duration": 166,
    "start_time": "2022-10-13T15:04:30.475Z"
   },
   {
    "duration": 236,
    "start_time": "2022-10-13T15:04:30.642Z"
   },
   {
    "duration": 150,
    "start_time": "2022-10-13T15:04:30.879Z"
   },
   {
    "duration": 13,
    "start_time": "2022-10-13T15:04:31.030Z"
   },
   {
    "duration": 20,
    "start_time": "2022-10-13T15:04:31.045Z"
   },
   {
    "duration": 147,
    "start_time": "2022-10-13T15:04:31.067Z"
   }
  ],
  "kernelspec": {
   "display_name": "Python 3 (ipykernel)",
   "language": "python",
   "name": "python3"
  },
  "language_info": {
   "codemirror_mode": {
    "name": "ipython",
    "version": 3
   },
   "file_extension": ".py",
   "mimetype": "text/x-python",
   "name": "python",
   "nbconvert_exporter": "python",
   "pygments_lexer": "ipython3",
   "version": "3.9.12"
  },
  "toc": {
   "base_numbering": 1,
   "nav_menu": {},
   "number_sections": true,
   "sideBar": true,
   "skip_h1_title": true,
   "title_cell": "Table of Contents",
   "title_sidebar": "Contents",
   "toc_cell": false,
   "toc_position": {},
   "toc_section_display": true,
   "toc_window_display": false
  }
 },
 "nbformat": 4,
 "nbformat_minor": 2
}
