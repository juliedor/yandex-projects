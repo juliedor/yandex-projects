{
 "cells": [
  {
   "cell_type": "markdown",
   "id": "8fda0b1a",
   "metadata": {},
   "source": [
    "# Desription"
   ]
  },
  {
   "cell_type": "markdown",
   "id": "09b81709",
   "metadata": {},
   "source": [
    "*This analysis is done as a part of training on the course Data Analyst from Yandex Prakikum.*\n",
    "\n",
    "\n",
    "The task:\n",
    "\n",
    "You work in the Strimchik online store, that sells computer games all over the world. Historical game sales data, user and expert ratings, genres and platforms (such as Xbox or PlayStation) are available from public sources. You need to identify the patterns that determine the success of the game. This will allow you to bid on a potentially popular product and plan advertising campaigns.\n",
    "Here is the data up to 2016. Let's say it's December 2016 and you're planning a campaign for 2017. It is necessary to work out the principle of working with data. It doesn't matter if you're forecasting 2017 sales based on 2016 data or 2027 sales based on 2026 data.\n",
    "\n",
    "The abbreviation ESRB (Entertainment Software Rating Board) in the data set - is an association that determines the age rating of computer games. The ESRB evaluates gaming content and assigns it to an appropriate age rating, such as Mature, Toddler, or Teen campaigns."
   ]
  },
  {
   "cell_type": "markdown",
   "id": "1ad90adb",
   "metadata": {},
   "source": [
    "## Step 1. Open the data file and study the provided information"
   ]
  },
  {
   "cell_type": "code",
   "execution_count": 1,
   "id": "2b5c9fb6",
   "metadata": {},
   "outputs": [],
   "source": [
    "import pandas as pd\n",
    "import matplotlib.pyplot as plt\n",
    "from scipy import stats as st"
   ]
  },
  {
   "cell_type": "code",
   "execution_count": 2,
   "id": "0baae5de",
   "metadata": {},
   "outputs": [],
   "source": [
    "data = pd.read_csv('../games.csv')"
   ]
  },
  {
   "cell_type": "code",
   "execution_count": 3,
   "id": "747f711e",
   "metadata": {},
   "outputs": [
    {
     "data": {
      "text/html": [
       "<div>\n",
       "<style scoped>\n",
       "    .dataframe tbody tr th:only-of-type {\n",
       "        vertical-align: middle;\n",
       "    }\n",
       "\n",
       "    .dataframe tbody tr th {\n",
       "        vertical-align: top;\n",
       "    }\n",
       "\n",
       "    .dataframe thead th {\n",
       "        text-align: right;\n",
       "    }\n",
       "</style>\n",
       "<table border=\"1\" class=\"dataframe\">\n",
       "  <thead>\n",
       "    <tr style=\"text-align: right;\">\n",
       "      <th></th>\n",
       "      <th>Name</th>\n",
       "      <th>Platform</th>\n",
       "      <th>Year_of_Release</th>\n",
       "      <th>Genre</th>\n",
       "      <th>NA_sales</th>\n",
       "      <th>EU_sales</th>\n",
       "      <th>JP_sales</th>\n",
       "      <th>Other_sales</th>\n",
       "      <th>Critic_Score</th>\n",
       "      <th>User_Score</th>\n",
       "      <th>Rating</th>\n",
       "    </tr>\n",
       "  </thead>\n",
       "  <tbody>\n",
       "    <tr>\n",
       "      <th>0</th>\n",
       "      <td>Wii Sports</td>\n",
       "      <td>Wii</td>\n",
       "      <td>2006.0</td>\n",
       "      <td>Sports</td>\n",
       "      <td>41.36</td>\n",
       "      <td>28.96</td>\n",
       "      <td>3.77</td>\n",
       "      <td>8.45</td>\n",
       "      <td>76.0</td>\n",
       "      <td>8</td>\n",
       "      <td>E</td>\n",
       "    </tr>\n",
       "    <tr>\n",
       "      <th>1</th>\n",
       "      <td>Super Mario Bros.</td>\n",
       "      <td>NES</td>\n",
       "      <td>1985.0</td>\n",
       "      <td>Platform</td>\n",
       "      <td>29.08</td>\n",
       "      <td>3.58</td>\n",
       "      <td>6.81</td>\n",
       "      <td>0.77</td>\n",
       "      <td>NaN</td>\n",
       "      <td>NaN</td>\n",
       "      <td>NaN</td>\n",
       "    </tr>\n",
       "    <tr>\n",
       "      <th>2</th>\n",
       "      <td>Mario Kart Wii</td>\n",
       "      <td>Wii</td>\n",
       "      <td>2008.0</td>\n",
       "      <td>Racing</td>\n",
       "      <td>15.68</td>\n",
       "      <td>12.76</td>\n",
       "      <td>3.79</td>\n",
       "      <td>3.29</td>\n",
       "      <td>82.0</td>\n",
       "      <td>8.3</td>\n",
       "      <td>E</td>\n",
       "    </tr>\n",
       "    <tr>\n",
       "      <th>3</th>\n",
       "      <td>Wii Sports Resort</td>\n",
       "      <td>Wii</td>\n",
       "      <td>2009.0</td>\n",
       "      <td>Sports</td>\n",
       "      <td>15.61</td>\n",
       "      <td>10.93</td>\n",
       "      <td>3.28</td>\n",
       "      <td>2.95</td>\n",
       "      <td>80.0</td>\n",
       "      <td>8</td>\n",
       "      <td>E</td>\n",
       "    </tr>\n",
       "    <tr>\n",
       "      <th>4</th>\n",
       "      <td>Pokemon Red/Pokemon Blue</td>\n",
       "      <td>GB</td>\n",
       "      <td>1996.0</td>\n",
       "      <td>Role-Playing</td>\n",
       "      <td>11.27</td>\n",
       "      <td>8.89</td>\n",
       "      <td>10.22</td>\n",
       "      <td>1.00</td>\n",
       "      <td>NaN</td>\n",
       "      <td>NaN</td>\n",
       "      <td>NaN</td>\n",
       "    </tr>\n",
       "    <tr>\n",
       "      <th>5</th>\n",
       "      <td>Tetris</td>\n",
       "      <td>GB</td>\n",
       "      <td>1989.0</td>\n",
       "      <td>Puzzle</td>\n",
       "      <td>23.20</td>\n",
       "      <td>2.26</td>\n",
       "      <td>4.22</td>\n",
       "      <td>0.58</td>\n",
       "      <td>NaN</td>\n",
       "      <td>NaN</td>\n",
       "      <td>NaN</td>\n",
       "    </tr>\n",
       "    <tr>\n",
       "      <th>6</th>\n",
       "      <td>New Super Mario Bros.</td>\n",
       "      <td>DS</td>\n",
       "      <td>2006.0</td>\n",
       "      <td>Platform</td>\n",
       "      <td>11.28</td>\n",
       "      <td>9.14</td>\n",
       "      <td>6.50</td>\n",
       "      <td>2.88</td>\n",
       "      <td>89.0</td>\n",
       "      <td>8.5</td>\n",
       "      <td>E</td>\n",
       "    </tr>\n",
       "    <tr>\n",
       "      <th>7</th>\n",
       "      <td>Wii Play</td>\n",
       "      <td>Wii</td>\n",
       "      <td>2006.0</td>\n",
       "      <td>Misc</td>\n",
       "      <td>13.96</td>\n",
       "      <td>9.18</td>\n",
       "      <td>2.93</td>\n",
       "      <td>2.84</td>\n",
       "      <td>58.0</td>\n",
       "      <td>6.6</td>\n",
       "      <td>E</td>\n",
       "    </tr>\n",
       "    <tr>\n",
       "      <th>8</th>\n",
       "      <td>New Super Mario Bros. Wii</td>\n",
       "      <td>Wii</td>\n",
       "      <td>2009.0</td>\n",
       "      <td>Platform</td>\n",
       "      <td>14.44</td>\n",
       "      <td>6.94</td>\n",
       "      <td>4.70</td>\n",
       "      <td>2.24</td>\n",
       "      <td>87.0</td>\n",
       "      <td>8.4</td>\n",
       "      <td>E</td>\n",
       "    </tr>\n",
       "    <tr>\n",
       "      <th>9</th>\n",
       "      <td>Duck Hunt</td>\n",
       "      <td>NES</td>\n",
       "      <td>1984.0</td>\n",
       "      <td>Shooter</td>\n",
       "      <td>26.93</td>\n",
       "      <td>0.63</td>\n",
       "      <td>0.28</td>\n",
       "      <td>0.47</td>\n",
       "      <td>NaN</td>\n",
       "      <td>NaN</td>\n",
       "      <td>NaN</td>\n",
       "    </tr>\n",
       "  </tbody>\n",
       "</table>\n",
       "</div>"
      ],
      "text/plain": [
       "                        Name Platform  Year_of_Release         Genre  \\\n",
       "0                 Wii Sports      Wii           2006.0        Sports   \n",
       "1          Super Mario Bros.      NES           1985.0      Platform   \n",
       "2             Mario Kart Wii      Wii           2008.0        Racing   \n",
       "3          Wii Sports Resort      Wii           2009.0        Sports   \n",
       "4   Pokemon Red/Pokemon Blue       GB           1996.0  Role-Playing   \n",
       "5                     Tetris       GB           1989.0        Puzzle   \n",
       "6      New Super Mario Bros.       DS           2006.0      Platform   \n",
       "7                   Wii Play      Wii           2006.0          Misc   \n",
       "8  New Super Mario Bros. Wii      Wii           2009.0      Platform   \n",
       "9                  Duck Hunt      NES           1984.0       Shooter   \n",
       "\n",
       "   NA_sales  EU_sales  JP_sales  Other_sales  Critic_Score User_Score Rating  \n",
       "0     41.36     28.96      3.77         8.45          76.0          8      E  \n",
       "1     29.08      3.58      6.81         0.77           NaN        NaN    NaN  \n",
       "2     15.68     12.76      3.79         3.29          82.0        8.3      E  \n",
       "3     15.61     10.93      3.28         2.95          80.0          8      E  \n",
       "4     11.27      8.89     10.22         1.00           NaN        NaN    NaN  \n",
       "5     23.20      2.26      4.22         0.58           NaN        NaN    NaN  \n",
       "6     11.28      9.14      6.50         2.88          89.0        8.5      E  \n",
       "7     13.96      9.18      2.93         2.84          58.0        6.6      E  \n",
       "8     14.44      6.94      4.70         2.24          87.0        8.4      E  \n",
       "9     26.93      0.63      0.28         0.47           NaN        NaN    NaN  "
      ]
     },
     "metadata": {},
     "output_type": "display_data"
    }
   ],
   "source": [
    "display(data.head(10))"
   ]
  },
  {
   "cell_type": "code",
   "execution_count": 4,
   "id": "2962f44a",
   "metadata": {},
   "outputs": [
    {
     "name": "stdout",
     "output_type": "stream",
     "text": [
      "<class 'pandas.core.frame.DataFrame'>\n",
      "RangeIndex: 16715 entries, 0 to 16714\n",
      "Data columns (total 11 columns):\n",
      " #   Column           Non-Null Count  Dtype  \n",
      "---  ------           --------------  -----  \n",
      " 0   Name             16713 non-null  object \n",
      " 1   Platform         16715 non-null  object \n",
      " 2   Year_of_Release  16446 non-null  float64\n",
      " 3   Genre            16713 non-null  object \n",
      " 4   NA_sales         16715 non-null  float64\n",
      " 5   EU_sales         16715 non-null  float64\n",
      " 6   JP_sales         16715 non-null  float64\n",
      " 7   Other_sales      16715 non-null  float64\n",
      " 8   Critic_Score     8137 non-null   float64\n",
      " 9   User_Score       10014 non-null  object \n",
      " 10  Rating           9949 non-null   object \n",
      "dtypes: float64(6), object(5)\n",
      "memory usage: 1.4+ MB\n"
     ]
    }
   ],
   "source": [
    "data.info()"
   ]
  },
  {
   "cell_type": "markdown",
   "id": "0a204979",
   "metadata": {},
   "source": [
    "**Step 1. Conclusion.**\n",
    "\n",
    "*Data description*\n",
    "\n",
    "The data is represented by 16715 lines.\n",
    "\n",
    "There are 11 columns in total:\n",
    "\n",
    "* Name - the name of the game\n",
    "* Platform - game's platform\n",
    "* Year_of_Release - game's year of release\n",
    "* Genre - game's genre\n",
    "* NA_sales - sales in North America (millions of copies sold)\n",
    "* EU_sales - sales in Europe (millions of copies sold)\n",
    "* JP_sales - sales in Japan (millions of copies sold)\n",
    "* Other_sales - sales in other countries (millions of copies sold)\n",
    "* Critic_Score - Critics score (max 100)\n",
    "* User_Score - user score (maximum 10)\n",
    "* Rating - rating from the ESRB (Entertainment Software Rating Board). This association determines the rating of computer games and assigns them an appropriate age category.\n",
    "\n",
    "Data for 2016, according to input data, may be incomplete.\n",
    "\n",
    "Within this section, we have opened a data file obtained from open sources regarding game sales on various gaming platforms, including genre, sales by 3 regions, and ratings and reviews from users and critics.\n",
    "\n",
    "The data contains gaps and incorrect type of some cells, so for further correct work with the file in the second step, we will pre-process the data.\n"
   ]
  },
  {
   "cell_type": "markdown",
   "id": "a3d7a9b0",
   "metadata": {},
   "source": [
    "## Step 2. Data pre-processing"
   ]
  },
  {
   "cell_type": "markdown",
   "id": "5581d774",
   "metadata": {},
   "source": [
    "### 1. Change the columns name (convert to lower case)"
   ]
  },
  {
   "cell_type": "code",
   "execution_count": 5,
   "id": "35fce1af",
   "metadata": {},
   "outputs": [],
   "source": [
    "data.columns = data.columns.str.lower()"
   ]
  },
  {
   "cell_type": "markdown",
   "id": "13f78223",
   "metadata": {},
   "source": [
    "### 2. Convert the data to the required types and replace the gaps"
   ]
  },
  {
   "cell_type": "markdown",
   "id": "0a172711",
   "metadata": {},
   "source": [
    "Correction of data types:\n",
    "\n",
    "    1. Year of release - in the date format as a year\n",
    "    2. User rating - in float, because this is a numerical value, not a text"
   ]
  },
  {
   "cell_type": "markdown",
   "id": "7b4c7803",
   "metadata": {},
   "source": [
    "Check which columns have empty values."
   ]
  },
  {
   "cell_type": "code",
   "execution_count": 6,
   "id": "9b578d36",
   "metadata": {},
   "outputs": [
    {
     "name": "stdout",
     "output_type": "stream",
     "text": [
      "name                  2\n",
      "platform              0\n",
      "year_of_release     269\n",
      "genre                 2\n",
      "na_sales              0\n",
      "eu_sales              0\n",
      "jp_sales              0\n",
      "other_sales           0\n",
      "critic_score       8578\n",
      "user_score         6701\n",
      "rating             6766\n",
      "dtype: int64\n"
     ]
    }
   ],
   "source": [
    "print(data.isna().sum())"
   ]
  },
  {
   "cell_type": "markdown",
   "id": "87c7cfd1",
   "metadata": {},
   "source": [
    "Filling the gaps:\n",
    "\n",
    "1. Data gaps in the title, genre and year of release will be removed, since the number is insignificant. In addition, we have no justification for filling in this data on our own. The reason for the gaps may be incorrect unloading from the database - some values could not be technically merged into the table.\n",
    "2. Users' and critics' scores will not be filled with any values since there is a lot of gaps. Filling data with median/average information can only skew correlation analysis results. The emission of gaps may be that the assessment was not made in general for this game, or there may also be an error on the technical side when unloading the data in the table.\n",
    "3. We will not be able to autofill the gaps in the rating, therefore we will replace it with a \"stub\". The gaps can be explained both by the absence of the assigned rating by the association, and the inability to load this rating into the summary table. "
   ]
  },
  {
   "cell_type": "code",
   "execution_count": 7,
   "id": "940e5d74",
   "metadata": {},
   "outputs": [],
   "source": [
    "data = data.dropna(subset = ['name', 'genre', 'year_of_release']).reset_index(drop=True) # удаляем пустые значения"
   ]
  },
  {
   "cell_type": "code",
   "execution_count": 8,
   "id": "a71e6f91",
   "metadata": {},
   "outputs": [],
   "source": [
    "data['year_of_release'] = pd.to_datetime(data['year_of_release'], format = '%Y').dt.year # меняем тип данных"
   ]
  },
  {
   "cell_type": "code",
   "execution_count": 9,
   "id": "61c6af36",
   "metadata": {},
   "outputs": [
    {
     "data": {
      "text/plain": [
       "array(['8', nan, '8.3', '8.5', '6.6', '8.4', '8.6', '7.7', '6.3', '7.4',\n",
       "       '8.2', '9', '7.9', '8.1', '8.7', '7.1', '3.4', '5.3', '4.8', '3.2',\n",
       "       '8.9', '6.4', '7.8', '7.5', '2.6', '7.2', '9.2', '7', '7.3', '4.3',\n",
       "       '7.6', '5.7', '5', '9.1', '6.5', 'tbd', '8.8', '6.9', '9.4', '6.8',\n",
       "       '6.1', '6.7', '5.4', '4', '4.9', '4.5', '9.3', '6.2', '4.2', '6',\n",
       "       '3.7', '4.1', '5.8', '5.6', '5.5', '4.4', '4.6', '5.9', '3.9',\n",
       "       '3.1', '2.9', '5.2', '3.3', '4.7', '5.1', '3.5', '2.5', '1.9', '3',\n",
       "       '2.7', '2.2', '2', '9.5', '2.1', '3.6', '2.8', '1.8', '3.8', '0',\n",
       "       '1.6', '9.6', '2.4', '1.7', '1.1', '0.3', '1.5', '0.7', '1.2',\n",
       "       '2.3', '0.5', '1.3', '0.2', '0.6', '1.4', '0.9', '1', '9.7'],\n",
       "      dtype=object)"
      ]
     },
     "execution_count": 9,
     "metadata": {},
     "output_type": "execute_result"
    }
   ],
   "source": [
    "data['user_score'].unique()"
   ]
  },
  {
   "cell_type": "code",
   "execution_count": 10,
   "id": "798efc8e",
   "metadata": {},
   "outputs": [],
   "source": [
    "data['user_score'] = pd.to_numeric(data['user_score'], errors='coerce') \n",
    "\n",
    "# use 'coerce' because there is data in the rows with value 'tbd', which does not allow changing the data type.\n",
    "# we don't know what exactly this value means\n",
    "# (as a guess, this is the abbreviation for 'to be discussed' that users filled in \n",
    "#when they weren't sure about the rating),\n",
    "# therefore, it is suitable for us to replace this value with NaN, which is provided in this parameter"
   ]
  },
  {
   "cell_type": "code",
   "execution_count": 11,
   "id": "918713c2",
   "metadata": {},
   "outputs": [],
   "source": [
    "data['rating']=data['rating'].fillna('Нет рейтинга') # меняем пустые значения на \"заглушку\""
   ]
  },
  {
   "cell_type": "markdown",
   "id": "e8a8e5b2",
   "metadata": {},
   "source": [
    "Let's check that all data types are now correct and the gaps are filled in where we planned."
   ]
  },
  {
   "cell_type": "code",
   "execution_count": 12,
   "id": "aa9b427c",
   "metadata": {},
   "outputs": [
    {
     "name": "stdout",
     "output_type": "stream",
     "text": [
      "<class 'pandas.core.frame.DataFrame'>\n",
      "RangeIndex: 16444 entries, 0 to 16443\n",
      "Data columns (total 11 columns):\n",
      " #   Column           Non-Null Count  Dtype  \n",
      "---  ------           --------------  -----  \n",
      " 0   name             16444 non-null  object \n",
      " 1   platform         16444 non-null  object \n",
      " 2   year_of_release  16444 non-null  int64  \n",
      " 3   genre            16444 non-null  object \n",
      " 4   na_sales         16444 non-null  float64\n",
      " 5   eu_sales         16444 non-null  float64\n",
      " 6   jp_sales         16444 non-null  float64\n",
      " 7   other_sales      16444 non-null  float64\n",
      " 8   critic_score     7983 non-null   float64\n",
      " 9   user_score       7463 non-null   float64\n",
      " 10  rating           16444 non-null  object \n",
      "dtypes: float64(6), int64(1), object(4)\n",
      "memory usage: 1.4+ MB\n"
     ]
    }
   ],
   "source": [
    "data.info() # data types"
   ]
  },
  {
   "cell_type": "code",
   "execution_count": 13,
   "id": "068586c1",
   "metadata": {},
   "outputs": [
    {
     "name": "stdout",
     "output_type": "stream",
     "text": [
      "name                  0\n",
      "platform              0\n",
      "year_of_release       0\n",
      "genre                 0\n",
      "na_sales              0\n",
      "eu_sales              0\n",
      "jp_sales              0\n",
      "other_sales           0\n",
      "critic_score       8461\n",
      "user_score         8981\n",
      "rating                0\n",
      "dtype: int64\n"
     ]
    }
   ],
   "source": [
    "print(data.isna().sum()) # gaps"
   ]
  },
  {
   "cell_type": "code",
   "execution_count": 14,
   "id": "fcdb3d12",
   "metadata": {},
   "outputs": [
    {
     "data": {
      "text/html": [
       "<div>\n",
       "<style scoped>\n",
       "    .dataframe tbody tr th:only-of-type {\n",
       "        vertical-align: middle;\n",
       "    }\n",
       "\n",
       "    .dataframe tbody tr th {\n",
       "        vertical-align: top;\n",
       "    }\n",
       "\n",
       "    .dataframe thead th {\n",
       "        text-align: right;\n",
       "    }\n",
       "</style>\n",
       "<table border=\"1\" class=\"dataframe\">\n",
       "  <thead>\n",
       "    <tr style=\"text-align: right;\">\n",
       "      <th></th>\n",
       "      <th>name</th>\n",
       "      <th>platform</th>\n",
       "      <th>year_of_release</th>\n",
       "      <th>genre</th>\n",
       "      <th>na_sales</th>\n",
       "      <th>eu_sales</th>\n",
       "      <th>jp_sales</th>\n",
       "      <th>other_sales</th>\n",
       "      <th>critic_score</th>\n",
       "      <th>user_score</th>\n",
       "      <th>rating</th>\n",
       "    </tr>\n",
       "  </thead>\n",
       "  <tbody>\n",
       "    <tr>\n",
       "      <th>0</th>\n",
       "      <td>Wii Sports</td>\n",
       "      <td>Wii</td>\n",
       "      <td>2006</td>\n",
       "      <td>Sports</td>\n",
       "      <td>41.36</td>\n",
       "      <td>28.96</td>\n",
       "      <td>3.77</td>\n",
       "      <td>8.45</td>\n",
       "      <td>76.0</td>\n",
       "      <td>8.0</td>\n",
       "      <td>E</td>\n",
       "    </tr>\n",
       "    <tr>\n",
       "      <th>1</th>\n",
       "      <td>Super Mario Bros.</td>\n",
       "      <td>NES</td>\n",
       "      <td>1985</td>\n",
       "      <td>Platform</td>\n",
       "      <td>29.08</td>\n",
       "      <td>3.58</td>\n",
       "      <td>6.81</td>\n",
       "      <td>0.77</td>\n",
       "      <td>NaN</td>\n",
       "      <td>NaN</td>\n",
       "      <td>Нет рейтинга</td>\n",
       "    </tr>\n",
       "    <tr>\n",
       "      <th>2</th>\n",
       "      <td>Mario Kart Wii</td>\n",
       "      <td>Wii</td>\n",
       "      <td>2008</td>\n",
       "      <td>Racing</td>\n",
       "      <td>15.68</td>\n",
       "      <td>12.76</td>\n",
       "      <td>3.79</td>\n",
       "      <td>3.29</td>\n",
       "      <td>82.0</td>\n",
       "      <td>8.3</td>\n",
       "      <td>E</td>\n",
       "    </tr>\n",
       "    <tr>\n",
       "      <th>3</th>\n",
       "      <td>Wii Sports Resort</td>\n",
       "      <td>Wii</td>\n",
       "      <td>2009</td>\n",
       "      <td>Sports</td>\n",
       "      <td>15.61</td>\n",
       "      <td>10.93</td>\n",
       "      <td>3.28</td>\n",
       "      <td>2.95</td>\n",
       "      <td>80.0</td>\n",
       "      <td>8.0</td>\n",
       "      <td>E</td>\n",
       "    </tr>\n",
       "    <tr>\n",
       "      <th>4</th>\n",
       "      <td>Pokemon Red/Pokemon Blue</td>\n",
       "      <td>GB</td>\n",
       "      <td>1996</td>\n",
       "      <td>Role-Playing</td>\n",
       "      <td>11.27</td>\n",
       "      <td>8.89</td>\n",
       "      <td>10.22</td>\n",
       "      <td>1.00</td>\n",
       "      <td>NaN</td>\n",
       "      <td>NaN</td>\n",
       "      <td>Нет рейтинга</td>\n",
       "    </tr>\n",
       "  </tbody>\n",
       "</table>\n",
       "</div>"
      ],
      "text/plain": [
       "                       name platform  year_of_release         genre  na_sales  \\\n",
       "0                Wii Sports      Wii             2006        Sports     41.36   \n",
       "1         Super Mario Bros.      NES             1985      Platform     29.08   \n",
       "2            Mario Kart Wii      Wii             2008        Racing     15.68   \n",
       "3         Wii Sports Resort      Wii             2009        Sports     15.61   \n",
       "4  Pokemon Red/Pokemon Blue       GB             1996  Role-Playing     11.27   \n",
       "\n",
       "   eu_sales  jp_sales  other_sales  critic_score  user_score        rating  \n",
       "0     28.96      3.77         8.45          76.0         8.0             E  \n",
       "1      3.58      6.81         0.77           NaN         NaN  Нет рейтинга  \n",
       "2     12.76      3.79         3.29          82.0         8.3             E  \n",
       "3     10.93      3.28         2.95          80.0         8.0             E  \n",
       "4      8.89     10.22         1.00           NaN         NaN  Нет рейтинга  "
      ]
     },
     "metadata": {},
     "output_type": "display_data"
    }
   ],
   "source": [
    "display(data.head())"
   ]
  },
  {
   "cell_type": "markdown",
   "id": "9d748e5a",
   "metadata": {},
   "source": [
    "All edits are displayed correctly.\n",
    "\n",
    "Let's calculate the total sales in all regions."
   ]
  },
  {
   "cell_type": "code",
   "execution_count": 15,
   "id": "f5a1d6d3",
   "metadata": {},
   "outputs": [],
   "source": [
    "data['total_sales'] = data[['na_sales','eu_sales','jp_sales','other_sales']].sum(axis=1)"
   ]
  },
  {
   "cell_type": "code",
   "execution_count": 16,
   "id": "122e8a49",
   "metadata": {},
   "outputs": [
    {
     "data": {
      "text/html": [
       "<div>\n",
       "<style scoped>\n",
       "    .dataframe tbody tr th:only-of-type {\n",
       "        vertical-align: middle;\n",
       "    }\n",
       "\n",
       "    .dataframe tbody tr th {\n",
       "        vertical-align: top;\n",
       "    }\n",
       "\n",
       "    .dataframe thead th {\n",
       "        text-align: right;\n",
       "    }\n",
       "</style>\n",
       "<table border=\"1\" class=\"dataframe\">\n",
       "  <thead>\n",
       "    <tr style=\"text-align: right;\">\n",
       "      <th></th>\n",
       "      <th>name</th>\n",
       "      <th>platform</th>\n",
       "      <th>year_of_release</th>\n",
       "      <th>genre</th>\n",
       "      <th>na_sales</th>\n",
       "      <th>eu_sales</th>\n",
       "      <th>jp_sales</th>\n",
       "      <th>other_sales</th>\n",
       "      <th>critic_score</th>\n",
       "      <th>user_score</th>\n",
       "      <th>rating</th>\n",
       "      <th>total_sales</th>\n",
       "    </tr>\n",
       "  </thead>\n",
       "  <tbody>\n",
       "    <tr>\n",
       "      <th>0</th>\n",
       "      <td>Wii Sports</td>\n",
       "      <td>Wii</td>\n",
       "      <td>2006</td>\n",
       "      <td>Sports</td>\n",
       "      <td>41.36</td>\n",
       "      <td>28.96</td>\n",
       "      <td>3.77</td>\n",
       "      <td>8.45</td>\n",
       "      <td>76.0</td>\n",
       "      <td>8.0</td>\n",
       "      <td>E</td>\n",
       "      <td>82.54</td>\n",
       "    </tr>\n",
       "    <tr>\n",
       "      <th>1</th>\n",
       "      <td>Super Mario Bros.</td>\n",
       "      <td>NES</td>\n",
       "      <td>1985</td>\n",
       "      <td>Platform</td>\n",
       "      <td>29.08</td>\n",
       "      <td>3.58</td>\n",
       "      <td>6.81</td>\n",
       "      <td>0.77</td>\n",
       "      <td>NaN</td>\n",
       "      <td>NaN</td>\n",
       "      <td>Нет рейтинга</td>\n",
       "      <td>40.24</td>\n",
       "    </tr>\n",
       "    <tr>\n",
       "      <th>2</th>\n",
       "      <td>Mario Kart Wii</td>\n",
       "      <td>Wii</td>\n",
       "      <td>2008</td>\n",
       "      <td>Racing</td>\n",
       "      <td>15.68</td>\n",
       "      <td>12.76</td>\n",
       "      <td>3.79</td>\n",
       "      <td>3.29</td>\n",
       "      <td>82.0</td>\n",
       "      <td>8.3</td>\n",
       "      <td>E</td>\n",
       "      <td>35.52</td>\n",
       "    </tr>\n",
       "    <tr>\n",
       "      <th>3</th>\n",
       "      <td>Wii Sports Resort</td>\n",
       "      <td>Wii</td>\n",
       "      <td>2009</td>\n",
       "      <td>Sports</td>\n",
       "      <td>15.61</td>\n",
       "      <td>10.93</td>\n",
       "      <td>3.28</td>\n",
       "      <td>2.95</td>\n",
       "      <td>80.0</td>\n",
       "      <td>8.0</td>\n",
       "      <td>E</td>\n",
       "      <td>32.77</td>\n",
       "    </tr>\n",
       "    <tr>\n",
       "      <th>4</th>\n",
       "      <td>Pokemon Red/Pokemon Blue</td>\n",
       "      <td>GB</td>\n",
       "      <td>1996</td>\n",
       "      <td>Role-Playing</td>\n",
       "      <td>11.27</td>\n",
       "      <td>8.89</td>\n",
       "      <td>10.22</td>\n",
       "      <td>1.00</td>\n",
       "      <td>NaN</td>\n",
       "      <td>NaN</td>\n",
       "      <td>Нет рейтинга</td>\n",
       "      <td>31.38</td>\n",
       "    </tr>\n",
       "  </tbody>\n",
       "</table>\n",
       "</div>"
      ],
      "text/plain": [
       "                       name platform  year_of_release         genre  na_sales  \\\n",
       "0                Wii Sports      Wii             2006        Sports     41.36   \n",
       "1         Super Mario Bros.      NES             1985      Platform     29.08   \n",
       "2            Mario Kart Wii      Wii             2008        Racing     15.68   \n",
       "3         Wii Sports Resort      Wii             2009        Sports     15.61   \n",
       "4  Pokemon Red/Pokemon Blue       GB             1996  Role-Playing     11.27   \n",
       "\n",
       "   eu_sales  jp_sales  other_sales  critic_score  user_score        rating  \\\n",
       "0     28.96      3.77         8.45          76.0         8.0             E   \n",
       "1      3.58      6.81         0.77           NaN         NaN  Нет рейтинга   \n",
       "2     12.76      3.79         3.29          82.0         8.3             E   \n",
       "3     10.93      3.28         2.95          80.0         8.0             E   \n",
       "4      8.89     10.22         1.00           NaN         NaN  Нет рейтинга   \n",
       "\n",
       "   total_sales  \n",
       "0        82.54  \n",
       "1        40.24  \n",
       "2        35.52  \n",
       "3        32.77  \n",
       "4        31.38  "
      ]
     },
     "metadata": {},
     "output_type": "display_data"
    }
   ],
   "source": [
    "display(data.head())"
   ]
  },
  {
   "cell_type": "markdown",
   "id": "48722420",
   "metadata": {},
   "source": [
    "### 3. Check for duplicates in games"
   ]
  },
  {
   "cell_type": "markdown",
   "id": "8e616326",
   "metadata": {},
   "source": [
    "1. Explicit Duplicates"
   ]
  },
  {
   "cell_type": "code",
   "execution_count": 17,
   "id": "cae4a936",
   "metadata": {},
   "outputs": [
    {
     "data": {
      "text/html": [
       "<div>\n",
       "<style scoped>\n",
       "    .dataframe tbody tr th:only-of-type {\n",
       "        vertical-align: middle;\n",
       "    }\n",
       "\n",
       "    .dataframe tbody tr th {\n",
       "        vertical-align: top;\n",
       "    }\n",
       "\n",
       "    .dataframe thead th {\n",
       "        text-align: right;\n",
       "    }\n",
       "</style>\n",
       "<table border=\"1\" class=\"dataframe\">\n",
       "  <thead>\n",
       "    <tr style=\"text-align: right;\">\n",
       "      <th></th>\n",
       "      <th>name</th>\n",
       "      <th>platform</th>\n",
       "      <th>year_of_release</th>\n",
       "      <th>genre</th>\n",
       "      <th>na_sales</th>\n",
       "      <th>eu_sales</th>\n",
       "      <th>jp_sales</th>\n",
       "      <th>other_sales</th>\n",
       "      <th>critic_score</th>\n",
       "      <th>user_score</th>\n",
       "      <th>rating</th>\n",
       "      <th>total_sales</th>\n",
       "    </tr>\n",
       "  </thead>\n",
       "  <tbody>\n",
       "  </tbody>\n",
       "</table>\n",
       "</div>"
      ],
      "text/plain": [
       "Empty DataFrame\n",
       "Columns: [name, platform, year_of_release, genre, na_sales, eu_sales, jp_sales, other_sales, critic_score, user_score, rating, total_sales]\n",
       "Index: []"
      ]
     },
     "metadata": {},
     "output_type": "display_data"
    }
   ],
   "source": [
    "duplicated_data_all=data[data.duplicated()]\n",
    "display(duplicated_data_all)"
   ]
  },
  {
   "cell_type": "markdown",
   "id": "d3c3cde0",
   "metadata": {},
   "source": [
    "There are no explicit duplicates in data."
   ]
  },
  {
   "cell_type": "markdown",
   "id": "3701bbca",
   "metadata": {},
   "source": [
    "2. Implicit duplicates"
   ]
  },
  {
   "cell_type": "code",
   "execution_count": 18,
   "id": "0d69d80f",
   "metadata": {},
   "outputs": [
    {
     "data": {
      "text/html": [
       "<div>\n",
       "<style scoped>\n",
       "    .dataframe tbody tr th:only-of-type {\n",
       "        vertical-align: middle;\n",
       "    }\n",
       "\n",
       "    .dataframe tbody tr th {\n",
       "        vertical-align: top;\n",
       "    }\n",
       "\n",
       "    .dataframe thead th {\n",
       "        text-align: right;\n",
       "    }\n",
       "</style>\n",
       "<table border=\"1\" class=\"dataframe\">\n",
       "  <thead>\n",
       "    <tr style=\"text-align: right;\">\n",
       "      <th></th>\n",
       "      <th>name</th>\n",
       "      <th>platform</th>\n",
       "      <th>year_of_release</th>\n",
       "      <th>genre</th>\n",
       "      <th>na_sales</th>\n",
       "      <th>eu_sales</th>\n",
       "      <th>jp_sales</th>\n",
       "      <th>other_sales</th>\n",
       "      <th>critic_score</th>\n",
       "      <th>user_score</th>\n",
       "      <th>rating</th>\n",
       "      <th>total_sales</th>\n",
       "    </tr>\n",
       "  </thead>\n",
       "  <tbody>\n",
       "    <tr>\n",
       "      <th>1574</th>\n",
       "      <td>Need for Speed: Most Wanted</td>\n",
       "      <td>X360</td>\n",
       "      <td>2005</td>\n",
       "      <td>Racing</td>\n",
       "      <td>1.0</td>\n",
       "      <td>0.13</td>\n",
       "      <td>0.02</td>\n",
       "      <td>0.10</td>\n",
       "      <td>83.0</td>\n",
       "      <td>8.5</td>\n",
       "      <td>T</td>\n",
       "      <td>1.25</td>\n",
       "    </tr>\n",
       "    <tr>\n",
       "      <th>11534</th>\n",
       "      <td>Need for Speed: Most Wanted</td>\n",
       "      <td>PC</td>\n",
       "      <td>2012</td>\n",
       "      <td>Racing</td>\n",
       "      <td>0.0</td>\n",
       "      <td>0.06</td>\n",
       "      <td>0.00</td>\n",
       "      <td>0.02</td>\n",
       "      <td>82.0</td>\n",
       "      <td>8.5</td>\n",
       "      <td>T</td>\n",
       "      <td>0.08</td>\n",
       "    </tr>\n",
       "    <tr>\n",
       "      <th>15969</th>\n",
       "      <td>Madden NFL 13</td>\n",
       "      <td>PS3</td>\n",
       "      <td>2012</td>\n",
       "      <td>Sports</td>\n",
       "      <td>0.0</td>\n",
       "      <td>0.01</td>\n",
       "      <td>0.00</td>\n",
       "      <td>0.00</td>\n",
       "      <td>83.0</td>\n",
       "      <td>5.5</td>\n",
       "      <td>E</td>\n",
       "      <td>0.01</td>\n",
       "    </tr>\n",
       "  </tbody>\n",
       "</table>\n",
       "</div>"
      ],
      "text/plain": [
       "                              name platform  year_of_release   genre  \\\n",
       "1574   Need for Speed: Most Wanted     X360             2005  Racing   \n",
       "11534  Need for Speed: Most Wanted       PC             2012  Racing   \n",
       "15969                Madden NFL 13      PS3             2012  Sports   \n",
       "\n",
       "       na_sales  eu_sales  jp_sales  other_sales  critic_score  user_score  \\\n",
       "1574        1.0      0.13      0.02         0.10          83.0         8.5   \n",
       "11534       0.0      0.06      0.00         0.02          82.0         8.5   \n",
       "15969       0.0      0.01      0.00         0.00          83.0         5.5   \n",
       "\n",
       "      rating  total_sales  \n",
       "1574       T         1.25  \n",
       "11534      T         0.08  \n",
       "15969      E         0.01  "
      ]
     },
     "metadata": {},
     "output_type": "display_data"
    }
   ],
   "source": [
    "# list complete duplicate games (same title on same platforms)\n",
    "duplicated_data_specific=data[data.duplicated(subset = ['name','platform'])]\n",
    "display(duplicated_data_specific) \n"
   ]
  },
  {
   "cell_type": "markdown",
   "id": "2ffe2d4c",
   "metadata": {},
   "source": [
    "We see that the Need For Speed game on x360 was incorrectly included in the duplicates - the games have different release dates. Therefore, we will add another column with the release date to not to remove the excess."
   ]
  },
  {
   "cell_type": "code",
   "execution_count": 19,
   "id": "21ccc612",
   "metadata": {},
   "outputs": [
    {
     "data": {
      "text/html": [
       "<div>\n",
       "<style scoped>\n",
       "    .dataframe tbody tr th:only-of-type {\n",
       "        vertical-align: middle;\n",
       "    }\n",
       "\n",
       "    .dataframe tbody tr th {\n",
       "        vertical-align: top;\n",
       "    }\n",
       "\n",
       "    .dataframe thead th {\n",
       "        text-align: right;\n",
       "    }\n",
       "</style>\n",
       "<table border=\"1\" class=\"dataframe\">\n",
       "  <thead>\n",
       "    <tr style=\"text-align: right;\">\n",
       "      <th></th>\n",
       "      <th>name</th>\n",
       "      <th>platform</th>\n",
       "      <th>year_of_release</th>\n",
       "      <th>genre</th>\n",
       "      <th>na_sales</th>\n",
       "      <th>eu_sales</th>\n",
       "      <th>jp_sales</th>\n",
       "      <th>other_sales</th>\n",
       "      <th>critic_score</th>\n",
       "      <th>user_score</th>\n",
       "      <th>rating</th>\n",
       "      <th>total_sales</th>\n",
       "    </tr>\n",
       "  </thead>\n",
       "  <tbody>\n",
       "    <tr>\n",
       "      <th>15969</th>\n",
       "      <td>Madden NFL 13</td>\n",
       "      <td>PS3</td>\n",
       "      <td>2012</td>\n",
       "      <td>Sports</td>\n",
       "      <td>0.0</td>\n",
       "      <td>0.01</td>\n",
       "      <td>0.0</td>\n",
       "      <td>0.0</td>\n",
       "      <td>83.0</td>\n",
       "      <td>5.5</td>\n",
       "      <td>E</td>\n",
       "      <td>0.01</td>\n",
       "    </tr>\n",
       "  </tbody>\n",
       "</table>\n",
       "</div>"
      ],
      "text/plain": [
       "                name platform  year_of_release   genre  na_sales  eu_sales  \\\n",
       "15969  Madden NFL 13      PS3             2012  Sports       0.0      0.01   \n",
       "\n",
       "       jp_sales  other_sales  critic_score  user_score rating  total_sales  \n",
       "15969       0.0          0.0          83.0         5.5      E         0.01  "
      ]
     },
     "metadata": {},
     "output_type": "display_data"
    }
   ],
   "source": [
    "duplicated_data_specific=data[data.duplicated(subset = ['name','platform', 'year_of_release'])]\n",
    "display(duplicated_data_specific) # list complete duplicate games"
   ]
  },
  {
   "cell_type": "markdown",
   "id": "716dc893",
   "metadata": {},
   "source": [
    "We see that the same game was counted twice, so we will delete it."
   ]
  },
  {
   "cell_type": "code",
   "execution_count": 20,
   "id": "357400d9",
   "metadata": {},
   "outputs": [],
   "source": [
    "data =data.drop_duplicates(subset = ['name','platform', 'year_of_release'])"
   ]
  },
  {
   "cell_type": "markdown",
   "id": "01076b49",
   "metadata": {},
   "source": [
    "Let's make sure that only one game was deleted, as planned."
   ]
  },
  {
   "cell_type": "code",
   "execution_count": 21,
   "id": "b318d749",
   "metadata": {},
   "outputs": [
    {
     "name": "stdout",
     "output_type": "stream",
     "text": [
      "<class 'pandas.core.frame.DataFrame'>\n",
      "Int64Index: 16443 entries, 0 to 16443\n",
      "Data columns (total 12 columns):\n",
      " #   Column           Non-Null Count  Dtype  \n",
      "---  ------           --------------  -----  \n",
      " 0   name             16443 non-null  object \n",
      " 1   platform         16443 non-null  object \n",
      " 2   year_of_release  16443 non-null  int64  \n",
      " 3   genre            16443 non-null  object \n",
      " 4   na_sales         16443 non-null  float64\n",
      " 5   eu_sales         16443 non-null  float64\n",
      " 6   jp_sales         16443 non-null  float64\n",
      " 7   other_sales      16443 non-null  float64\n",
      " 8   critic_score     7982 non-null   float64\n",
      " 9   user_score       7462 non-null   float64\n",
      " 10  rating           16443 non-null  object \n",
      " 11  total_sales      16443 non-null  float64\n",
      "dtypes: float64(7), int64(1), object(4)\n",
      "memory usage: 1.6+ MB\n"
     ]
    }
   ],
   "source": [
    "data.info()"
   ]
  },
  {
   "cell_type": "markdown",
   "id": "5ee5ba3a",
   "metadata": {},
   "source": [
    "**Step 2. Conclusion.**\n",
    "\n",
    "We removed columns with gaps, replaced data types where necessary. We checked the dataset for duplicates and removed implicit duplicates. All data are prepared for further correct analysis.\n",
    "\n",
    "The total sales indicator was also calculated and added as a separate column to the table for further analysis."
   ]
  },
  {
   "cell_type": "markdown",
   "id": "0aee097e",
   "metadata": {},
   "source": [
    "## Step 3. Exploratory data analysis"
   ]
  },
  {
   "cell_type": "markdown",
   "id": "665b4c3d",
   "metadata": {},
   "source": [
    "### 1. The amount of games was released in different years. Is data for all periods important?"
   ]
  },
  {
   "cell_type": "code",
   "execution_count": 22,
   "id": "304a1cf4",
   "metadata": {},
   "outputs": [
    {
     "data": {
      "image/png": "[encoded data removed]",
      "text/plain": [
       "<Figure size 1080x504 with 1 Axes>"
      ]
     },
     "metadata": {
      "needs_background": "light"
     },
     "output_type": "display_data"
    }
   ],
   "source": [
    "data['year_of_release'].hist(bins = 100, figsize = (15, 7), color='#87CEEB')\n",
    "\n",
    "plt.title('The amount of games in different years')\n",
    "plt.xlabel('Year') \n",
    "plt.ylabel('Quantity')\n",
    "plt.show()"
   ]
  },
  {
   "cell_type": "markdown",
   "id": "d908a2f7",
   "metadata": {},
   "source": [
    "The active peak of growth in the release of games began in the 2000s.\n",
    "\n",
    "Probably the most relevant data will be data from ~ 2014 to 2016 - this period reflects the current trends in the gaming market.\n",
    "\n",
    "The data before 1995 is absolutely irrelevant, since games were just starting to appear. They were not popular due to the lack of technical capacities for their development and usage, and their number is not comparable to any of the periods over the past 20 years.\n",
    "\n",
    "In the 2000s, there was a rapid increase in the level of hardware capabilities of gaming hardware, provoking a greater growth in computer games, new players entered the market (for example, Microsoft with X360), existing players began to update their consoles (for example, Sony with PS2, PS3 ). Games have become more accessible, an alternative has appeared in the form of personal computers.\n",
    " \n",
    "\n",
    "Since the 2010s, there has been a decline in demand for games in general across the listed platforms because mobile platforms have created a new sales channel. In addition to amateur gamers purposefully buying a console or PC games, there is a category of \"a person who spends time on the subway on his way to work playing on his smartphone\". This has resulted in the functional simplification of games in order to adapt them to the limited capabilities of the phone compared to the joystick or keyboard. The interest of users has shifted to this area, which was reflected in the drop in sales of computer games on various platforms."
   ]
  },
  {
   "cell_type": "markdown",
   "id": "eb045a13",
   "metadata": {},
   "source": [
    "### 2. Changes in sales by platform. Select the platforms with the highest total sales and plot the distribution by year. How long does it take for new platforms to appear and old ones to disappear?"
   ]
  },
  {
   "cell_type": "code",
   "execution_count": 23,
   "id": "b55e444a",
   "metadata": {},
   "outputs": [
    {
     "data": {
      "image/png": "[encoded data removed]",
      "text/plain": [
       "<Figure size 1080x504 with 1 Axes>"
      ]
     },
     "metadata": {
      "needs_background": "light"
     },
     "output_type": "display_data"
    }
   ],
   "source": [
    "#collect data by platform and sort by sales\n",
    "filtered_by_platform = data.pivot_table(index='platform', values='total_sales', aggfunc= 'sum')\\\n",
    ".sort_values('total_sales', ascending=False)\n",
    "\n",
    "#create a list of the first 10 top platforms\n",
    "new = filtered_by_platform.index[:10].tolist()\n",
    "\n",
    "#create a dataset for the selected platforms\n",
    "top10 = data.query('platform == @new')\n",
    "\n",
    "#build a graph of sales among these platforms by years\n",
    "pd.pivot_table(top10 , index='year_of_release', columns='platform', values='total_sales', aggfunc='sum')\\\n",
    ".plot(figsize=(15,7), xlim=(1993,2017))\n",
    "\n",
    "plt.title('Sales by platforms')\n",
    "plt.xlabel('Year') \n",
    "plt.ylabel('Sales in mln.copies')\n",
    "plt.show()"
   ]
  },
  {
   "cell_type": "code",
   "execution_count": 24,
   "id": "9bc933b7",
   "metadata": {
    "scrolled": false
   },
   "outputs": [
    {
     "data": {
      "text/plain": [
       "platform\n",
       "PC      31\n",
       "DS      28\n",
       "GB      13\n",
       "X360    11\n",
       "PSP     11\n",
       "PS2     11\n",
       "NES     11\n",
       "DC      10\n",
       "Wii     10\n",
       "PS3     10\n",
       "2600     9\n",
       "SNES     9\n",
       "PS       9\n",
       "XB       8\n",
       "GBA      7\n",
       "GC       6\n",
       "N64      6\n",
       "3DS      5\n",
       "PSV      5\n",
       "SAT      5\n",
       "WiiU     4\n",
       "GEN      4\n",
       "NG       3\n",
       "XOne     3\n",
       "PS4      3\n",
       "WS       2\n",
       "3DO      1\n",
       "SCD      1\n",
       "TG16     0\n",
       "PCFX     0\n",
       "GG       0\n",
       "Name: year_of_release, dtype: int64"
      ]
     },
     "metadata": {},
     "output_type": "display_data"
    },
    {
     "data": {
      "text/plain": [
       "7.612903225806452"
      ]
     },
     "metadata": {},
     "output_type": "display_data"
    },
    {
     "data": {
      "text/plain": [
       "6.0"
      ]
     },
     "metadata": {},
     "output_type": "display_data"
    }
   ],
   "source": [
    "#calculate the duration of the \"life\" of the platform by the difference between the maximum and minimum release year\n",
    "platform_max = data.groupby('platform')['year_of_release'].max()\n",
    "platform_min = data.groupby('platform')['year_of_release'].min()\n",
    "platform_lifetime = platform_max - platform_min\n",
    "display(platform_lifetime.sort_values(ascending=False))\n",
    "display(platform_lifetime.mean())\n",
    "display(platform_lifetime.median())"
   ]
  },
  {
   "cell_type": "markdown",
   "id": "fa4fbfa2",
   "metadata": {},
   "source": [
    "According to the graph and the table, the average \"life\" of gaming platforms is 6-7 years. There are platforms that are most popular (for example, X360, PS2, PS3) and live longer - an average of 10-13 years."
   ]
  },
  {
   "cell_type": "markdown",
   "id": "e126fa7a",
   "metadata": {},
   "source": [
    "### 3. Which platforms are leading in sales, rising or falling? Pick a few potentially profitable platforms."
   ]
  },
  {
   "cell_type": "markdown",
   "id": "4464636e",
   "metadata": {},
   "source": [
    "Since the gaming platform market is very dynamic, we define the current period as follows:\n",
    "1. deadline - 2016\n",
    "2. start date - 2014.\n",
    "\n",
    "Now let's calculate which platforms are leading in this period. We will limit ourselves to the top 5 most popular platforms (it is about 87% of all copies of games sold) so that the graphics are more visual and accessible for analysis."
   ]
  },
  {
   "cell_type": "code",
   "execution_count": 25,
   "id": "91a7c516",
   "metadata": {},
   "outputs": [
    {
     "data": {
      "text/html": [
       "<div>\n",
       "<style scoped>\n",
       "    .dataframe tbody tr th:only-of-type {\n",
       "        vertical-align: middle;\n",
       "    }\n",
       "\n",
       "    .dataframe tbody tr th {\n",
       "        vertical-align: top;\n",
       "    }\n",
       "\n",
       "    .dataframe thead th {\n",
       "        text-align: right;\n",
       "    }\n",
       "</style>\n",
       "<table border=\"1\" class=\"dataframe\">\n",
       "  <thead>\n",
       "    <tr style=\"text-align: right;\">\n",
       "      <th></th>\n",
       "      <th>total_sales</th>\n",
       "    </tr>\n",
       "    <tr>\n",
       "      <th>platform</th>\n",
       "      <th></th>\n",
       "    </tr>\n",
       "  </thead>\n",
       "  <tbody>\n",
       "    <tr>\n",
       "      <th>PS4</th>\n",
       "      <td>288.15</td>\n",
       "    </tr>\n",
       "    <tr>\n",
       "      <th>XOne</th>\n",
       "      <td>140.36</td>\n",
       "    </tr>\n",
       "    <tr>\n",
       "      <th>3DS</th>\n",
       "      <td>86.68</td>\n",
       "    </tr>\n",
       "    <tr>\n",
       "      <th>PS3</th>\n",
       "      <td>68.18</td>\n",
       "    </tr>\n",
       "    <tr>\n",
       "      <th>X360</th>\n",
       "      <td>48.22</td>\n",
       "    </tr>\n",
       "  </tbody>\n",
       "</table>\n",
       "</div>"
      ],
      "text/plain": [
       "          total_sales\n",
       "platform             \n",
       "PS4            288.15\n",
       "XOne           140.36\n",
       "3DS             86.68\n",
       "PS3             68.18\n",
       "X360            48.22"
      ]
     },
     "metadata": {},
     "output_type": "display_data"
    },
    {
     "data": {
      "image/png": "[encoded data removed]",
      "text/plain": [
       "<Figure size 1152x720 with 1 Axes>"
      ]
     },
     "metadata": {
      "needs_background": "light"
     },
     "output_type": "display_data"
    }
   ],
   "source": [
    "#see what platforms are popular during this period\n",
    "\n",
    "top5_platforms_2014_2016 = data.query('year_of_release >=2014')\\\n",
    ".pivot_table(index='platform', values='total_sales', aggfunc= 'sum')\\\n",
    ".sort_values('total_sales', ascending=False)\n",
    "\n",
    "display(top5_platforms_2014_2016.head())\n",
    "\n",
    "#create a list of the first 5 top platforms\n",
    "top_5_list = top5_platforms_2014_2016.index[:5].tolist()\n",
    "\n",
    "\n",
    "#create a dataset for the selected platforms\n",
    "top_5 = data.query('platform == @top_5_list and year_of_release>=2014')\n",
    "\n",
    "\n",
    "#build a chart on the dynamics of sales for each of the platforms for the current period\n",
    "pd.pivot_table(top_5, index='year_of_release', columns='platform', values='total_sales', aggfunc='sum')\\\n",
    ".plot(figsize=(16,10))\n",
    "plt.title('Sales by platforms')\n",
    "plt.xlabel('Year') \n",
    "plt.ylabel('Sales in mln.copies')\n",
    "plt.show()"
   ]
  },
  {
   "cell_type": "markdown",
   "id": "b337ae2b",
   "metadata": {},
   "source": [
    "The most popular platforms, based on their estimated revenue, are:\n",
    "1. PS4\n",
    "2. XOne\n",
    "3. 3DS\n",
    "4. PS3\n",
    "5. X360\n",
    "\n",
    "As it could be seen from the graph, all platforms are experiencing a decrease in sales. The exception may be PS4 and XOne, which showed an increase in 2015, becuse the decrease in 2016 may be due to incomplete data for this period.\n",
    "In general, the dynamics could be due to the fact that these are one of the newest platforms, therefore interest in them can only be gainig, while the rest of the platforms may have already passed the peak of their popularity and maximum sales."
   ]
  },
  {
   "cell_type": "markdown",
   "id": "fb5dd113",
   "metadata": {},
   "source": [
    "### 4. Create a boxplot of global game sales by platform."
   ]
  },
  {
   "cell_type": "code",
   "execution_count": 26,
   "id": "5348b874",
   "metadata": {},
   "outputs": [
    {
     "data": {
      "image/png": "[encoded data removed]",
      "text/plain": [
       "<Figure size 1080x720 with 1 Axes>"
      ]
     },
     "metadata": {
      "needs_background": "light"
     },
     "output_type": "display_data"
    }
   ],
   "source": [
    "boxplot = top_5.boxplot(column=['total_sales'], by='platform', figsize=(15,10)).set_ylim(0, 15)\n",
    "\n",
    "\n",
    "plt.xlabel('Platforms') \n",
    "plt.ylabel('Sales in mln.cpoies')\n",
    "plt.show()"
   ]
  },
  {
   "cell_type": "code",
   "execution_count": 27,
   "id": "19525b36",
   "metadata": {},
   "outputs": [
    {
     "data": {
      "image/png": "[encoded data removed]",
      "text/plain": [
       "<Figure size 1080x720 with 1 Axes>"
      ]
     },
     "metadata": {
      "needs_background": "light"
     },
     "output_type": "display_data"
    }
   ],
   "source": [
    "boxplot = top_5.boxplot(column=['total_sales'], by='platform', figsize=(15,10)).set_ylim(0, 0.85)\n",
    "\n",
    "plt.xlabel('Platforms') \n",
    "plt.ylabel('Sales in mln.cpoies')\n",
    "plt.show()"
   ]
  },
  {
   "cell_type": "markdown",
   "id": "964eb74a",
   "metadata": {},
   "source": [
    "Most part of the sales is outlier values, which is determined by the specific gaming industry - the company releases a certain game and collects large sales volumes of the release. The number of games that are bought constantly and fast is insignificant, which can be seen on the graph.\n",
    "\n",
    "According to the enlarged graph with quartiles, we can see that PS4 has the maximum number of games among the presented platforms that fall into the 75% interval, while the maximum median is for XOne.\n"
   ]
  },
  {
   "cell_type": "markdown",
   "id": "0f3a2a79",
   "metadata": {},
   "source": [
    "### 5. How do reviews from users and critics affect sales within one popular platform. Plot a scatterplot and calculate the correlation between reviews and sales."
   ]
  },
  {
   "cell_type": "markdown",
   "id": "0eeeb60e",
   "metadata": {},
   "source": [
    "1. X360"
   ]
  },
  {
   "cell_type": "code",
   "execution_count": 28,
   "id": "8d1ee2bd",
   "metadata": {},
   "outputs": [
    {
     "data": {
      "image/png": "[encoded data removed]",
      "text/plain": [
       "<Figure size 432x288 with 1 Axes>"
      ]
     },
     "metadata": {
      "needs_background": "light"
     },
     "output_type": "display_data"
    },
    {
     "data": {
      "image/png": "[encoded data removed]",
      "text/plain": [
       "<Figure size 432x288 with 1 Axes>"
      ]
     },
     "metadata": {
      "needs_background": "light"
     },
     "output_type": "display_data"
    }
   ],
   "source": [
    "top_5.query('platform == \"X360\"').pivot_table(index = ['user_score'], values = 'total_sales', aggfunc = 'sum')\\\n",
    "    .plot(style='o', ylim=(0,15))\n",
    "plt.title('X360 correlation between sales and users` reviews')\n",
    "plt.xlabel('User score') \n",
    "plt.ylabel('sales in mln.copies')\n",
    "plt.show()\n",
    "\n",
    "\n",
    "top_5.query('platform == \"X360\"').pivot_table(index = ['critic_score'], values = 'total_sales', aggfunc = 'sum')\\\n",
    "    .plot(style='o', ylim=(0,15))\n",
    "plt.title('X360 correlation between sales and critics` reviews')\n",
    "plt.xlabel('Critic score') \n",
    "plt.ylabel('Sales in mln.copies')\n",
    "plt.show()\n",
    "\n"
   ]
  },
  {
   "cell_type": "markdown",
   "id": "3cecf559",
   "metadata": {},
   "source": [
    "Let's calculate the sales correlation depending on the feedback from users and critics in the current period. "
   ]
  },
  {
   "cell_type": "code",
   "execution_count": 29,
   "id": "d00dca15",
   "metadata": {},
   "outputs": [
    {
     "data": {
      "text/html": [
       "<div>\n",
       "<style scoped>\n",
       "    .dataframe tbody tr th:only-of-type {\n",
       "        vertical-align: middle;\n",
       "    }\n",
       "\n",
       "    .dataframe tbody tr th {\n",
       "        vertical-align: top;\n",
       "    }\n",
       "\n",
       "    .dataframe thead th {\n",
       "        text-align: right;\n",
       "    }\n",
       "</style>\n",
       "<table border=\"1\" class=\"dataframe\">\n",
       "  <thead>\n",
       "    <tr style=\"text-align: right;\">\n",
       "      <th></th>\n",
       "      <th>total_sales</th>\n",
       "      <th>critic_score</th>\n",
       "      <th>user_score</th>\n",
       "    </tr>\n",
       "  </thead>\n",
       "  <tbody>\n",
       "    <tr>\n",
       "      <th>total_sales</th>\n",
       "      <td>1.000000</td>\n",
       "      <td>0.525723</td>\n",
       "      <td>-0.138445</td>\n",
       "    </tr>\n",
       "    <tr>\n",
       "      <th>critic_score</th>\n",
       "      <td>0.525723</td>\n",
       "      <td>1.000000</td>\n",
       "      <td>0.625309</td>\n",
       "    </tr>\n",
       "    <tr>\n",
       "      <th>user_score</th>\n",
       "      <td>-0.138445</td>\n",
       "      <td>0.625309</td>\n",
       "      <td>1.000000</td>\n",
       "    </tr>\n",
       "  </tbody>\n",
       "</table>\n",
       "</div>"
      ],
      "text/plain": [
       "              total_sales  critic_score  user_score\n",
       "total_sales      1.000000      0.525723   -0.138445\n",
       "critic_score     0.525723      1.000000    0.625309\n",
       "user_score      -0.138445      0.625309    1.000000"
      ]
     },
     "execution_count": 29,
     "metadata": {},
     "output_type": "execute_result"
    }
   ],
   "source": [
    "top_5_by_platform = top_5.query('platform == \"X360\"')\n",
    "top_5_by_platform[['total_sales', 'critic_score', 'user_score']].corr()"
   ]
  },
  {
   "cell_type": "markdown",
   "id": "a4741a4c",
   "metadata": {},
   "source": [
    "The calculation was confirmed by a scatterplot: there was no significant correlation between sales and reviews from users and critics. At the same time, we see that a direct linear correlaction is stronger with reviews from critics, rather than reviews from users."
   ]
  },
  {
   "cell_type": "markdown",
   "id": "b4b6a807",
   "metadata": {},
   "source": [
    "2. PS3"
   ]
  },
  {
   "cell_type": "code",
   "execution_count": 30,
   "id": "eb410921",
   "metadata": {},
   "outputs": [
    {
     "data": {
      "image/png": "[encoded data removed]",
      "text/plain": [
       "<Figure size 432x288 with 1 Axes>"
      ]
     },
     "metadata": {
      "needs_background": "light"
     },
     "output_type": "display_data"
    },
    {
     "data": {
      "image/png": "[encoded data removed]",
      "text/plain": [
       "<Figure size 432x288 with 1 Axes>"
      ]
     },
     "metadata": {
      "needs_background": "light"
     },
     "output_type": "display_data"
    }
   ],
   "source": [
    "top_5.query('platform == \"PS3\"').pivot_table(index = ['user_score'], values = 'total_sales', aggfunc = 'sum')\\\n",
    "    .plot(style='o', ylim=(0,15))\n",
    "plt.title('PS3 correlation between sales and users` reviews')\n",
    "plt.xlabel('User score') \n",
    "plt.ylabel('sales in mln.copies')\n",
    "plt.show()\n",
    "\n",
    "\n",
    "top_5.query('platform == \"PS3\"').pivot_table(index = ['critic_score'], values = 'total_sales', aggfunc = 'sum')\\\n",
    "    .plot(style='o', ylim=(0,15))\n",
    "plt.title('PS3 correlation between sales and critics` reviews')\n",
    "plt.xlabel('Critic score') \n",
    "plt.ylabel('Sales in mln.copies')\n",
    "plt.show()\n"
   ]
  },
  {
   "cell_type": "markdown",
   "id": "ff8cc176",
   "metadata": {},
   "source": [
    "Let's calculate the sales correlation depending on the feedback from users and critics in the current period. "
   ]
  },
  {
   "cell_type": "code",
   "execution_count": 31,
   "id": "514df6db",
   "metadata": {},
   "outputs": [
    {
     "data": {
      "text/html": [
       "<div>\n",
       "<style scoped>\n",
       "    .dataframe tbody tr th:only-of-type {\n",
       "        vertical-align: middle;\n",
       "    }\n",
       "\n",
       "    .dataframe tbody tr th {\n",
       "        vertical-align: top;\n",
       "    }\n",
       "\n",
       "    .dataframe thead th {\n",
       "        text-align: right;\n",
       "    }\n",
       "</style>\n",
       "<table border=\"1\" class=\"dataframe\">\n",
       "  <thead>\n",
       "    <tr style=\"text-align: right;\">\n",
       "      <th></th>\n",
       "      <th>total_sales</th>\n",
       "      <th>critic_score</th>\n",
       "      <th>user_score</th>\n",
       "    </tr>\n",
       "  </thead>\n",
       "  <tbody>\n",
       "    <tr>\n",
       "      <th>total_sales</th>\n",
       "      <td>1.000000</td>\n",
       "      <td>0.446575</td>\n",
       "      <td>-0.166761</td>\n",
       "    </tr>\n",
       "    <tr>\n",
       "      <th>critic_score</th>\n",
       "      <td>0.446575</td>\n",
       "      <td>1.000000</td>\n",
       "      <td>0.693445</td>\n",
       "    </tr>\n",
       "    <tr>\n",
       "      <th>user_score</th>\n",
       "      <td>-0.166761</td>\n",
       "      <td>0.693445</td>\n",
       "      <td>1.000000</td>\n",
       "    </tr>\n",
       "  </tbody>\n",
       "</table>\n",
       "</div>"
      ],
      "text/plain": [
       "              total_sales  critic_score  user_score\n",
       "total_sales      1.000000      0.446575   -0.166761\n",
       "critic_score     0.446575      1.000000    0.693445\n",
       "user_score      -0.166761      0.693445    1.000000"
      ]
     },
     "execution_count": 31,
     "metadata": {},
     "output_type": "execute_result"
    }
   ],
   "source": [
    "top_5_by_platform = top_5.query('platform == \"PS3\"')\n",
    "top_5_by_platform[['total_sales', 'critic_score', 'user_score']].corr()"
   ]
  },
  {
   "cell_type": "markdown",
   "id": "ac72e3ad",
   "metadata": {},
   "source": [
    "The calculation was confirmed by a scatterplot: there was no significant correlation between sales and reviews from users and critics. At the same time, we see that a direct linear correlaction is stronger with reviews from critics, rather than reviews from users."
   ]
  },
  {
   "cell_type": "markdown",
   "id": "f97f89db",
   "metadata": {},
   "source": [
    "3. XOne"
   ]
  },
  {
   "cell_type": "code",
   "execution_count": 32,
   "id": "5a98fa0f",
   "metadata": {},
   "outputs": [
    {
     "data": {
      "image/png": "[encoded data removed]",
      "text/plain": [
       "<Figure size 432x288 with 1 Axes>"
      ]
     },
     "metadata": {
      "needs_background": "light"
     },
     "output_type": "display_data"
    },
    {
     "data": {
      "image/png": "[encoded data removed]",
      "text/plain": [
       "<Figure size 432x288 with 1 Axes>"
      ]
     },
     "metadata": {
      "needs_background": "light"
     },
     "output_type": "display_data"
    }
   ],
   "source": [
    "top_5.query('platform == \"XOne\"').pivot_table(index = ['user_score'], values = 'total_sales', aggfunc = 'sum')\\\n",
    "    .plot(style='o', ylim=(0,15))\n",
    "plt.title('XOne correlation between sales and users` reviews')\n",
    "plt.xlabel('User score') \n",
    "plt.ylabel('sales in mln.copies')\n",
    "plt.show()\n",
    "\n",
    "\n",
    "top_5.query('platform == \"XOne\"').pivot_table(index = ['critic_score'], values = 'total_sales', aggfunc = 'sum')\\\n",
    "    .plot(style='o', ylim=(0,15))\n",
    "plt.title('XOne correlation between sales and critics` reviews')\n",
    "plt.xlabel('Critic score') \n",
    "plt.ylabel('Sales in mln.copies')\n",
    "plt.show()"
   ]
  },
  {
   "cell_type": "markdown",
   "id": "f44f99ac",
   "metadata": {},
   "source": [
    "Let's calculate the sales correlation depending on the feedback from users and critics in the current period. "
   ]
  },
  {
   "cell_type": "code",
   "execution_count": 33,
   "id": "3bed41fe",
   "metadata": {},
   "outputs": [
    {
     "data": {
      "text/html": [
       "<div>\n",
       "<style scoped>\n",
       "    .dataframe tbody tr th:only-of-type {\n",
       "        vertical-align: middle;\n",
       "    }\n",
       "\n",
       "    .dataframe tbody tr th {\n",
       "        vertical-align: top;\n",
       "    }\n",
       "\n",
       "    .dataframe thead th {\n",
       "        text-align: right;\n",
       "    }\n",
       "</style>\n",
       "<table border=\"1\" class=\"dataframe\">\n",
       "  <thead>\n",
       "    <tr style=\"text-align: right;\">\n",
       "      <th></th>\n",
       "      <th>total_sales</th>\n",
       "      <th>critic_score</th>\n",
       "      <th>user_score</th>\n",
       "    </tr>\n",
       "  </thead>\n",
       "  <tbody>\n",
       "    <tr>\n",
       "      <th>total_sales</th>\n",
       "      <td>1.000000</td>\n",
       "      <td>0.428677</td>\n",
       "      <td>-0.070384</td>\n",
       "    </tr>\n",
       "    <tr>\n",
       "      <th>critic_score</th>\n",
       "      <td>0.428677</td>\n",
       "      <td>1.000000</td>\n",
       "      <td>0.440977</td>\n",
       "    </tr>\n",
       "    <tr>\n",
       "      <th>user_score</th>\n",
       "      <td>-0.070384</td>\n",
       "      <td>0.440977</td>\n",
       "      <td>1.000000</td>\n",
       "    </tr>\n",
       "  </tbody>\n",
       "</table>\n",
       "</div>"
      ],
      "text/plain": [
       "              total_sales  critic_score  user_score\n",
       "total_sales      1.000000      0.428677   -0.070384\n",
       "critic_score     0.428677      1.000000    0.440977\n",
       "user_score      -0.070384      0.440977    1.000000"
      ]
     },
     "execution_count": 33,
     "metadata": {},
     "output_type": "execute_result"
    }
   ],
   "source": [
    "top_5_by_platform = top_5.query('platform == \"XOne\"')\n",
    "top_5_by_platform[['total_sales', 'critic_score', 'user_score']].corr()"
   ]
  },
  {
   "cell_type": "markdown",
   "id": "1f9d0d7d",
   "metadata": {},
   "source": [
    "The calculation was confirmed by a scatterplot: there was no significant correlation between sales and reviews from users and critics. At the same time, we see that a direct linear correlaction is stronger with reviews from critics, rather than reviews from users."
   ]
  },
  {
   "cell_type": "markdown",
   "id": "64f92108",
   "metadata": {},
   "source": [
    "4. 3DS"
   ]
  },
  {
   "cell_type": "code",
   "execution_count": 34,
   "id": "dae3a3d0",
   "metadata": {},
   "outputs": [
    {
     "data": {
      "image/png": "[encoded data removed]",
      "text/plain": [
       "<Figure size 432x288 with 1 Axes>"
      ]
     },
     "metadata": {
      "needs_background": "light"
     },
     "output_type": "display_data"
    },
    {
     "data": {
      "image/png": "[encoded data removed]",
      "text/plain": [
       "<Figure size 432x288 with 1 Axes>"
      ]
     },
     "metadata": {
      "needs_background": "light"
     },
     "output_type": "display_data"
    }
   ],
   "source": [
    "top_5.query('platform == \"3DS\"').pivot_table(index = ['user_score'], values = 'total_sales', aggfunc = 'sum')\\\n",
    "    .plot(style='o', ylim=(0,15))\n",
    "plt.title('3DS correlation between sales and users` reviews')\n",
    "plt.xlabel('User score') \n",
    "plt.ylabel('sales in mln.copies')\n",
    "plt.show()\n",
    "\n",
    "\n",
    "top_5.query('platform == \"3DS\"').pivot_table(index = ['critic_score'], values = 'total_sales', aggfunc = 'sum')\\\n",
    "    .plot(style='o', ylim=(0,15))\n",
    "plt.title('3DS correlation between sales and critics` reviews')\n",
    "plt.xlabel('Critic score') \n",
    "plt.ylabel('Sales in mln.copies')\n",
    "plt.show()"
   ]
  },
  {
   "cell_type": "markdown",
   "id": "be159414",
   "metadata": {},
   "source": [
    "Let's calculate the sales correlation depending on the feedback from users and critics in the current period. "
   ]
  },
  {
   "cell_type": "code",
   "execution_count": 35,
   "id": "bf4d4a61",
   "metadata": {},
   "outputs": [
    {
     "data": {
      "text/html": [
       "<div>\n",
       "<style scoped>\n",
       "    .dataframe tbody tr th:only-of-type {\n",
       "        vertical-align: middle;\n",
       "    }\n",
       "\n",
       "    .dataframe tbody tr th {\n",
       "        vertical-align: top;\n",
       "    }\n",
       "\n",
       "    .dataframe thead th {\n",
       "        text-align: right;\n",
       "    }\n",
       "</style>\n",
       "<table border=\"1\" class=\"dataframe\">\n",
       "  <thead>\n",
       "    <tr style=\"text-align: right;\">\n",
       "      <th></th>\n",
       "      <th>total_sales</th>\n",
       "      <th>critic_score</th>\n",
       "      <th>user_score</th>\n",
       "    </tr>\n",
       "  </thead>\n",
       "  <tbody>\n",
       "    <tr>\n",
       "      <th>total_sales</th>\n",
       "      <td>1.000000</td>\n",
       "      <td>0.314117</td>\n",
       "      <td>0.215193</td>\n",
       "    </tr>\n",
       "    <tr>\n",
       "      <th>critic_score</th>\n",
       "      <td>0.314117</td>\n",
       "      <td>1.000000</td>\n",
       "      <td>0.862485</td>\n",
       "    </tr>\n",
       "    <tr>\n",
       "      <th>user_score</th>\n",
       "      <td>0.215193</td>\n",
       "      <td>0.862485</td>\n",
       "      <td>1.000000</td>\n",
       "    </tr>\n",
       "  </tbody>\n",
       "</table>\n",
       "</div>"
      ],
      "text/plain": [
       "              total_sales  critic_score  user_score\n",
       "total_sales      1.000000      0.314117    0.215193\n",
       "critic_score     0.314117      1.000000    0.862485\n",
       "user_score       0.215193      0.862485    1.000000"
      ]
     },
     "execution_count": 35,
     "metadata": {},
     "output_type": "execute_result"
    }
   ],
   "source": [
    "top_5_by_platform = top_5.query('platform == \"3DS\"')\n",
    "top_5_by_platform[['total_sales', 'critic_score', 'user_score']].corr()"
   ]
  },
  {
   "cell_type": "markdown",
   "id": "77a2c0fc",
   "metadata": {},
   "source": [
    "The calculation was confirmed by a scatterplot: there was no significant correlation between sales and reviews from users and critics. At the same time, we see that a direct linear correlaction is stronger with reviews from critics, rather than reviews from users."
   ]
  },
  {
   "cell_type": "markdown",
   "id": "7ff23193",
   "metadata": {},
   "source": [
    "5. PS4"
   ]
  },
  {
   "cell_type": "code",
   "execution_count": 36,
   "id": "131f7a1a",
   "metadata": {
    "scrolled": false
   },
   "outputs": [
    {
     "data": {
      "image/png": "[encoded data removed]",
      "text/plain": [
       "<Figure size 432x288 with 1 Axes>"
      ]
     },
     "metadata": {
      "needs_background": "light"
     },
     "output_type": "display_data"
    },
    {
     "data": {
      "image/png": "[encoded data removed]",
      "text/plain": [
       "<Figure size 432x288 with 1 Axes>"
      ]
     },
     "metadata": {
      "needs_background": "light"
     },
     "output_type": "display_data"
    }
   ],
   "source": [
    "top_5.query('platform == \"PS4\"').pivot_table(index = ['user_score'], values = 'total_sales', aggfunc = 'sum')\\\n",
    "    .plot(style='o', ylim=(0,15))\n",
    "plt.title('PS4 correlation between sales and users` reviews')\n",
    "plt.xlabel('User score') \n",
    "plt.ylabel('sales in mln.copies')\n",
    "plt.show()\n",
    "\n",
    "\n",
    "top_5.query('platform == \"PS4\"').pivot_table(index = ['critic_score'], values = 'total_sales', aggfunc = 'sum')\\\n",
    "    .plot(style='o', ylim=(0,15))\n",
    "plt.title('PS4 correlation between sales and critics` reviews')\n",
    "plt.xlabel('Critic score') \n",
    "plt.ylabel('Sales in mln.copies')\n",
    "plt.show()"
   ]
  },
  {
   "cell_type": "markdown",
   "id": "20f183db",
   "metadata": {},
   "source": [
    "Let's calculate the sales correlation depending on the feedback from users and critics in the current period. "
   ]
  },
  {
   "cell_type": "code",
   "execution_count": 37,
   "id": "571365ae",
   "metadata": {},
   "outputs": [
    {
     "data": {
      "text/html": [
       "<div>\n",
       "<style scoped>\n",
       "    .dataframe tbody tr th:only-of-type {\n",
       "        vertical-align: middle;\n",
       "    }\n",
       "\n",
       "    .dataframe tbody tr th {\n",
       "        vertical-align: top;\n",
       "    }\n",
       "\n",
       "    .dataframe thead th {\n",
       "        text-align: right;\n",
       "    }\n",
       "</style>\n",
       "<table border=\"1\" class=\"dataframe\">\n",
       "  <thead>\n",
       "    <tr style=\"text-align: right;\">\n",
       "      <th></th>\n",
       "      <th>total_sales</th>\n",
       "      <th>critic_score</th>\n",
       "      <th>user_score</th>\n",
       "    </tr>\n",
       "  </thead>\n",
       "  <tbody>\n",
       "    <tr>\n",
       "      <th>total_sales</th>\n",
       "      <td>1.000000</td>\n",
       "      <td>0.402661</td>\n",
       "      <td>-0.040132</td>\n",
       "    </tr>\n",
       "    <tr>\n",
       "      <th>critic_score</th>\n",
       "      <td>0.402661</td>\n",
       "      <td>1.000000</td>\n",
       "      <td>0.546434</td>\n",
       "    </tr>\n",
       "    <tr>\n",
       "      <th>user_score</th>\n",
       "      <td>-0.040132</td>\n",
       "      <td>0.546434</td>\n",
       "      <td>1.000000</td>\n",
       "    </tr>\n",
       "  </tbody>\n",
       "</table>\n",
       "</div>"
      ],
      "text/plain": [
       "              total_sales  critic_score  user_score\n",
       "total_sales      1.000000      0.402661   -0.040132\n",
       "critic_score     0.402661      1.000000    0.546434\n",
       "user_score      -0.040132      0.546434    1.000000"
      ]
     },
     "execution_count": 37,
     "metadata": {},
     "output_type": "execute_result"
    }
   ],
   "source": [
    "top_5_by_platform = top_5.query('platform == \"PS4\"')\n",
    "top_5_by_platform[['total_sales', 'critic_score', 'user_score']].corr()"
   ]
  },
  {
   "cell_type": "markdown",
   "id": "7563e12b",
   "metadata": {},
   "source": [
    "The calculation was confirmed by a scatterplot: there was no significant correlation between sales and reviews from users and critics. At the same time, we see that a direct linear correlaction is stronger with reviews from critics, rather than reviews from users."
   ]
  },
  {
   "cell_type": "markdown",
   "id": "ef240cae",
   "metadata": {},
   "source": [
    "**Conclusion**\n",
    "\n",
    "In general, no pronounced linear correlaction between sales and reviews was revealed (none of the correlation coefficients exceeded even 0.5). At the same time, it was found that in most cases, a direct linear correlation  between sales and reviews from critics is stronger than between user reviews.\n",
    "   "
   ]
  },
  {
   "cell_type": "markdown",
   "id": "53809b2b",
   "metadata": {},
   "source": [
    "### 6. General distribution of games by genre. What about the most profitable genres? Do genres with high and low sales stand out?"
   ]
  },
  {
   "cell_type": "markdown",
   "id": "40d45c0c",
   "metadata": {},
   "source": [
    "Let's select all the platforms in the current period and see how many genres there are in total to make sure we don't miss anything:"
   ]
  },
  {
   "cell_type": "code",
   "execution_count": 38,
   "id": "37efbde4",
   "metadata": {},
   "outputs": [],
   "source": [
    "actual_data = data.query('year_of_release >= 2014')"
   ]
  },
  {
   "cell_type": "code",
   "execution_count": 39,
   "id": "fb9a7fc3",
   "metadata": {},
   "outputs": [
    {
     "data": {
      "text/plain": [
       "12"
      ]
     },
     "execution_count": 39,
     "metadata": {},
     "output_type": "execute_result"
    }
   ],
   "source": [
    "len(actual_data['genre'].unique())"
   ]
  },
  {
   "cell_type": "markdown",
   "id": "36ba3ea5",
   "metadata": {},
   "source": [
    "Let's take a look at game sales by genre. "
   ]
  },
  {
   "cell_type": "code",
   "execution_count": 40,
   "id": "6ba14235",
   "metadata": {},
   "outputs": [
    {
     "data": {
      "image/png": "[encoded data removed]",
      "text/plain": [
       "<Figure size 1152x720 with 1 Axes>"
      ]
     },
     "metadata": {
      "needs_background": "light"
     },
     "output_type": "display_data"
    }
   ],
   "source": [
    "actual_data.groupby(by='genre').agg({'total_sales':'median'})\\\n",
    "                         .sort_values(by='total_sales', ascending=False)\\\n",
    "                         .plot(kind='bar', figsize=(16,10), color=['#87CEEB','#4682B4'])\n",
    "plt.title('The amount os sales (in mln.copies) depending on the games` genre')\n",
    "plt.xlabel('Genres') \n",
    "plt.ylabel('Sales in mln.copies')\n",
    "plt.show()"
   ]
  },
  {
   "cell_type": "markdown",
   "id": "76d6fda6",
   "metadata": {},
   "source": [
    "The most popular genre - shooter. \n",
    "\n",
    "Top-5 genres are: shooter, sports, platform, fighting и role-playing\n",
    "\n",
    "The least popular genres:  strategy, puzzle, аdventure. \n"
   ]
  },
  {
   "cell_type": "markdown",
   "id": "209a2162",
   "metadata": {},
   "source": [
    "**Step 3. Conclusion.**\n",
    "\n",
    "As part of this step, the current period from 2014 to 2016 was determined (because the industry is changing very dynamically) and there are several outcomes:\n",
    "\n",
    "1. The general dynamics of games is negative, the number of copies sold has been falling in recent years, which may be caused by a shift in the focus of user interests towards, for example, mobile games.\n",
    "2. The most popular platforms are determined as: PS4, XOne, 3DS, PS3, X360.\n",
    "3. It was found that there is no strong linear correlation between the reviews of both critics and users, and sales, while the linear corralation with critics' reviews is stronger than with user reviews.\n",
    "4. The distribution of sales by genre was determined: the most popular - shooter, the most unpopular - adventure."
   ]
  },
  {
   "cell_type": "markdown",
   "id": "dc6e844c",
   "metadata": {},
   "source": [
    "## Step 4. Create a user profile for each region"
   ]
  },
  {
   "cell_type": "markdown",
   "id": "518557f9",
   "metadata": {},
   "source": [
    "### 1.The most popular platforms (top-5). Describe the differences in sales shares."
   ]
  },
  {
   "cell_type": "markdown",
   "id": "5b46a562",
   "metadata": {},
   "source": [
    "**Popular platforms in North America**"
   ]
  },
  {
   "cell_type": "code",
   "execution_count": 41,
   "id": "d732ecef",
   "metadata": {},
   "outputs": [
    {
     "data": {
      "image/png": "[encoded data removed]",
      "text/plain": [
       "<Figure size 1152x720 with 1 Axes>"
      ]
     },
     "metadata": {
      "needs_background": "light"
     },
     "output_type": "display_data"
    }
   ],
   "source": [
    "actual_data.groupby(by='platform').agg({'na_sales':'sum'})\\\n",
    "                         .sort_values(by='na_sales', ascending=False).head()\\\n",
    "                         .plot(kind='bar', figsize=(16,10), color = '#87CEEB')\n",
    "plt.title('Sales amount (mln.copies) in North America')\n",
    "plt.xlabel('Platforms') \n",
    "plt.ylabel('Sales in mln.cpoies')\n",
    "plt.show()"
   ]
  },
  {
   "cell_type": "markdown",
   "id": "443714bf",
   "metadata": {},
   "source": [
    "**Popular genres in North America**"
   ]
  },
  {
   "cell_type": "code",
   "execution_count": 42,
   "id": "d45f59a2",
   "metadata": {},
   "outputs": [
    {
     "data": {
      "image/png": "[encoded data removed]",
      "text/plain": [
       "<Figure size 1152x720 with 1 Axes>"
      ]
     },
     "metadata": {
      "needs_background": "light"
     },
     "output_type": "display_data"
    }
   ],
   "source": [
    "actual_data.groupby(by='genre').agg({'na_sales':'median'})\\\n",
    "                         .sort_values(by='na_sales', ascending=False).head()\\\n",
    "                         .plot(kind='bar', figsize=(16,10), color = '#87CEEB')\n",
    "plt.title('Sales amount (mln.copies) in North America')\n",
    "plt.xlabel('Genres') \n",
    "plt.ylabel('Sales in mln.cpoies')\n",
    "plt.show()"
   ]
  },
  {
   "cell_type": "markdown",
   "id": "dcf6a320",
   "metadata": {},
   "source": [
    "In North America, the most popular gaming platform is PS4, the most popular genre is shooter."
   ]
  },
  {
   "cell_type": "markdown",
   "id": "5a8d14c7",
   "metadata": {},
   "source": [
    "**Popular platforms in Europe**"
   ]
  },
  {
   "cell_type": "code",
   "execution_count": 43,
   "id": "608cd6ec",
   "metadata": {},
   "outputs": [
    {
     "data": {
      "image/png": "[encoded data removed]",
      "text/plain": [
       "<Figure size 1152x720 with 1 Axes>"
      ]
     },
     "metadata": {
      "needs_background": "light"
     },
     "output_type": "display_data"
    }
   ],
   "source": [
    "actual_data.groupby(by='platform').agg({'eu_sales':'sum'})\\\n",
    "                         .sort_values(by='eu_sales', ascending=False).head()\\\n",
    "                         .plot(kind='bar', figsize=(16,10), color = '#87CEEB')\n",
    "plt.title('Sales amount (mln.copies) in Europe')\n",
    "plt.xlabel('Platforms') \n",
    "plt.ylabel('Sales in mln.cpoies')\n",
    "plt.show()"
   ]
  },
  {
   "cell_type": "markdown",
   "id": "d9d5e274",
   "metadata": {},
   "source": [
    "**Popular genres in Europe**"
   ]
  },
  {
   "cell_type": "code",
   "execution_count": 44,
   "id": "6117005b",
   "metadata": {},
   "outputs": [
    {
     "data": {
      "image/png": "[encoded data removed]",
      "text/plain": [
       "<Figure size 1152x720 with 1 Axes>"
      ]
     },
     "metadata": {
      "needs_background": "light"
     },
     "output_type": "display_data"
    }
   ],
   "source": [
    "actual_data.groupby(by='genre').agg({'eu_sales':'median'})\\\n",
    "                         .sort_values(by='eu_sales', ascending=False).head()\\\n",
    "                         .plot(kind='bar', figsize=(16,10), color = '#87CEEB')\n",
    "plt.title('Sales amount (mln.copies) in Europe')\n",
    "plt.xlabel('Genres') \n",
    "plt.ylabel('Sales in mln.cpoies')\n",
    "plt.show()"
   ]
  },
  {
   "cell_type": "markdown",
   "id": "b8798794",
   "metadata": {},
   "source": [
    "The most popular gaming platform in Europe is PS4, the popular genre is shooter."
   ]
  },
  {
   "cell_type": "markdown",
   "id": "cd5b4346",
   "metadata": {},
   "source": [
    "**Popular platforms in Japan**"
   ]
  },
  {
   "cell_type": "code",
   "execution_count": 45,
   "id": "96678b95",
   "metadata": {},
   "outputs": [
    {
     "data": {
      "image/png": "[encoded data removed]",
      "text/plain": [
       "<Figure size 1152x720 with 1 Axes>"
      ]
     },
     "metadata": {
      "needs_background": "light"
     },
     "output_type": "display_data"
    }
   ],
   "source": [
    "actual_data.groupby(by='platform').agg({'jp_sales':'sum'})\\\n",
    "                         .sort_values(by='jp_sales', ascending=False).head()\\\n",
    "                         .plot(kind='bar', figsize=(16,10), color = '#87CEEB')\n",
    "plt.title('Sales amount (mln.copies) in Japan')\n",
    "plt.xlabel('Platforms') \n",
    "plt.ylabel('Sales in mln.cpoies')\n",
    "plt.show()"
   ]
  },
  {
   "cell_type": "markdown",
   "id": "0d77d08e",
   "metadata": {},
   "source": [
    "**Popular genres in Japan**"
   ]
  },
  {
   "cell_type": "code",
   "execution_count": 46,
   "id": "380611ce",
   "metadata": {},
   "outputs": [
    {
     "data": {
      "image/png": "[encoded data removed]",
      "text/plain": [
       "<Figure size 1152x720 with 1 Axes>"
      ]
     },
     "metadata": {
      "needs_background": "light"
     },
     "output_type": "display_data"
    }
   ],
   "source": [
    "actual_data.groupby(by='genre').agg({'jp_sales':'median'})\\\n",
    "                         .sort_values(by='jp_sales', ascending=False).head()\\\n",
    "                         .plot(kind='bar', figsize=(16,10), color = '#87CEEB')\n",
    "plt.title('Sales amount (mln.copies) in Japan')\n",
    "plt.xlabel('Genres') \n",
    "plt.ylabel('Sales in mln.cpoies')\n",
    "plt.show()"
   ]
  },
  {
   "cell_type": "markdown",
   "id": "5c99a6b2",
   "metadata": {},
   "source": [
    "The most popular gaming platform in Japan is 3DS, the popular genre is role-playing."
   ]
  },
  {
   "cell_type": "markdown",
   "id": "b8bbdc67",
   "metadata": {},
   "source": [
    "**The impact of the ESRB rating on sales in the region**"
   ]
  },
  {
   "cell_type": "code",
   "execution_count": 47,
   "id": "601c4918",
   "metadata": {},
   "outputs": [
    {
     "data": {
      "text/html": [
       "<div>\n",
       "<style scoped>\n",
       "    .dataframe tbody tr th:only-of-type {\n",
       "        vertical-align: middle;\n",
       "    }\n",
       "\n",
       "    .dataframe tbody tr th {\n",
       "        vertical-align: top;\n",
       "    }\n",
       "\n",
       "    .dataframe thead th {\n",
       "        text-align: right;\n",
       "    }\n",
       "</style>\n",
       "<table border=\"1\" class=\"dataframe\">\n",
       "  <thead>\n",
       "    <tr style=\"text-align: right;\">\n",
       "      <th></th>\n",
       "      <th>na_sales</th>\n",
       "      <th>eu_sales</th>\n",
       "      <th>jp_sales</th>\n",
       "      <th>other_sales</th>\n",
       "      <th>total_sales</th>\n",
       "    </tr>\n",
       "    <tr>\n",
       "      <th>rating</th>\n",
       "      <th></th>\n",
       "      <th></th>\n",
       "      <th></th>\n",
       "      <th></th>\n",
       "      <th></th>\n",
       "    </tr>\n",
       "  </thead>\n",
       "  <tbody>\n",
       "    <tr>\n",
       "      <th>M</th>\n",
       "      <td>96.42</td>\n",
       "      <td>93.44</td>\n",
       "      <td>8.01</td>\n",
       "      <td>28.67</td>\n",
       "      <td>226.54</td>\n",
       "    </tr>\n",
       "    <tr>\n",
       "      <th>Нет рейтинга</th>\n",
       "      <td>64.72</td>\n",
       "      <td>58.95</td>\n",
       "      <td>56.90</td>\n",
       "      <td>18.40</td>\n",
       "      <td>198.97</td>\n",
       "    </tr>\n",
       "    <tr>\n",
       "      <th>E</th>\n",
       "      <td>50.74</td>\n",
       "      <td>58.06</td>\n",
       "      <td>8.94</td>\n",
       "      <td>15.39</td>\n",
       "      <td>133.13</td>\n",
       "    </tr>\n",
       "    <tr>\n",
       "      <th>T</th>\n",
       "      <td>38.95</td>\n",
       "      <td>34.07</td>\n",
       "      <td>14.78</td>\n",
       "      <td>11.33</td>\n",
       "      <td>99.13</td>\n",
       "    </tr>\n",
       "    <tr>\n",
       "      <th>E10+</th>\n",
       "      <td>33.23</td>\n",
       "      <td>26.16</td>\n",
       "      <td>4.46</td>\n",
       "      <td>7.83</td>\n",
       "      <td>71.68</td>\n",
       "    </tr>\n",
       "  </tbody>\n",
       "</table>\n",
       "</div>"
      ],
      "text/plain": [
       "              na_sales  eu_sales  jp_sales  other_sales  total_sales\n",
       "rating                                                              \n",
       "M                96.42     93.44      8.01        28.67       226.54\n",
       "Нет рейтинга     64.72     58.95     56.90        18.40       198.97\n",
       "E                50.74     58.06      8.94        15.39       133.13\n",
       "T                38.95     34.07     14.78        11.33        99.13\n",
       "E10+             33.23     26.16      4.46         7.83        71.68"
      ]
     },
     "metadata": {},
     "output_type": "display_data"
    }
   ],
   "source": [
    "by_rating = actual_data.groupby(['rating'])\\\n",
    ".agg({'na_sales':'sum', 'eu_sales':'sum', 'jp_sales':'sum', 'other_sales':'sum', 'total_sales':'sum'})\\\n",
    ".sort_values(by='total_sales', ascending=False).head(5)\n",
    "display(by_rating)"
   ]
  },
  {
   "cell_type": "markdown",
   "id": "f54cbf02",
   "metadata": {},
   "source": [
    "According to the distribution of sales, there is a completely logical pattern that, in general, according to all data, there are more games sold with an M('mature') rating among those for which the rating is determined, since the most solvent target audience is represented.\n",
    "\n",
    "In Japan, the most of the market is not categorized, but T('teens') sales are in first place because it is likely that teens are more immersed in the gaming industry than adults (as a hypothesis - this can be explained by overly busy work schedules among adults in Japan ).\n",
    "\n",
    "In North America and Europe, most of those rated are M, followed by E ('everyone').\n"
   ]
  },
  {
   "cell_type": "markdown",
   "id": "6b13816a",
   "metadata": {},
   "source": [
    "**Step 4. Conclusion**\n",
    "\n",
    "1. The popularity of platforms differs from the region of presence.\n",
    "\n",
    "In North America and Europe the most popular platform is PS4, in Japan - 3DS.\n",
    "\n",
    "2. The popularity of genres also differs from the region of presence.\n",
    "\n",
    "Most popular genres: North America and Europe - shooter, Japan - role-playing.\n",
    "\n",
    "3. The popularity of the rating also varies slightly depending on the region:\n",
    "\n",
    "The largest sales among the games for which the rating is determined: in North America and Europe - M and E ratings, in Japan - T.\n"
   ]
  },
  {
   "cell_type": "markdown",
   "id": "cb00e8f0",
   "metadata": {},
   "source": [
    "## Step 5. Hypothesis testing"
   ]
  },
  {
   "cell_type": "markdown",
   "id": "de5828c7",
   "metadata": {},
   "source": [
    "### 1. The average user ratings of the Xbox One and PC platforms are the same"
   ]
  },
  {
   "cell_type": "markdown",
   "id": "64ffd3b1",
   "metadata": {},
   "source": [
    " - H_o: The average user ratings Xbox = PC\n",
    " - H_1: The average user ratings Xbox != PC "
   ]
  },
  {
   "cell_type": "markdown",
   "id": "0e51da69",
   "metadata": {},
   "source": [
    "We need to test the hypothesis that the mean of two populations is equal based on the samples taken from them, so we use Student's t-test (ttest_ind() method)."
   ]
  },
  {
   "cell_type": "code",
   "execution_count": 48,
   "id": "0ebc2799",
   "metadata": {},
   "outputs": [],
   "source": [
    "x360 = actual_data.query('platform == \"X360\" and user_score>=0')['user_score']\n",
    "\n",
    "PC = actual_data.query('platform == \"PC\" and user_score>=0')['user_score']"
   ]
  },
  {
   "cell_type": "code",
   "execution_count": 49,
   "id": "0a4de254",
   "metadata": {},
   "outputs": [
    {
     "name": "stdout",
     "output_type": "stream",
     "text": [
      "0.0312821899616337\n",
      "Rejecting the null hypothesis\n"
     ]
    }
   ],
   "source": [
    "results = st.ttest_ind(x360,PC,equal_var=False)\n",
    "\n",
    "alpha = 0.05\n",
    "\n",
    "#print the p-value\n",
    "print(results.pvalue)\n",
    "# conditional statement with the output of a string with the answer\n",
    "if results.pvalue<alpha:\n",
    "    print('Rejecting the null hypothesis')\n",
    "else:\n",
    "    print('Failed to reject the null hypothesis')"
   ]
  },
  {
   "cell_type": "markdown",
   "id": "5bd45774",
   "metadata": {},
   "source": [
    "We can say with 95% confidence that the average user rating on PC is not equal to the average user rating on Xbox."
   ]
  },
  {
   "cell_type": "markdown",
   "id": "efdebcaa",
   "metadata": {},
   "source": [
    "### 2. The average user ratings for the Action and Sports genres are different"
   ]
  },
  {
   "cell_type": "markdown",
   "id": "71db807f",
   "metadata": {},
   "source": [
    " - H_o: The average user ratuing Action = Sports\n",
    " - H_1: The average user ratuing Action != Sports"
   ]
  },
  {
   "cell_type": "code",
   "execution_count": 50,
   "id": "ba4f8c83",
   "metadata": {},
   "outputs": [],
   "source": [
    "action = actual_data.query('genre == \"Action\" and user_score>=0')['user_score']\n",
    "\n",
    "sports = actual_data.query('genre == \"Sports\" and user_score>=0')['user_score']"
   ]
  },
  {
   "cell_type": "code",
   "execution_count": 51,
   "id": "b98c998a",
   "metadata": {},
   "outputs": [
    {
     "name": "stdout",
     "output_type": "stream",
     "text": [
      "1.1825550382644557e-14\n",
      "Rejecting the null hypothesis\n"
     ]
    }
   ],
   "source": [
    "results = st.ttest_ind(action,sports,equal_var=False)\n",
    "\n",
    "alpha = 0.05\n",
    "\n",
    "#print the p-value\n",
    "print(results.pvalue)\n",
    "# conditional statement with the output of a string with the answer\n",
    "if results.pvalue<alpha:\n",
    "    print('Rejecting the null hypothesis')\n",
    "else:\n",
    "    print('Failed to reject the null hypothesis')"
   ]
  },
  {
   "cell_type": "markdown",
   "id": "20c6da83",
   "metadata": {},
   "source": [
    "We can say with 95% confidence that the average user rating in the Action genre is not equal to the average user rating in the Sports genre."
   ]
  },
  {
   "cell_type": "markdown",
   "id": "d6d1930a",
   "metadata": {},
   "source": [
    "**Step.5 Conclusion**\n",
    "\n",
    "As part of the study, 2 hypotheses were tested, according to the test results, we came to the conclusion that with a 95% confidence probability we can state that:\n",
    "1. PC and X360 average user ratings are not equal\n",
    "2. The average user ratings for the action and sports genres are not equal."
   ]
  },
  {
   "cell_type": "markdown",
   "id": "fa9fea7f",
   "metadata": {},
   "source": [
    "## Step  6. Conclusion"
   ]
  },
  {
   "cell_type": "markdown",
   "id": "24216f63",
   "metadata": {},
   "source": [
    "As part of this work, we analyzed the available historical data on game sales by genre and platform.\n",
    " \n",
    "The computer games market is very dynamic, the average life span of a set-top box is generally about 7 years, over the past 20 years, the leaders in the gaming platform market have changed several times.\n",
    "\n",
    "In general, the trends in the gaming platform market are not the most favorable for the Strimchik online store, since for the last 5 years there has been an active trend in reducing the number of sold copies of games on the platforms. One likely reason for this trend could be a shift in consumer focus towards mobile games.\n",
    "\n",
    "\n",
    "**To evaluate potentially successful areas for sales in the Strimchik online store, we came to the following conclusions:**\n",
    "\n",
    "*1.Platform selection*\n",
    "\n",
    "The most promising platforms at the moment are PS4 and XOne, they appeared relatively recently and, in comparison with other platforms, showed good sales dynamics in 2015. Given the average life expectancy, games on these platforms will remain in demand longer compared to others, as most platforms are already showing an active decline in the number of copies sold.\n",
    "\n",
    "*2. Genre selection*\n",
    "\n",
    "In general, the most popular genres are:\n",
    "- shooter\n",
    "- sports\n",
    "- platform\n",
    "- fighting\n",
    "- role-playing\n",
    "\n",
    "The least popular genres are:\n",
    "- strategy\n",
    "- puzzle\n",
    "- adventure\n",
    "\n",
    "*3. Age category selection (in accordance with rating from ESRB):*\n",
    "\n",
    "Most played games rated M ('mature').\n",
    "\n",
    "Least played games rated E10+ ('everyone who is older 10 y/o').\n",
    "\n",
    "*4. The impact of reviews on game sales*\n",
    "\n",
    "In general, a strong linear correlation between reviews and game sales was not found in the analysis.\n",
    "At the same time, it should be noted that a linear correlation is stronger for reviews from critics and sales, so when choosing games for sale based on reviews, you should first take into account reviews from critics.\n",
    "\n",
    "\n",
    "**However, when considering the parameters of games for sale, it is necessary to target the region where games are sold, since the specifics of the regions affect the sales of games..** \n",
    "\n",
    "Below are the \"portraits\" of buyers, divided into 3 main analyzed regions:\n",
    "\n",
    "*North America:*\n",
    "\n",
    "1. Popular platform: PS4 \n",
    "2. Popular genre: shooter\n",
    "3. Popular age category: M и E\n",
    "\n",
    "*Europe:*\n",
    "\n",
    "1. Popular platform: PS4 \n",
    "2. Popular genre: shooter\n",
    "3. Popular age category: M и E\n",
    "\n",
    "*Japan:*\n",
    "\n",
    "1. Popular platform: 3DS\n",
    "2. Popular genre: role-playing\n",
    "3. Popular age category: T \n",
    "\n",
    "\n",
    "\n",
    "\n"
   ]
  },
  {
   "cell_type": "code",
   "execution_count": null,
   "id": "66399a90",
   "metadata": {},
   "outputs": [],
   "source": []
  }
 ],
 "metadata": {
  "ExecuteTimeLog": [
   {
    "duration": 1145,
    "start_time": "2022-11-02T11:00:07.662Z"
   },
   {
    "duration": 0,
    "start_time": "2022-11-02T11:00:08.811Z"
   },
   {
    "duration": 0,
    "start_time": "2022-11-02T11:00:08.812Z"
   },
   {
    "duration": 0,
    "start_time": "2022-11-02T11:00:08.813Z"
   },
   {
    "duration": 0,
    "start_time": "2022-11-02T11:00:08.814Z"
   },
   {
    "duration": 0,
    "start_time": "2022-11-02T11:00:08.815Z"
   },
   {
    "duration": 0,
    "start_time": "2022-11-02T11:00:08.816Z"
   },
   {
    "duration": 0,
    "start_time": "2022-11-02T11:00:08.817Z"
   },
   {
    "duration": 0,
    "start_time": "2022-11-02T11:00:08.818Z"
   },
   {
    "duration": 0,
    "start_time": "2022-11-02T11:00:08.819Z"
   },
   {
    "duration": 0,
    "start_time": "2022-11-02T11:00:08.821Z"
   },
   {
    "duration": 0,
    "start_time": "2022-11-02T11:00:08.822Z"
   },
   {
    "duration": 0,
    "start_time": "2022-11-02T11:00:08.823Z"
   },
   {
    "duration": 0,
    "start_time": "2022-11-02T11:00:08.825Z"
   },
   {
    "duration": 0,
    "start_time": "2022-11-02T11:00:08.826Z"
   },
   {
    "duration": 0,
    "start_time": "2022-11-02T11:00:08.827Z"
   },
   {
    "duration": 0,
    "start_time": "2022-11-02T11:00:08.828Z"
   },
   {
    "duration": 0,
    "start_time": "2022-11-02T11:00:08.829Z"
   },
   {
    "duration": 0,
    "start_time": "2022-11-02T11:00:08.831Z"
   },
   {
    "duration": 0,
    "start_time": "2022-11-02T11:00:08.832Z"
   },
   {
    "duration": 0,
    "start_time": "2022-11-02T11:00:08.833Z"
   },
   {
    "duration": 0,
    "start_time": "2022-11-02T11:00:08.834Z"
   },
   {
    "duration": 0,
    "start_time": "2022-11-02T11:00:08.835Z"
   },
   {
    "duration": 0,
    "start_time": "2022-11-02T11:00:08.836Z"
   },
   {
    "duration": 0,
    "start_time": "2022-11-02T11:00:08.838Z"
   },
   {
    "duration": 0,
    "start_time": "2022-11-02T11:00:08.838Z"
   },
   {
    "duration": 0,
    "start_time": "2022-11-02T11:00:08.877Z"
   },
   {
    "duration": 0,
    "start_time": "2022-11-02T11:00:08.878Z"
   },
   {
    "duration": 0,
    "start_time": "2022-11-02T11:00:08.879Z"
   },
   {
    "duration": 0,
    "start_time": "2022-11-02T11:00:08.880Z"
   },
   {
    "duration": 0,
    "start_time": "2022-11-02T11:00:08.882Z"
   },
   {
    "duration": 0,
    "start_time": "2022-11-02T11:00:08.883Z"
   },
   {
    "duration": 0,
    "start_time": "2022-11-02T11:00:08.884Z"
   },
   {
    "duration": 0,
    "start_time": "2022-11-02T11:00:08.885Z"
   },
   {
    "duration": 0,
    "start_time": "2022-11-02T11:00:08.886Z"
   },
   {
    "duration": 0,
    "start_time": "2022-11-02T11:00:08.887Z"
   },
   {
    "duration": 0,
    "start_time": "2022-11-02T11:00:08.888Z"
   },
   {
    "duration": 0,
    "start_time": "2022-11-02T11:00:08.889Z"
   },
   {
    "duration": 0,
    "start_time": "2022-11-02T11:00:08.890Z"
   },
   {
    "duration": 0,
    "start_time": "2022-11-02T11:00:08.891Z"
   },
   {
    "duration": 0,
    "start_time": "2022-11-02T11:00:08.892Z"
   },
   {
    "duration": 0,
    "start_time": "2022-11-02T11:00:08.893Z"
   },
   {
    "duration": 0,
    "start_time": "2022-11-02T11:00:08.894Z"
   },
   {
    "duration": 1201,
    "start_time": "2022-11-02T11:00:54.712Z"
   },
   {
    "duration": 0,
    "start_time": "2022-11-02T11:00:55.917Z"
   },
   {
    "duration": 0,
    "start_time": "2022-11-02T11:00:55.918Z"
   },
   {
    "duration": 0,
    "start_time": "2022-11-02T11:00:55.919Z"
   },
   {
    "duration": 0,
    "start_time": "2022-11-02T11:00:55.920Z"
   },
   {
    "duration": 0,
    "start_time": "2022-11-02T11:00:55.921Z"
   },
   {
    "duration": 0,
    "start_time": "2022-11-02T11:00:55.922Z"
   },
   {
    "duration": 0,
    "start_time": "2022-11-02T11:00:55.924Z"
   },
   {
    "duration": 0,
    "start_time": "2022-11-02T11:00:55.924Z"
   },
   {
    "duration": 0,
    "start_time": "2022-11-02T11:00:55.925Z"
   },
   {
    "duration": 0,
    "start_time": "2022-11-02T11:00:55.926Z"
   },
   {
    "duration": 0,
    "start_time": "2022-11-02T11:00:55.927Z"
   },
   {
    "duration": 0,
    "start_time": "2022-11-02T11:00:55.928Z"
   },
   {
    "duration": 0,
    "start_time": "2022-11-02T11:00:55.929Z"
   },
   {
    "duration": 0,
    "start_time": "2022-11-02T11:00:55.930Z"
   },
   {
    "duration": 0,
    "start_time": "2022-11-02T11:00:55.931Z"
   },
   {
    "duration": 0,
    "start_time": "2022-11-02T11:00:55.932Z"
   },
   {
    "duration": 0,
    "start_time": "2022-11-02T11:00:55.933Z"
   },
   {
    "duration": 0,
    "start_time": "2022-11-02T11:00:55.934Z"
   },
   {
    "duration": 0,
    "start_time": "2022-11-02T11:00:55.934Z"
   },
   {
    "duration": 0,
    "start_time": "2022-11-02T11:00:55.935Z"
   },
   {
    "duration": 0,
    "start_time": "2022-11-02T11:00:55.936Z"
   },
   {
    "duration": 0,
    "start_time": "2022-11-02T11:00:55.937Z"
   },
   {
    "duration": 0,
    "start_time": "2022-11-02T11:00:55.938Z"
   },
   {
    "duration": 0,
    "start_time": "2022-11-02T11:00:55.940Z"
   },
   {
    "duration": 0,
    "start_time": "2022-11-02T11:00:55.940Z"
   },
   {
    "duration": 0,
    "start_time": "2022-11-02T11:00:55.977Z"
   },
   {
    "duration": 0,
    "start_time": "2022-11-02T11:00:55.979Z"
   },
   {
    "duration": 0,
    "start_time": "2022-11-02T11:00:55.979Z"
   },
   {
    "duration": 0,
    "start_time": "2022-11-02T11:00:55.981Z"
   },
   {
    "duration": 0,
    "start_time": "2022-11-02T11:00:55.982Z"
   },
   {
    "duration": 0,
    "start_time": "2022-11-02T11:00:55.983Z"
   },
   {
    "duration": 0,
    "start_time": "2022-11-02T11:00:55.984Z"
   },
   {
    "duration": 0,
    "start_time": "2022-11-02T11:00:55.985Z"
   },
   {
    "duration": 0,
    "start_time": "2022-11-02T11:00:55.986Z"
   },
   {
    "duration": 0,
    "start_time": "2022-11-02T11:00:55.987Z"
   },
   {
    "duration": 0,
    "start_time": "2022-11-02T11:00:55.988Z"
   },
   {
    "duration": 0,
    "start_time": "2022-11-02T11:00:55.989Z"
   },
   {
    "duration": 0,
    "start_time": "2022-11-02T11:00:55.989Z"
   },
   {
    "duration": 1,
    "start_time": "2022-11-02T11:00:55.990Z"
   },
   {
    "duration": 0,
    "start_time": "2022-11-02T11:00:55.991Z"
   },
   {
    "duration": 0,
    "start_time": "2022-11-02T11:00:55.992Z"
   },
   {
    "duration": 0,
    "start_time": "2022-11-02T11:00:55.993Z"
   },
   {
    "duration": 1121,
    "start_time": "2022-11-02T11:19:32.992Z"
   },
   {
    "duration": 0,
    "start_time": "2022-11-02T11:19:34.117Z"
   },
   {
    "duration": 0,
    "start_time": "2022-11-02T11:19:34.117Z"
   },
   {
    "duration": 0,
    "start_time": "2022-11-02T11:19:34.119Z"
   },
   {
    "duration": 0,
    "start_time": "2022-11-02T11:19:34.120Z"
   },
   {
    "duration": 1,
    "start_time": "2022-11-02T11:19:34.120Z"
   },
   {
    "duration": 0,
    "start_time": "2022-11-02T11:19:34.122Z"
   },
   {
    "duration": 0,
    "start_time": "2022-11-02T11:19:34.123Z"
   },
   {
    "duration": 0,
    "start_time": "2022-11-02T11:19:34.124Z"
   },
   {
    "duration": 0,
    "start_time": "2022-11-02T11:19:34.125Z"
   },
   {
    "duration": 0,
    "start_time": "2022-11-02T11:19:34.126Z"
   },
   {
    "duration": 0,
    "start_time": "2022-11-02T11:19:34.127Z"
   },
   {
    "duration": 0,
    "start_time": "2022-11-02T11:19:34.128Z"
   },
   {
    "duration": 0,
    "start_time": "2022-11-02T11:19:34.129Z"
   },
   {
    "duration": 0,
    "start_time": "2022-11-02T11:19:34.131Z"
   },
   {
    "duration": 0,
    "start_time": "2022-11-02T11:19:34.132Z"
   },
   {
    "duration": 0,
    "start_time": "2022-11-02T11:19:34.133Z"
   },
   {
    "duration": 0,
    "start_time": "2022-11-02T11:19:34.134Z"
   },
   {
    "duration": 0,
    "start_time": "2022-11-02T11:19:34.135Z"
   },
   {
    "duration": 0,
    "start_time": "2022-11-02T11:19:34.136Z"
   },
   {
    "duration": 0,
    "start_time": "2022-11-02T11:19:34.137Z"
   },
   {
    "duration": 0,
    "start_time": "2022-11-02T11:19:34.138Z"
   },
   {
    "duration": 0,
    "start_time": "2022-11-02T11:19:34.176Z"
   },
   {
    "duration": 0,
    "start_time": "2022-11-02T11:19:34.177Z"
   },
   {
    "duration": 0,
    "start_time": "2022-11-02T11:19:34.178Z"
   },
   {
    "duration": 0,
    "start_time": "2022-11-02T11:19:34.180Z"
   },
   {
    "duration": 1,
    "start_time": "2022-11-02T11:19:34.180Z"
   },
   {
    "duration": 0,
    "start_time": "2022-11-02T11:19:34.182Z"
   },
   {
    "duration": 0,
    "start_time": "2022-11-02T11:19:34.183Z"
   },
   {
    "duration": 0,
    "start_time": "2022-11-02T11:19:34.184Z"
   },
   {
    "duration": 0,
    "start_time": "2022-11-02T11:19:34.185Z"
   },
   {
    "duration": 0,
    "start_time": "2022-11-02T11:19:34.186Z"
   },
   {
    "duration": 0,
    "start_time": "2022-11-02T11:19:34.188Z"
   },
   {
    "duration": 0,
    "start_time": "2022-11-02T11:19:34.189Z"
   },
   {
    "duration": 0,
    "start_time": "2022-11-02T11:19:34.190Z"
   },
   {
    "duration": 0,
    "start_time": "2022-11-02T11:19:34.191Z"
   },
   {
    "duration": 0,
    "start_time": "2022-11-02T11:19:34.192Z"
   },
   {
    "duration": 0,
    "start_time": "2022-11-02T11:19:34.193Z"
   },
   {
    "duration": 0,
    "start_time": "2022-11-02T11:19:34.194Z"
   },
   {
    "duration": 0,
    "start_time": "2022-11-02T11:19:34.196Z"
   },
   {
    "duration": 0,
    "start_time": "2022-11-02T11:19:34.197Z"
   },
   {
    "duration": 0,
    "start_time": "2022-11-02T11:19:34.198Z"
   },
   {
    "duration": 0,
    "start_time": "2022-11-02T11:19:34.199Z"
   },
   {
    "duration": 1149,
    "start_time": "2022-11-02T11:19:50.962Z"
   },
   {
    "duration": 19,
    "start_time": "2022-11-02T11:19:52.113Z"
   },
   {
    "duration": 15,
    "start_time": "2022-11-02T11:19:52.134Z"
   },
   {
    "duration": 17,
    "start_time": "2022-11-02T11:19:52.151Z"
   },
   {
    "duration": 11,
    "start_time": "2022-11-02T11:19:52.170Z"
   },
   {
    "duration": 17,
    "start_time": "2022-11-02T11:19:52.183Z"
   },
   {
    "duration": 4,
    "start_time": "2022-11-02T11:19:52.202Z"
   },
   {
    "duration": 13,
    "start_time": "2022-11-02T11:19:52.207Z"
   },
   {
    "duration": 29,
    "start_time": "2022-11-02T11:19:52.221Z"
   },
   {
    "duration": 18,
    "start_time": "2022-11-02T11:19:52.252Z"
   },
   {
    "duration": 10,
    "start_time": "2022-11-02T11:19:52.272Z"
   },
   {
    "duration": 23,
    "start_time": "2022-11-02T11:19:52.284Z"
   },
   {
    "duration": 8,
    "start_time": "2022-11-02T11:19:52.309Z"
   },
   {
    "duration": 18,
    "start_time": "2022-11-02T11:19:52.321Z"
   },
   {
    "duration": 337,
    "start_time": "2022-11-02T11:19:52.341Z"
   },
   {
    "duration": 280,
    "start_time": "2022-11-02T11:19:52.680Z"
   },
   {
    "duration": 18,
    "start_time": "2022-11-02T11:19:52.962Z"
   },
   {
    "duration": 267,
    "start_time": "2022-11-02T11:19:52.982Z"
   },
   {
    "duration": 232,
    "start_time": "2022-11-02T11:19:53.251Z"
   },
   {
    "duration": 326,
    "start_time": "2022-11-02T11:19:53.485Z"
   },
   {
    "duration": 11,
    "start_time": "2022-11-02T11:19:53.813Z"
   },
   {
    "duration": 303,
    "start_time": "2022-11-02T11:19:53.826Z"
   },
   {
    "duration": 12,
    "start_time": "2022-11-02T11:19:54.131Z"
   },
   {
    "duration": 394,
    "start_time": "2022-11-02T11:19:54.144Z"
   },
   {
    "duration": 15,
    "start_time": "2022-11-02T11:19:54.539Z"
   },
   {
    "duration": 336,
    "start_time": "2022-11-02T11:19:54.556Z"
   },
   {
    "duration": 13,
    "start_time": "2022-11-02T11:19:54.894Z"
   },
   {
    "duration": 367,
    "start_time": "2022-11-02T11:19:54.908Z"
   },
   {
    "duration": 15,
    "start_time": "2022-11-02T11:19:55.277Z"
   },
   {
    "duration": 30,
    "start_time": "2022-11-02T11:19:55.294Z"
   },
   {
    "duration": 26,
    "start_time": "2022-11-02T11:19:55.326Z"
   },
   {
    "duration": 233,
    "start_time": "2022-11-02T11:19:55.353Z"
   },
   {
    "duration": 186,
    "start_time": "2022-11-02T11:19:55.588Z"
   },
   {
    "duration": 200,
    "start_time": "2022-11-02T11:19:55.776Z"
   },
   {
    "duration": 185,
    "start_time": "2022-11-02T11:19:55.978Z"
   },
   {
    "duration": 191,
    "start_time": "2022-11-02T11:19:56.165Z"
   },
   {
    "duration": 254,
    "start_time": "2022-11-02T11:19:56.358Z"
   },
   {
    "duration": 199,
    "start_time": "2022-11-02T11:19:56.614Z"
   },
   {
    "duration": 17,
    "start_time": "2022-11-02T11:19:56.815Z"
   },
   {
    "duration": 9,
    "start_time": "2022-11-02T11:19:56.834Z"
   },
   {
    "duration": 5,
    "start_time": "2022-11-02T11:19:56.847Z"
   },
   {
    "duration": 33,
    "start_time": "2022-11-02T11:19:56.854Z"
   },
   {
    "duration": 6,
    "start_time": "2022-11-02T11:19:56.888Z"
   },
   {
    "duration": 1061,
    "start_time": "2022-11-02T12:39:27.723Z"
   },
   {
    "duration": 30,
    "start_time": "2022-11-02T12:39:28.786Z"
   },
   {
    "duration": 19,
    "start_time": "2022-11-02T12:39:28.818Z"
   },
   {
    "duration": 4,
    "start_time": "2022-11-02T12:39:28.839Z"
   },
   {
    "duration": 11,
    "start_time": "2022-11-02T12:39:28.845Z"
   },
   {
    "duration": 26,
    "start_time": "2022-11-02T12:39:28.857Z"
   },
   {
    "duration": 4,
    "start_time": "2022-11-02T12:39:28.884Z"
   },
   {
    "duration": 11,
    "start_time": "2022-11-02T12:39:28.890Z"
   },
   {
    "duration": 9,
    "start_time": "2022-11-02T12:39:28.903Z"
   },
   {
    "duration": 15,
    "start_time": "2022-11-02T12:39:28.913Z"
   },
   {
    "duration": 9,
    "start_time": "2022-11-02T12:39:28.929Z"
   },
   {
    "duration": 14,
    "start_time": "2022-11-02T12:39:28.939Z"
   },
   {
    "duration": 22,
    "start_time": "2022-11-02T12:39:28.955Z"
   },
   {
    "duration": 30,
    "start_time": "2022-11-02T12:39:28.979Z"
   },
   {
    "duration": 295,
    "start_time": "2022-11-02T12:39:29.010Z"
   },
   {
    "duration": 279,
    "start_time": "2022-11-02T12:39:29.307Z"
   },
   {
    "duration": 13,
    "start_time": "2022-11-02T12:39:29.588Z"
   },
   {
    "duration": 308,
    "start_time": "2022-11-02T12:39:29.603Z"
   },
   {
    "duration": 489,
    "start_time": "2022-11-02T12:39:29.913Z"
   },
   {
    "duration": 698,
    "start_time": "2022-11-02T12:39:30.404Z"
   },
   {
    "duration": 12,
    "start_time": "2022-11-02T12:39:31.104Z"
   },
   {
    "duration": 573,
    "start_time": "2022-11-02T12:39:31.118Z"
   },
   {
    "duration": 12,
    "start_time": "2022-11-02T12:39:31.693Z"
   },
   {
    "duration": 399,
    "start_time": "2022-11-02T12:39:31.707Z"
   },
   {
    "duration": 12,
    "start_time": "2022-11-02T12:39:32.108Z"
   },
   {
    "duration": 310,
    "start_time": "2022-11-02T12:39:32.121Z"
   },
   {
    "duration": 12,
    "start_time": "2022-11-02T12:39:32.432Z"
   },
   {
    "duration": 332,
    "start_time": "2022-11-02T12:39:32.446Z"
   },
   {
    "duration": 11,
    "start_time": "2022-11-02T12:39:32.780Z"
   },
   {
    "duration": 9,
    "start_time": "2022-11-02T12:39:32.793Z"
   },
   {
    "duration": 12,
    "start_time": "2022-11-02T12:39:32.803Z"
   },
   {
    "duration": 231,
    "start_time": "2022-11-02T12:39:32.817Z"
   },
   {
    "duration": 187,
    "start_time": "2022-11-02T12:39:33.049Z"
   },
   {
    "duration": 200,
    "start_time": "2022-11-02T12:39:33.238Z"
   },
   {
    "duration": 191,
    "start_time": "2022-11-02T12:39:33.440Z"
   },
   {
    "duration": 184,
    "start_time": "2022-11-02T12:39:33.633Z"
   },
   {
    "duration": 249,
    "start_time": "2022-11-02T12:39:33.818Z"
   },
   {
    "duration": 185,
    "start_time": "2022-11-02T12:39:34.068Z"
   },
   {
    "duration": 25,
    "start_time": "2022-11-02T12:39:34.255Z"
   },
   {
    "duration": 9,
    "start_time": "2022-11-02T12:39:34.281Z"
   },
   {
    "duration": 5,
    "start_time": "2022-11-02T12:39:34.293Z"
   },
   {
    "duration": 14,
    "start_time": "2022-11-02T12:39:34.299Z"
   },
   {
    "duration": 4,
    "start_time": "2022-11-02T12:39:34.315Z"
   },
   {
    "duration": 1725,
    "start_time": "2022-11-02T14:04:04.166Z"
   },
   {
    "duration": 24,
    "start_time": "2022-11-02T14:04:05.893Z"
   },
   {
    "duration": 21,
    "start_time": "2022-11-02T14:04:05.919Z"
   },
   {
    "duration": 5,
    "start_time": "2022-11-02T14:04:05.943Z"
   },
   {
    "duration": 9,
    "start_time": "2022-11-02T14:04:05.950Z"
   },
   {
    "duration": 21,
    "start_time": "2022-11-02T14:04:05.961Z"
   },
   {
    "duration": 5,
    "start_time": "2022-11-02T14:04:05.984Z"
   },
   {
    "duration": 11,
    "start_time": "2022-11-02T14:04:05.991Z"
   },
   {
    "duration": 42,
    "start_time": "2022-11-02T14:04:06.004Z"
   },
   {
    "duration": 17,
    "start_time": "2022-11-02T14:04:06.051Z"
   },
   {
    "duration": 10,
    "start_time": "2022-11-02T14:04:06.070Z"
   },
   {
    "duration": 25,
    "start_time": "2022-11-02T14:04:06.082Z"
   },
   {
    "duration": 30,
    "start_time": "2022-11-02T14:04:06.109Z"
   },
   {
    "duration": 21,
    "start_time": "2022-11-02T14:04:06.141Z"
   },
   {
    "duration": 404,
    "start_time": "2022-11-02T14:04:06.164Z"
   },
   {
    "duration": 341,
    "start_time": "2022-11-02T14:04:06.569Z"
   },
   {
    "duration": 16,
    "start_time": "2022-11-02T14:04:06.912Z"
   },
   {
    "duration": 284,
    "start_time": "2022-11-02T14:04:06.933Z"
   },
   {
    "duration": 277,
    "start_time": "2022-11-02T14:04:07.219Z"
   },
   {
    "duration": 417,
    "start_time": "2022-11-02T14:04:07.499Z"
   },
   {
    "duration": 24,
    "start_time": "2022-11-02T14:04:07.919Z"
   },
   {
    "duration": 405,
    "start_time": "2022-11-02T14:04:07.945Z"
   },
   {
    "duration": 13,
    "start_time": "2022-11-02T14:04:08.353Z"
   },
   {
    "duration": 510,
    "start_time": "2022-11-02T14:04:08.368Z"
   },
   {
    "duration": 13,
    "start_time": "2022-11-02T14:04:08.880Z"
   },
   {
    "duration": 367,
    "start_time": "2022-11-02T14:04:08.895Z"
   },
   {
    "duration": 13,
    "start_time": "2022-11-02T14:04:09.263Z"
   },
   {
    "duration": 417,
    "start_time": "2022-11-02T14:04:09.279Z"
   },
   {
    "duration": 15,
    "start_time": "2022-11-02T14:04:09.698Z"
   },
   {
    "duration": 28,
    "start_time": "2022-11-02T14:04:09.715Z"
   },
   {
    "duration": 17,
    "start_time": "2022-11-02T14:04:09.745Z"
   },
   {
    "duration": 312,
    "start_time": "2022-11-02T14:04:09.764Z"
   },
   {
    "duration": 236,
    "start_time": "2022-11-02T14:04:10.078Z"
   },
   {
    "duration": 244,
    "start_time": "2022-11-02T14:04:10.316Z"
   },
   {
    "duration": 211,
    "start_time": "2022-11-02T14:04:10.562Z"
   },
   {
    "duration": 228,
    "start_time": "2022-11-02T14:04:10.775Z"
   },
   {
    "duration": 332,
    "start_time": "2022-11-02T14:04:11.004Z"
   },
   {
    "duration": 235,
    "start_time": "2022-11-02T14:04:11.339Z"
   },
   {
    "duration": 24,
    "start_time": "2022-11-02T14:04:11.577Z"
   },
   {
    "duration": 37,
    "start_time": "2022-11-02T14:04:11.603Z"
   },
   {
    "duration": 9,
    "start_time": "2022-11-02T14:04:11.642Z"
   },
   {
    "duration": 26,
    "start_time": "2022-11-02T14:04:11.654Z"
   },
   {
    "duration": 20,
    "start_time": "2022-11-02T14:04:11.682Z"
   }
  ],
  "kernelspec": {
   "display_name": "Python 3 (ipykernel)",
   "language": "python",
   "name": "python3"
  },
  "language_info": {
   "codemirror_mode": {
    "name": "ipython",
    "version": 3
   },
   "file_extension": ".py",
   "mimetype": "text/x-python",
   "name": "python",
   "nbconvert_exporter": "python",
   "pygments_lexer": "ipython3",
   "version": "3.9.12"
  },
  "toc": {
   "base_numbering": 1,
   "nav_menu": {},
   "number_sections": true,
   "sideBar": true,
   "skip_h1_title": true,
   "title_cell": "Table of Contents",
   "title_sidebar": "Contents",
   "toc_cell": false,
   "toc_position": {},
   "toc_section_display": true,
   "toc_window_display": true
  }
 },
 "nbformat": 4,
 "nbformat_minor": 5
}
