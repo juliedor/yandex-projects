{
 "cells": [
  {
   "cell_type": "markdown",
   "id": "8fda0b1a",
   "metadata": {},
   "source": [
    "# Описание проекта"
   ]
  },
  {
   "cell_type": "markdown",
   "id": "09b81709",
   "metadata": {},
   "source": [
    "Вы работаете в интернет-магазине «Стримчик», который продаёт по всему миру компьютерные игры. Из открытых источников доступны исторические данные о продажах игр, оценки пользователей и экспертов, жанры и платформы (например, Xbox или PlayStation). Вам нужно выявить определяющие успешность игры закономерности. Это позволит сделать ставку на потенциально популярный продукт и спланировать рекламные кампании.\n",
    "Перед вами данные до 2016 года. Представим, что сейчас декабрь 2016 г., и вы планируете кампанию на 2017-й. Нужно отработать принцип работы с данными. Неважно, прогнозируете ли вы продажи на 2017 год по данным 2016-го или же 2027-й — по данным 2026 года.\n",
    "\n",
    "В наборе данных попадается аббревиатура ESRB (Entertainment Software Rating Board) — это ассоциация, определяющая возрастной рейтинг компьютерных игр. ESRB оценивает игровой контент и присваивает ему подходящую возрастную категорию, например, «Для взрослых», «Для детей младшего возраста» или «Для подростков»."
   ]
  },
  {
   "cell_type": "markdown",
   "id": "1ad90adb",
   "metadata": {},
   "source": [
    "## Шаг 1. Откроем файл с данными и изучим общую информацию"
   ]
  },
  {
   "cell_type": "code",
   "execution_count": 1,
   "id": "2b5c9fb6",
   "metadata": {},
   "outputs": [],
   "source": [
    "import pandas as pd\n",
    "import matplotlib.pyplot as plt\n",
    "from scipy import stats as st"
   ]
  },
  {
   "cell_type": "code",
   "execution_count": 2,
   "id": "0baae5de",
   "metadata": {},
   "outputs": [],
   "source": [
    "data = pd.read_csv('games.csv')"
   ]
  },
  {
   "cell_type": "code",
   "execution_count": 3,
   "id": "747f711e",
   "metadata": {},
   "outputs": [
    {
     "data": {
      "text/html": [
       "<div>\n",
       "<style scoped>\n",
       "    .dataframe tbody tr th:only-of-type {\n",
       "        vertical-align: middle;\n",
       "    }\n",
       "\n",
       "    .dataframe tbody tr th {\n",
       "        vertical-align: top;\n",
       "    }\n",
       "\n",
       "    .dataframe thead th {\n",
       "        text-align: right;\n",
       "    }\n",
       "</style>\n",
       "<table border=\"1\" class=\"dataframe\">\n",
       "  <thead>\n",
       "    <tr style=\"text-align: right;\">\n",
       "      <th></th>\n",
       "      <th>Name</th>\n",
       "      <th>Platform</th>\n",
       "      <th>Year_of_Release</th>\n",
       "      <th>Genre</th>\n",
       "      <th>NA_sales</th>\n",
       "      <th>EU_sales</th>\n",
       "      <th>JP_sales</th>\n",
       "      <th>Other_sales</th>\n",
       "      <th>Critic_Score</th>\n",
       "      <th>User_Score</th>\n",
       "      <th>Rating</th>\n",
       "    </tr>\n",
       "  </thead>\n",
       "  <tbody>\n",
       "    <tr>\n",
       "      <th>0</th>\n",
       "      <td>Wii Sports</td>\n",
       "      <td>Wii</td>\n",
       "      <td>2006.0</td>\n",
       "      <td>Sports</td>\n",
       "      <td>41.36</td>\n",
       "      <td>28.96</td>\n",
       "      <td>3.77</td>\n",
       "      <td>8.45</td>\n",
       "      <td>76.0</td>\n",
       "      <td>8</td>\n",
       "      <td>E</td>\n",
       "    </tr>\n",
       "    <tr>\n",
       "      <th>1</th>\n",
       "      <td>Super Mario Bros.</td>\n",
       "      <td>NES</td>\n",
       "      <td>1985.0</td>\n",
       "      <td>Platform</td>\n",
       "      <td>29.08</td>\n",
       "      <td>3.58</td>\n",
       "      <td>6.81</td>\n",
       "      <td>0.77</td>\n",
       "      <td>NaN</td>\n",
       "      <td>NaN</td>\n",
       "      <td>NaN</td>\n",
       "    </tr>\n",
       "    <tr>\n",
       "      <th>2</th>\n",
       "      <td>Mario Kart Wii</td>\n",
       "      <td>Wii</td>\n",
       "      <td>2008.0</td>\n",
       "      <td>Racing</td>\n",
       "      <td>15.68</td>\n",
       "      <td>12.76</td>\n",
       "      <td>3.79</td>\n",
       "      <td>3.29</td>\n",
       "      <td>82.0</td>\n",
       "      <td>8.3</td>\n",
       "      <td>E</td>\n",
       "    </tr>\n",
       "    <tr>\n",
       "      <th>3</th>\n",
       "      <td>Wii Sports Resort</td>\n",
       "      <td>Wii</td>\n",
       "      <td>2009.0</td>\n",
       "      <td>Sports</td>\n",
       "      <td>15.61</td>\n",
       "      <td>10.93</td>\n",
       "      <td>3.28</td>\n",
       "      <td>2.95</td>\n",
       "      <td>80.0</td>\n",
       "      <td>8</td>\n",
       "      <td>E</td>\n",
       "    </tr>\n",
       "    <tr>\n",
       "      <th>4</th>\n",
       "      <td>Pokemon Red/Pokemon Blue</td>\n",
       "      <td>GB</td>\n",
       "      <td>1996.0</td>\n",
       "      <td>Role-Playing</td>\n",
       "      <td>11.27</td>\n",
       "      <td>8.89</td>\n",
       "      <td>10.22</td>\n",
       "      <td>1.00</td>\n",
       "      <td>NaN</td>\n",
       "      <td>NaN</td>\n",
       "      <td>NaN</td>\n",
       "    </tr>\n",
       "    <tr>\n",
       "      <th>5</th>\n",
       "      <td>Tetris</td>\n",
       "      <td>GB</td>\n",
       "      <td>1989.0</td>\n",
       "      <td>Puzzle</td>\n",
       "      <td>23.20</td>\n",
       "      <td>2.26</td>\n",
       "      <td>4.22</td>\n",
       "      <td>0.58</td>\n",
       "      <td>NaN</td>\n",
       "      <td>NaN</td>\n",
       "      <td>NaN</td>\n",
       "    </tr>\n",
       "    <tr>\n",
       "      <th>6</th>\n",
       "      <td>New Super Mario Bros.</td>\n",
       "      <td>DS</td>\n",
       "      <td>2006.0</td>\n",
       "      <td>Platform</td>\n",
       "      <td>11.28</td>\n",
       "      <td>9.14</td>\n",
       "      <td>6.50</td>\n",
       "      <td>2.88</td>\n",
       "      <td>89.0</td>\n",
       "      <td>8.5</td>\n",
       "      <td>E</td>\n",
       "    </tr>\n",
       "    <tr>\n",
       "      <th>7</th>\n",
       "      <td>Wii Play</td>\n",
       "      <td>Wii</td>\n",
       "      <td>2006.0</td>\n",
       "      <td>Misc</td>\n",
       "      <td>13.96</td>\n",
       "      <td>9.18</td>\n",
       "      <td>2.93</td>\n",
       "      <td>2.84</td>\n",
       "      <td>58.0</td>\n",
       "      <td>6.6</td>\n",
       "      <td>E</td>\n",
       "    </tr>\n",
       "    <tr>\n",
       "      <th>8</th>\n",
       "      <td>New Super Mario Bros. Wii</td>\n",
       "      <td>Wii</td>\n",
       "      <td>2009.0</td>\n",
       "      <td>Platform</td>\n",
       "      <td>14.44</td>\n",
       "      <td>6.94</td>\n",
       "      <td>4.70</td>\n",
       "      <td>2.24</td>\n",
       "      <td>87.0</td>\n",
       "      <td>8.4</td>\n",
       "      <td>E</td>\n",
       "    </tr>\n",
       "    <tr>\n",
       "      <th>9</th>\n",
       "      <td>Duck Hunt</td>\n",
       "      <td>NES</td>\n",
       "      <td>1984.0</td>\n",
       "      <td>Shooter</td>\n",
       "      <td>26.93</td>\n",
       "      <td>0.63</td>\n",
       "      <td>0.28</td>\n",
       "      <td>0.47</td>\n",
       "      <td>NaN</td>\n",
       "      <td>NaN</td>\n",
       "      <td>NaN</td>\n",
       "    </tr>\n",
       "  </tbody>\n",
       "</table>\n",
       "</div>"
      ],
      "text/plain": [
       "                        Name Platform  Year_of_Release         Genre  \\\n",
       "0                 Wii Sports      Wii           2006.0        Sports   \n",
       "1          Super Mario Bros.      NES           1985.0      Platform   \n",
       "2             Mario Kart Wii      Wii           2008.0        Racing   \n",
       "3          Wii Sports Resort      Wii           2009.0        Sports   \n",
       "4   Pokemon Red/Pokemon Blue       GB           1996.0  Role-Playing   \n",
       "5                     Tetris       GB           1989.0        Puzzle   \n",
       "6      New Super Mario Bros.       DS           2006.0      Platform   \n",
       "7                   Wii Play      Wii           2006.0          Misc   \n",
       "8  New Super Mario Bros. Wii      Wii           2009.0      Platform   \n",
       "9                  Duck Hunt      NES           1984.0       Shooter   \n",
       "\n",
       "   NA_sales  EU_sales  JP_sales  Other_sales  Critic_Score User_Score Rating  \n",
       "0     41.36     28.96      3.77         8.45          76.0          8      E  \n",
       "1     29.08      3.58      6.81         0.77           NaN        NaN    NaN  \n",
       "2     15.68     12.76      3.79         3.29          82.0        8.3      E  \n",
       "3     15.61     10.93      3.28         2.95          80.0          8      E  \n",
       "4     11.27      8.89     10.22         1.00           NaN        NaN    NaN  \n",
       "5     23.20      2.26      4.22         0.58           NaN        NaN    NaN  \n",
       "6     11.28      9.14      6.50         2.88          89.0        8.5      E  \n",
       "7     13.96      9.18      2.93         2.84          58.0        6.6      E  \n",
       "8     14.44      6.94      4.70         2.24          87.0        8.4      E  \n",
       "9     26.93      0.63      0.28         0.47           NaN        NaN    NaN  "
      ]
     },
     "metadata": {},
     "output_type": "display_data"
    }
   ],
   "source": [
    "display(data.head(10))"
   ]
  },
  {
   "cell_type": "code",
   "execution_count": 4,
   "id": "2962f44a",
   "metadata": {},
   "outputs": [
    {
     "name": "stdout",
     "output_type": "stream",
     "text": [
      "<class 'pandas.core.frame.DataFrame'>\n",
      "RangeIndex: 16715 entries, 0 to 16714\n",
      "Data columns (total 11 columns):\n",
      " #   Column           Non-Null Count  Dtype  \n",
      "---  ------           --------------  -----  \n",
      " 0   Name             16713 non-null  object \n",
      " 1   Platform         16715 non-null  object \n",
      " 2   Year_of_Release  16446 non-null  float64\n",
      " 3   Genre            16713 non-null  object \n",
      " 4   NA_sales         16715 non-null  float64\n",
      " 5   EU_sales         16715 non-null  float64\n",
      " 6   JP_sales         16715 non-null  float64\n",
      " 7   Other_sales      16715 non-null  float64\n",
      " 8   Critic_Score     8137 non-null   float64\n",
      " 9   User_Score       10014 non-null  object \n",
      " 10  Rating           9949 non-null   object \n",
      "dtypes: float64(6), object(5)\n",
      "memory usage: 1.4+ MB\n"
     ]
    }
   ],
   "source": [
    "data.info()"
   ]
  },
  {
   "cell_type": "markdown",
   "id": "0a204979",
   "metadata": {},
   "source": [
    "**Шаг 1. Общий вывод.**\n",
    "\n",
    "*Описание данных*\n",
    "\n",
    "Данные представлены 16715 строками. \n",
    "\n",
    "Всего 11 столбцов:\n",
    "\n",
    "* Name — название игры\n",
    "* Platform — платформа\n",
    "* Year_of_Release — год выпуска\n",
    "* Genre — жанр игры\n",
    "* NA_sales — продажи в Северной Америке (миллионы проданных копий)\n",
    "* EU_sales — продажи в Европе (миллионы проданных копий)\n",
    "* JP_sales — продажи в Японии (миллионы проданных копий)\n",
    "* Other_sales — продажи в других странах (миллионы проданных копий)\n",
    "* Critic_Score — оценка критиков (максимум 100)\n",
    "* User_Score — оценка пользователей (максимум 10)\n",
    "* Rating — рейтинг от организации ESRB (англ. Entertainment Software Rating Board). Эта ассоциация определяет рейтинг компьютерных игр и присваивает им подходящую возрастную категорию.\n",
    "\n",
    "Данные за 2016 год, согласно вводным данным, могут быть неполными.\n",
    "\n",
    "В рамках данного раздела мы открыли файл с данными, полученный из открытых источников относительно продаж игр на различных игровых платформах с разбивкой на жанры, продажи по 3 регионам и отображением рейтингов и отзывов пользователей и критиков.\n",
    "\n",
    "В данных содержатся пропуски и некорректный тип у некоторых ячеек, поэтому для дальнейшей корректной работы с файлом во втором шаге проведем предварительную обработку данных. \n",
    "\n"
   ]
  },
  {
   "cell_type": "markdown",
   "id": "a3d7a9b0",
   "metadata": {},
   "source": [
    "## Шаг 2. Подготовка данных"
   ]
  },
  {
   "cell_type": "markdown",
   "id": "5581d774",
   "metadata": {},
   "source": [
    "### 1. Заменим названия столбцов (приведем к нижнему регистру)"
   ]
  },
  {
   "cell_type": "code",
   "execution_count": 5,
   "id": "35fce1af",
   "metadata": {},
   "outputs": [],
   "source": [
    "data.columns = data.columns.str.lower()"
   ]
  },
  {
   "cell_type": "markdown",
   "id": "13f78223",
   "metadata": {},
   "source": [
    "### 2. Преобразуем данные в нужные типы и заменим пропуски."
   ]
  },
  {
   "cell_type": "markdown",
   "id": "0a172711",
   "metadata": {},
   "source": [
    "Корректировка типов данных: \n",
    "\n",
    "    1. Год релиза - в формат даты в виде года\n",
    "    2. Оценка пользователя - во float, т.к. это оценка, а не текст"
   ]
  },
  {
   "cell_type": "markdown",
   "id": "7b4c7803",
   "metadata": {},
   "source": [
    "Проверим, какие столбцы имеют пустые значения."
   ]
  },
  {
   "cell_type": "code",
   "execution_count": 6,
   "id": "9b578d36",
   "metadata": {},
   "outputs": [
    {
     "name": "stdout",
     "output_type": "stream",
     "text": [
      "name                  2\n",
      "platform              0\n",
      "year_of_release     269\n",
      "genre                 2\n",
      "na_sales              0\n",
      "eu_sales              0\n",
      "jp_sales              0\n",
      "other_sales           0\n",
      "critic_score       8578\n",
      "user_score         6701\n",
      "rating             6766\n",
      "dtype: int64\n"
     ]
    }
   ],
   "source": [
    "print(data.isna().sum())"
   ]
  },
  {
   "cell_type": "markdown",
   "id": "87c7cfd1",
   "metadata": {},
   "source": [
    "Заполнение пропусков:\n",
    "\n",
    "    1. Пропуски в навзании, жанре и году релиза удалим, так как количество несуществено. К тому же, у нас нет обоснований для заполнения этих данных самостоятельно. Причиной пропусков может являться некорректная выгрузка из базы данных - какие-то значения могли технически не \"подтянуться\" в таблицу. \n",
    "    2. Оценки критиков и пользователей не будем заполнять значениями, так как пропусков много и заполнение данных медианой/средним  может только исказить результаты корреляционного анализа. Причиной пропусков может являться то, что оценка не производилась в целом по данной игре, либо также может быть ошибка с технической стороны при выгрузке данных в таблицу. \n",
    "    3. Пропуски в рейтинге автозаполнить не сможем, заменим на \"заглушку\". Пропуск может быть объясним как отсутствием присовенного рейтинга ассоциацией, так и невозможностью подгрузить этот рейтинг в сводную таблицу. "
   ]
  },
  {
   "cell_type": "code",
   "execution_count": 7,
   "id": "940e5d74",
   "metadata": {},
   "outputs": [],
   "source": [
    "data = data.dropna(subset = ['name', 'genre', 'year_of_release']).reset_index(drop=True) # удаляем пустые значения"
   ]
  },
  {
   "cell_type": "code",
   "execution_count": 8,
   "id": "a71e6f91",
   "metadata": {},
   "outputs": [],
   "source": [
    "data['year_of_release'] = pd.to_datetime(data['year_of_release'], format = '%Y').dt.year # меняем тип данных"
   ]
  },
  {
   "cell_type": "code",
   "execution_count": 9,
   "id": "61c6af36",
   "metadata": {},
   "outputs": [
    {
     "data": {
      "text/plain": [
       "array(['8', nan, '8.3', '8.5', '6.6', '8.4', '8.6', '7.7', '6.3', '7.4',\n",
       "       '8.2', '9', '7.9', '8.1', '8.7', '7.1', '3.4', '5.3', '4.8', '3.2',\n",
       "       '8.9', '6.4', '7.8', '7.5', '2.6', '7.2', '9.2', '7', '7.3', '4.3',\n",
       "       '7.6', '5.7', '5', '9.1', '6.5', 'tbd', '8.8', '6.9', '9.4', '6.8',\n",
       "       '6.1', '6.7', '5.4', '4', '4.9', '4.5', '9.3', '6.2', '4.2', '6',\n",
       "       '3.7', '4.1', '5.8', '5.6', '5.5', '4.4', '4.6', '5.9', '3.9',\n",
       "       '3.1', '2.9', '5.2', '3.3', '4.7', '5.1', '3.5', '2.5', '1.9', '3',\n",
       "       '2.7', '2.2', '2', '9.5', '2.1', '3.6', '2.8', '1.8', '3.8', '0',\n",
       "       '1.6', '9.6', '2.4', '1.7', '1.1', '0.3', '1.5', '0.7', '1.2',\n",
       "       '2.3', '0.5', '1.3', '0.2', '0.6', '1.4', '0.9', '1', '9.7'],\n",
       "      dtype=object)"
      ]
     },
     "execution_count": 9,
     "metadata": {},
     "output_type": "execute_result"
    }
   ],
   "source": [
    "data['user_score'].unique()"
   ]
  },
  {
   "cell_type": "code",
   "execution_count": 10,
   "id": "798efc8e",
   "metadata": {},
   "outputs": [],
   "source": [
    "data['user_score'] = pd.to_numeric(data['user_score'], errors='coerce') \n",
    "\n",
    "# используем coerce, так как в строках есть данные со значением 'tbd', что не позволяет изменить тип данных. \n",
    "# у нас нет информации, о чем конкретно говорит это значение \n",
    "# (как предположение это сокращение аббревиатуры 'to be discussed', которое заполняли пользователи, когда не были уверены в оценке), \n",
    "# поэтому нам подходит замена данного значения на NaN, что предусмотрено в этом параметре"
   ]
  },
  {
   "cell_type": "code",
   "execution_count": 11,
   "id": "918713c2",
   "metadata": {},
   "outputs": [],
   "source": [
    "data['rating']=data['rating'].fillna('Нет рейтинга') # меняем пустые значения на \"заглушку\""
   ]
  },
  {
   "cell_type": "markdown",
   "id": "e8a8e5b2",
   "metadata": {},
   "source": [
    "Проверим, что все типы данных теперь отражены корректно и пропуски заполнены там, где мы планировали. "
   ]
  },
  {
   "cell_type": "code",
   "execution_count": 12,
   "id": "aa9b427c",
   "metadata": {},
   "outputs": [
    {
     "name": "stdout",
     "output_type": "stream",
     "text": [
      "<class 'pandas.core.frame.DataFrame'>\n",
      "RangeIndex: 16444 entries, 0 to 16443\n",
      "Data columns (total 11 columns):\n",
      " #   Column           Non-Null Count  Dtype  \n",
      "---  ------           --------------  -----  \n",
      " 0   name             16444 non-null  object \n",
      " 1   platform         16444 non-null  object \n",
      " 2   year_of_release  16444 non-null  int64  \n",
      " 3   genre            16444 non-null  object \n",
      " 4   na_sales         16444 non-null  float64\n",
      " 5   eu_sales         16444 non-null  float64\n",
      " 6   jp_sales         16444 non-null  float64\n",
      " 7   other_sales      16444 non-null  float64\n",
      " 8   critic_score     7983 non-null   float64\n",
      " 9   user_score       7463 non-null   float64\n",
      " 10  rating           16444 non-null  object \n",
      "dtypes: float64(6), int64(1), object(4)\n",
      "memory usage: 1.4+ MB\n"
     ]
    }
   ],
   "source": [
    "data.info() # смотрим типы данных"
   ]
  },
  {
   "cell_type": "code",
   "execution_count": 13,
   "id": "068586c1",
   "metadata": {},
   "outputs": [
    {
     "name": "stdout",
     "output_type": "stream",
     "text": [
      "name                  0\n",
      "platform              0\n",
      "year_of_release       0\n",
      "genre                 0\n",
      "na_sales              0\n",
      "eu_sales              0\n",
      "jp_sales              0\n",
      "other_sales           0\n",
      "critic_score       8461\n",
      "user_score         8981\n",
      "rating                0\n",
      "dtype: int64\n"
     ]
    }
   ],
   "source": [
    "print(data.isna().sum()) # проверяем пропуски"
   ]
  },
  {
   "cell_type": "code",
   "execution_count": 14,
   "id": "fcdb3d12",
   "metadata": {},
   "outputs": [
    {
     "data": {
      "text/html": [
       "<div>\n",
       "<style scoped>\n",
       "    .dataframe tbody tr th:only-of-type {\n",
       "        vertical-align: middle;\n",
       "    }\n",
       "\n",
       "    .dataframe tbody tr th {\n",
       "        vertical-align: top;\n",
       "    }\n",
       "\n",
       "    .dataframe thead th {\n",
       "        text-align: right;\n",
       "    }\n",
       "</style>\n",
       "<table border=\"1\" class=\"dataframe\">\n",
       "  <thead>\n",
       "    <tr style=\"text-align: right;\">\n",
       "      <th></th>\n",
       "      <th>name</th>\n",
       "      <th>platform</th>\n",
       "      <th>year_of_release</th>\n",
       "      <th>genre</th>\n",
       "      <th>na_sales</th>\n",
       "      <th>eu_sales</th>\n",
       "      <th>jp_sales</th>\n",
       "      <th>other_sales</th>\n",
       "      <th>critic_score</th>\n",
       "      <th>user_score</th>\n",
       "      <th>rating</th>\n",
       "    </tr>\n",
       "  </thead>\n",
       "  <tbody>\n",
       "    <tr>\n",
       "      <th>0</th>\n",
       "      <td>Wii Sports</td>\n",
       "      <td>Wii</td>\n",
       "      <td>2006</td>\n",
       "      <td>Sports</td>\n",
       "      <td>41.36</td>\n",
       "      <td>28.96</td>\n",
       "      <td>3.77</td>\n",
       "      <td>8.45</td>\n",
       "      <td>76.0</td>\n",
       "      <td>8.0</td>\n",
       "      <td>E</td>\n",
       "    </tr>\n",
       "    <tr>\n",
       "      <th>1</th>\n",
       "      <td>Super Mario Bros.</td>\n",
       "      <td>NES</td>\n",
       "      <td>1985</td>\n",
       "      <td>Platform</td>\n",
       "      <td>29.08</td>\n",
       "      <td>3.58</td>\n",
       "      <td>6.81</td>\n",
       "      <td>0.77</td>\n",
       "      <td>NaN</td>\n",
       "      <td>NaN</td>\n",
       "      <td>Нет рейтинга</td>\n",
       "    </tr>\n",
       "    <tr>\n",
       "      <th>2</th>\n",
       "      <td>Mario Kart Wii</td>\n",
       "      <td>Wii</td>\n",
       "      <td>2008</td>\n",
       "      <td>Racing</td>\n",
       "      <td>15.68</td>\n",
       "      <td>12.76</td>\n",
       "      <td>3.79</td>\n",
       "      <td>3.29</td>\n",
       "      <td>82.0</td>\n",
       "      <td>8.3</td>\n",
       "      <td>E</td>\n",
       "    </tr>\n",
       "    <tr>\n",
       "      <th>3</th>\n",
       "      <td>Wii Sports Resort</td>\n",
       "      <td>Wii</td>\n",
       "      <td>2009</td>\n",
       "      <td>Sports</td>\n",
       "      <td>15.61</td>\n",
       "      <td>10.93</td>\n",
       "      <td>3.28</td>\n",
       "      <td>2.95</td>\n",
       "      <td>80.0</td>\n",
       "      <td>8.0</td>\n",
       "      <td>E</td>\n",
       "    </tr>\n",
       "    <tr>\n",
       "      <th>4</th>\n",
       "      <td>Pokemon Red/Pokemon Blue</td>\n",
       "      <td>GB</td>\n",
       "      <td>1996</td>\n",
       "      <td>Role-Playing</td>\n",
       "      <td>11.27</td>\n",
       "      <td>8.89</td>\n",
       "      <td>10.22</td>\n",
       "      <td>1.00</td>\n",
       "      <td>NaN</td>\n",
       "      <td>NaN</td>\n",
       "      <td>Нет рейтинга</td>\n",
       "    </tr>\n",
       "  </tbody>\n",
       "</table>\n",
       "</div>"
      ],
      "text/plain": [
       "                       name platform  year_of_release         genre  na_sales  \\\n",
       "0                Wii Sports      Wii             2006        Sports     41.36   \n",
       "1         Super Mario Bros.      NES             1985      Platform     29.08   \n",
       "2            Mario Kart Wii      Wii             2008        Racing     15.68   \n",
       "3         Wii Sports Resort      Wii             2009        Sports     15.61   \n",
       "4  Pokemon Red/Pokemon Blue       GB             1996  Role-Playing     11.27   \n",
       "\n",
       "   eu_sales  jp_sales  other_sales  critic_score  user_score        rating  \n",
       "0     28.96      3.77         8.45          76.0         8.0             E  \n",
       "1      3.58      6.81         0.77           NaN         NaN  Нет рейтинга  \n",
       "2     12.76      3.79         3.29          82.0         8.3             E  \n",
       "3     10.93      3.28         2.95          80.0         8.0             E  \n",
       "4      8.89     10.22         1.00           NaN         NaN  Нет рейтинга  "
      ]
     },
     "metadata": {},
     "output_type": "display_data"
    }
   ],
   "source": [
    "display(data.head())"
   ]
  },
  {
   "cell_type": "markdown",
   "id": "9d748e5a",
   "metadata": {},
   "source": [
    "Все правки отображены корректно.\n",
    "\n",
    "Посчитаем суммарные продажи во всех регионах. "
   ]
  },
  {
   "cell_type": "code",
   "execution_count": 15,
   "id": "f5a1d6d3",
   "metadata": {},
   "outputs": [],
   "source": [
    "data['total_sales'] = data[['na_sales','eu_sales','jp_sales','other_sales']].sum(axis=1)"
   ]
  },
  {
   "cell_type": "code",
   "execution_count": 16,
   "id": "122e8a49",
   "metadata": {},
   "outputs": [
    {
     "data": {
      "text/html": [
       "<div>\n",
       "<style scoped>\n",
       "    .dataframe tbody tr th:only-of-type {\n",
       "        vertical-align: middle;\n",
       "    }\n",
       "\n",
       "    .dataframe tbody tr th {\n",
       "        vertical-align: top;\n",
       "    }\n",
       "\n",
       "    .dataframe thead th {\n",
       "        text-align: right;\n",
       "    }\n",
       "</style>\n",
       "<table border=\"1\" class=\"dataframe\">\n",
       "  <thead>\n",
       "    <tr style=\"text-align: right;\">\n",
       "      <th></th>\n",
       "      <th>name</th>\n",
       "      <th>platform</th>\n",
       "      <th>year_of_release</th>\n",
       "      <th>genre</th>\n",
       "      <th>na_sales</th>\n",
       "      <th>eu_sales</th>\n",
       "      <th>jp_sales</th>\n",
       "      <th>other_sales</th>\n",
       "      <th>critic_score</th>\n",
       "      <th>user_score</th>\n",
       "      <th>rating</th>\n",
       "      <th>total_sales</th>\n",
       "    </tr>\n",
       "  </thead>\n",
       "  <tbody>\n",
       "    <tr>\n",
       "      <th>0</th>\n",
       "      <td>Wii Sports</td>\n",
       "      <td>Wii</td>\n",
       "      <td>2006</td>\n",
       "      <td>Sports</td>\n",
       "      <td>41.36</td>\n",
       "      <td>28.96</td>\n",
       "      <td>3.77</td>\n",
       "      <td>8.45</td>\n",
       "      <td>76.0</td>\n",
       "      <td>8.0</td>\n",
       "      <td>E</td>\n",
       "      <td>82.54</td>\n",
       "    </tr>\n",
       "    <tr>\n",
       "      <th>1</th>\n",
       "      <td>Super Mario Bros.</td>\n",
       "      <td>NES</td>\n",
       "      <td>1985</td>\n",
       "      <td>Platform</td>\n",
       "      <td>29.08</td>\n",
       "      <td>3.58</td>\n",
       "      <td>6.81</td>\n",
       "      <td>0.77</td>\n",
       "      <td>NaN</td>\n",
       "      <td>NaN</td>\n",
       "      <td>Нет рейтинга</td>\n",
       "      <td>40.24</td>\n",
       "    </tr>\n",
       "    <tr>\n",
       "      <th>2</th>\n",
       "      <td>Mario Kart Wii</td>\n",
       "      <td>Wii</td>\n",
       "      <td>2008</td>\n",
       "      <td>Racing</td>\n",
       "      <td>15.68</td>\n",
       "      <td>12.76</td>\n",
       "      <td>3.79</td>\n",
       "      <td>3.29</td>\n",
       "      <td>82.0</td>\n",
       "      <td>8.3</td>\n",
       "      <td>E</td>\n",
       "      <td>35.52</td>\n",
       "    </tr>\n",
       "    <tr>\n",
       "      <th>3</th>\n",
       "      <td>Wii Sports Resort</td>\n",
       "      <td>Wii</td>\n",
       "      <td>2009</td>\n",
       "      <td>Sports</td>\n",
       "      <td>15.61</td>\n",
       "      <td>10.93</td>\n",
       "      <td>3.28</td>\n",
       "      <td>2.95</td>\n",
       "      <td>80.0</td>\n",
       "      <td>8.0</td>\n",
       "      <td>E</td>\n",
       "      <td>32.77</td>\n",
       "    </tr>\n",
       "    <tr>\n",
       "      <th>4</th>\n",
       "      <td>Pokemon Red/Pokemon Blue</td>\n",
       "      <td>GB</td>\n",
       "      <td>1996</td>\n",
       "      <td>Role-Playing</td>\n",
       "      <td>11.27</td>\n",
       "      <td>8.89</td>\n",
       "      <td>10.22</td>\n",
       "      <td>1.00</td>\n",
       "      <td>NaN</td>\n",
       "      <td>NaN</td>\n",
       "      <td>Нет рейтинга</td>\n",
       "      <td>31.38</td>\n",
       "    </tr>\n",
       "  </tbody>\n",
       "</table>\n",
       "</div>"
      ],
      "text/plain": [
       "                       name platform  year_of_release         genre  na_sales  \\\n",
       "0                Wii Sports      Wii             2006        Sports     41.36   \n",
       "1         Super Mario Bros.      NES             1985      Platform     29.08   \n",
       "2            Mario Kart Wii      Wii             2008        Racing     15.68   \n",
       "3         Wii Sports Resort      Wii             2009        Sports     15.61   \n",
       "4  Pokemon Red/Pokemon Blue       GB             1996  Role-Playing     11.27   \n",
       "\n",
       "   eu_sales  jp_sales  other_sales  critic_score  user_score        rating  \\\n",
       "0     28.96      3.77         8.45          76.0         8.0             E   \n",
       "1      3.58      6.81         0.77           NaN         NaN  Нет рейтинга   \n",
       "2     12.76      3.79         3.29          82.0         8.3             E   \n",
       "3     10.93      3.28         2.95          80.0         8.0             E   \n",
       "4      8.89     10.22         1.00           NaN         NaN  Нет рейтинга   \n",
       "\n",
       "   total_sales  \n",
       "0        82.54  \n",
       "1        40.24  \n",
       "2        35.52  \n",
       "3        32.77  \n",
       "4        31.38  "
      ]
     },
     "metadata": {},
     "output_type": "display_data"
    }
   ],
   "source": [
    "display(data.head())"
   ]
  },
  {
   "cell_type": "markdown",
   "id": "48722420",
   "metadata": {},
   "source": [
    "### 3. Проверим наличие дубликатов в играх"
   ]
  },
  {
   "cell_type": "markdown",
   "id": "8e616326",
   "metadata": {},
   "source": [
    "1. Явные дубликаты"
   ]
  },
  {
   "cell_type": "code",
   "execution_count": 17,
   "id": "cae4a936",
   "metadata": {},
   "outputs": [
    {
     "data": {
      "text/html": [
       "<div>\n",
       "<style scoped>\n",
       "    .dataframe tbody tr th:only-of-type {\n",
       "        vertical-align: middle;\n",
       "    }\n",
       "\n",
       "    .dataframe tbody tr th {\n",
       "        vertical-align: top;\n",
       "    }\n",
       "\n",
       "    .dataframe thead th {\n",
       "        text-align: right;\n",
       "    }\n",
       "</style>\n",
       "<table border=\"1\" class=\"dataframe\">\n",
       "  <thead>\n",
       "    <tr style=\"text-align: right;\">\n",
       "      <th></th>\n",
       "      <th>name</th>\n",
       "      <th>platform</th>\n",
       "      <th>year_of_release</th>\n",
       "      <th>genre</th>\n",
       "      <th>na_sales</th>\n",
       "      <th>eu_sales</th>\n",
       "      <th>jp_sales</th>\n",
       "      <th>other_sales</th>\n",
       "      <th>critic_score</th>\n",
       "      <th>user_score</th>\n",
       "      <th>rating</th>\n",
       "      <th>total_sales</th>\n",
       "    </tr>\n",
       "  </thead>\n",
       "  <tbody>\n",
       "  </tbody>\n",
       "</table>\n",
       "</div>"
      ],
      "text/plain": [
       "Empty DataFrame\n",
       "Columns: [name, platform, year_of_release, genre, na_sales, eu_sales, jp_sales, other_sales, critic_score, user_score, rating, total_sales]\n",
       "Index: []"
      ]
     },
     "metadata": {},
     "output_type": "display_data"
    }
   ],
   "source": [
    "duplicated_data_all=data[data.duplicated()]\n",
    "display(duplicated_data_all)"
   ]
  },
  {
   "cell_type": "markdown",
   "id": "d3c3cde0",
   "metadata": {},
   "source": [
    "Явных дубликатов в датасете не выявлено. "
   ]
  },
  {
   "cell_type": "markdown",
   "id": "3701bbca",
   "metadata": {},
   "source": [
    "2. Неявные дубликаты. "
   ]
  },
  {
   "cell_type": "code",
   "execution_count": 18,
   "id": "0d69d80f",
   "metadata": {},
   "outputs": [
    {
     "data": {
      "text/html": [
       "<div>\n",
       "<style scoped>\n",
       "    .dataframe tbody tr th:only-of-type {\n",
       "        vertical-align: middle;\n",
       "    }\n",
       "\n",
       "    .dataframe tbody tr th {\n",
       "        vertical-align: top;\n",
       "    }\n",
       "\n",
       "    .dataframe thead th {\n",
       "        text-align: right;\n",
       "    }\n",
       "</style>\n",
       "<table border=\"1\" class=\"dataframe\">\n",
       "  <thead>\n",
       "    <tr style=\"text-align: right;\">\n",
       "      <th></th>\n",
       "      <th>name</th>\n",
       "      <th>platform</th>\n",
       "      <th>year_of_release</th>\n",
       "      <th>genre</th>\n",
       "      <th>na_sales</th>\n",
       "      <th>eu_sales</th>\n",
       "      <th>jp_sales</th>\n",
       "      <th>other_sales</th>\n",
       "      <th>critic_score</th>\n",
       "      <th>user_score</th>\n",
       "      <th>rating</th>\n",
       "      <th>total_sales</th>\n",
       "    </tr>\n",
       "  </thead>\n",
       "  <tbody>\n",
       "    <tr>\n",
       "      <th>1574</th>\n",
       "      <td>Need for Speed: Most Wanted</td>\n",
       "      <td>X360</td>\n",
       "      <td>2005</td>\n",
       "      <td>Racing</td>\n",
       "      <td>1.0</td>\n",
       "      <td>0.13</td>\n",
       "      <td>0.02</td>\n",
       "      <td>0.10</td>\n",
       "      <td>83.0</td>\n",
       "      <td>8.5</td>\n",
       "      <td>T</td>\n",
       "      <td>1.25</td>\n",
       "    </tr>\n",
       "    <tr>\n",
       "      <th>11534</th>\n",
       "      <td>Need for Speed: Most Wanted</td>\n",
       "      <td>PC</td>\n",
       "      <td>2012</td>\n",
       "      <td>Racing</td>\n",
       "      <td>0.0</td>\n",
       "      <td>0.06</td>\n",
       "      <td>0.00</td>\n",
       "      <td>0.02</td>\n",
       "      <td>82.0</td>\n",
       "      <td>8.5</td>\n",
       "      <td>T</td>\n",
       "      <td>0.08</td>\n",
       "    </tr>\n",
       "    <tr>\n",
       "      <th>15969</th>\n",
       "      <td>Madden NFL 13</td>\n",
       "      <td>PS3</td>\n",
       "      <td>2012</td>\n",
       "      <td>Sports</td>\n",
       "      <td>0.0</td>\n",
       "      <td>0.01</td>\n",
       "      <td>0.00</td>\n",
       "      <td>0.00</td>\n",
       "      <td>83.0</td>\n",
       "      <td>5.5</td>\n",
       "      <td>E</td>\n",
       "      <td>0.01</td>\n",
       "    </tr>\n",
       "  </tbody>\n",
       "</table>\n",
       "</div>"
      ],
      "text/plain": [
       "                              name platform  year_of_release   genre  \\\n",
       "1574   Need for Speed: Most Wanted     X360             2005  Racing   \n",
       "11534  Need for Speed: Most Wanted       PC             2012  Racing   \n",
       "15969                Madden NFL 13      PS3             2012  Sports   \n",
       "\n",
       "       na_sales  eu_sales  jp_sales  other_sales  critic_score  user_score  \\\n",
       "1574        1.0      0.13      0.02         0.10          83.0         8.5   \n",
       "11534       0.0      0.06      0.00         0.02          82.0         8.5   \n",
       "15969       0.0      0.01      0.00         0.00          83.0         5.5   \n",
       "\n",
       "      rating  total_sales  \n",
       "1574       T         1.25  \n",
       "11534      T         0.08  \n",
       "15969      E         0.01  "
      ]
     },
     "metadata": {},
     "output_type": "display_data"
    }
   ],
   "source": [
    "# выведем список полных дубликатов игр (одно и то же название на одинаковых платформах)\n",
    "duplicated_data_specific=data[data.duplicated(subset = ['name','platform'])]\n",
    "display(duplicated_data_specific) \n"
   ]
  },
  {
   "cell_type": "markdown",
   "id": "2ffe2d4c",
   "metadata": {},
   "source": [
    "Видим, что в дубликаты попалась игра Need For Speed на x360 некорректно - т.к. у игр разные даты выхода. Поэтому доабвим еще столбец с датой релиза, чтобы не удалить лишнее."
   ]
  },
  {
   "cell_type": "code",
   "execution_count": 19,
   "id": "21ccc612",
   "metadata": {},
   "outputs": [
    {
     "data": {
      "text/html": [
       "<div>\n",
       "<style scoped>\n",
       "    .dataframe tbody tr th:only-of-type {\n",
       "        vertical-align: middle;\n",
       "    }\n",
       "\n",
       "    .dataframe tbody tr th {\n",
       "        vertical-align: top;\n",
       "    }\n",
       "\n",
       "    .dataframe thead th {\n",
       "        text-align: right;\n",
       "    }\n",
       "</style>\n",
       "<table border=\"1\" class=\"dataframe\">\n",
       "  <thead>\n",
       "    <tr style=\"text-align: right;\">\n",
       "      <th></th>\n",
       "      <th>name</th>\n",
       "      <th>platform</th>\n",
       "      <th>year_of_release</th>\n",
       "      <th>genre</th>\n",
       "      <th>na_sales</th>\n",
       "      <th>eu_sales</th>\n",
       "      <th>jp_sales</th>\n",
       "      <th>other_sales</th>\n",
       "      <th>critic_score</th>\n",
       "      <th>user_score</th>\n",
       "      <th>rating</th>\n",
       "      <th>total_sales</th>\n",
       "    </tr>\n",
       "  </thead>\n",
       "  <tbody>\n",
       "    <tr>\n",
       "      <th>15969</th>\n",
       "      <td>Madden NFL 13</td>\n",
       "      <td>PS3</td>\n",
       "      <td>2012</td>\n",
       "      <td>Sports</td>\n",
       "      <td>0.0</td>\n",
       "      <td>0.01</td>\n",
       "      <td>0.0</td>\n",
       "      <td>0.0</td>\n",
       "      <td>83.0</td>\n",
       "      <td>5.5</td>\n",
       "      <td>E</td>\n",
       "      <td>0.01</td>\n",
       "    </tr>\n",
       "  </tbody>\n",
       "</table>\n",
       "</div>"
      ],
      "text/plain": [
       "                name platform  year_of_release   genre  na_sales  eu_sales  \\\n",
       "15969  Madden NFL 13      PS3             2012  Sports       0.0      0.01   \n",
       "\n",
       "       jp_sales  other_sales  critic_score  user_score rating  total_sales  \n",
       "15969       0.0          0.0          83.0         5.5      E         0.01  "
      ]
     },
     "metadata": {},
     "output_type": "display_data"
    }
   ],
   "source": [
    "duplicated_data_specific=data[data.duplicated(subset = ['name','platform', 'year_of_release'])]\n",
    "display(duplicated_data_specific) # выведем список полных дубликатов игр "
   ]
  },
  {
   "cell_type": "markdown",
   "id": "716dc893",
   "metadata": {},
   "source": [
    "Видим, что одна и та же игра была дважды учтена, поэтому удалим ее."
   ]
  },
  {
   "cell_type": "code",
   "execution_count": 20,
   "id": "357400d9",
   "metadata": {},
   "outputs": [],
   "source": [
    "data =data.drop_duplicates(subset = ['name','platform', 'year_of_release'])"
   ]
  },
  {
   "cell_type": "markdown",
   "id": "01076b49",
   "metadata": {},
   "source": [
    "Убедимся, что была удалена только одна игра, как и планировали."
   ]
  },
  {
   "cell_type": "code",
   "execution_count": 21,
   "id": "b318d749",
   "metadata": {},
   "outputs": [
    {
     "name": "stdout",
     "output_type": "stream",
     "text": [
      "<class 'pandas.core.frame.DataFrame'>\n",
      "Int64Index: 16443 entries, 0 to 16443\n",
      "Data columns (total 12 columns):\n",
      " #   Column           Non-Null Count  Dtype  \n",
      "---  ------           --------------  -----  \n",
      " 0   name             16443 non-null  object \n",
      " 1   platform         16443 non-null  object \n",
      " 2   year_of_release  16443 non-null  int64  \n",
      " 3   genre            16443 non-null  object \n",
      " 4   na_sales         16443 non-null  float64\n",
      " 5   eu_sales         16443 non-null  float64\n",
      " 6   jp_sales         16443 non-null  float64\n",
      " 7   other_sales      16443 non-null  float64\n",
      " 8   critic_score     7982 non-null   float64\n",
      " 9   user_score       7462 non-null   float64\n",
      " 10  rating           16443 non-null  object \n",
      " 11  total_sales      16443 non-null  float64\n",
      "dtypes: float64(7), int64(1), object(4)\n",
      "memory usage: 1.6+ MB\n"
     ]
    }
   ],
   "source": [
    "data.info()"
   ]
  },
  {
   "cell_type": "markdown",
   "id": "5ee5ba3a",
   "metadata": {},
   "source": [
    "**Шаг 2. Общий вывод.**\n",
    "\n",
    "Мы удалили столбцы с пропусками, заменили типы данных, где это было необходимо. Проверили датасет на наличие дубликатов и удалили неявные дубликаты. Все данные подготовлены для дальнейшего корректного анализа.\n",
    "\n",
    "Также был рассчитан показатель суммарные продажи и добавлен отдельным столбцом в таблицу для дальнейшего анализа. "
   ]
  },
  {
   "cell_type": "markdown",
   "id": "0aee097e",
   "metadata": {},
   "source": [
    "## Шаг 3. Исследовательский анализ данных"
   ]
  },
  {
   "cell_type": "markdown",
   "id": "665b4c3d",
   "metadata": {},
   "source": [
    "### 1. Сколько игр выпускалось в разные годы. Важны ли данные за все периоды?"
   ]
  },
  {
   "cell_type": "code",
   "execution_count": 22,
   "id": "304a1cf4",
   "metadata": {},
   "outputs": [
    {
     "data": {
      "image/png": "[encoded data removed]",
      "text/plain": [
       "<Figure size 1080x504 with 1 Axes>"
      ]
     },
     "metadata": {
      "needs_background": "light"
     },
     "output_type": "display_data"
    }
   ],
   "source": [
    "data['year_of_release'].hist(bins = 100, figsize = (15, 7), color='#87CEEB')\n",
    "\n",
    "plt.title('Сколько игр выпускалось в разные годы')\n",
    "plt.xlabel('Год') \n",
    "plt.ylabel('Количество игр')\n",
    "plt.show()"
   ]
  },
  {
   "cell_type": "markdown",
   "id": "d908a2f7",
   "metadata": {},
   "source": [
    "Активный пик роста выпуска игр начался с 2000-х годов. \n",
    "\n",
    "Наверное, наиболее актуальными данными будет данные с ~ 2014 по 2016 год - этот период отражает текущие тенденции рынка игр.\n",
    "\n",
    "При этом данные до 1995 являются абсолютно неактуальными, так как игры только начинали появляться, не были популярными в том числе в силу отсутствия технических мощностей для их развития и их количество не сопоставимо ни с одним из периодов за последние 20 лет.\n",
    "\n",
    "В 2000-х годах произошел резкий скачок уровня аппаратных возможностей игрового «железа», что спровоцировало больший рост компьютерных игр, на рынке появились новые игроки (например, Microsoft с X360), действующие игроки начали обновлять свои консоли (например, Sony с PS2, PS3). Игры стали доступнее, появилась альтернатива в виде персональных компьютеров. \n",
    "\n",
    "С 2010-х годов наблюдается снижение спроса на компьютерные игры в целом по перечисленным платформам, потому что мобильные платформы создали новый канал продаж. В дополнение к геймерам-любителям, целенаправленно покупающим консоль или игры к компьютеру, появляется категория «человек коротает время в метро по дороге на работу, играя на своем смартфоне». Это привело к функциональному упрощению игр, чтобы адаптировать их под ограниченные возможности телефона по сравнению с джойстиком или клавиатурой. Интерес пользователей сместился в эту сферу, что отразилось на падении продаж компьютер игр на различных платформах. "
   ]
  },
  {
   "cell_type": "markdown",
   "id": "eb045a13",
   "metadata": {},
   "source": [
    "### 2. Как менялись продажи по платформам. Выберите платформы с наибольшими суммарными продажами и постройте распределение по годам. За какой характерный срок появляются новые и исчезают старые платформы?\n"
   ]
  },
  {
   "cell_type": "code",
   "execution_count": 23,
   "id": "b55e444a",
   "metadata": {},
   "outputs": [
    {
     "data": {
      "image/png": "[encoded data removed]",
      "text/plain": [
       "<Figure size 1080x504 with 1 Axes>"
      ]
     },
     "metadata": {
      "needs_background": "light"
     },
     "output_type": "display_data"
    }
   ],
   "source": [
    "#соберем данные по платформам и отсортируем по продажам\n",
    "filtered_by_platform = data.pivot_table(index='platform', values='total_sales', aggfunc= 'sum')\\\n",
    ".sort_values('total_sales', ascending=False)\n",
    "\n",
    "#создадим список из первых 10 топ платформ\n",
    "new = filtered_by_platform.index[:10].tolist()\n",
    "\n",
    "#создадим датасет по выбранным платформам\n",
    "top10 = data.query('platform == @new')\n",
    "\n",
    "#построим график продаж среди этих платформ по годам\n",
    "pd.pivot_table(top10 , index='year_of_release', columns='platform', values='total_sales', aggfunc='sum')\\\n",
    ".plot(figsize=(15,7), xlim=(1993,2017))\n",
    "\n",
    "plt.title('Продажи по платформам')\n",
    "plt.xlabel('Год') \n",
    "plt.ylabel('Продажи в млн.шт.')\n",
    "plt.show()"
   ]
  },
  {
   "cell_type": "code",
   "execution_count": 24,
   "id": "9bc933b7",
   "metadata": {
    "scrolled": false
   },
   "outputs": [
    {
     "data": {
      "text/plain": [
       "platform\n",
       "PC      31\n",
       "DS      28\n",
       "GB      13\n",
       "X360    11\n",
       "PSP     11\n",
       "PS2     11\n",
       "NES     11\n",
       "DC      10\n",
       "Wii     10\n",
       "PS3     10\n",
       "2600     9\n",
       "SNES     9\n",
       "PS       9\n",
       "XB       8\n",
       "GBA      7\n",
       "GC       6\n",
       "N64      6\n",
       "3DS      5\n",
       "PSV      5\n",
       "SAT      5\n",
       "WiiU     4\n",
       "GEN      4\n",
       "NG       3\n",
       "XOne     3\n",
       "PS4      3\n",
       "WS       2\n",
       "3DO      1\n",
       "SCD      1\n",
       "TG16     0\n",
       "PCFX     0\n",
       "GG       0\n",
       "Name: year_of_release, dtype: int64"
      ]
     },
     "metadata": {},
     "output_type": "display_data"
    },
    {
     "data": {
      "text/plain": [
       "7.612903225806452"
      ]
     },
     "metadata": {},
     "output_type": "display_data"
    },
    {
     "data": {
      "text/plain": [
       "6.0"
      ]
     },
     "metadata": {},
     "output_type": "display_data"
    }
   ],
   "source": [
    "#считаем продолжительность \"жизни\" платформы по разнице максимального и минимального года релиза\n",
    "platform_max = data.groupby('platform')['year_of_release'].max()\n",
    "platform_min = data.groupby('platform')['year_of_release'].min()\n",
    "platform_lifetime = platform_max - platform_min\n",
    "display(platform_lifetime.sort_values(ascending=False))\n",
    "display(platform_lifetime.mean())\n",
    "display(platform_lifetime.median())"
   ]
  },
  {
   "cell_type": "markdown",
   "id": "fa4fbfa2",
   "metadata": {},
   "source": [
    "По данным графика и талблицы, средний срок \"жизни\" игровых платформ составляет 6-7 лет. Есть платформы, которые наиболее популярны (нарпимер, X360, PS2, PS3) и живут дольше - в среднем 10-13 лет."
   ]
  },
  {
   "cell_type": "markdown",
   "id": "e126fa7a",
   "metadata": {},
   "source": [
    "### 3. Какие платформы лидируют по продажам, растут или падают? Выберите несколько потенциально прибыльных платформ."
   ]
  },
  {
   "cell_type": "markdown",
   "id": "4464636e",
   "metadata": {},
   "source": [
    "Так как рынок игровых плтаформ очень динамичен, то актуальный период определим следующим образом: \n",
    "1. крайняя дата - 2016 год \n",
    "2. начальная дата - 2014 год. \n",
    "\n",
    "Теперь посчитаем, какие платформы лидируют в этом периоде. Ограничимся топ-5 самых популярных платформ (они занимают порядка 87% от всех проданных копий игр), чтобы графики были более наглядными и доступными к анализу. "
   ]
  },
  {
   "cell_type": "code",
   "execution_count": 25,
   "id": "91a7c516",
   "metadata": {},
   "outputs": [
    {
     "data": {
      "text/html": [
       "<div>\n",
       "<style scoped>\n",
       "    .dataframe tbody tr th:only-of-type {\n",
       "        vertical-align: middle;\n",
       "    }\n",
       "\n",
       "    .dataframe tbody tr th {\n",
       "        vertical-align: top;\n",
       "    }\n",
       "\n",
       "    .dataframe thead th {\n",
       "        text-align: right;\n",
       "    }\n",
       "</style>\n",
       "<table border=\"1\" class=\"dataframe\">\n",
       "  <thead>\n",
       "    <tr style=\"text-align: right;\">\n",
       "      <th></th>\n",
       "      <th>total_sales</th>\n",
       "    </tr>\n",
       "    <tr>\n",
       "      <th>platform</th>\n",
       "      <th></th>\n",
       "    </tr>\n",
       "  </thead>\n",
       "  <tbody>\n",
       "    <tr>\n",
       "      <th>PS4</th>\n",
       "      <td>288.15</td>\n",
       "    </tr>\n",
       "    <tr>\n",
       "      <th>XOne</th>\n",
       "      <td>140.36</td>\n",
       "    </tr>\n",
       "    <tr>\n",
       "      <th>3DS</th>\n",
       "      <td>86.68</td>\n",
       "    </tr>\n",
       "    <tr>\n",
       "      <th>PS3</th>\n",
       "      <td>68.18</td>\n",
       "    </tr>\n",
       "    <tr>\n",
       "      <th>X360</th>\n",
       "      <td>48.22</td>\n",
       "    </tr>\n",
       "  </tbody>\n",
       "</table>\n",
       "</div>"
      ],
      "text/plain": [
       "          total_sales\n",
       "platform             \n",
       "PS4            288.15\n",
       "XOne           140.36\n",
       "3DS             86.68\n",
       "PS3             68.18\n",
       "X360            48.22"
      ]
     },
     "metadata": {},
     "output_type": "display_data"
    },
    {
     "data": {
      "image/png": "[encoded data removed]",
      "text/plain": [
       "<Figure size 1152x720 with 1 Axes>"
      ]
     },
     "metadata": {
      "needs_background": "light"
     },
     "output_type": "display_data"
    }
   ],
   "source": [
    "#смотрим какие платформы популярны в этот период\n",
    "\n",
    "top5_platforms_2014_2016 = data.query('year_of_release >=2014')\\\n",
    ".pivot_table(index='platform', values='total_sales', aggfunc= 'sum')\\\n",
    ".sort_values('total_sales', ascending=False)\n",
    "\n",
    "display(top5_platforms_2014_2016.head())\n",
    "\n",
    "#создадим список из первых 5 топ платформ\n",
    "top_5_list = top5_platforms_2014_2016.index[:5].tolist()\n",
    "\n",
    "\n",
    "#создадим датасет по выбранным платформам\n",
    "top_5 = data.query('platform == @top_5_list and year_of_release>=2014')\n",
    "\n",
    "\n",
    "#строим график по динамике продаж по каждой из платформ за актуальный период\n",
    "pd.pivot_table(top_5, index='year_of_release', columns='platform', values='total_sales', aggfunc='sum')\\\n",
    ".plot(figsize=(16,10))\n",
    "plt.title('Продажи по платформам')\n",
    "plt.xlabel('Год') \n",
    "plt.ylabel('Продажи в млн.шт.')\n",
    "plt.show()"
   ]
  },
  {
   "cell_type": "markdown",
   "id": "b337ae2b",
   "metadata": {},
   "source": [
    "Наиболее популярными платформами, исходя из оценки их выручки, являются: \n",
    "1. PS4\n",
    "2. XOne\n",
    "3. 3DS\n",
    "4. PS3\n",
    "5. X360\n",
    "\n",
    "Как видим из графика, у всех платформ наблюдается снижение продаж. Исключением могут являться PS4 и XOne, которые показывали рост по итогам 2015 и снижение в 2016 может быть обусловлено неполными данными за этот период.  \n",
    "В целом динамика обусловлено тем, что это одни из самых новых платформ, в связи с чем интерес к ним может только набирать обороты, при этом остальные плтформы, возможно, уже прошли пик своей популярности и максимума продаж.  "
   ]
  },
  {
   "cell_type": "markdown",
   "id": "fb5dd113",
   "metadata": {},
   "source": [
    "### 4. Постройте график «ящик с усами» по глобальным продажам игр в разбивке по платформам."
   ]
  },
  {
   "cell_type": "code",
   "execution_count": 26,
   "id": "5348b874",
   "metadata": {},
   "outputs": [
    {
     "data": {
      "image/png": "[encoded data removed]",
      "text/plain": [
       "<Figure size 1080x720 with 1 Axes>"
      ]
     },
     "metadata": {
      "needs_background": "light"
     },
     "output_type": "display_data"
    }
   ],
   "source": [
    "boxplot = top_5.boxplot(column=['total_sales'], by='platform', figsize=(15,10)).set_ylim(0, 15)\n",
    "\n",
    "plt.title('Глобальные продажи игр в разбивке по платформам')\n",
    "plt.xlabel('Платформы') \n",
    "plt.ylabel('Продажи в млн.шт.')\n",
    "plt.show()"
   ]
  },
  {
   "cell_type": "code",
   "execution_count": 27,
   "id": "19525b36",
   "metadata": {},
   "outputs": [
    {
     "data": {
      "image/png": "[encoded data removed]",
      "text/plain": [
       "<Figure size 1080x720 with 1 Axes>"
      ]
     },
     "metadata": {
      "needs_background": "light"
     },
     "output_type": "display_data"
    }
   ],
   "source": [
    "boxplot = top_5.boxplot(column=['total_sales'], by='platform', figsize=(15,10)).set_ylim(0, 0.85)\n",
    "\n",
    "plt.title('Глобальные продажи игр в разбивке по платформам')\n",
    "plt.xlabel('Платформы') \n",
    "plt.ylabel('Продажи в млн.шт.')\n",
    "plt.show()"
   ]
  },
  {
   "cell_type": "markdown",
   "id": "964eb74a",
   "metadata": {},
   "source": [
    "Большая часть продаж находится в зоне, так называемых, выбросов, что обсуловлено спецификой игровой индустрии - компания выпускает некую игру и собирает большие объемы продаж выпуска. Количество игр, которые покупаются долгое время постоянно и равномерно - минимально, что можно и увидеть на графике. \n",
    "\n",
    "Согласно увеличенному графику с квартилями, можем видеть, что у PS4 максимальное из представленных платформ количеcтво игр, которые попадают в 75% интервал, при этом максимальная медиана у XOne. \n"
   ]
  },
  {
   "cell_type": "markdown",
   "id": "0f3a2a79",
   "metadata": {},
   "source": [
    "### 5. Как влияют на продажи внутри одной популярной платформы отзывы пользователей и критиков. Постройте диаграмму рассеяния и посчитайте корреляцию между отзывами и продажами. "
   ]
  },
  {
   "cell_type": "markdown",
   "id": "0eeeb60e",
   "metadata": {},
   "source": [
    "1. X360"
   ]
  },
  {
   "cell_type": "code",
   "execution_count": 28,
   "id": "8d1ee2bd",
   "metadata": {},
   "outputs": [
    {
     "data": {
      "image/png": "[encoded data removed]",
      "text/plain": [
       "<Figure size 432x288 with 1 Axes>"
      ]
     },
     "metadata": {
      "needs_background": "light"
     },
     "output_type": "display_data"
    },
    {
     "data": {
      "image/png": "[encoded data removed]",
      "text/plain": [
       "<Figure size 432x288 with 1 Axes>"
      ]
     },
     "metadata": {
      "needs_background": "light"
     },
     "output_type": "display_data"
    }
   ],
   "source": [
    "top_5.query('platform == \"X360\"').pivot_table(index = ['user_score'], values = 'total_sales', aggfunc = 'sum')\\\n",
    "    .plot(style='o', ylim=(0,15))\n",
    "plt.title('Зависимость продаж на X360 от оценок пользователей')\n",
    "plt.xlabel('Оценки пользователей') \n",
    "plt.ylabel('Продажи в млн.шт.')\n",
    "plt.show()\n",
    "\n",
    "\n",
    "top_5.query('platform == \"X360\"').pivot_table(index = ['critic_score'], values = 'total_sales', aggfunc = 'sum')\\\n",
    "    .plot(style='o', ylim=(0,15))\n",
    "plt.title('Зависимость продаж на X360 от оценок критиков')\n",
    "plt.xlabel('Оценки критиков') \n",
    "plt.ylabel('Продажи в млн.шт.')\n",
    "plt.show()\n",
    "\n"
   ]
  },
  {
   "cell_type": "markdown",
   "id": "3cecf559",
   "metadata": {},
   "source": [
    "Посчитаем корреляцию по продажам в зависимости от отзывов пользователей и критиков в акутальном периоде. "
   ]
  },
  {
   "cell_type": "code",
   "execution_count": 29,
   "id": "d00dca15",
   "metadata": {},
   "outputs": [
    {
     "data": {
      "text/html": [
       "<div>\n",
       "<style scoped>\n",
       "    .dataframe tbody tr th:only-of-type {\n",
       "        vertical-align: middle;\n",
       "    }\n",
       "\n",
       "    .dataframe tbody tr th {\n",
       "        vertical-align: top;\n",
       "    }\n",
       "\n",
       "    .dataframe thead th {\n",
       "        text-align: right;\n",
       "    }\n",
       "</style>\n",
       "<table border=\"1\" class=\"dataframe\">\n",
       "  <thead>\n",
       "    <tr style=\"text-align: right;\">\n",
       "      <th></th>\n",
       "      <th>total_sales</th>\n",
       "      <th>critic_score</th>\n",
       "      <th>user_score</th>\n",
       "    </tr>\n",
       "  </thead>\n",
       "  <tbody>\n",
       "    <tr>\n",
       "      <th>total_sales</th>\n",
       "      <td>1.000000</td>\n",
       "      <td>0.525723</td>\n",
       "      <td>-0.138445</td>\n",
       "    </tr>\n",
       "    <tr>\n",
       "      <th>critic_score</th>\n",
       "      <td>0.525723</td>\n",
       "      <td>1.000000</td>\n",
       "      <td>0.625309</td>\n",
       "    </tr>\n",
       "    <tr>\n",
       "      <th>user_score</th>\n",
       "      <td>-0.138445</td>\n",
       "      <td>0.625309</td>\n",
       "      <td>1.000000</td>\n",
       "    </tr>\n",
       "  </tbody>\n",
       "</table>\n",
       "</div>"
      ],
      "text/plain": [
       "              total_sales  critic_score  user_score\n",
       "total_sales      1.000000      0.525723   -0.138445\n",
       "critic_score     0.525723      1.000000    0.625309\n",
       "user_score      -0.138445      0.625309    1.000000"
      ]
     },
     "execution_count": 29,
     "metadata": {},
     "output_type": "execute_result"
    }
   ],
   "source": [
    "top_5_by_platform = top_5.query('platform == \"X360\"')\n",
    "top_5_by_platform[['total_sales', 'critic_score', 'user_score']].corr()"
   ]
  },
  {
   "cell_type": "markdown",
   "id": "a4741a4c",
   "metadata": {},
   "source": [
    "Расчет подтвердился диаграмой рассеяния: существенной корреляции между продажами и отзывами пользователей и критиков не выявлено. При этом мы видим, что прямая линейная зависимость сильнее выражена с отзывами критиков, а не с отзывами пользователей. "
   ]
  },
  {
   "cell_type": "markdown",
   "id": "b4b6a807",
   "metadata": {},
   "source": [
    "2. PS3"
   ]
  },
  {
   "cell_type": "code",
   "execution_count": 30,
   "id": "eb410921",
   "metadata": {},
   "outputs": [
    {
     "data": {
      "image/png": "[encoded data removed]",
      "text/plain": [
       "<Figure size 432x288 with 1 Axes>"
      ]
     },
     "metadata": {
      "needs_background": "light"
     },
     "output_type": "display_data"
    },
    {
     "data": {
      "image/png": "[encoded data removed]",
      "text/plain": [
       "<Figure size 432x288 with 1 Axes>"
      ]
     },
     "metadata": {
      "needs_background": "light"
     },
     "output_type": "display_data"
    }
   ],
   "source": [
    "top_5.query('platform == \"PS3\"').pivot_table(index = ['user_score'], values = 'total_sales', aggfunc = 'sum')\\\n",
    "    .plot(style='o', ylim=(0,15))\n",
    "plt.title('Зависимость продаж на PS3 от оценок пользователей')\n",
    "plt.xlabel('Оценки пользователей') \n",
    "plt.ylabel('Продажи в млн.шт.')\n",
    "plt.show()\n",
    "\n",
    "\n",
    "top_5.query('platform == \"PS3\"').pivot_table(index = ['critic_score'], values = 'total_sales', aggfunc = 'sum')\\\n",
    "    .plot(style='o', ylim=(0,15))\n",
    "plt.title('Зависимость продаж на PS3 от оценок критиков')\n",
    "plt.xlabel('Оценки критиков') \n",
    "plt.ylabel('Продажи в млн.шт.')\n",
    "plt.show()\n"
   ]
  },
  {
   "cell_type": "markdown",
   "id": "ff8cc176",
   "metadata": {},
   "source": [
    "Посчитаем корреляцию по продажам в зависимости от отзывов пользователей и критиков в акутальном периоде. "
   ]
  },
  {
   "cell_type": "code",
   "execution_count": 31,
   "id": "514df6db",
   "metadata": {},
   "outputs": [
    {
     "data": {
      "text/html": [
       "<div>\n",
       "<style scoped>\n",
       "    .dataframe tbody tr th:only-of-type {\n",
       "        vertical-align: middle;\n",
       "    }\n",
       "\n",
       "    .dataframe tbody tr th {\n",
       "        vertical-align: top;\n",
       "    }\n",
       "\n",
       "    .dataframe thead th {\n",
       "        text-align: right;\n",
       "    }\n",
       "</style>\n",
       "<table border=\"1\" class=\"dataframe\">\n",
       "  <thead>\n",
       "    <tr style=\"text-align: right;\">\n",
       "      <th></th>\n",
       "      <th>total_sales</th>\n",
       "      <th>critic_score</th>\n",
       "      <th>user_score</th>\n",
       "    </tr>\n",
       "  </thead>\n",
       "  <tbody>\n",
       "    <tr>\n",
       "      <th>total_sales</th>\n",
       "      <td>1.000000</td>\n",
       "      <td>0.446575</td>\n",
       "      <td>-0.166761</td>\n",
       "    </tr>\n",
       "    <tr>\n",
       "      <th>critic_score</th>\n",
       "      <td>0.446575</td>\n",
       "      <td>1.000000</td>\n",
       "      <td>0.693445</td>\n",
       "    </tr>\n",
       "    <tr>\n",
       "      <th>user_score</th>\n",
       "      <td>-0.166761</td>\n",
       "      <td>0.693445</td>\n",
       "      <td>1.000000</td>\n",
       "    </tr>\n",
       "  </tbody>\n",
       "</table>\n",
       "</div>"
      ],
      "text/plain": [
       "              total_sales  critic_score  user_score\n",
       "total_sales      1.000000      0.446575   -0.166761\n",
       "critic_score     0.446575      1.000000    0.693445\n",
       "user_score      -0.166761      0.693445    1.000000"
      ]
     },
     "execution_count": 31,
     "metadata": {},
     "output_type": "execute_result"
    }
   ],
   "source": [
    "top_5_by_platform = top_5.query('platform == \"PS3\"')\n",
    "top_5_by_platform[['total_sales', 'critic_score', 'user_score']].corr()"
   ]
  },
  {
   "cell_type": "markdown",
   "id": "ac72e3ad",
   "metadata": {},
   "source": [
    "Расчет подтвердился диаграмой рассеяния: существенной корреляции между продажами и отзывами пользователей и критиков не выявлено. При этом мы видим, что прямая линейная зависимость сильнее выражена с отзывами критиков, а не с отзывами пользователей."
   ]
  },
  {
   "cell_type": "markdown",
   "id": "f97f89db",
   "metadata": {},
   "source": [
    "3. XOne"
   ]
  },
  {
   "cell_type": "code",
   "execution_count": 32,
   "id": "5a98fa0f",
   "metadata": {},
   "outputs": [
    {
     "data": {
      "image/png": "[encoded data removed]",
      "text/plain": [
       "<Figure size 432x288 with 1 Axes>"
      ]
     },
     "metadata": {
      "needs_background": "light"
     },
     "output_type": "display_data"
    },
    {
     "data": {
      "image/png": "[encoded data removed]",
      "text/plain": [
       "<Figure size 432x288 with 1 Axes>"
      ]
     },
     "metadata": {
      "needs_background": "light"
     },
     "output_type": "display_data"
    }
   ],
   "source": [
    "top_5.query('platform == \"XOne\"').pivot_table(index = ['user_score'], values = 'total_sales', aggfunc = 'sum')\\\n",
    "    .plot(style='o', ylim=(0,15))\n",
    "plt.title('Зависимость продаж на XOne от оценок пользователей')\n",
    "plt.xlabel('Оценки пользователей') \n",
    "plt.ylabel('Продажи в млн.шт.')\n",
    "plt.show()\n",
    "\n",
    "\n",
    "top_5.query('platform == \"XOne\"').pivot_table(index = ['critic_score'], values = 'total_sales', aggfunc = 'sum')\\\n",
    "    .plot(style='o', ylim=(0,15))\n",
    "plt.title('Зависимость продаж на XOne от оценок критиков')\n",
    "plt.xlabel('Оценки критиков') \n",
    "plt.ylabel('Продажи в млн.шт.')\n",
    "plt.show()"
   ]
  },
  {
   "cell_type": "markdown",
   "id": "f44f99ac",
   "metadata": {},
   "source": [
    "Посчитаем корреляцию по продажам в зависимости от отзывов пользователей и критиков в акутальном периоде. "
   ]
  },
  {
   "cell_type": "code",
   "execution_count": 33,
   "id": "3bed41fe",
   "metadata": {},
   "outputs": [
    {
     "data": {
      "text/html": [
       "<div>\n",
       "<style scoped>\n",
       "    .dataframe tbody tr th:only-of-type {\n",
       "        vertical-align: middle;\n",
       "    }\n",
       "\n",
       "    .dataframe tbody tr th {\n",
       "        vertical-align: top;\n",
       "    }\n",
       "\n",
       "    .dataframe thead th {\n",
       "        text-align: right;\n",
       "    }\n",
       "</style>\n",
       "<table border=\"1\" class=\"dataframe\">\n",
       "  <thead>\n",
       "    <tr style=\"text-align: right;\">\n",
       "      <th></th>\n",
       "      <th>total_sales</th>\n",
       "      <th>critic_score</th>\n",
       "      <th>user_score</th>\n",
       "    </tr>\n",
       "  </thead>\n",
       "  <tbody>\n",
       "    <tr>\n",
       "      <th>total_sales</th>\n",
       "      <td>1.000000</td>\n",
       "      <td>0.428677</td>\n",
       "      <td>-0.070384</td>\n",
       "    </tr>\n",
       "    <tr>\n",
       "      <th>critic_score</th>\n",
       "      <td>0.428677</td>\n",
       "      <td>1.000000</td>\n",
       "      <td>0.440977</td>\n",
       "    </tr>\n",
       "    <tr>\n",
       "      <th>user_score</th>\n",
       "      <td>-0.070384</td>\n",
       "      <td>0.440977</td>\n",
       "      <td>1.000000</td>\n",
       "    </tr>\n",
       "  </tbody>\n",
       "</table>\n",
       "</div>"
      ],
      "text/plain": [
       "              total_sales  critic_score  user_score\n",
       "total_sales      1.000000      0.428677   -0.070384\n",
       "critic_score     0.428677      1.000000    0.440977\n",
       "user_score      -0.070384      0.440977    1.000000"
      ]
     },
     "execution_count": 33,
     "metadata": {},
     "output_type": "execute_result"
    }
   ],
   "source": [
    "top_5_by_platform = top_5.query('platform == \"XOne\"')\n",
    "top_5_by_platform[['total_sales', 'critic_score', 'user_score']].corr()"
   ]
  },
  {
   "cell_type": "markdown",
   "id": "1f9d0d7d",
   "metadata": {},
   "source": [
    "Расчет подтвердился диаграмой рассеяния: существенной корреляции между продажами и отзывами пользователей и критиков не выявлено. При этом мы видим, что прямая линейная зависимость сильнее выражена с отзывами критиков, а не с отзывами пользователей."
   ]
  },
  {
   "cell_type": "markdown",
   "id": "64f92108",
   "metadata": {},
   "source": [
    "4. 3DS"
   ]
  },
  {
   "cell_type": "code",
   "execution_count": 34,
   "id": "dae3a3d0",
   "metadata": {},
   "outputs": [
    {
     "data": {
      "image/png": "[encoded data removed]",
      "text/plain": [
       "<Figure size 432x288 with 1 Axes>"
      ]
     },
     "metadata": {
      "needs_background": "light"
     },
     "output_type": "display_data"
    },
    {
     "data": {
      "image/png": "[encoded data removed]",
      "text/plain": [
       "<Figure size 432x288 with 1 Axes>"
      ]
     },
     "metadata": {
      "needs_background": "light"
     },
     "output_type": "display_data"
    }
   ],
   "source": [
    "top_5.query('platform == \"3DS\"').pivot_table(index = ['user_score'], values = 'total_sales', aggfunc = 'sum')\\\n",
    "    .plot(style='o', ylim=(0,15))\n",
    "plt.title('Зависимость продаж на 3DS от оценок пользователей')\n",
    "plt.xlabel('Оценки пользователей') \n",
    "plt.ylabel('Продажи в млн.шт.')\n",
    "plt.show()\n",
    "\n",
    "\n",
    "top_5.query('platform == \"3DS\"').pivot_table(index = ['critic_score'], values = 'total_sales', aggfunc = 'sum')\\\n",
    "    .plot(style='o', ylim=(0,15))\n",
    "plt.title('Зависимость продаж на 3DS от оценок критиков')\n",
    "plt.xlabel('Оценки критиков') \n",
    "plt.ylabel('Продажи в млн.шт.')\n",
    "plt.show()"
   ]
  },
  {
   "cell_type": "markdown",
   "id": "be159414",
   "metadata": {},
   "source": [
    "Посчитаем корреляцию по продажам в зависимости от отзывов пользователей и критиков в акутальном периоде. "
   ]
  },
  {
   "cell_type": "code",
   "execution_count": 35,
   "id": "bf4d4a61",
   "metadata": {},
   "outputs": [
    {
     "data": {
      "text/html": [
       "<div>\n",
       "<style scoped>\n",
       "    .dataframe tbody tr th:only-of-type {\n",
       "        vertical-align: middle;\n",
       "    }\n",
       "\n",
       "    .dataframe tbody tr th {\n",
       "        vertical-align: top;\n",
       "    }\n",
       "\n",
       "    .dataframe thead th {\n",
       "        text-align: right;\n",
       "    }\n",
       "</style>\n",
       "<table border=\"1\" class=\"dataframe\">\n",
       "  <thead>\n",
       "    <tr style=\"text-align: right;\">\n",
       "      <th></th>\n",
       "      <th>total_sales</th>\n",
       "      <th>critic_score</th>\n",
       "      <th>user_score</th>\n",
       "    </tr>\n",
       "  </thead>\n",
       "  <tbody>\n",
       "    <tr>\n",
       "      <th>total_sales</th>\n",
       "      <td>1.000000</td>\n",
       "      <td>0.314117</td>\n",
       "      <td>0.215193</td>\n",
       "    </tr>\n",
       "    <tr>\n",
       "      <th>critic_score</th>\n",
       "      <td>0.314117</td>\n",
       "      <td>1.000000</td>\n",
       "      <td>0.862485</td>\n",
       "    </tr>\n",
       "    <tr>\n",
       "      <th>user_score</th>\n",
       "      <td>0.215193</td>\n",
       "      <td>0.862485</td>\n",
       "      <td>1.000000</td>\n",
       "    </tr>\n",
       "  </tbody>\n",
       "</table>\n",
       "</div>"
      ],
      "text/plain": [
       "              total_sales  critic_score  user_score\n",
       "total_sales      1.000000      0.314117    0.215193\n",
       "critic_score     0.314117      1.000000    0.862485\n",
       "user_score       0.215193      0.862485    1.000000"
      ]
     },
     "execution_count": 35,
     "metadata": {},
     "output_type": "execute_result"
    }
   ],
   "source": [
    "top_5_by_platform = top_5.query('platform == \"3DS\"')\n",
    "top_5_by_platform[['total_sales', 'critic_score', 'user_score']].corr()"
   ]
  },
  {
   "cell_type": "markdown",
   "id": "77a2c0fc",
   "metadata": {},
   "source": [
    "Расчет подтвердился диаграмой рассеяния: существенной корреляции между продажами и отзывами пользователей и критиков не выявлено. При этом мы видим, что прямая линейная зависимость сильнее выражена с отзывами критиков, а не с отзывами пользователей."
   ]
  },
  {
   "cell_type": "markdown",
   "id": "7ff23193",
   "metadata": {},
   "source": [
    "5. PS4"
   ]
  },
  {
   "cell_type": "code",
   "execution_count": 36,
   "id": "131f7a1a",
   "metadata": {
    "scrolled": false
   },
   "outputs": [
    {
     "data": {
      "image/png": "[encoded data removed]",
      "text/plain": [
       "<Figure size 432x288 with 1 Axes>"
      ]
     },
     "metadata": {
      "needs_background": "light"
     },
     "output_type": "display_data"
    },
    {
     "data": {
      "image/png": "[encoded data removed]",
      "text/plain": [
       "<Figure size 432x288 with 1 Axes>"
      ]
     },
     "metadata": {
      "needs_background": "light"
     },
     "output_type": "display_data"
    }
   ],
   "source": [
    "top_5.query('platform == \"PS4\"').pivot_table(index = ['user_score'], values = 'total_sales', aggfunc = 'sum')\\\n",
    "    .plot(style='o', ylim=(0,15))\n",
    "plt.title('Зависимость продаж на PS4 от оценок пользователей')\n",
    "plt.xlabel('Оценки пользователей') \n",
    "plt.ylabel('Продажи в млн.шт.')\n",
    "plt.show()\n",
    "\n",
    "\n",
    "top_5.query('platform == \"PS4\"').pivot_table(index = ['critic_score'], values = 'total_sales', aggfunc = 'sum')\\\n",
    "    .plot(style='o', ylim=(0,15))\n",
    "plt.title('Зависимость продаж на PS4 от оценок критиков')\n",
    "plt.xlabel('Оценки критиков') \n",
    "plt.ylabel('Продажи в млн.шт.')\n",
    "plt.show()"
   ]
  },
  {
   "cell_type": "markdown",
   "id": "20f183db",
   "metadata": {},
   "source": [
    "Посчитаем корреляцию по продажам в зависимости от отзывов пользователей и критиков в акутальном периоде. "
   ]
  },
  {
   "cell_type": "code",
   "execution_count": 37,
   "id": "571365ae",
   "metadata": {},
   "outputs": [
    {
     "data": {
      "text/html": [
       "<div>\n",
       "<style scoped>\n",
       "    .dataframe tbody tr th:only-of-type {\n",
       "        vertical-align: middle;\n",
       "    }\n",
       "\n",
       "    .dataframe tbody tr th {\n",
       "        vertical-align: top;\n",
       "    }\n",
       "\n",
       "    .dataframe thead th {\n",
       "        text-align: right;\n",
       "    }\n",
       "</style>\n",
       "<table border=\"1\" class=\"dataframe\">\n",
       "  <thead>\n",
       "    <tr style=\"text-align: right;\">\n",
       "      <th></th>\n",
       "      <th>total_sales</th>\n",
       "      <th>critic_score</th>\n",
       "      <th>user_score</th>\n",
       "    </tr>\n",
       "  </thead>\n",
       "  <tbody>\n",
       "    <tr>\n",
       "      <th>total_sales</th>\n",
       "      <td>1.000000</td>\n",
       "      <td>0.402661</td>\n",
       "      <td>-0.040132</td>\n",
       "    </tr>\n",
       "    <tr>\n",
       "      <th>critic_score</th>\n",
       "      <td>0.402661</td>\n",
       "      <td>1.000000</td>\n",
       "      <td>0.546434</td>\n",
       "    </tr>\n",
       "    <tr>\n",
       "      <th>user_score</th>\n",
       "      <td>-0.040132</td>\n",
       "      <td>0.546434</td>\n",
       "      <td>1.000000</td>\n",
       "    </tr>\n",
       "  </tbody>\n",
       "</table>\n",
       "</div>"
      ],
      "text/plain": [
       "              total_sales  critic_score  user_score\n",
       "total_sales      1.000000      0.402661   -0.040132\n",
       "critic_score     0.402661      1.000000    0.546434\n",
       "user_score      -0.040132      0.546434    1.000000"
      ]
     },
     "execution_count": 37,
     "metadata": {},
     "output_type": "execute_result"
    }
   ],
   "source": [
    "top_5_by_platform = top_5.query('platform == \"PS4\"')\n",
    "top_5_by_platform[['total_sales', 'critic_score', 'user_score']].corr()"
   ]
  },
  {
   "cell_type": "markdown",
   "id": "7563e12b",
   "metadata": {},
   "source": [
    "Расчет подтвердился диаграмой рассеяния: существенной корреляции между продажами и отзывами пользователей и критиков не выявлено. При этом мы видим, что прямая линейная зависимость сильнее выражена с отзывами критиков, а не с отзывами пользователей."
   ]
  },
  {
   "cell_type": "markdown",
   "id": "ef240cae",
   "metadata": {},
   "source": [
    "**Общий вывод**\n",
    "\n",
    "В целом, ярко-выраженной линейной зависимости продаж и отзывов не выялвено (ни один из коэффициентов корреляции не превысил даже 0.5). При этом выявлено, что в большинстве случаев, между продажами и отзывами критиков прямая линейная зависимость сильнее, чем между отзывами пользователей.   "
   ]
  },
  {
   "cell_type": "markdown",
   "id": "53809b2b",
   "metadata": {},
   "source": [
    "### 6. Общее распределение игр по жанрам. Что можно сказать о самых прибыльных жанрах? Выделяются ли жанры с высокими и низкими продажами?"
   ]
  },
  {
   "cell_type": "markdown",
   "id": "40d45c0c",
   "metadata": {},
   "source": [
    "Выберем все платформы в актуальном периоде и посмотрим, сколько всего жанров есть, чтобы убедиться, что ничего не пропустим:"
   ]
  },
  {
   "cell_type": "code",
   "execution_count": 38,
   "id": "37efbde4",
   "metadata": {},
   "outputs": [],
   "source": [
    "actual_data = data.query('year_of_release >= 2014')"
   ]
  },
  {
   "cell_type": "code",
   "execution_count": 39,
   "id": "fb9a7fc3",
   "metadata": {},
   "outputs": [
    {
     "data": {
      "text/plain": [
       "12"
      ]
     },
     "execution_count": 39,
     "metadata": {},
     "output_type": "execute_result"
    }
   ],
   "source": [
    "len(actual_data['genre'].unique())"
   ]
  },
  {
   "cell_type": "markdown",
   "id": "36ba3ea5",
   "metadata": {},
   "source": [
    "Посмотрим объем продаж игр в разбивке по жанрам. "
   ]
  },
  {
   "cell_type": "code",
   "execution_count": 40,
   "id": "6ba14235",
   "metadata": {},
   "outputs": [
    {
     "data": {
      "image/png": "[encoded data removed]",
      "text/plain": [
       "<Figure size 1152x720 with 1 Axes>"
      ]
     },
     "metadata": {
      "needs_background": "light"
     },
     "output_type": "display_data"
    }
   ],
   "source": [
    "actual_data.groupby(by='genre').agg({'total_sales':'median'})\\\n",
    "                         .sort_values(by='total_sales', ascending=False)\\\n",
    "                         .plot(kind='bar', figsize=(16,10), color=['#87CEEB','#4682B4'])\n",
    "plt.title('Объем продаж (в млн. шт.) в зависимости от жанра игры')\n",
    "plt.xlabel('Жанры') \n",
    "plt.ylabel('Продажи в млн.шт.')\n",
    "plt.legend('млн.шт.')\n",
    "plt.show()"
   ]
  },
  {
   "cell_type": "markdown",
   "id": "76d6fda6",
   "metadata": {},
   "source": [
    "Самый популярный жанр - shooter. \n",
    "\n",
    "Всего в топ-5 жаноров также входят: shooter, sports, platform, fighting и role-playing\n",
    "\n",
    "Наименее популярные жанры:  strategy, puzzle, аdventure. \n"
   ]
  },
  {
   "cell_type": "markdown",
   "id": "209a2162",
   "metadata": {},
   "source": [
    "**Шаг 3. Общий вывод.**\n",
    "\n",
    "В рамках данного шага определили актуальный период с 2014 по 2016 (т.к. орасль очень динамично меняется) и пришли к следующим выводам:\n",
    "1. Общая динамика игр - негативная, количество продаваемых копий последние годы падает, что может быть вызвано смещением фокуса интересов пользователей в сторону, например, мобильных игр.\n",
    "2. Опредлены наиболее популярные платформы: PS4, XOne, 3DS, PS3, X360. \n",
    "3. Выявлено, что между отзывами как критиков, так и пользователей, и продажами нет сильной линейной зависимости, при этом, линейная зависимость с отзывами критиков выражена сильнее, нежели чем с отзывами пользоваталей. \n",
    "4. Определено распределние продаж по жанрам: самый популярный - shooter, самый непопулярный - adventure. "
   ]
  },
  {
   "cell_type": "markdown",
   "id": "dc6e844c",
   "metadata": {},
   "source": [
    "## Шаг 4. Составьте портрет пользователя каждого региона"
   ]
  },
  {
   "cell_type": "markdown",
   "id": "518557f9",
   "metadata": {},
   "source": [
    "### 1. Самые популярные платформы (топ-5). Опишите различия в долях продаж."
   ]
  },
  {
   "cell_type": "markdown",
   "id": "5b46a562",
   "metadata": {},
   "source": [
    "**Популярные платформы в Северной Америке**"
   ]
  },
  {
   "cell_type": "code",
   "execution_count": 41,
   "id": "d732ecef",
   "metadata": {},
   "outputs": [
    {
     "data": {
      "image/png": "[encoded data removed]",
      "text/plain": [
       "<Figure size 1152x720 with 1 Axes>"
      ]
     },
     "metadata": {
      "needs_background": "light"
     },
     "output_type": "display_data"
    }
   ],
   "source": [
    "actual_data.groupby(by='platform').agg({'na_sales':'sum'})\\\n",
    "                         .sort_values(by='na_sales', ascending=False).head()\\\n",
    "                         .plot(kind='bar', figsize=(16,10), color = '#87CEEB')\n",
    "plt.title('Объем продаж (в млн.) в Северной Америке')\n",
    "plt.xlabel('Платформы') \n",
    "plt.ylabel('Продажи в млн.')\n",
    "plt.show()"
   ]
  },
  {
   "cell_type": "markdown",
   "id": "443714bf",
   "metadata": {},
   "source": [
    "**Популярные жанры в Северной Америке**"
   ]
  },
  {
   "cell_type": "code",
   "execution_count": 42,
   "id": "d45f59a2",
   "metadata": {},
   "outputs": [
    {
     "data": {
      "image/png": "[encoded data removed]",
      "text/plain": [
       "<Figure size 1152x720 with 1 Axes>"
      ]
     },
     "metadata": {
      "needs_background": "light"
     },
     "output_type": "display_data"
    }
   ],
   "source": [
    "actual_data.groupby(by='genre').agg({'na_sales':'median'})\\\n",
    "                         .sort_values(by='na_sales', ascending=False).head()\\\n",
    "                         .plot(kind='bar', figsize=(16,10), color = '#87CEEB')\n",
    "plt.title('Объем продаж (в млн.) в Северной Америке')\n",
    "plt.xlabel('Жанры') \n",
    "plt.ylabel('Продажи в млн.')\n",
    "plt.show()"
   ]
  },
  {
   "cell_type": "markdown",
   "id": "dcf6a320",
   "metadata": {},
   "source": [
    "В Северной Америке самая популярная игровая платформа - PS4, популярный жанр - shooter. "
   ]
  },
  {
   "cell_type": "markdown",
   "id": "5a8d14c7",
   "metadata": {},
   "source": [
    "**Популярные платформы в Европе**"
   ]
  },
  {
   "cell_type": "code",
   "execution_count": 43,
   "id": "608cd6ec",
   "metadata": {},
   "outputs": [
    {
     "data": {
      "image/png": "[encoded data removed]",
      "text/plain": [
       "<Figure size 1152x720 with 1 Axes>"
      ]
     },
     "metadata": {
      "needs_background": "light"
     },
     "output_type": "display_data"
    }
   ],
   "source": [
    "actual_data.groupby(by='platform').agg({'eu_sales':'sum'})\\\n",
    "                         .sort_values(by='eu_sales', ascending=False).head()\\\n",
    "                         .plot(kind='bar', figsize=(16,10), color = '#87CEEB')\n",
    "plt.title('Объем продаж (в млн.) в Европе')\n",
    "plt.xlabel('Платформы') \n",
    "plt.ylabel('Продажи в млн.')\n",
    "plt.show()"
   ]
  },
  {
   "cell_type": "markdown",
   "id": "d9d5e274",
   "metadata": {},
   "source": [
    "**Популярные жанры в Европе**"
   ]
  },
  {
   "cell_type": "code",
   "execution_count": 44,
   "id": "6117005b",
   "metadata": {},
   "outputs": [
    {
     "data": {
      "image/png": "[encoded data removed]",
      "text/plain": [
       "<Figure size 1152x720 with 1 Axes>"
      ]
     },
     "metadata": {
      "needs_background": "light"
     },
     "output_type": "display_data"
    }
   ],
   "source": [
    "actual_data.groupby(by='genre').agg({'eu_sales':'median'})\\\n",
    "                         .sort_values(by='eu_sales', ascending=False).head()\\\n",
    "                         .plot(kind='bar', figsize=(16,10), color = '#87CEEB')\n",
    "plt.title('Объем продаж (в млн.) в Европе')\n",
    "plt.xlabel('Жанры') \n",
    "plt.ylabel('Продажи в млн.')\n",
    "plt.show()"
   ]
  },
  {
   "cell_type": "markdown",
   "id": "b8798794",
   "metadata": {},
   "source": [
    "В Европе самая популярная игровая платформа - PS4, популярный жанр - shooter. "
   ]
  },
  {
   "cell_type": "markdown",
   "id": "cd5b4346",
   "metadata": {},
   "source": [
    "**Популярные платформы в Японии**"
   ]
  },
  {
   "cell_type": "code",
   "execution_count": 45,
   "id": "96678b95",
   "metadata": {},
   "outputs": [
    {
     "data": {
      "image/png": "[encoded data removed]",
      "text/plain": [
       "<Figure size 1152x720 with 1 Axes>"
      ]
     },
     "metadata": {
      "needs_background": "light"
     },
     "output_type": "display_data"
    }
   ],
   "source": [
    "actual_data.groupby(by='platform').agg({'jp_sales':'sum'})\\\n",
    "                         .sort_values(by='jp_sales', ascending=False).head()\\\n",
    "                         .plot(kind='bar', figsize=(16,10), color = '#87CEEB')\n",
    "plt.title('Объем продаж (в млн.) в Японии')\n",
    "plt.xlabel('Платформы') \n",
    "plt.ylabel('Продажи в млн.')\n",
    "plt.show()"
   ]
  },
  {
   "cell_type": "markdown",
   "id": "0d77d08e",
   "metadata": {},
   "source": [
    "**Популярные жанры в Японии**"
   ]
  },
  {
   "cell_type": "code",
   "execution_count": 46,
   "id": "380611ce",
   "metadata": {},
   "outputs": [
    {
     "data": {
      "image/png": "[encoded data removed]",
      "text/plain": [
       "<Figure size 1152x720 with 1 Axes>"
      ]
     },
     "metadata": {
      "needs_background": "light"
     },
     "output_type": "display_data"
    }
   ],
   "source": [
    "actual_data.groupby(by='genre').agg({'jp_sales':'median'})\\\n",
    "                         .sort_values(by='jp_sales', ascending=False).head()\\\n",
    "                         .plot(kind='bar', figsize=(16,10), color = '#87CEEB')\n",
    "plt.title('Объем продаж (в млн.) в Японии')\n",
    "plt.xlabel('Жанры') \n",
    "plt.ylabel('Продажи в млн.')\n",
    "plt.show()"
   ]
  },
  {
   "cell_type": "markdown",
   "id": "5c99a6b2",
   "metadata": {},
   "source": [
    "В Японии самая популярная игровая платформа - 3DS, популярный жанр - role-playing. "
   ]
  },
  {
   "cell_type": "markdown",
   "id": "b8bbdc67",
   "metadata": {},
   "source": [
    "**Влияние рейтинга ESRB на продажи в регионе**"
   ]
  },
  {
   "cell_type": "code",
   "execution_count": 52,
   "id": "601c4918",
   "metadata": {},
   "outputs": [
    {
     "data": {
      "text/html": [
       "<div>\n",
       "<style scoped>\n",
       "    .dataframe tbody tr th:only-of-type {\n",
       "        vertical-align: middle;\n",
       "    }\n",
       "\n",
       "    .dataframe tbody tr th {\n",
       "        vertical-align: top;\n",
       "    }\n",
       "\n",
       "    .dataframe thead th {\n",
       "        text-align: right;\n",
       "    }\n",
       "</style>\n",
       "<table border=\"1\" class=\"dataframe\">\n",
       "  <thead>\n",
       "    <tr style=\"text-align: right;\">\n",
       "      <th></th>\n",
       "      <th>na_sales</th>\n",
       "      <th>eu_sales</th>\n",
       "      <th>jp_sales</th>\n",
       "      <th>other_sales</th>\n",
       "      <th>total_sales</th>\n",
       "    </tr>\n",
       "    <tr>\n",
       "      <th>rating</th>\n",
       "      <th></th>\n",
       "      <th></th>\n",
       "      <th></th>\n",
       "      <th></th>\n",
       "      <th></th>\n",
       "    </tr>\n",
       "  </thead>\n",
       "  <tbody>\n",
       "    <tr>\n",
       "      <th>M</th>\n",
       "      <td>96.42</td>\n",
       "      <td>93.44</td>\n",
       "      <td>8.01</td>\n",
       "      <td>28.67</td>\n",
       "      <td>226.54</td>\n",
       "    </tr>\n",
       "    <tr>\n",
       "      <th>Нет рейтинга</th>\n",
       "      <td>64.72</td>\n",
       "      <td>58.95</td>\n",
       "      <td>56.90</td>\n",
       "      <td>18.40</td>\n",
       "      <td>198.97</td>\n",
       "    </tr>\n",
       "    <tr>\n",
       "      <th>E</th>\n",
       "      <td>50.74</td>\n",
       "      <td>58.06</td>\n",
       "      <td>8.94</td>\n",
       "      <td>15.39</td>\n",
       "      <td>133.13</td>\n",
       "    </tr>\n",
       "    <tr>\n",
       "      <th>T</th>\n",
       "      <td>38.95</td>\n",
       "      <td>34.07</td>\n",
       "      <td>14.78</td>\n",
       "      <td>11.33</td>\n",
       "      <td>99.13</td>\n",
       "    </tr>\n",
       "    <tr>\n",
       "      <th>E10+</th>\n",
       "      <td>33.23</td>\n",
       "      <td>26.16</td>\n",
       "      <td>4.46</td>\n",
       "      <td>7.83</td>\n",
       "      <td>71.68</td>\n",
       "    </tr>\n",
       "  </tbody>\n",
       "</table>\n",
       "</div>"
      ],
      "text/plain": [
       "              na_sales  eu_sales  jp_sales  other_sales  total_sales\n",
       "rating                                                              \n",
       "M                96.42     93.44      8.01        28.67       226.54\n",
       "Нет рейтинга     64.72     58.95     56.90        18.40       198.97\n",
       "E                50.74     58.06      8.94        15.39       133.13\n",
       "T                38.95     34.07     14.78        11.33        99.13\n",
       "E10+             33.23     26.16      4.46         7.83        71.68"
      ]
     },
     "metadata": {},
     "output_type": "display_data"
    }
   ],
   "source": [
    "by_rating = actual_data.groupby(['rating'])\\\n",
    ".agg({'na_sales':'sum', 'eu_sales':'sum', 'jp_sales':'sum', 'other_sales':'sum', 'total_sales':'sum'})\\\n",
    ".sort_values(by='total_sales', ascending=False).head(5)\n",
    "display(by_rating)"
   ]
  },
  {
   "cell_type": "markdown",
   "id": "f54cbf02",
   "metadata": {},
   "source": [
    "Cудя по распределению продаж наблюдается вполне логичная закономерность, что в целом по всем данным, с рейтингом M('mature') продается игр больше среди тех, по которым опредлен рейтинг, так как представлена наиболее платежеспособная целевая аудитория.\n",
    "\n",
    "В Японии большая часть рынка не категоризирована, но на первом месте продажи с рейтингом T('teens'), потому что, вероятно, подростки более погружены в игровую индустрию, чем взрослые (как гипотеза  - это можно объяснить слишком загруженным рабочим графиком у взрослыхв Японии).\n",
    "\n",
    "В Северной Америке и Европе среди тех, у кого определен рейтинг, большая часть относится к категории М, на втором месте категрия E ('everyone'). \n"
   ]
  },
  {
   "cell_type": "markdown",
   "id": "6b13816a",
   "metadata": {},
   "source": [
    "**Шаг 4. Общий вывод**\n",
    "\n",
    "1. Популярность платформ отличается от региона присутствия.\n",
    "\n",
    "В Свеверной Америке и Европе наиболее популярной платформой является PS4, в Японии 3DS.\n",
    "\n",
    "2. Популярность жанров также разнится от региона присутствия. \n",
    "\n",
    "Наиболее поплуярные жанры: Северная Америка и Европа - shooter, Япония - role-playing.\n",
    "\n",
    "3. Популярность рейтинга также немного разнится в зависимости от региона:\n",
    "\n",
    "Самые большие продажи среди игр, по которым опредлен рейтинг: в Северной Америке  и Европе у рейтингов M и E, в Японии у Т.\n"
   ]
  },
  {
   "cell_type": "markdown",
   "id": "cb00e8f0",
   "metadata": {},
   "source": [
    "## Шаг 5. Проверка гипотезы"
   ]
  },
  {
   "cell_type": "markdown",
   "id": "de5828c7",
   "metadata": {},
   "source": [
    "### 1. Средние пользовательские рейтинги платформ Xbox One и PC одинаковые"
   ]
  },
  {
   "cell_type": "markdown",
   "id": "64ffd3b1",
   "metadata": {},
   "source": [
    " - H_o: Средний пользовательский рейтинг Xbox = PC\n",
    " - H_1: Средний пользовательский рейтинг Xbox != PC "
   ]
  },
  {
   "cell_type": "markdown",
   "id": "0e51da69",
   "metadata": {},
   "source": [
    "Нам нужно проверить гипотезу о равенстве среднего двух ГС по взятым из них выборкам, поэтому исопльзуем t-критерий Стьюдента (метод ttest_ind())."
   ]
  },
  {
   "cell_type": "code",
   "execution_count": 48,
   "id": "0ebc2799",
   "metadata": {},
   "outputs": [],
   "source": [
    "x360 = actual_data.query('platform == \"X360\" and user_score>=0')['user_score']\n",
    "\n",
    "PC = actual_data.query('platform == \"PC\" and user_score>=0')['user_score']"
   ]
  },
  {
   "cell_type": "code",
   "execution_count": 49,
   "id": "0a4de254",
   "metadata": {},
   "outputs": [
    {
     "name": "stdout",
     "output_type": "stream",
     "text": [
      "0.0312821899616337\n",
      "Отвергаем нулевую гипотезу\n"
     ]
    }
   ],
   "source": [
    "results = st.ttest_ind(x360,PC,equal_var=False)\n",
    "\n",
    "alpha = 0.05\n",
    "\n",
    "# вывод значения p-value на экран \n",
    "print(results.pvalue)\n",
    "# условный оператор с выводом строки с ответом\n",
    "if results.pvalue<alpha:\n",
    "    print('Отвергаем нулевую гипотезу')\n",
    "else:\n",
    "    print('Не получилось отвергнуть нулевую гипотезу')"
   ]
  },
  {
   "cell_type": "markdown",
   "id": "5bd45774",
   "metadata": {},
   "source": [
    " С 95% доверительной вероятностью можем утверждать, что средний пользовательский рейтинг на PC не равен среднему пользоватлеьсткому рейтингу на Xbox.  "
   ]
  },
  {
   "cell_type": "markdown",
   "id": "efdebcaa",
   "metadata": {},
   "source": [
    "### 2. Средние пользовательские рейтинги жанров Action  и Sports разные"
   ]
  },
  {
   "cell_type": "markdown",
   "id": "71db807f",
   "metadata": {},
   "source": [
    " - H_o: Средний пользовательский рейтинг Action = Sports\n",
    " - H_1: Средний пользовательский рейтинг Action != Sports"
   ]
  },
  {
   "cell_type": "code",
   "execution_count": 50,
   "id": "ba4f8c83",
   "metadata": {},
   "outputs": [],
   "source": [
    "action = actual_data.query('genre == \"Action\" and user_score>=0')['user_score']\n",
    "\n",
    "sports = actual_data.query('genre == \"Sports\" and user_score>=0')['user_score']"
   ]
  },
  {
   "cell_type": "code",
   "execution_count": 56,
   "id": "b98c998a",
   "metadata": {},
   "outputs": [
    {
     "name": "stdout",
     "output_type": "stream",
     "text": [
      "1.1825550382644557e-14\n",
      "Отвергаем нулевую гипотезу\n"
     ]
    }
   ],
   "source": [
    "results = st.ttest_ind(action,sports,equal_var=False)\n",
    "\n",
    "alpha = 0.05\n",
    "\n",
    "# вывод значения p-value на экран \n",
    "print(results.pvalue)\n",
    "# условный оператор с выводом строки с ответом\n",
    "\n",
    "if results.pvalue<alpha:\n",
    "    print('Отвергаем нулевую гипотезу')\n",
    "else:\n",
    "    print('Не получилось отвергнуть нулевую гипотезу')"
   ]
  },
  {
   "cell_type": "markdown",
   "id": "20c6da83",
   "metadata": {},
   "source": [
    "С 95% доверительной вероятностью можем утверждать, что средний пользовтаельский рейтинг в жанре Action не равен среднему пользовательскому рейтингу в жанре Sports. "
   ]
  },
  {
   "cell_type": "markdown",
   "id": "d6d1930a",
   "metadata": {},
   "source": [
    "**Шаг.5 Общий вывод**\n",
    "\n",
    "\n",
    "В рамках исследования были протестированы 2 гипотезы, по результатам тестирования пришли к выводу, что с 95% доверительной вероятностью можем утверждать, что:\n",
    "1. средние пользовтаельские рейтинги PC и X360 не равны\n",
    "2. средние пользовтаельские рейтинги жанров action и sports не равны. "
   ]
  },
  {
   "cell_type": "markdown",
   "id": "fa9fea7f",
   "metadata": {},
   "source": [
    "## Шаг 6. Общий вывод"
   ]
  },
  {
   "cell_type": "markdown",
   "id": "24216f63",
   "metadata": {},
   "source": [
    "В рамках данной работы были проанализировали доступные исторические данные о продажах игр в разибвке по жанрам и платформам.\n",
    "\n",
    "Рынок копьютерных игр является очень динамичным, средний срок продолжительности \"жизни\" приставки, в основном, составляет около 7 лет, за последние 20 лет лидеры на рынке игровых платформ менялись несколько раз. \n",
    "\n",
    "В целом, тенденции на рынке игровых платформ не самые благоприятные для интернет-магазина \"Стримчик\", так как последние 5 лет наблюдается активная тенденция в снижении количества проданных копий игр на платформах. Одной из вероятных причин для такой тенденции может быть смещение фокуса интересов потребителей в сторону мобильных игр. \n",
    "  \n",
    "\n",
    "**Для оценки потенциально успешных направлений для продаж в интернет-магазине «Стримчик», пришли к следующим выводам:**\n",
    "\n",
    "*1.Выбор платформы*\n",
    "\n",
    "Наиболее перспективными платформами на текущий момент являются - PS4 и XOne, они появилась относительно недавно и, в сравнении с остальными платформами, показывали хорошую динамику продаж в 2015. Учитывая среднюю продолжительность жизни, игры на этих платформах дольше будут оставаться в спросе в сравнении с остальными, так как большинство платформ уже показывают активное снижение по количеству проданных копий.\n",
    "\n",
    "*2. Выбор жанра*\n",
    "\n",
    "В целом, наиболее популярными жанрами являются:\n",
    "- shooter\n",
    "- sports\n",
    "- platform\n",
    "- fighting\n",
    "- role-playing\n",
    "\n",
    "Наименее популярными жанрами являются: \n",
    "- strategy\n",
    "- puzzle\n",
    "- adventure\n",
    "\n",
    "*3. Выбор возрастной категрии (в соответствии с рейтингом ESRB):*\n",
    "\n",
    "Наиболее популярные игры с рейтингом M ('mature').\n",
    "\n",
    "Наимеенее популярные игры с рейтингом E10+ ('everyone who is older 10 y/o').\n",
    "\n",
    "*4. Влияние отзывов на продажи игр*\n",
    "\n",
    "В целом, сильной линейной зависимости отзывов и продажи игр в рамках анализа не было выявлено. \n",
    "При этом, следует обратить внимание, что линейная зависимость сильнее выражена у отзывов критиков и продаж, поэтому при выборе игр для продажи с ориентиром на отзывы, следует учитывать сначала отзывы критиков. \n",
    "\n",
    "\n",
    "**Однако, при выборе параметров игр для продажи необходимо таргетироваться на регион продажи игр, так как специфика регионов оказывает влияние на продажи игр.** \n",
    "\n",
    "Ниже приведены \"портреты\" покупателей в разибвке на 3 основных проанализированных региона:\n",
    "\n",
    "*Северная Америка:*\n",
    "\n",
    "1. Популярная платформа: PS4 \n",
    "2. Популярный жанр: shooter\n",
    "3. Популярная возрастная категория: M и E\n",
    "\n",
    "*Европа:*\n",
    "\n",
    "1. Популярная платформа: PS4 \n",
    "2. Популярный жанр: shooter\n",
    "3. Популярная возрастная категория: M и E\n",
    "\n",
    "*Япония*\n",
    "\n",
    "1. Популярная платформа: 3DS\n",
    "2. Популярный жанр: role-playing\n",
    "3. Популярная возрастная категория: T \n",
    "\n",
    "\n",
    "\n",
    "\n"
   ]
  }
 ],
 "metadata": {
  "ExecuteTimeLog": [
   {
    "duration": 1145,
    "start_time": "2022-11-02T11:00:07.662Z"
   },
   {
    "duration": 0,
    "start_time": "2022-11-02T11:00:08.811Z"
   },
   {
    "duration": 0,
    "start_time": "2022-11-02T11:00:08.812Z"
   },
   {
    "duration": 0,
    "start_time": "2022-11-02T11:00:08.813Z"
   },
   {
    "duration": 0,
    "start_time": "2022-11-02T11:00:08.814Z"
   },
   {
    "duration": 0,
    "start_time": "2022-11-02T11:00:08.815Z"
   },
   {
    "duration": 0,
    "start_time": "2022-11-02T11:00:08.816Z"
   },
   {
    "duration": 0,
    "start_time": "2022-11-02T11:00:08.817Z"
   },
   {
    "duration": 0,
    "start_time": "2022-11-02T11:00:08.818Z"
   },
   {
    "duration": 0,
    "start_time": "2022-11-02T11:00:08.819Z"
   },
   {
    "duration": 0,
    "start_time": "2022-11-02T11:00:08.821Z"
   },
   {
    "duration": 0,
    "start_time": "2022-11-02T11:00:08.822Z"
   },
   {
    "duration": 0,
    "start_time": "2022-11-02T11:00:08.823Z"
   },
   {
    "duration": 0,
    "start_time": "2022-11-02T11:00:08.825Z"
   },
   {
    "duration": 0,
    "start_time": "2022-11-02T11:00:08.826Z"
   },
   {
    "duration": 0,
    "start_time": "2022-11-02T11:00:08.827Z"
   },
   {
    "duration": 0,
    "start_time": "2022-11-02T11:00:08.828Z"
   },
   {
    "duration": 0,
    "start_time": "2022-11-02T11:00:08.829Z"
   },
   {
    "duration": 0,
    "start_time": "2022-11-02T11:00:08.831Z"
   },
   {
    "duration": 0,
    "start_time": "2022-11-02T11:00:08.832Z"
   },
   {
    "duration": 0,
    "start_time": "2022-11-02T11:00:08.833Z"
   },
   {
    "duration": 0,
    "start_time": "2022-11-02T11:00:08.834Z"
   },
   {
    "duration": 0,
    "start_time": "2022-11-02T11:00:08.835Z"
   },
   {
    "duration": 0,
    "start_time": "2022-11-02T11:00:08.836Z"
   },
   {
    "duration": 0,
    "start_time": "2022-11-02T11:00:08.838Z"
   },
   {
    "duration": 0,
    "start_time": "2022-11-02T11:00:08.838Z"
   },
   {
    "duration": 0,
    "start_time": "2022-11-02T11:00:08.877Z"
   },
   {
    "duration": 0,
    "start_time": "2022-11-02T11:00:08.878Z"
   },
   {
    "duration": 0,
    "start_time": "2022-11-02T11:00:08.879Z"
   },
   {
    "duration": 0,
    "start_time": "2022-11-02T11:00:08.880Z"
   },
   {
    "duration": 0,
    "start_time": "2022-11-02T11:00:08.882Z"
   },
   {
    "duration": 0,
    "start_time": "2022-11-02T11:00:08.883Z"
   },
   {
    "duration": 0,
    "start_time": "2022-11-02T11:00:08.884Z"
   },
   {
    "duration": 0,
    "start_time": "2022-11-02T11:00:08.885Z"
   },
   {
    "duration": 0,
    "start_time": "2022-11-02T11:00:08.886Z"
   },
   {
    "duration": 0,
    "start_time": "2022-11-02T11:00:08.887Z"
   },
   {
    "duration": 0,
    "start_time": "2022-11-02T11:00:08.888Z"
   },
   {
    "duration": 0,
    "start_time": "2022-11-02T11:00:08.889Z"
   },
   {
    "duration": 0,
    "start_time": "2022-11-02T11:00:08.890Z"
   },
   {
    "duration": 0,
    "start_time": "2022-11-02T11:00:08.891Z"
   },
   {
    "duration": 0,
    "start_time": "2022-11-02T11:00:08.892Z"
   },
   {
    "duration": 0,
    "start_time": "2022-11-02T11:00:08.893Z"
   },
   {
    "duration": 0,
    "start_time": "2022-11-02T11:00:08.894Z"
   },
   {
    "duration": 1201,
    "start_time": "2022-11-02T11:00:54.712Z"
   },
   {
    "duration": 0,
    "start_time": "2022-11-02T11:00:55.917Z"
   },
   {
    "duration": 0,
    "start_time": "2022-11-02T11:00:55.918Z"
   },
   {
    "duration": 0,
    "start_time": "2022-11-02T11:00:55.919Z"
   },
   {
    "duration": 0,
    "start_time": "2022-11-02T11:00:55.920Z"
   },
   {
    "duration": 0,
    "start_time": "2022-11-02T11:00:55.921Z"
   },
   {
    "duration": 0,
    "start_time": "2022-11-02T11:00:55.922Z"
   },
   {
    "duration": 0,
    "start_time": "2022-11-02T11:00:55.924Z"
   },
   {
    "duration": 0,
    "start_time": "2022-11-02T11:00:55.924Z"
   },
   {
    "duration": 0,
    "start_time": "2022-11-02T11:00:55.925Z"
   },
   {
    "duration": 0,
    "start_time": "2022-11-02T11:00:55.926Z"
   },
   {
    "duration": 0,
    "start_time": "2022-11-02T11:00:55.927Z"
   },
   {
    "duration": 0,
    "start_time": "2022-11-02T11:00:55.928Z"
   },
   {
    "duration": 0,
    "start_time": "2022-11-02T11:00:55.929Z"
   },
   {
    "duration": 0,
    "start_time": "2022-11-02T11:00:55.930Z"
   },
   {
    "duration": 0,
    "start_time": "2022-11-02T11:00:55.931Z"
   },
   {
    "duration": 0,
    "start_time": "2022-11-02T11:00:55.932Z"
   },
   {
    "duration": 0,
    "start_time": "2022-11-02T11:00:55.933Z"
   },
   {
    "duration": 0,
    "start_time": "2022-11-02T11:00:55.934Z"
   },
   {
    "duration": 0,
    "start_time": "2022-11-02T11:00:55.934Z"
   },
   {
    "duration": 0,
    "start_time": "2022-11-02T11:00:55.935Z"
   },
   {
    "duration": 0,
    "start_time": "2022-11-02T11:00:55.936Z"
   },
   {
    "duration": 0,
    "start_time": "2022-11-02T11:00:55.937Z"
   },
   {
    "duration": 0,
    "start_time": "2022-11-02T11:00:55.938Z"
   },
   {
    "duration": 0,
    "start_time": "2022-11-02T11:00:55.940Z"
   },
   {
    "duration": 0,
    "start_time": "2022-11-02T11:00:55.940Z"
   },
   {
    "duration": 0,
    "start_time": "2022-11-02T11:00:55.977Z"
   },
   {
    "duration": 0,
    "start_time": "2022-11-02T11:00:55.979Z"
   },
   {
    "duration": 0,
    "start_time": "2022-11-02T11:00:55.979Z"
   },
   {
    "duration": 0,
    "start_time": "2022-11-02T11:00:55.981Z"
   },
   {
    "duration": 0,
    "start_time": "2022-11-02T11:00:55.982Z"
   },
   {
    "duration": 0,
    "start_time": "2022-11-02T11:00:55.983Z"
   },
   {
    "duration": 0,
    "start_time": "2022-11-02T11:00:55.984Z"
   },
   {
    "duration": 0,
    "start_time": "2022-11-02T11:00:55.985Z"
   },
   {
    "duration": 0,
    "start_time": "2022-11-02T11:00:55.986Z"
   },
   {
    "duration": 0,
    "start_time": "2022-11-02T11:00:55.987Z"
   },
   {
    "duration": 0,
    "start_time": "2022-11-02T11:00:55.988Z"
   },
   {
    "duration": 0,
    "start_time": "2022-11-02T11:00:55.989Z"
   },
   {
    "duration": 0,
    "start_time": "2022-11-02T11:00:55.989Z"
   },
   {
    "duration": 1,
    "start_time": "2022-11-02T11:00:55.990Z"
   },
   {
    "duration": 0,
    "start_time": "2022-11-02T11:00:55.991Z"
   },
   {
    "duration": 0,
    "start_time": "2022-11-02T11:00:55.992Z"
   },
   {
    "duration": 0,
    "start_time": "2022-11-02T11:00:55.993Z"
   },
   {
    "duration": 1121,
    "start_time": "2022-11-02T11:19:32.992Z"
   },
   {
    "duration": 0,
    "start_time": "2022-11-02T11:19:34.117Z"
   },
   {
    "duration": 0,
    "start_time": "2022-11-02T11:19:34.117Z"
   },
   {
    "duration": 0,
    "start_time": "2022-11-02T11:19:34.119Z"
   },
   {
    "duration": 0,
    "start_time": "2022-11-02T11:19:34.120Z"
   },
   {
    "duration": 1,
    "start_time": "2022-11-02T11:19:34.120Z"
   },
   {
    "duration": 0,
    "start_time": "2022-11-02T11:19:34.122Z"
   },
   {
    "duration": 0,
    "start_time": "2022-11-02T11:19:34.123Z"
   },
   {
    "duration": 0,
    "start_time": "2022-11-02T11:19:34.124Z"
   },
   {
    "duration": 0,
    "start_time": "2022-11-02T11:19:34.125Z"
   },
   {
    "duration": 0,
    "start_time": "2022-11-02T11:19:34.126Z"
   },
   {
    "duration": 0,
    "start_time": "2022-11-02T11:19:34.127Z"
   },
   {
    "duration": 0,
    "start_time": "2022-11-02T11:19:34.128Z"
   },
   {
    "duration": 0,
    "start_time": "2022-11-02T11:19:34.129Z"
   },
   {
    "duration": 0,
    "start_time": "2022-11-02T11:19:34.131Z"
   },
   {
    "duration": 0,
    "start_time": "2022-11-02T11:19:34.132Z"
   },
   {
    "duration": 0,
    "start_time": "2022-11-02T11:19:34.133Z"
   },
   {
    "duration": 0,
    "start_time": "2022-11-02T11:19:34.134Z"
   },
   {
    "duration": 0,
    "start_time": "2022-11-02T11:19:34.135Z"
   },
   {
    "duration": 0,
    "start_time": "2022-11-02T11:19:34.136Z"
   },
   {
    "duration": 0,
    "start_time": "2022-11-02T11:19:34.137Z"
   },
   {
    "duration": 0,
    "start_time": "2022-11-02T11:19:34.138Z"
   },
   {
    "duration": 0,
    "start_time": "2022-11-02T11:19:34.176Z"
   },
   {
    "duration": 0,
    "start_time": "2022-11-02T11:19:34.177Z"
   },
   {
    "duration": 0,
    "start_time": "2022-11-02T11:19:34.178Z"
   },
   {
    "duration": 0,
    "start_time": "2022-11-02T11:19:34.180Z"
   },
   {
    "duration": 1,
    "start_time": "2022-11-02T11:19:34.180Z"
   },
   {
    "duration": 0,
    "start_time": "2022-11-02T11:19:34.182Z"
   },
   {
    "duration": 0,
    "start_time": "2022-11-02T11:19:34.183Z"
   },
   {
    "duration": 0,
    "start_time": "2022-11-02T11:19:34.184Z"
   },
   {
    "duration": 0,
    "start_time": "2022-11-02T11:19:34.185Z"
   },
   {
    "duration": 0,
    "start_time": "2022-11-02T11:19:34.186Z"
   },
   {
    "duration": 0,
    "start_time": "2022-11-02T11:19:34.188Z"
   },
   {
    "duration": 0,
    "start_time": "2022-11-02T11:19:34.189Z"
   },
   {
    "duration": 0,
    "start_time": "2022-11-02T11:19:34.190Z"
   },
   {
    "duration": 0,
    "start_time": "2022-11-02T11:19:34.191Z"
   },
   {
    "duration": 0,
    "start_time": "2022-11-02T11:19:34.192Z"
   },
   {
    "duration": 0,
    "start_time": "2022-11-02T11:19:34.193Z"
   },
   {
    "duration": 0,
    "start_time": "2022-11-02T11:19:34.194Z"
   },
   {
    "duration": 0,
    "start_time": "2022-11-02T11:19:34.196Z"
   },
   {
    "duration": 0,
    "start_time": "2022-11-02T11:19:34.197Z"
   },
   {
    "duration": 0,
    "start_time": "2022-11-02T11:19:34.198Z"
   },
   {
    "duration": 0,
    "start_time": "2022-11-02T11:19:34.199Z"
   },
   {
    "duration": 1149,
    "start_time": "2022-11-02T11:19:50.962Z"
   },
   {
    "duration": 19,
    "start_time": "2022-11-02T11:19:52.113Z"
   },
   {
    "duration": 15,
    "start_time": "2022-11-02T11:19:52.134Z"
   },
   {
    "duration": 17,
    "start_time": "2022-11-02T11:19:52.151Z"
   },
   {
    "duration": 11,
    "start_time": "2022-11-02T11:19:52.170Z"
   },
   {
    "duration": 17,
    "start_time": "2022-11-02T11:19:52.183Z"
   },
   {
    "duration": 4,
    "start_time": "2022-11-02T11:19:52.202Z"
   },
   {
    "duration": 13,
    "start_time": "2022-11-02T11:19:52.207Z"
   },
   {
    "duration": 29,
    "start_time": "2022-11-02T11:19:52.221Z"
   },
   {
    "duration": 18,
    "start_time": "2022-11-02T11:19:52.252Z"
   },
   {
    "duration": 10,
    "start_time": "2022-11-02T11:19:52.272Z"
   },
   {
    "duration": 23,
    "start_time": "2022-11-02T11:19:52.284Z"
   },
   {
    "duration": 8,
    "start_time": "2022-11-02T11:19:52.309Z"
   },
   {
    "duration": 18,
    "start_time": "2022-11-02T11:19:52.321Z"
   },
   {
    "duration": 337,
    "start_time": "2022-11-02T11:19:52.341Z"
   },
   {
    "duration": 280,
    "start_time": "2022-11-02T11:19:52.680Z"
   },
   {
    "duration": 18,
    "start_time": "2022-11-02T11:19:52.962Z"
   },
   {
    "duration": 267,
    "start_time": "2022-11-02T11:19:52.982Z"
   },
   {
    "duration": 232,
    "start_time": "2022-11-02T11:19:53.251Z"
   },
   {
    "duration": 326,
    "start_time": "2022-11-02T11:19:53.485Z"
   },
   {
    "duration": 11,
    "start_time": "2022-11-02T11:19:53.813Z"
   },
   {
    "duration": 303,
    "start_time": "2022-11-02T11:19:53.826Z"
   },
   {
    "duration": 12,
    "start_time": "2022-11-02T11:19:54.131Z"
   },
   {
    "duration": 394,
    "start_time": "2022-11-02T11:19:54.144Z"
   },
   {
    "duration": 15,
    "start_time": "2022-11-02T11:19:54.539Z"
   },
   {
    "duration": 336,
    "start_time": "2022-11-02T11:19:54.556Z"
   },
   {
    "duration": 13,
    "start_time": "2022-11-02T11:19:54.894Z"
   },
   {
    "duration": 367,
    "start_time": "2022-11-02T11:19:54.908Z"
   },
   {
    "duration": 15,
    "start_time": "2022-11-02T11:19:55.277Z"
   },
   {
    "duration": 30,
    "start_time": "2022-11-02T11:19:55.294Z"
   },
   {
    "duration": 26,
    "start_time": "2022-11-02T11:19:55.326Z"
   },
   {
    "duration": 233,
    "start_time": "2022-11-02T11:19:55.353Z"
   },
   {
    "duration": 186,
    "start_time": "2022-11-02T11:19:55.588Z"
   },
   {
    "duration": 200,
    "start_time": "2022-11-02T11:19:55.776Z"
   },
   {
    "duration": 185,
    "start_time": "2022-11-02T11:19:55.978Z"
   },
   {
    "duration": 191,
    "start_time": "2022-11-02T11:19:56.165Z"
   },
   {
    "duration": 254,
    "start_time": "2022-11-02T11:19:56.358Z"
   },
   {
    "duration": 199,
    "start_time": "2022-11-02T11:19:56.614Z"
   },
   {
    "duration": 17,
    "start_time": "2022-11-02T11:19:56.815Z"
   },
   {
    "duration": 9,
    "start_time": "2022-11-02T11:19:56.834Z"
   },
   {
    "duration": 5,
    "start_time": "2022-11-02T11:19:56.847Z"
   },
   {
    "duration": 33,
    "start_time": "2022-11-02T11:19:56.854Z"
   },
   {
    "duration": 6,
    "start_time": "2022-11-02T11:19:56.888Z"
   },
   {
    "duration": 1061,
    "start_time": "2022-11-02T12:39:27.723Z"
   },
   {
    "duration": 30,
    "start_time": "2022-11-02T12:39:28.786Z"
   },
   {
    "duration": 19,
    "start_time": "2022-11-02T12:39:28.818Z"
   },
   {
    "duration": 4,
    "start_time": "2022-11-02T12:39:28.839Z"
   },
   {
    "duration": 11,
    "start_time": "2022-11-02T12:39:28.845Z"
   },
   {
    "duration": 26,
    "start_time": "2022-11-02T12:39:28.857Z"
   },
   {
    "duration": 4,
    "start_time": "2022-11-02T12:39:28.884Z"
   },
   {
    "duration": 11,
    "start_time": "2022-11-02T12:39:28.890Z"
   },
   {
    "duration": 9,
    "start_time": "2022-11-02T12:39:28.903Z"
   },
   {
    "duration": 15,
    "start_time": "2022-11-02T12:39:28.913Z"
   },
   {
    "duration": 9,
    "start_time": "2022-11-02T12:39:28.929Z"
   },
   {
    "duration": 14,
    "start_time": "2022-11-02T12:39:28.939Z"
   },
   {
    "duration": 22,
    "start_time": "2022-11-02T12:39:28.955Z"
   },
   {
    "duration": 30,
    "start_time": "2022-11-02T12:39:28.979Z"
   },
   {
    "duration": 295,
    "start_time": "2022-11-02T12:39:29.010Z"
   },
   {
    "duration": 279,
    "start_time": "2022-11-02T12:39:29.307Z"
   },
   {
    "duration": 13,
    "start_time": "2022-11-02T12:39:29.588Z"
   },
   {
    "duration": 308,
    "start_time": "2022-11-02T12:39:29.603Z"
   },
   {
    "duration": 489,
    "start_time": "2022-11-02T12:39:29.913Z"
   },
   {
    "duration": 698,
    "start_time": "2022-11-02T12:39:30.404Z"
   },
   {
    "duration": 12,
    "start_time": "2022-11-02T12:39:31.104Z"
   },
   {
    "duration": 573,
    "start_time": "2022-11-02T12:39:31.118Z"
   },
   {
    "duration": 12,
    "start_time": "2022-11-02T12:39:31.693Z"
   },
   {
    "duration": 399,
    "start_time": "2022-11-02T12:39:31.707Z"
   },
   {
    "duration": 12,
    "start_time": "2022-11-02T12:39:32.108Z"
   },
   {
    "duration": 310,
    "start_time": "2022-11-02T12:39:32.121Z"
   },
   {
    "duration": 12,
    "start_time": "2022-11-02T12:39:32.432Z"
   },
   {
    "duration": 332,
    "start_time": "2022-11-02T12:39:32.446Z"
   },
   {
    "duration": 11,
    "start_time": "2022-11-02T12:39:32.780Z"
   },
   {
    "duration": 9,
    "start_time": "2022-11-02T12:39:32.793Z"
   },
   {
    "duration": 12,
    "start_time": "2022-11-02T12:39:32.803Z"
   },
   {
    "duration": 231,
    "start_time": "2022-11-02T12:39:32.817Z"
   },
   {
    "duration": 187,
    "start_time": "2022-11-02T12:39:33.049Z"
   },
   {
    "duration": 200,
    "start_time": "2022-11-02T12:39:33.238Z"
   },
   {
    "duration": 191,
    "start_time": "2022-11-02T12:39:33.440Z"
   },
   {
    "duration": 184,
    "start_time": "2022-11-02T12:39:33.633Z"
   },
   {
    "duration": 249,
    "start_time": "2022-11-02T12:39:33.818Z"
   },
   {
    "duration": 185,
    "start_time": "2022-11-02T12:39:34.068Z"
   },
   {
    "duration": 25,
    "start_time": "2022-11-02T12:39:34.255Z"
   },
   {
    "duration": 9,
    "start_time": "2022-11-02T12:39:34.281Z"
   },
   {
    "duration": 5,
    "start_time": "2022-11-02T12:39:34.293Z"
   },
   {
    "duration": 14,
    "start_time": "2022-11-02T12:39:34.299Z"
   },
   {
    "duration": 4,
    "start_time": "2022-11-02T12:39:34.315Z"
   },
   {
    "duration": 1725,
    "start_time": "2022-11-02T14:04:04.166Z"
   },
   {
    "duration": 24,
    "start_time": "2022-11-02T14:04:05.893Z"
   },
   {
    "duration": 21,
    "start_time": "2022-11-02T14:04:05.919Z"
   },
   {
    "duration": 5,
    "start_time": "2022-11-02T14:04:05.943Z"
   },
   {
    "duration": 9,
    "start_time": "2022-11-02T14:04:05.950Z"
   },
   {
    "duration": 21,
    "start_time": "2022-11-02T14:04:05.961Z"
   },
   {
    "duration": 5,
    "start_time": "2022-11-02T14:04:05.984Z"
   },
   {
    "duration": 11,
    "start_time": "2022-11-02T14:04:05.991Z"
   },
   {
    "duration": 42,
    "start_time": "2022-11-02T14:04:06.004Z"
   },
   {
    "duration": 17,
    "start_time": "2022-11-02T14:04:06.051Z"
   },
   {
    "duration": 10,
    "start_time": "2022-11-02T14:04:06.070Z"
   },
   {
    "duration": 25,
    "start_time": "2022-11-02T14:04:06.082Z"
   },
   {
    "duration": 30,
    "start_time": "2022-11-02T14:04:06.109Z"
   },
   {
    "duration": 21,
    "start_time": "2022-11-02T14:04:06.141Z"
   },
   {
    "duration": 404,
    "start_time": "2022-11-02T14:04:06.164Z"
   },
   {
    "duration": 341,
    "start_time": "2022-11-02T14:04:06.569Z"
   },
   {
    "duration": 16,
    "start_time": "2022-11-02T14:04:06.912Z"
   },
   {
    "duration": 284,
    "start_time": "2022-11-02T14:04:06.933Z"
   },
   {
    "duration": 277,
    "start_time": "2022-11-02T14:04:07.219Z"
   },
   {
    "duration": 417,
    "start_time": "2022-11-02T14:04:07.499Z"
   },
   {
    "duration": 24,
    "start_time": "2022-11-02T14:04:07.919Z"
   },
   {
    "duration": 405,
    "start_time": "2022-11-02T14:04:07.945Z"
   },
   {
    "duration": 13,
    "start_time": "2022-11-02T14:04:08.353Z"
   },
   {
    "duration": 510,
    "start_time": "2022-11-02T14:04:08.368Z"
   },
   {
    "duration": 13,
    "start_time": "2022-11-02T14:04:08.880Z"
   },
   {
    "duration": 367,
    "start_time": "2022-11-02T14:04:08.895Z"
   },
   {
    "duration": 13,
    "start_time": "2022-11-02T14:04:09.263Z"
   },
   {
    "duration": 417,
    "start_time": "2022-11-02T14:04:09.279Z"
   },
   {
    "duration": 15,
    "start_time": "2022-11-02T14:04:09.698Z"
   },
   {
    "duration": 28,
    "start_time": "2022-11-02T14:04:09.715Z"
   },
   {
    "duration": 17,
    "start_time": "2022-11-02T14:04:09.745Z"
   },
   {
    "duration": 312,
    "start_time": "2022-11-02T14:04:09.764Z"
   },
   {
    "duration": 236,
    "start_time": "2022-11-02T14:04:10.078Z"
   },
   {
    "duration": 244,
    "start_time": "2022-11-02T14:04:10.316Z"
   },
   {
    "duration": 211,
    "start_time": "2022-11-02T14:04:10.562Z"
   },
   {
    "duration": 228,
    "start_time": "2022-11-02T14:04:10.775Z"
   },
   {
    "duration": 332,
    "start_time": "2022-11-02T14:04:11.004Z"
   },
   {
    "duration": 235,
    "start_time": "2022-11-02T14:04:11.339Z"
   },
   {
    "duration": 24,
    "start_time": "2022-11-02T14:04:11.577Z"
   },
   {
    "duration": 37,
    "start_time": "2022-11-02T14:04:11.603Z"
   },
   {
    "duration": 9,
    "start_time": "2022-11-02T14:04:11.642Z"
   },
   {
    "duration": 26,
    "start_time": "2022-11-02T14:04:11.654Z"
   },
   {
    "duration": 20,
    "start_time": "2022-11-02T14:04:11.682Z"
   }
  ],
  "kernelspec": {
   "display_name": "Python 3 (ipykernel)",
   "language": "python",
   "name": "python3"
  },
  "language_info": {
   "codemirror_mode": {
    "name": "ipython",
    "version": 3
   },
   "file_extension": ".py",
   "mimetype": "text/x-python",
   "name": "python",
   "nbconvert_exporter": "python",
   "pygments_lexer": "ipython3",
   "version": "3.9.12"
  },
  "toc": {
   "base_numbering": 1,
   "nav_menu": {},
   "number_sections": true,
   "sideBar": true,
   "skip_h1_title": true,
   "title_cell": "Table of Contents",
   "title_sidebar": "Contents",
   "toc_cell": false,
   "toc_position": {},
   "toc_section_display": true,
   "toc_window_display": true
  }
 },
 "nbformat": 4,
 "nbformat_minor": 5
}
